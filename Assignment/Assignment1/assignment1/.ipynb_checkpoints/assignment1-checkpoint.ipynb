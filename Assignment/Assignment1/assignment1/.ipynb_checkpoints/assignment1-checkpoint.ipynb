{
 "cells": [
  {
   "cell_type": "markdown",
   "metadata": {},
   "source": [
    "# [COM4513-6513] Assignment 1: Text Classification with Logistic Regression\n",
    "\n",
    "### Instructor: Nikos Aletras\n",
    "\n",
    "\n",
    "The goal of this assignment is to develop and test two text classification systems: \n",
    "\n",
    "- **Task 1:** sentiment analysis, in particular to predict the sentiment of movie review, i.e. positive or negative (binary classification).\n",
    "- **Task 2:** topic classification, to predict whether a news article is about International issues, Sports or Business (multiclass classification).\n",
    "\n",
    "\n",
    "For that purpose, you will implement:\n",
    "\n",
    "- Text processing methods for extracting Bag-Of-Word features, using (1) unigrams, bigrams and trigrams to obtain vector representations of documents. Two vector weighting schemes should be tested: (1) raw frequencies (**3 marks; 1 for each ngram type**); (2) tf.idf (**1 marks**). \n",
    "- Binary Logistic Regression classifiers that will be able to accurately classify movie reviews trained with (1) BOW-count (raw frequencies); and (2) BOW-tfidf (tf.idf weighted) for Task 1. \n",
    "- Multiclass Logistic Regression classifiers that will be able to accurately classify news articles trained with (1) BOW-count (raw frequencies); and (2) BOW-tfidf (tf.idf weighted) for Task 2. \n",
    "- The Stochastic Gradient Descent (SGD) algorithm to estimate the parameters of your Logistic Regression models. Your SGD algorithm should:\n",
    "    - Minimise the Binary Cross-entropy loss function for Task 1 (**3 marks**)\n",
    "    - Minimise the Categorical Cross-entropy loss function for Task 2 (**3 marks**)\n",
    "    - Use L2 regularisation (both tasks) (**1 mark**)\n",
    "    - Perform multiple passes (epochs) over the training data (**1 mark**)\n",
    "    - Randomise the order of training data after each pass (**1 mark**)\n",
    "    - Stop training if the difference between the current and previous validation loss is smaller than a threshold (**1 mark**)\n",
    "    - After each epoch print the training and development loss (**1 mark**)\n",
    "- Discuss how did you choose hyperparameters (e.g. learning rate and regularisation strength)?  (**2 marks; 0.5 for each model in each task**).\n",
    "- After training the LR models, plot the learning process (i.e. training and validation loss in each epoch) using a line plot (**1 mark; 0.5 for both BOW-count and BOW-tfidf LR models in each task**) and discuss if your model overfits/underfits/is about right.\n",
    "- Model interpretability by showing the most important features for each class (i.e. most positive/negative weights). Give the top 10 for each class and comment on whether they make sense (if they don't you might have a bug!).  If we were to apply the classifier we've learned into a different domain such laptop reviews or restaurant reviews, do you think these features would generalise well? Can you propose what features the classifier could pick up as important in the new domain? (**2 marks; 0.5 for BOW-count and BOW-tfidf LR models respectively in each task**)\n",
    "\n",
    "\n",
    "### Data - Task 1 \n",
    "\n",
    "The data you will use for Task 1 are taken from here: [http://www.cs.cornell.edu/people/pabo/movie-review-data/](http://www.cs.cornell.edu/people/pabo/movie-review-data/) and you can find it in the `./data_sentiment` folder in CSV format:\n",
    "\n",
    "- `data_sentiment/train.csv`: contains 1,400 reviews, 700 positive (label: 1) and 700 negative (label: 0) to be used for training.\n",
    "- `data_sentiment/dev.csv`: contains 200 reviews, 100 positive and 100 negative to be used for hyperparameter selection and monitoring the training process.\n",
    "- `data_sentiment/test.csv`: contains 400 reviews, 200 positive and 200 negative to be used for testing.\n",
    "\n",
    "### Data - Task 2\n",
    "\n",
    "The data you will use for Task 2 is a subset of the [AG News Corpus](http://groups.di.unipi.it/~gulli/AG_corpus_of_news_articles.html) and you can find it in the `./data_topic` folder in CSV format:\n",
    "\n",
    "- `data_topic/train.csv`: contains 2,400 news articles, 800 for each class to be used for training.\n",
    "- `data_topic/dev.csv`: contains 150 news articles, 50 for each class to be used for hyperparameter selection and monitoring the training process.\n",
    "- `data_topic/test.csv`: contains 900 news articles, 300 for each class to be used for testing.\n",
    "\n",
    "\n",
    "### Submission Instructions\n",
    "\n",
    "You should submit a Jupyter Notebook file (assignment1.ipynb) and an exported PDF version (you can do it from Jupyter: `File->Download as->PDF via Latex`).\n",
    "\n",
    "You are advised to follow the code structure given in this notebook by completing all given funtions. You can also write any auxilliary/helper functions (and arguments for the functions) that you might need but note that you can provide a full solution without any such functions. Similarly, you can just use only the packages imported below but you are free to use any functionality from the [Python Standard Library](https://docs.python.org/2/library/index.html), NumPy, SciPy and Pandas. You are not allowed to use any third-party library such as Scikit-learn (apart from metric functions already provided), NLTK, Spacy, Keras etc..\n",
    "\n",
    "Please make sure to comment your code. You should also mention if you've used Windows (not recommended) to write and test your code. There is no single correct answer on what your accuracy should be, but correct implementations usually achieve F1-scores around 80\\% or higher. The quality of the analysis of the results is as important as the accuracy itself. \n",
    "\n",
    "This assignment will be marked out of 20. It is worth 20\\% of your final grade in the module.\n",
    "\n",
    "The deadline for this assignment is **23:59 on Fri, 20 Mar 2020** and it needs to be submitted via MOLE. Standard departmental penalties for lateness will be applied. We use a range of strategies to detect [unfair means](https://www.sheffield.ac.uk/ssid/unfair-means/index), including Turnitin which helps detect plagiarism, so make sure you do not plagiarise.\n",
    "\n"
   ]
  },
  {
   "cell_type": "code",
   "execution_count": 2,
   "metadata": {
    "ExecuteTime": {
     "end_time": "2020-02-15T14:31:36.292691Z",
     "start_time": "2020-02-15T14:31:35.549108Z"
    }
   },
   "outputs": [],
   "source": [
    "import pandas as pd\n",
    "import numpy as np\n",
    "from collections import Counter\n",
    "import re\n",
    "import matplotlib.pyplot as plt\n",
    "from sklearn.metrics import accuracy_score, precision_score, recall_score, f1_score\n",
    "import random\n",
    "import math\n",
    "\n",
    "# fixing random seed for reproducibility\n",
    "random.seed(123)\n",
    "np.random.seed(123)"
   ]
  },
  {
   "cell_type": "markdown",
   "metadata": {},
   "source": [
    "## Load Raw texts and labels into arrays\n",
    "\n",
    "First, you need to load the training, development and test sets from their corresponding CSV files (tip: you can use Pandas dataframes)."
   ]
  },
  {
   "cell_type": "code",
   "execution_count": 2,
   "metadata": {
    "ExecuteTime": {
     "end_time": "2020-02-15T14:17:28.145788Z",
     "start_time": "2020-02-15T14:17:28.066100Z"
    }
   },
   "outputs": [],
   "source": [
    "# fill in your code...\n",
    "data_dev = pd.read_csv(\"./data_sentiment/dev.csv\",header=None, names=['text','label'])\n",
    "data_test = pd.read_csv(\"./data_sentiment/test.csv\",header=None, names=['text','label'])\n",
    "data_tr = pd.read_csv(\"./data_sentiment/train.csv\",header=None, names=['text','label'])"
   ]
  },
  {
   "cell_type": "code",
   "execution_count": 3,
   "metadata": {},
   "outputs": [
    {
     "data": {
      "text/plain": [
       "pandas.core.frame.DataFrame"
      ]
     },
     "execution_count": 3,
     "metadata": {},
     "output_type": "execute_result"
    }
   ],
   "source": [
    "type(data_tr)"
   ]
  },
  {
   "cell_type": "markdown",
   "metadata": {},
   "source": [
    "If you use Pandas you can see a sample of the data."
   ]
  },
  {
   "cell_type": "code",
   "execution_count": 4,
   "metadata": {
    "ExecuteTime": {
     "end_time": "2020-02-15T14:17:28.900892Z",
     "start_time": "2020-02-15T14:17:28.891221Z"
    }
   },
   "outputs": [
    {
     "data": {
      "text/html": [
       "<div>\n",
       "<style scoped>\n",
       "    .dataframe tbody tr th:only-of-type {\n",
       "        vertical-align: middle;\n",
       "    }\n",
       "\n",
       "    .dataframe tbody tr th {\n",
       "        vertical-align: top;\n",
       "    }\n",
       "\n",
       "    .dataframe thead th {\n",
       "        text-align: right;\n",
       "    }\n",
       "</style>\n",
       "<table border=\"1\" class=\"dataframe\">\n",
       "  <thead>\n",
       "    <tr style=\"text-align: right;\">\n",
       "      <th></th>\n",
       "      <th>text</th>\n",
       "      <th>label</th>\n",
       "    </tr>\n",
       "  </thead>\n",
       "  <tbody>\n",
       "    <tr>\n",
       "      <th>0</th>\n",
       "      <td>note : some may consider portions of the follo...</td>\n",
       "      <td>1</td>\n",
       "    </tr>\n",
       "    <tr>\n",
       "      <th>1</th>\n",
       "      <td>note : some may consider portions of the follo...</td>\n",
       "      <td>1</td>\n",
       "    </tr>\n",
       "    <tr>\n",
       "      <th>2</th>\n",
       "      <td>every once in a while you see a film that is s...</td>\n",
       "      <td>1</td>\n",
       "    </tr>\n",
       "    <tr>\n",
       "      <th>3</th>\n",
       "      <td>when i was growing up in 1970s , boys in my sc...</td>\n",
       "      <td>1</td>\n",
       "    </tr>\n",
       "    <tr>\n",
       "      <th>4</th>\n",
       "      <td>the muppet movie is the first , and the best m...</td>\n",
       "      <td>1</td>\n",
       "    </tr>\n",
       "  </tbody>\n",
       "</table>\n",
       "</div>"
      ],
      "text/plain": [
       "                                                text  label\n",
       "0  note : some may consider portions of the follo...      1\n",
       "1  note : some may consider portions of the follo...      1\n",
       "2  every once in a while you see a film that is s...      1\n",
       "3  when i was growing up in 1970s , boys in my sc...      1\n",
       "4  the muppet movie is the first , and the best m...      1"
      ]
     },
     "execution_count": 4,
     "metadata": {},
     "output_type": "execute_result"
    }
   ],
   "source": [
    "data_tr.head()"
   ]
  },
  {
   "cell_type": "markdown",
   "metadata": {},
   "source": [
    "The next step is to put the raw texts into Python lists and their corresponding labels into NumPy arrays:\n"
   ]
  },
  {
   "cell_type": "code",
   "execution_count": 5,
   "metadata": {
    "ExecuteTime": {
     "end_time": "2020-02-15T14:17:31.115577Z",
     "start_time": "2020-02-15T14:17:31.108038Z"
    }
   },
   "outputs": [],
   "source": [
    "# Put the raw texts into list\n",
    "# training dataset\n",
    "data_tr_list = data_tr['text'].tolist()\n",
    "data_tr_label = np.array(data_tr['label'])\n",
    "# development dataset\n",
    "data_dev_list = data_dev['text'].tolist()\n",
    "data_dev_label = np.array(data_dev['label'])\n",
    "# test dataset\n",
    "data_test_list = data_test['text'].tolist()\n",
    "data_test_label = np.array(data_test['label'])"
   ]
  },
  {
   "cell_type": "markdown",
   "metadata": {},
   "source": [
    "# Bag-of-Words Representation \n",
    "\n",
    "\n",
    "To train and test Logisitc Regression models, you first need to obtain vector representations for all documents given a vocabulary of features (unigrams, bigrams, trigrams).\n",
    "\n",
    "\n",
    "## Text Pre-Processing Pipeline\n",
    "\n",
    "To obtain a vocabulary of features, you should: \n",
    "- tokenise all texts into a list of unigrams (tip: using a regular expression) \n",
    "- remove stop words (using the one provided or one of your preference) \n",
    "- compute bigrams, trigrams given the remaining unigrams\n",
    "- remove ngrams appearing in less than K documents\n",
    "- use the remaining to create a vocabulary of unigrams, bigrams and trigrams (you can keep top N if you encounter memory issues).\n"
   ]
  },
  {
   "cell_type": "code",
   "execution_count": 6,
   "metadata": {
    "ExecuteTime": {
     "end_time": "2020-02-15T14:17:31.860420Z",
     "start_time": "2020-02-15T14:17:31.855439Z"
    }
   },
   "outputs": [],
   "source": [
    "stop_words = ['a','in','on','at','and','or', \n",
    "              'to', 'the', 'of', 'an', 'by', \n",
    "              'as', 'is', 'was', 'were', 'been', 'be', \n",
    "              'are','for', 'this', 'that', 'these', 'those', 'you', 'i',\n",
    "             'it', 'he', 'she', 'we', 'they' 'will', 'have', 'has',\n",
    "              'do', 'did', 'can', 'could', 'who', 'which', 'what', \n",
    "             'his', 'her', 'they', 'them', 'from', 'with', 'its']"
   ]
  },
  {
   "cell_type": "markdown",
   "metadata": {},
   "source": [
    "### N-gram extraction from a document\n",
    "\n",
    "You first need to implement the `extract_ngrams` function. It takes as input:\n",
    "- `x_raw`: a string corresponding to the raw text of a document\n",
    "- `ngram_range`: a tuple of two integers denoting the type of ngrams you want to extract, e.g. (1,2) denotes extracting unigrams and bigrams.\n",
    "- `token_pattern`: a string to be used within a regular expression to extract all tokens. Note that data is already tokenised so you could opt for a simple white space tokenisation.\n",
    "- `stop_words`: a list of stop words\n",
    "- `vocab`: a given vocabulary. It should be used to extract specific features.\n",
    "\n",
    "and returns:\n",
    "\n",
    "- a list of all extracted features.\n",
    "\n",
    "See the examples below to see how this function should work."
   ]
  },
  {
   "cell_type": "code",
   "execution_count": 3,
   "metadata": {
    "ExecuteTime": {
     "end_time": "2020-02-15T14:17:33.169090Z",
     "start_time": "2020-02-15T14:17:33.161268Z"
    }
   },
   "outputs": [],
   "source": [
    "def extract_ngrams(x_raw, ngram_range=(1,3), token_pattern=r'\\b[A-Za-z][A-Za-z]+\\b', stop_words=[], vocab=set()):\n",
    "    # Next it is my part to finish the this part\n",
    "    # Create a new blank list\n",
    "    x = list()\n",
    "    ngram_list = list()\n",
    "    # judge the variable type\n",
    "    if type(x_raw) == type(\"string\"):\n",
    "        x_raw = list([x_raw])\n",
    "    \n",
    "    for x_each in x_raw:\n",
    "        x_findword = re.findall(token_pattern,x_each)\n",
    "        # Now we have obtained the new word list without the stop_word \n",
    "        x_rawall = [word for word in x_findword if word not in stop_words]\n",
    "        store_ngram = list()\n",
    "        for n_g in range(min(ngram_range),max(ngram_range)+1):\n",
    "            for i in range(len(x_rawall)-n_g+1):\n",
    "                if n_g == 1:\n",
    "                    ngramTemp = x_rawall[i]\n",
    "                    x.append(ngramTemp)\n",
    "                    store_ngram.append(ngramTemp)\n",
    "                elif n_g == 2 or n_g == 3:\n",
    "                    ngramTemp = tuple(x_rawall[i:i+n_g])\n",
    "                    x.append(ngramTemp)\n",
    "                    store_ngram.append(ngramTemp)\n",
    "        ngram_list.append(store_ngram)      \n",
    "    # Now we should make the x into a set and \n",
    "    if vocab: \n",
    "        x = set(x) & vocab   \n",
    "        return x\n",
    "    else:\n",
    "        return ngram_list"
   ]
  },
  {
   "cell_type": "code",
   "execution_count": 8,
   "metadata": {
    "ExecuteTime": {
     "end_time": "2020-02-15T14:17:33.680114Z",
     "start_time": "2020-02-15T14:17:33.675339Z"
    }
   },
   "outputs": [
    {
     "data": {
      "text/plain": [
       "[['great',\n",
       "  'movie',\n",
       "  'watch',\n",
       "  ('great', 'movie'),\n",
       "  ('movie', 'watch'),\n",
       "  ('great', 'movie', 'watch')]]"
      ]
     },
     "execution_count": 8,
     "metadata": {},
     "output_type": "execute_result"
    }
   ],
   "source": [
    "extract_ngrams(\"this is a great movie to watch\", \n",
    "               ngram_range=(1,3), \n",
    "               stop_words=stop_words)"
   ]
  },
  {
   "cell_type": "code",
   "execution_count": 9,
   "metadata": {
    "ExecuteTime": {
     "end_time": "2020-02-15T14:17:34.278189Z",
     "start_time": "2020-02-15T14:17:34.273722Z"
    }
   },
   "outputs": [
    {
     "data": {
      "text/plain": [
       "{('great', 'movie'), 'great'}"
      ]
     },
     "execution_count": 9,
     "metadata": {},
     "output_type": "execute_result"
    }
   ],
   "source": [
    "extract_ngrams(\"this is a great movie to watch\", \n",
    "               ngram_range=(1,2), \n",
    "               stop_words=stop_words, \n",
    "               vocab=set(['great',  ('great','movie')]))"
   ]
  },
  {
   "cell_type": "markdown",
   "metadata": {},
   "source": [
    "Note that it is OK to represent n-grams using lists instead of tuples: e.g. `['great', ['great', 'movie']]`"
   ]
  },
  {
   "cell_type": "markdown",
   "metadata": {},
   "source": [
    "### Create a vocabulary of n-grams\n",
    "\n",
    "Then the `get_vocab` function will be used to (1) create a vocabulary of ngrams; (2) count the document frequencies of ngrams; (3) their raw frequency. It takes as input:\n",
    "- `X_raw`: a list of strings each corresponding to the raw text of a document\n",
    "- `ngram_range`: a tuple of two integers denoting the type of ngrams you want to extract, e.g. (1,2) denotes extracting unigrams and bigrams.\n",
    "- `token_pattern`: a string to be used within a regular expression to extract all tokens. Note that data is already tokenised so you could opt for a simple white space tokenisation.\n",
    "- `stop_words`: a list of stop words\n",
    "- `vocab`: a given vocabulary. It should be used to extract specific features.\n",
    "- `min_df`: keep ngrams with a minimum document frequency.\n",
    "- `keep_topN`: keep top-N more frequent ngrams.\n",
    "\n",
    "and returns:\n",
    "\n",
    "- `vocab`: a set of the n-grams that will be used as features.\n",
    "- `df`: a Counter (or dict) that contains ngrams as keys and their corresponding document frequency as values.\n",
    "- `ngram_counts`: counts of each ngram in vocab\n",
    "\n",
    "Hint: it should make use of the `extract_ngrams` function."
   ]
  },
  {
   "cell_type": "code",
   "execution_count": 4,
   "metadata": {
    "ExecuteTime": {
     "end_time": "2020-02-15T14:17:35.821240Z",
     "start_time": "2020-02-15T14:17:35.814722Z"
    }
   },
   "outputs": [],
   "source": [
    "def get_vocab(X_raw, ngram_range=(1,3), token_pattern=r'\\b[A-Za-z][A-Za-z]+\\b', min_df=0, keep_topN=0, stop_words=[]):\n",
    "    \n",
    "    # Firstly we should obtain the all the ngram list \n",
    "    # From the previous function this function will choose the putput type due to the input variables\n",
    "    vocab = extract_ngrams(x_raw=X_raw, stop_words=stop_words)\n",
    "    \n",
    "    df = dict() #dict that contains ngrams as keys and their corresponding document frequency as values.\n",
    "    ngram_counts= list() # type is the list and stores the number of words which occur at the text\n",
    "    \n",
    "    for each_ngram in vocab:\n",
    "        for ngram in set(each_ngram):\n",
    "            if ngram not in df.keys():\n",
    "                df[ngram] = 1\n",
    "            else:\n",
    "                df[ngram] +=1\n",
    "\n",
    "    df = dict(sorted(df.items(), key=lambda count:count[1], reverse=True)[:keep_topN])\n",
    "    vocab = [name for name in df.keys()]\n",
    "    \n",
    "    for item in df.keys():\n",
    "        ngram_counts.append(item)\n",
    "    \n",
    "    return vocab, df, ngram_counts"
   ]
  },
  {
   "cell_type": "markdown",
   "metadata": {},
   "source": [
    "Now you should use `get_vocab` to create your vocabulary and get document and raw frequencies of n-grams:"
   ]
  },
  {
   "cell_type": "code",
   "execution_count": 11,
   "metadata": {
    "ExecuteTime": {
     "end_time": "2020-02-15T14:17:39.319793Z",
     "start_time": "2020-02-15T14:17:36.836545Z"
    }
   },
   "outputs": [
    {
     "name": "stdout",
     "output_type": "stream",
     "text": [
      "5000\n",
      "\n",
      "['but', 'one', 'film', 'not', 'all', 'movie', 'out', 'so', 'there', 'like', 'more', 'up', 'about', 'when', 'some', 'if', 'just', 'only', 'into', 'than', 'their', 'even', 'time', 'most', 'no', 'good', 'much', 'him', 'would', 'other', 'get', 'story', 'well', 'will', 'also', 'two', 'after', 'first', 'character', 'make', 'way', 'characters', 'off', 'see', 'very', 'while', 'does', 'any', 'where', 'too', 'little', 'plot', 'because', 'over', 'director', 'had', 'how', 'then', 'best', 'being', 'people', 'doesn', 'really', 'man', 'never', 'life', 'through', 'films', 'here', 'don', 'many', 'another', 'such', 'scene', 'me', 'bad', 'know', 'made', 'scenes', 'my', 'end', 'new', 'go', 'before', 'back', 'makes', 'great', 'something', 'work', 'movies', 'still', 'better', 'few', 'now', 'down', 'seems', 'around', 'every', 'enough', 're']\n",
      "\n",
      "[('but', 1334), ('one', 1247), ('film', 1231), ('not', 1170), ('all', 1117), ('movie', 1095), ('out', 1080), ('so', 1047), ('there', 1046), ('like', 1043)]\n"
     ]
    }
   ],
   "source": [
    "X_tr_raw = data_tr_list\n",
    "vocab, df, ngram_counts = get_vocab(X_tr_raw, ngram_range=(1,3), keep_topN=5000, stop_words=stop_words)\n",
    "print(len(vocab))\n",
    "print()\n",
    "print(list(vocab)[:100])\n",
    "print()\n",
    "print(list(df.items())[:10])\n",
    "# print(df.most_common()[:10])"
   ]
  },
  {
   "cell_type": "markdown",
   "metadata": {},
   "source": [
    "Then, you need to create vocabulary id -> word and id -> word dictionaries for reference:"
   ]
  },
  {
   "cell_type": "code",
   "execution_count": 12,
   "metadata": {
    "ExecuteTime": {
     "end_time": "2020-02-15T14:17:39.326811Z",
     "start_time": "2020-02-15T14:17:39.322256Z"
    }
   },
   "outputs": [
    {
     "name": "stdout",
     "output_type": "stream",
     "text": [
      "[(0, 'but'), (1, 'one'), (2, 'film'), (3, 'not'), (4, 'all')]\n"
     ]
    }
   ],
   "source": [
    "# fill in your code...\n",
    "# We need to number the each words and store them in a dictionary \n",
    "voca_dict = dict()\n",
    "for i in range(len(vocab)):\n",
    "    voca_dict[i] = vocab[i]\n",
    "\n",
    "print(list(voca_dict.items())[:5])"
   ]
  },
  {
   "cell_type": "markdown",
   "metadata": {},
   "source": [
    "Now you should be able to extract n-grams for each text in the training, development and test sets:"
   ]
  },
  {
   "cell_type": "code",
   "execution_count": 13,
   "metadata": {
    "ExecuteTime": {
     "end_time": "2020-02-15T14:17:40.213253Z",
     "start_time": "2020-02-15T14:17:39.329147Z"
    }
   },
   "outputs": [],
   "source": [
    "# Finish the process of extracting the n-grams for feature\n",
    "tr_feature, tr_df, tr_ngramcount = get_vocab(data_tr_list,ngram_range=(1,3), keep_topN=5000, stop_words=stop_words)\n",
    "dev_feature, dev_df, dev_ngramcount = get_vocab(data_dev_list,ngram_range=(1,3), keep_topN=5000, stop_words=stop_words)\n",
    "test_feature, test_df, test_ngramcount = get_vocab(data_test_list,ngram_range=(1,3), keep_topN=5000, stop_words=stop_words)\n",
    "\n",
    "# The part of extracting the ngram from the extract_ngrams\n",
    "tr_ngram = extract_ngrams(data_tr_list, ngram_range=(1,3), stop_words=stop_words)\n",
    "dev_ngram = extract_ngrams(data_dev_list, ngram_range=(1,3), stop_words=stop_words)\n",
    "test_ngram = extract_ngrams(data_test_list, ngram_range=(1,3), stop_words=stop_words)"
   ]
  },
  {
   "cell_type": "markdown",
   "metadata": {},
   "source": [
    "## Vectorise documents "
   ]
  },
  {
   "cell_type": "markdown",
   "metadata": {},
   "source": [
    "Next, write a function `vectoriser` to obtain Bag-of-ngram representations for a list of documents. The function should take as input:\n",
    "- `X_ngram`: a list of texts (documents), where each text is represented as list of n-grams in the `vocab`\n",
    "- `vocab`: a set of n-grams to be used for representing the documents\n",
    "\n",
    "and return:\n",
    "- `X_vec`: an array with dimensionality Nx|vocab| where N is the number of documents and |vocab| is the size of the vocabulary. Each element of the array should represent the frequency of a given n-gram in a document.\n"
   ]
  },
  {
   "cell_type": "code",
   "execution_count": 24,
   "metadata": {
    "ExecuteTime": {
     "end_time": "2020-02-15T14:17:40.219201Z",
     "start_time": "2020-02-15T14:17:40.215129Z"
    }
   },
   "outputs": [],
   "source": [
    "def vectorise(X_ngram, vocab):\n",
    "    # Now we have obtain all the ngram and the type is list \n",
    "    # Use the nparray to establish a new matrix\n",
    "    X_matrix = np.zeros((len(X_ngram),len(vocab)))\n",
    "    for sid,ngram in enumerate(X_ngram):\n",
    "        for sid_v,ngram_top in enumerate(vocab):\n",
    "            X_matrix[sid][sid_v] = ngram.count(ngram_top)  \n",
    "    return X_matrix"
   ]
  },
  {
   "cell_type": "markdown",
   "metadata": {},
   "source": [
    "Finally, use `vectorise` to obtain document vectors for each document in the train, development and test set. You should extract both count and tf.idf vectors respectively:"
   ]
  },
  {
   "cell_type": "markdown",
   "metadata": {},
   "source": [
    "#### Count vectors"
   ]
  },
  {
   "cell_type": "code",
   "execution_count": 15,
   "metadata": {
    "ExecuteTime": {
     "end_time": "2020-02-15T14:17:41.999574Z",
     "start_time": "2020-02-15T14:17:40.376534Z"
    }
   },
   "outputs": [],
   "source": [
    "# fill in your code...\n",
    "X_tr_count = vectorise(tr_ngram,tr_feature)\n",
    "X_dev_count = vectorise(dev_ngram,tr_feature)\n",
    "X_test_count = vectorise(test_ngram,tr_feature)"
   ]
  },
  {
   "cell_type": "code",
   "execution_count": 16,
   "metadata": {},
   "outputs": [
    {
     "data": {
      "text/plain": [
       "array([[ 6.,  8., 20.,  4.,  1.,  0.,  1.,  3.,  1.,  0.,  1.,  0.,  1.,\n",
       "         0.,  1.,  1.,  2.,  4.,  2.,  1.,  6.,  3.,  0.,  4.,  1.,  1.,\n",
       "         1.,  0.,  3.,  0.,  0.,  2.,  0.,  1.,  0.,  1.,  0.,  2.,  3.,\n",
       "         0.,  0.,  4.,  1.,  1.,  0.,  3.,  0.,  1.,  1.,  0.],\n",
       "       [ 2.,  5.,  6.,  2.,  4.,  0.,  2.,  3.,  2.,  3.,  3.,  4.,  2.,\n",
       "         0.,  2.,  2.,  0.,  0.,  2.,  3.,  0.,  0.,  2.,  2.,  1.,  1.,\n",
       "         1.,  5.,  1.,  1.,  1.,  2.,  0.,  4.,  1.,  1.,  0.,  0.,  5.,\n",
       "         1.,  2.,  0.,  0.,  1.,  0.,  3.,  1.,  1.,  2.,  0.]])"
      ]
     },
     "execution_count": 16,
     "metadata": {},
     "output_type": "execute_result"
    }
   ],
   "source": [
    "X_tr_count[:2,:50]"
   ]
  },
  {
   "cell_type": "code",
   "execution_count": 17,
   "metadata": {
    "ExecuteTime": {
     "end_time": "2020-02-15T14:17:42.004808Z",
     "start_time": "2020-02-15T14:17:42.001555Z"
    }
   },
   "outputs": [
    {
     "data": {
      "text/plain": [
       "(1400, 5000)"
      ]
     },
     "execution_count": 17,
     "metadata": {},
     "output_type": "execute_result"
    }
   ],
   "source": [
    "X_tr_count.shape"
   ]
  },
  {
   "cell_type": "markdown",
   "metadata": {},
   "source": [
    "#### TF.IDF vectors\n",
    "\n",
    "First compute `idfs` an array containing inverted document frequencies (Note: its elements should correspond to your `vocab`)"
   ]
  },
  {
   "cell_type": "code",
   "execution_count": 26,
   "metadata": {
    "ExecuteTime": {
     "end_time": "2020-02-15T14:17:42.022692Z",
     "start_time": "2020-02-15T14:17:42.012315Z"
    }
   },
   "outputs": [],
   "source": [
    "def idf_function(ngram_list,vocab):\n",
    "\n",
    "    # establish a new dictionary datastructure to store the idf value\n",
    "    idf_dict = dict()\n",
    "    num_N = len(ngram_list)\n",
    "    for sid,voc in enumerate(vocab):\n",
    "        occur_sum = 0\n",
    "        for ngram in ngram_list:\n",
    "            if voc in ngram:\n",
    "                occur_sum +=1\n",
    "        idf_dict[voc]= np.log((num_N+1)/(occur_sum+1))\n",
    "    return idf_dict               "
   ]
  },
  {
   "cell_type": "markdown",
   "metadata": {},
   "source": [
    "Then transform your count vectors to tf.idf vectors:"
   ]
  },
  {
   "cell_type": "code",
   "execution_count": 27,
   "metadata": {
    "ExecuteTime": {
     "end_time": "2020-02-15T14:17:42.802265Z",
     "start_time": "2020-02-15T14:17:42.752448Z"
    }
   },
   "outputs": [],
   "source": [
    "# Now we have obtained the dictionary about the idf value\n",
    "# X_tr_count - the original vector matrix\n",
    "# x_raw - the raw data\n",
    "def tfidf_function(X_count,ngram_list,vocab):\n",
    "    tfidf = list()\n",
    "    # obtain the new idf_dict\n",
    "    idf_dict = idf_function(ngram_list,vocab)\n",
    "    for sid,word in enumerate(idf_dict.keys()):\n",
    "        result = X_count[:,sid] * idf_dict[word]\n",
    "        tfidf.append(result)\n",
    "\n",
    "    X_tfidf = np.transpose(np.asarray(tfidf))\n",
    "    \n",
    "    return X_tfidf\n"
   ]
  },
  {
   "cell_type": "code",
   "execution_count": 53,
   "metadata": {},
   "outputs": [],
   "source": [
    "X_tr_tfidf = tfidf_function(X_count=X_tr_count, ngram_list = tr_ngram, vocab = tr_feature)\n",
    "X_dev_tfidf = tfidf_function(X_count=X_dev_count, ngram_list = dev_ngram, vocab = tr_feature)\n",
    "X_test_tfidf = tfidf_function(X_count=X_test_count, ngram_list = test_ngram, vocab = tr_feature)"
   ]
  },
  {
   "cell_type": "code",
   "execution_count": 21,
   "metadata": {},
   "outputs": [
    {
     "data": {
      "text/plain": [
       "array([0.09650995, 0.57821999, 0.77128441, 0.35865637, 0.90257957,\n",
       "       0.        , 0.51859946, 0.87090804, 0.58251467, 0.88238033,\n",
       "       0.89101343, 1.26561491, 0.65249265, 0.        , 0.74355542,\n",
       "       0.79812334, 0.        , 0.        , 0.83896302, 1.284617  ,\n",
       "       0.        , 0.        , 0.94143532, 0.99471004, 0.50442219,\n",
       "       0.52834677, 0.55658683, 2.864543  , 0.5895012 , 0.59336967,\n",
       "       0.59985058, 1.20230363, 0.        , 2.45175908, 0.61690017,\n",
       "       0.62087632, 0.        , 0.        , 3.16450256, 0.68108602,\n",
       "       1.36499491, 0.        , 0.        , 0.70535559, 0.        ,\n",
       "       2.17296126, 0.74365188, 0.74515451, 1.50843602, 0.        ])"
      ]
     },
     "execution_count": 21,
     "metadata": {},
     "output_type": "execute_result"
    }
   ],
   "source": [
    "X_tr_tfidf[1,:50]"
   ]
  },
  {
   "cell_type": "markdown",
   "metadata": {},
   "source": [
    "# Binary Logistic Regression\n",
    "\n",
    "After obtaining vector representations of the data, now you are ready to implement Binary Logistic Regression for classifying sentiment."
   ]
  },
  {
   "cell_type": "markdown",
   "metadata": {},
   "source": [
    "First, you need to implement the `sigmoid` function. It takes as input:\n",
    "\n",
    "- `z`: a real number or an array of real numbers \n",
    "\n",
    "and returns:\n",
    "\n",
    "- `sig`: the sigmoid of `z`"
   ]
  },
  {
   "cell_type": "code",
   "execution_count": 22,
   "metadata": {
    "ExecuteTime": {
     "end_time": "2020-02-15T14:17:44.160661Z",
     "start_time": "2020-02-15T14:17:44.157902Z"
    }
   },
   "outputs": [],
   "source": [
    "def sigmoid(z):\n",
    "    z = 1.0 / (1 + np.exp(-z))\n",
    "    return z"
   ]
  },
  {
   "cell_type": "code",
   "execution_count": 23,
   "metadata": {
    "ExecuteTime": {
     "end_time": "2020-02-15T14:17:44.351292Z",
     "start_time": "2020-02-15T14:17:44.346822Z"
    }
   },
   "outputs": [
    {
     "name": "stdout",
     "output_type": "stream",
     "text": [
      "0.5\n",
      "[0.00669285 0.76852478]\n"
     ]
    }
   ],
   "source": [
    "print(sigmoid(0)) \n",
    "print(sigmoid(np.array([-5., 1.2])))"
   ]
  },
  {
   "cell_type": "markdown",
   "metadata": {},
   "source": [
    "Then, implement the `predict_proba` function to obtain prediction probabilities. It takes as input:\n",
    "\n",
    "- `X`: an array of inputs, i.e. documents represented by bag-of-ngram vectors ($N \\times |vocab|$)\n",
    "- `weights`: a 1-D array of the model's weights $(1, |vocab|)$\n",
    "\n",
    "and returns:\n",
    "\n",
    "- `preds_proba`: the prediction probabilities of X given the weights"
   ]
  },
  {
   "cell_type": "code",
   "execution_count": 24,
   "metadata": {
    "ExecuteTime": {
     "end_time": "2020-02-15T14:17:44.718566Z",
     "start_time": "2020-02-15T14:17:44.715017Z"
    }
   },
   "outputs": [],
   "source": [
    "def predict_proba(X, weights):\n",
    "    \n",
    "    # Calculate inner product of the matrix \n",
    "    preds_proba = sigmoid(np.dot(X,weights))\n",
    "    \n",
    "    return preds_proba"
   ]
  },
  {
   "cell_type": "markdown",
   "metadata": {},
   "source": [
    "Then, implement the `predict_class` function to obtain the most probable class for each vector in an array of input vectors. It takes as input:\n",
    "\n",
    "- `X`: an array of documents represented by bag-of-ngram vectors ($N \\times |vocab|$)\n",
    "- `weights`: a 1-D array of the model's weights $(1, |vocab|)$\n",
    "\n",
    "and returns:\n",
    "\n",
    "- `preds_class`: the predicted class for each x in X given the weights"
   ]
  },
  {
   "cell_type": "code",
   "execution_count": 25,
   "metadata": {
    "ExecuteTime": {
     "end_time": "2020-02-15T14:17:45.002125Z",
     "start_time": "2020-02-15T14:17:44.998668Z"
    }
   },
   "outputs": [],
   "source": [
    "def predict_class(X, weights):\n",
    "    \n",
    "    # Calculate the prediction probabilities of X given the weights\n",
    "    proba_value = predict_proba(X,weights)\n",
    "    # Change the value into 1 or 0\n",
    "    proba_value = np.where(proba_value<0.5, 0, 1)\n",
    "    preds_class = proba_value.astype(np.int64)\n",
    "    \n",
    "    return preds_class"
   ]
  },
  {
   "cell_type": "markdown",
   "metadata": {},
   "source": [
    "To learn the weights from data, we need to minimise the binary cross-entropy loss. Implement `binary_loss` that takes as input:\n",
    "\n",
    "- `X`: input vectors\n",
    "- `Y`: labels\n",
    "- `weights`: model weights\n",
    "- `alpha`: regularisation strength\n",
    "\n",
    "and return:\n",
    "\n",
    "- `l`: the loss score"
   ]
  },
  {
   "cell_type": "code",
   "execution_count": 26,
   "metadata": {
    "ExecuteTime": {
     "end_time": "2020-02-15T14:17:45.455533Z",
     "start_time": "2020-02-15T14:17:45.451475Z"
    }
   },
   "outputs": [],
   "source": [
    "def binary_loss(X, Y, weights, alpha=0.00001):\n",
    "    \n",
    "    # Firstly we should calculate the prediction probabilities of X used with weight\n",
    "    y_proba = predict_proba(X,weights)\n",
    "    \n",
    "    # Restrict the value range from the alpha  to  1-alpha\n",
    "    y_proba  = np.clip(y_proba,alpha,1-alpha)\n",
    "    loss = - Y * np.log(y_proba) - (1 - Y) * np.log(1-y_proba)\n",
    "    \n",
    "    # Look the X scope\n",
    "    if len(X.shape)>1:\n",
    "        L2_regularization = (1/len(X))*(alpha/2)*(np.sum(np.square(weights)))\n",
    "    else:\n",
    "        L2_regularization = (alpha/2)*(np.sum(np.square(weights)))\n",
    "    \n",
    "    l = loss + L2_regularization\n",
    "    return l\n",
    "    "
   ]
  },
  {
   "cell_type": "markdown",
   "metadata": {},
   "source": [
    "Now, you can implement Stochastic Gradient Descent to learn the weights of your sentiment classifier. The `SGD` function takes as input:\n",
    "\n",
    "- `X_tr`: array of training data (vectors)\n",
    "- `Y_tr`: labels of `X_tr`\n",
    "- `X_dev`: array of development (i.e. validation) data (vectors)\n",
    "- `Y_dev`: labels of `X_dev`\n",
    "- `lr`: learning rate\n",
    "- `alpha`: regularisation strength\n",
    "- `epochs`: number of full passes over the training data\n",
    "- `tolerance`: stop training if the difference between the current and previous validation loss is smaller than a threshold\n",
    "- `print_progress`: flag for printing the training progress (train/validation loss)\n",
    "\n",
    "\n",
    "and returns:\n",
    "\n",
    "- `weights`: the weights learned\n",
    "- `training_loss_history`: an array with the average losses of the whole training set after each epoch\n",
    "- `validation_loss_history`: an array with the average losses of the whole development set after each epoch"
   ]
  },
  {
   "cell_type": "code",
   "execution_count": 42,
   "metadata": {
    "ExecuteTime": {
     "end_time": "2020-02-15T14:17:45.968510Z",
     "start_time": "2020-02-15T14:17:45.958185Z"
    }
   },
   "outputs": [],
   "source": [
    "def SGD(X_tr, Y_tr, X_dev=[], Y_dev=[], loss=\"binary\", lr=0.1, alpha=0.00001, epochs=5, tolerance=0.0001, print_progress=True):\n",
    "    \n",
    "    cur_loss_dev = 1.\n",
    "    training_loss_history = []\n",
    "    validation_loss_history = []\n",
    "    \n",
    "    # Obtain the weights\n",
    "    weights = np.zeros(X_tr.shape[1])\n",
    "    \n",
    "    for i in range(epochs):\n",
    "        loss_list = list()\n",
    "        seed_number = random.randint(0,100)\n",
    "        np.random.seed(seed_number)\n",
    "        # Shuffle the X_tr and Y_tr  \n",
    "        per_X_tr = np.random.permutation(X_tr)\n",
    "        np.random.seed(seed_number)\n",
    "        per_Y_tr = np.random.permutation(Y_tr)\n",
    "        for j,row in enumerate(per_X_tr):\n",
    "            # Caculate the Binary Loss and store the loss into loss_list\n",
    "            loss_tr = binary_loss(row, per_Y_tr[j],weights, alpha)\n",
    "            loss_list.append(loss_tr)\n",
    "            y_pred = predict_proba(row,weights) \n",
    "            error = y_pred - per_Y_tr[j]\n",
    "            # update weights\n",
    "            weights = weights - lr*error*row\n",
    "        # Obtain the mean\n",
    "        tr_loss_mean = np.mean(loss_list)\n",
    "        training_loss_history.append(tr_loss_mean)\n",
    "        \n",
    "        dev_loss = binary_loss(X_dev, Y_dev, weights, alpha)\n",
    "        dev_loss = sum(dev_loss)/len(dev_loss)\n",
    "        validation_loss_history.append(dev_loss)\n",
    "        print('Epoch: %d' % i, '| Training loss: %f' %tr_loss_mean, '| Validation loss: %f' %dev_loss)\n",
    "        \n",
    "        if (cur_loss_dev-dev_loss)<tolerance:\n",
    "            break\n",
    "            \n",
    "        cur_loss_dev = dev_loss\n",
    "\n",
    "    return weights, training_loss_history, validation_loss_history"
   ]
  },
  {
   "cell_type": "markdown",
   "metadata": {},
   "source": [
    "## Train and Evaluate Logistic Regression with Count vectors\n",
    "\n",
    "First train the model using SGD:"
   ]
  },
  {
   "cell_type": "code",
   "execution_count": 43,
   "metadata": {},
   "outputs": [
    {
     "name": "stdout",
     "output_type": "stream",
     "text": [
      "Epoch: 0 | Training loss: 0.668086 | Validation loss: 0.646794\n",
      "Epoch: 1 | Training loss: 0.614413 | Validation loss: 0.616498\n",
      "Epoch: 2 | Training loss: 0.575547 | Validation loss: 0.592994\n",
      "Epoch: 3 | Training loss: 0.545437 | Validation loss: 0.577316\n",
      "Epoch: 4 | Training loss: 0.520853 | Validation loss: 0.560859\n",
      "Epoch: 5 | Training loss: 0.499672 | Validation loss: 0.548913\n",
      "Epoch: 6 | Training loss: 0.481134 | Validation loss: 0.539948\n",
      "Epoch: 7 | Training loss: 0.465261 | Validation loss: 0.529920\n",
      "Epoch: 8 | Training loss: 0.451542 | Validation loss: 0.521322\n",
      "Epoch: 9 | Training loss: 0.438717 | Validation loss: 0.512490\n",
      "Epoch: 10 | Training loss: 0.427027 | Validation loss: 0.506724\n",
      "Epoch: 11 | Training loss: 0.416302 | Validation loss: 0.500818\n",
      "Epoch: 12 | Training loss: 0.406529 | Validation loss: 0.495782\n",
      "Epoch: 13 | Training loss: 0.397396 | Validation loss: 0.490821\n",
      "Epoch: 14 | Training loss: 0.388883 | Validation loss: 0.484793\n",
      "Epoch: 15 | Training loss: 0.380915 | Validation loss: 0.479366\n",
      "Epoch: 16 | Training loss: 0.373300 | Validation loss: 0.476095\n",
      "Epoch: 17 | Training loss: 0.366354 | Validation loss: 0.472206\n",
      "Epoch: 18 | Training loss: 0.359845 | Validation loss: 0.468120\n",
      "Epoch: 19 | Training loss: 0.353323 | Validation loss: 0.464269\n",
      "Epoch: 20 | Training loss: 0.346959 | Validation loss: 0.461748\n",
      "Epoch: 21 | Training loss: 0.341650 | Validation loss: 0.458287\n",
      "Epoch: 22 | Training loss: 0.336201 | Validation loss: 0.455331\n",
      "Epoch: 23 | Training loss: 0.330704 | Validation loss: 0.453863\n",
      "Epoch: 24 | Training loss: 0.325781 | Validation loss: 0.449752\n",
      "Epoch: 25 | Training loss: 0.321194 | Validation loss: 0.447755\n",
      "Epoch: 26 | Training loss: 0.316413 | Validation loss: 0.445312\n",
      "Epoch: 27 | Training loss: 0.312050 | Validation loss: 0.443673\n",
      "Epoch: 28 | Training loss: 0.307841 | Validation loss: 0.440644\n",
      "Epoch: 29 | Training loss: 0.303410 | Validation loss: 0.439579\n",
      "Epoch: 30 | Training loss: 0.299583 | Validation loss: 0.436654\n",
      "Epoch: 31 | Training loss: 0.295714 | Validation loss: 0.435246\n",
      "Epoch: 32 | Training loss: 0.291917 | Validation loss: 0.432918\n",
      "Epoch: 33 | Training loss: 0.288579 | Validation loss: 0.431303\n",
      "Epoch: 34 | Training loss: 0.284906 | Validation loss: 0.430577\n",
      "Epoch: 35 | Training loss: 0.281681 | Validation loss: 0.428561\n",
      "Epoch: 36 | Training loss: 0.278462 | Validation loss: 0.427078\n",
      "Epoch: 37 | Training loss: 0.275290 | Validation loss: 0.425137\n",
      "Epoch: 38 | Training loss: 0.272172 | Validation loss: 0.424143\n",
      "Epoch: 39 | Training loss: 0.269105 | Validation loss: 0.422720\n",
      "Epoch: 40 | Training loss: 0.266237 | Validation loss: 0.421128\n",
      "Epoch: 41 | Training loss: 0.263421 | Validation loss: 0.419883\n",
      "Epoch: 42 | Training loss: 0.260657 | Validation loss: 0.418659\n",
      "Epoch: 43 | Training loss: 0.257902 | Validation loss: 0.417906\n",
      "Epoch: 44 | Training loss: 0.255219 | Validation loss: 0.417275\n",
      "Epoch: 45 | Training loss: 0.252872 | Validation loss: 0.415498\n",
      "Epoch: 46 | Training loss: 0.250353 | Validation loss: 0.414632\n",
      "Epoch: 47 | Training loss: 0.247764 | Validation loss: 0.413270\n",
      "Epoch: 48 | Training loss: 0.245362 | Validation loss: 0.412810\n",
      "Epoch: 49 | Training loss: 0.243103 | Validation loss: 0.412402\n",
      "Epoch: 50 | Training loss: 0.240812 | Validation loss: 0.410488\n",
      "Epoch: 51 | Training loss: 0.238508 | Validation loss: 0.410348\n",
      "Epoch: 52 | Training loss: 0.236569 | Validation loss: 0.408803\n",
      "Epoch: 53 | Training loss: 0.234460 | Validation loss: 0.408323\n",
      "Epoch: 54 | Training loss: 0.232381 | Validation loss: 0.407247\n",
      "Epoch: 55 | Training loss: 0.230292 | Validation loss: 0.406447\n",
      "Epoch: 56 | Training loss: 0.228356 | Validation loss: 0.405864\n",
      "Epoch: 57 | Training loss: 0.226405 | Validation loss: 0.405126\n",
      "Epoch: 58 | Training loss: 0.224516 | Validation loss: 0.404535\n",
      "Epoch: 59 | Training loss: 0.222552 | Validation loss: 0.403625\n",
      "Epoch: 60 | Training loss: 0.220843 | Validation loss: 0.403022\n",
      "Epoch: 61 | Training loss: 0.218969 | Validation loss: 0.402853\n",
      "Epoch: 62 | Training loss: 0.217145 | Validation loss: 0.401723\n",
      "Epoch: 63 | Training loss: 0.215452 | Validation loss: 0.401637\n"
     ]
    }
   ],
   "source": [
    "w_count, loss_tr_count, dev_loss_count = SGD(X_tr_count, data_tr_label, \n",
    "                                             X_dev=X_dev_count, \n",
    "                                             Y_dev=data_dev_label, \n",
    "                                             lr=0.0001, \n",
    "                                             alpha=0.001, \n",
    "                                             epochs=100)"
   ]
  },
  {
   "cell_type": "markdown",
   "metadata": {},
   "source": [
    "Now plot the training and validation history per epoch. Does your model underfit, overfit or is it about right? Explain why."
   ]
  },
  {
   "cell_type": "code",
   "execution_count": 44,
   "metadata": {},
   "outputs": [
    {
     "data": {
      "image/png": "[encoded data removed]",
      "text/plain": [
       "<Figure size 432x288 with 1 Axes>"
      ]
     },
     "metadata": {
      "needs_background": "light"
     },
     "output_type": "display_data"
    }
   ],
   "source": [
    "x = np.linspace(0,len(loss_tr_count),len(loss_tr_count))\n",
    "\n",
    "plt.plot(x, loss_tr_count,label='Training loss')\n",
    "plt.plot(x, dev_loss_count, label='Validation loss')\n",
    "\n",
    "plt.title('Training Monitoring')\n",
    "plt.xlabel('Epochs')\n",
    "plt.ylabel('Loss')\n",
    "plt.legend() \n",
    "plt.show()"
   ]
  },
  {
   "cell_type": "markdown",
   "metadata": {
    "ExecuteTime": {
     "end_time": "2020-01-21T16:52:26.583150Z",
     "start_time": "2020-01-21T16:52:26.578754Z"
    }
   },
   "source": [
    "Explain here...\n",
    "\n",
    "Answer:\n",
    "\n",
    "The model have reached at the overfit situation,because the gap between the Training loss and Validation loss is very large."
   ]
  },
  {
   "cell_type": "markdown",
   "metadata": {},
   "source": [
    "Compute accuracy, precision, recall and F1-scores:"
   ]
  },
  {
   "cell_type": "code",
   "execution_count": 69,
   "metadata": {},
   "outputs": [],
   "source": [
    "# fill in your code...\n",
    "def accuracy_score(Y_trainerror,pre_te):  \n",
    "    result = 0\n",
    "    for i,label in enumerate(Y_trainerror):\n",
    "        if pre_te[i] == label:\n",
    "            result = result+1\n",
    "    score = result/len(Y_trainerror)\n",
    "    return score\n",
    "\n",
    "def precision_score(Y_trainerror,pre_te):\n",
    "    Y_cor = (Y_trainerror==1)\n",
    "    pre_te_cor = (pre_te==1)\n",
    "    cor_count = (Y_cor * pre_te_cor).sum()\n",
    "    all_count = (pre_te==1).sum()\n",
    "    \n",
    "    return cor_count/all_count\n",
    "\n",
    "def recall_score(Y_trainerror,pre_te):\n",
    "    Y_cor = (Y_trainerror==1)\n",
    "    pre_te_cor = (pre_te==1)\n",
    "    cor_count = (Y_cor * pre_te_cor).sum()\n",
    "    all_count = (Y_cor==1).sum()\n",
    "    \n",
    "    return cor_count/all_count\n",
    "\n",
    "def f1_score(Y_trainerror,pre_te):\n",
    "    cor_count = 2 * precision_score(Y_trainerror, pre_te) * recall_score(Y_trainerror, pre_te)\n",
    "    all_count = precision_score(Y_trainerror, pre_te) + recall_score(Y_trainerror, pre_te)\n",
    "    \n",
    "    return cor_count/all_count\n"
   ]
  },
  {
   "cell_type": "code",
   "execution_count": 46,
   "metadata": {
    "ExecuteTime": {
     "end_time": "2020-02-15T14:37:40.569499Z",
     "start_time": "2020-02-15T14:37:40.566796Z"
    }
   },
   "outputs": [
    {
     "name": "stdout",
     "output_type": "stream",
     "text": [
      "Accuracy: 0.835\n",
      "Precision: 0.8252427184466019\n",
      "Recall: 0.85\n",
      "F1-Score: 0.8374384236453202\n"
     ]
    }
   ],
   "source": [
    "preds_te_count = predict_class(X_test_count, w_count)\n",
    "Y_te = data_test_label\n",
    "\n",
    "print('Accuracy:', accuracy_score(Y_te,preds_te_count))\n",
    "print('Precision:', precision_score(Y_te,preds_te_count))\n",
    "print('Recall:', recall_score(Y_te,preds_te_count))\n",
    "print('F1-Score:', f1_score(Y_te,preds_te_count))"
   ]
  },
  {
   "cell_type": "markdown",
   "metadata": {},
   "source": [
    "Finally, print the top-10 words for the negative and positive class respectively."
   ]
  },
  {
   "cell_type": "code",
   "execution_count": 52,
   "metadata": {
    "ExecuteTime": {
     "end_time": "2020-02-15T14:37:07.638179Z",
     "start_time": "2020-02-15T14:37:07.635838Z"
    }
   },
   "outputs": [
    {
     "name": "stdout",
     "output_type": "stream",
     "text": [
      "The top 10 positive words are ['great', 'well', 'also', 'seen', 'life', 'fun', 'world', 'many', 'movies', 'see'] respectively.\n",
      "The top 10 negative words are ['bad', 'only', 'worst', 'unfortunately', 'script', 'why', 'plot', 'boring', 'any', 'nothing'] respectively.\n"
     ]
    }
   ],
   "source": [
    "# fill in your code...\n",
    "# Obtain a new dictionary to store the weight\n",
    "dic_weight = dict()\n",
    "for i,weight in enumerate(w_count):\n",
    "    dic_weight[vocab[i]] = weight\n",
    "    \n",
    "# Obtain the positive words\n",
    "dic_resultP = dict()\n",
    "dic_resultN = dict()\n",
    "\n",
    "for word,weight in dic_weight.items():\n",
    "    if weight >= 0:\n",
    "        dic_resultP[word] = weight\n",
    "    else:\n",
    "        dic_resultN[word] = weight\n",
    "\n",
    "dic_resultP = dict(sorted(dic_resultP.items(),key=lambda weight:weight[1], reverse=True)[:10])\n",
    "dic_resultN = dict(sorted(dic_resultN.items(),key=lambda weight:weight[1], reverse=False)[:10])\n",
    "\n",
    "print(\"The top 10 positive words are %s respectively.\"% list(dic_resultP.keys()))\n",
    "print(\"The top 10 negative words are %s respectively.\"% list(dic_resultN.keys()))"
   ]
  },
  {
   "cell_type": "markdown",
   "metadata": {},
   "source": [
    "If we were to apply the classifier we've learned into a different domain such laptop reviews or restaurant reviews, do you think these features would generalise well? Can you propose what features the classifier could pick up as important in the new domain?"
   ]
  },
  {
   "cell_type": "markdown",
   "metadata": {},
   "source": [
    "Provide your answer here...\n",
    "\n",
    "Answer:\n",
    "\n",
    "In my opinion, we can't use this model's features to train the other domains information. So the answer is no.\n"
   ]
  },
  {
   "cell_type": "markdown",
   "metadata": {},
   "source": [
    "## Train and Evaluate Logistic Regression with TF.IDF vectors\n",
    "\n",
    "Follow the same steps as above (i.e. evaluating count n-gram representations).\n"
   ]
  },
  {
   "cell_type": "code",
   "execution_count": 54,
   "metadata": {
    "ExecuteTime": {
     "end_time": "2020-02-15T14:17:54.414637Z",
     "start_time": "2020-02-15T14:17:51.625934Z"
    },
    "scrolled": true
   },
   "outputs": [
    {
     "name": "stdout",
     "output_type": "stream",
     "text": [
      "Epoch: 0 | Training loss: 0.630133 | Validation loss: 0.597656\n",
      "Epoch: 1 | Training loss: 0.493860 | Validation loss: 0.549882\n",
      "Epoch: 2 | Training loss: 0.416565 | Validation loss: 0.518472\n",
      "Epoch: 3 | Training loss: 0.364368 | Validation loss: 0.496141\n",
      "Epoch: 4 | Training loss: 0.325956 | Validation loss: 0.478411\n",
      "Epoch: 5 | Training loss: 0.296003 | Validation loss: 0.464224\n",
      "Epoch: 6 | Training loss: 0.271770 | Validation loss: 0.452913\n",
      "Epoch: 7 | Training loss: 0.251450 | Validation loss: 0.443363\n",
      "Epoch: 8 | Training loss: 0.234329 | Validation loss: 0.435075\n",
      "Epoch: 9 | Training loss: 0.219443 | Validation loss: 0.427922\n",
      "Epoch: 10 | Training loss: 0.206583 | Validation loss: 0.421632\n",
      "Epoch: 11 | Training loss: 0.195135 | Validation loss: 0.416161\n",
      "Epoch: 12 | Training loss: 0.184917 | Validation loss: 0.411216\n",
      "Epoch: 13 | Training loss: 0.175851 | Validation loss: 0.406914\n",
      "Epoch: 14 | Training loss: 0.167522 | Validation loss: 0.403104\n",
      "Epoch: 15 | Training loss: 0.160160 | Validation loss: 0.399678\n",
      "Epoch: 16 | Training loss: 0.153315 | Validation loss: 0.396638\n",
      "Epoch: 17 | Training loss: 0.147085 | Validation loss: 0.393823\n",
      "Epoch: 18 | Training loss: 0.141334 | Validation loss: 0.391199\n",
      "Epoch: 19 | Training loss: 0.136035 | Validation loss: 0.388921\n",
      "Epoch: 20 | Training loss: 0.131094 | Validation loss: 0.386755\n",
      "Epoch: 21 | Training loss: 0.126481 | Validation loss: 0.384936\n",
      "Epoch: 22 | Training loss: 0.122278 | Validation loss: 0.383092\n",
      "Epoch: 23 | Training loss: 0.118255 | Validation loss: 0.381333\n",
      "Epoch: 24 | Training loss: 0.114551 | Validation loss: 0.379856\n",
      "Epoch: 25 | Training loss: 0.111033 | Validation loss: 0.378499\n",
      "Epoch: 26 | Training loss: 0.107749 | Validation loss: 0.377244\n",
      "Epoch: 27 | Training loss: 0.104630 | Validation loss: 0.376014\n",
      "Epoch: 28 | Training loss: 0.101691 | Validation loss: 0.374996\n",
      "Epoch: 29 | Training loss: 0.098929 | Validation loss: 0.373933\n",
      "Epoch: 30 | Training loss: 0.096299 | Validation loss: 0.373016\n",
      "Epoch: 31 | Training loss: 0.093810 | Validation loss: 0.372111\n",
      "Epoch: 32 | Training loss: 0.091417 | Validation loss: 0.371244\n",
      "Epoch: 33 | Training loss: 0.089185 | Validation loss: 0.370474\n",
      "Epoch: 34 | Training loss: 0.087041 | Validation loss: 0.369778\n",
      "Epoch: 35 | Training loss: 0.084988 | Validation loss: 0.369084\n",
      "Epoch: 36 | Training loss: 0.083030 | Validation loss: 0.368488\n",
      "Epoch: 37 | Training loss: 0.081170 | Validation loss: 0.367882\n",
      "Epoch: 38 | Training loss: 0.079384 | Validation loss: 0.367383\n",
      "Epoch: 39 | Training loss: 0.077661 | Validation loss: 0.366862\n",
      "Epoch: 40 | Training loss: 0.076030 | Validation loss: 0.366469\n",
      "Epoch: 41 | Training loss: 0.074451 | Validation loss: 0.366021\n",
      "Epoch: 42 | Training loss: 0.072953 | Validation loss: 0.365623\n",
      "Epoch: 43 | Training loss: 0.071504 | Validation loss: 0.365277\n",
      "Epoch: 44 | Training loss: 0.070089 | Validation loss: 0.364970\n",
      "Epoch: 45 | Training loss: 0.068772 | Validation loss: 0.364645\n",
      "Epoch: 46 | Training loss: 0.067475 | Validation loss: 0.364322\n",
      "Epoch: 47 | Training loss: 0.066230 | Validation loss: 0.364076\n",
      "Epoch: 48 | Training loss: 0.065023 | Validation loss: 0.363830\n",
      "Epoch: 49 | Training loss: 0.063870 | Validation loss: 0.363564\n"
     ]
    }
   ],
   "source": [
    "w_tfidf, trl, devl = SGD(X_tr_tfidf, data_tr_label, \n",
    "                         X_dev=X_dev_tfidf, \n",
    "                         Y_dev=data_dev_label, \n",
    "                         lr=0.0001, \n",
    "                         alpha=0.00001, \n",
    "                         epochs=50)"
   ]
  },
  {
   "cell_type": "markdown",
   "metadata": {},
   "source": [
    "Now plot the training and validation history per epoch. Does your model underfit, overfit or is it about right? Explain why."
   ]
  },
  {
   "cell_type": "code",
   "execution_count": 59,
   "metadata": {
    "ExecuteTime": {
     "end_time": "2020-02-15T14:17:54.517668Z",
     "start_time": "2020-02-15T14:17:54.417118Z"
    }
   },
   "outputs": [
    {
     "data": {
      "image/png": "[encoded data removed]",
      "text/plain": [
       "<Figure size 432x288 with 1 Axes>"
      ]
     },
     "metadata": {
      "needs_background": "light"
     },
     "output_type": "display_data"
    }
   ],
   "source": [
    "x = np.linspace(0,len(trl),len(trl))\n",
    "\n",
    "plt.plot(x, trl,label='Training loss')\n",
    "plt.plot(x, devl, label='Validation loss')\n",
    "\n",
    "plt.title('Training Monitoring')\n",
    "plt.xlabel('Epochs')\n",
    "plt.ylabel('Loss')\n",
    "plt.legend() \n",
    "plt.show()"
   ]
  },
  {
   "cell_type": "markdown",
   "metadata": {},
   "source": [
    "The model have reached at the overfit situation,because the gap between the Training loss and Validation loss is very large."
   ]
  },
  {
   "cell_type": "markdown",
   "metadata": {},
   "source": [
    "Compute accuracy, precision, recall and F1-scores:"
   ]
  },
  {
   "cell_type": "code",
   "execution_count": 60,
   "metadata": {
    "ExecuteTime": {
     "end_time": "2020-02-15T14:37:56.489814Z",
     "start_time": "2020-02-15T14:37:56.487014Z"
    }
   },
   "outputs": [
    {
     "name": "stdout",
     "output_type": "stream",
     "text": [
      "Accuracy: 0.8675\n",
      "Precision: 0.8516746411483254\n",
      "Recall: 0.89\n",
      "F1-Score: 0.8704156479217604\n"
     ]
    }
   ],
   "source": [
    "# fill in your code...\n",
    "preds_te = predict_class(X_test_tfidf, w_tfidf)\n",
    "Y_te = data_test_label\n",
    "\n",
    "print('Accuracy:', accuracy_score(Y_te,preds_te))\n",
    "print('Precision:', precision_score(Y_te,preds_te))\n",
    "print('Recall:', recall_score(Y_te,preds_te))\n",
    "print('F1-Score:', f1_score(Y_te,preds_te))"
   ]
  },
  {
   "cell_type": "markdown",
   "metadata": {},
   "source": [
    "Print top-10 most positive and negative words:"
   ]
  },
  {
   "cell_type": "code",
   "execution_count": 61,
   "metadata": {
    "ExecuteTime": {
     "end_time": "2020-02-15T14:38:17.845485Z",
     "start_time": "2020-02-15T14:38:17.842557Z"
    }
   },
   "outputs": [
    {
     "name": "stdout",
     "output_type": "stream",
     "text": [
      "The top 10 positive words are ['great', 'hilarious', 'fun', 'overall', 'perfectly', 'terrific', 'definitely', 'life', 'memorable', 'simple'] respectively.\n",
      "The top 10 negative words are ['bad', 'worst', 'boring', 'supposed', 'unfortunately', 'waste', 'awful', 'poor', 'script', 'nothing'] respectively.\n"
     ]
    }
   ],
   "source": [
    "# fill in your code...\n",
    "# Obtain a new dictionary to store the weight\n",
    "dic_weight = dict()\n",
    "for i,weight in enumerate(w_tfidf):\n",
    "    dic_weight[vocab[i]] = weight\n",
    "    \n",
    "# Obtain the positive words\n",
    "dic_resultP = dict()\n",
    "dic_resultN = dict()\n",
    "\n",
    "for word,weight in dic_weight.items():\n",
    "    if weight >= 0:\n",
    "        dic_resultP[word] = weight\n",
    "    else:\n",
    "        dic_resultN[word] = weight\n",
    "\n",
    "dic_resultP = dict(sorted(dic_resultP.items(),key=lambda weight:weight[1], reverse=True)[:10])\n",
    "dic_resultN = dict(sorted(dic_resultN.items(),key=lambda weight:weight[1], reverse=False)[:10])\n",
    "\n",
    "print(\"The top 10 positive words are %s respectively.\"% list(dic_resultP.keys()))\n",
    "print(\"The top 10 negative words are %s respectively.\"% list(dic_resultN.keys()))\n"
   ]
  },
  {
   "cell_type": "markdown",
   "metadata": {},
   "source": [
    "### Discuss how did you choose model hyperparameters (e.g. learning rate and regularisation strength)? What is the relation between training epochs and learning rate? How the regularisation strength affects performance?"
   ]
  },
  {
   "cell_type": "markdown",
   "metadata": {},
   "source": [
    "Enter your answer here..."
   ]
  },
  {
   "cell_type": "markdown",
   "metadata": {},
   "source": [
    "\n",
    "\n",
    "## Full Results\n",
    "\n",
    "Add here your results:\n",
    "\n",
    "| LR | Precision  | Recall  | F1-Score  |\n",
    "|:-:|:-:|:-:|:-:|\n",
    "| BOW-count  |  0.825 | 0.85  |  0.83744 |\n",
    "| BOW-tfidf  |   0.85167 |  0.89 | 0.8704156  |\n"
   ]
  },
  {
   "cell_type": "markdown",
   "metadata": {},
   "source": [
    "# Multi-class Logistic Regression \n",
    "\n",
    "Now you need to train a Multiclass Logistic Regression (MLR) Classifier by extending the Binary model you developed above. You will use the MLR model to perform topic classification on the AG news dataset consisting of three classes:"
   ]
  },
  {
   "cell_type": "markdown",
   "metadata": {},
   "source": [
    "- Class 1: World\n",
    "- Class 2: Sports\n",
    "- Class 3: Business"
   ]
  },
  {
   "cell_type": "markdown",
   "metadata": {},
   "source": [
    "You need to follow the same process as in Task 1 for data processing and feature extraction by reusing the functions you wrote."
   ]
  },
  {
   "cell_type": "code",
   "execution_count": 9,
   "metadata": {
    "ExecuteTime": {
     "end_time": "2020-02-15T14:18:03.212229Z",
     "start_time": "2020-02-15T14:18:03.185261Z"
    }
   },
   "outputs": [],
   "source": [
    "# fill in your code...\n",
    "data_tr = pd.read_csv(\"./data_topic/train.csv\",header=None, names=['label','text'])\n",
    "data_dev = pd.read_csv(\"./data_topic/dev.csv\",header=None, names=['label','text'])\n",
    "data_test = pd.read_csv(\"./data_topic/test.csv\",header=None, names=['label','text'])"
   ]
  },
  {
   "cell_type": "code",
   "execution_count": 6,
   "metadata": {
    "ExecuteTime": {
     "end_time": "2020-02-15T14:18:03.515585Z",
     "start_time": "2020-02-15T14:18:03.508299Z"
    }
   },
   "outputs": [
    {
     "data": {
      "text/html": [
       "<div>\n",
       "<style scoped>\n",
       "    .dataframe tbody tr th:only-of-type {\n",
       "        vertical-align: middle;\n",
       "    }\n",
       "\n",
       "    .dataframe tbody tr th {\n",
       "        vertical-align: top;\n",
       "    }\n",
       "\n",
       "    .dataframe thead th {\n",
       "        text-align: right;\n",
       "    }\n",
       "</style>\n",
       "<table border=\"1\" class=\"dataframe\">\n",
       "  <thead>\n",
       "    <tr style=\"text-align: right;\">\n",
       "      <th></th>\n",
       "      <th>label</th>\n",
       "      <th>text</th>\n",
       "    </tr>\n",
       "  </thead>\n",
       "  <tbody>\n",
       "    <tr>\n",
       "      <th>0</th>\n",
       "      <td>1</td>\n",
       "      <td>Reuters - Venezuelans turned out early\\and in ...</td>\n",
       "    </tr>\n",
       "    <tr>\n",
       "      <th>1</th>\n",
       "      <td>1</td>\n",
       "      <td>Reuters - South Korean police used water canno...</td>\n",
       "    </tr>\n",
       "    <tr>\n",
       "      <th>2</th>\n",
       "      <td>1</td>\n",
       "      <td>Reuters - Thousands of Palestinian\\prisoners i...</td>\n",
       "    </tr>\n",
       "    <tr>\n",
       "      <th>3</th>\n",
       "      <td>1</td>\n",
       "      <td>AFP - Sporadic gunfire and shelling took place...</td>\n",
       "    </tr>\n",
       "    <tr>\n",
       "      <th>4</th>\n",
       "      <td>1</td>\n",
       "      <td>AP - Dozens of Rwandan soldiers flew into Suda...</td>\n",
       "    </tr>\n",
       "  </tbody>\n",
       "</table>\n",
       "</div>"
      ],
      "text/plain": [
       "   label                                               text\n",
       "0      1  Reuters - Venezuelans turned out early\\and in ...\n",
       "1      1  Reuters - South Korean police used water canno...\n",
       "2      1  Reuters - Thousands of Palestinian\\prisoners i...\n",
       "3      1  AFP - Sporadic gunfire and shelling took place...\n",
       "4      1  AP - Dozens of Rwandan soldiers flew into Suda..."
      ]
     },
     "execution_count": 6,
     "metadata": {},
     "output_type": "execute_result"
    }
   ],
   "source": [
    "data_tr.head()"
   ]
  },
  {
   "cell_type": "code",
   "execution_count": 16,
   "metadata": {
    "ExecuteTime": {
     "end_time": "2020-02-15T14:18:03.806523Z",
     "start_time": "2020-02-15T14:18:03.798279Z"
    }
   },
   "outputs": [],
   "source": [
    "# We can obtain the all the file into \n",
    "data_tr_list = [word.lower() for word in data_tr['text'].tolist()]\n",
    "data_tr_label = np.array(data_tr['label'])\n",
    "# development dataset\n",
    "data_dev_list = [word.lower() for word in data_dev['text'].tolist()]\n",
    "data_dev_label = np.array(data_dev['label'])\n",
    "# test dataset\n",
    "data_test_list = [word.lower() for word in data_test['text'].tolist()]\n",
    "data_test_label = np.array(data_test['label'])"
   ]
  },
  {
   "cell_type": "code",
   "execution_count": 21,
   "metadata": {},
   "outputs": [],
   "source": [
    "stop_words = ['a','in','on','at','and','or', \n",
    "              'to', 'the', 'of', 'an', 'by', \n",
    "              'as', 'is', 'was', 'were', 'been', 'be', \n",
    "              'are','for', 'this', 'that', 'these', 'those', 'you', 'i',\n",
    "             'it', 'he', 'she', 'we', 'they' 'will', 'have', 'has',\n",
    "              'do', 'did', 'can', 'could', 'who', 'which', 'what', \n",
    "             'his', 'her', 'they', 'them', 'from', 'with', 'its']"
   ]
  },
  {
   "cell_type": "code",
   "execution_count": 22,
   "metadata": {},
   "outputs": [],
   "source": [
    "tr_ngram = extract_ngrams(data_tr_list, ngram_range=(1,3), stop_words=stop_words)\n",
    "dev_ngram = extract_ngrams(data_dev_list, ngram_range=(1,3), stop_words=stop_words)\n",
    "test_ngram = extract_ngrams(data_test_list, ngram_range=(1,3), stop_words=stop_words)"
   ]
  },
  {
   "cell_type": "code",
   "execution_count": 23,
   "metadata": {
    "ExecuteTime": {
     "end_time": "2020-02-15T14:18:04.508938Z",
     "start_time": "2020-02-15T14:18:04.171071Z"
    }
   },
   "outputs": [
    {
     "name": "stdout",
     "output_type": "stream",
     "text": [
      "5000\n",
      "\n",
      "['reuters', 'said', 'tuesday', 'wednesday', 'new', 'after', 'ap', 'athens', 'monday', 'first', 'two', 'york', 'over', ('new', 'york'), 'us', 'olympic', 'but', 'their', 'will', 'inc', 'more', 'year', 'oil', 'prices', 'company', 'world', 'than', 'aug', 'about', 'had', 'united', 'one', 'out', 'sunday', 'into', 'against', 'up', 'second', 'last', 'president', 'stocks', 'gold', 'team', ('new', 'york', 'reuters'), ('york', 'reuters'), 'when', 'three', 'night', 'time', 'no', 'yesterday', 'games', 'olympics', 'not', 'states', 'greece', 'off', 'iraq', 'washington', 'percent', ('united', 'states'), ('oil', 'prices'), 'home', 'day', 'google', 'public', ('athens', 'reuters'), 'record', 'week', 'men', 'government', 'win', ('said', 'tuesday'), 'american', 'won', 'years', 'all', 'billion', 'shares', 'city', 'offering', 'officials', 'would', 'today', 'final', 'afp', 'gt', 'people', 'lt', 'medal', 'corp', 'sales', 'country', 'back', 'four', 'high', 'investor', 'com', 'minister', 'reported']\n",
      "\n",
      "[('reuters', 631), ('said', 432), ('tuesday', 413), ('wednesday', 344), ('new', 325), ('after', 295), ('ap', 275), ('athens', 245), ('monday', 221), ('first', 210)]\n"
     ]
    }
   ],
   "source": [
    "vocab, df, ngram_counts = get_vocab(data_tr_list, ngram_range=(1,3), keep_topN=5000, stop_words=stop_words)\n",
    "print(len(vocab))\n",
    "print()\n",
    "print(list(vocab)[:100])\n",
    "print()\n",
    "print(list(df.items())[:10])\n",
    "# print(df.most_common()[:10])"
   ]
  },
  {
   "cell_type": "code",
   "execution_count": 25,
   "metadata": {
    "ExecuteTime": {
     "end_time": "2020-02-15T14:18:04.706802Z",
     "start_time": "2020-02-15T14:18:04.511061Z"
    }
   },
   "outputs": [
    {
     "data": {
      "text/plain": [
       "array([[1., 0., 0., 0., 1., 0., 0., 0., 0., 0., 1., 0., 0., 0., 0., 0.,\n",
       "        0., 0., 1., 0., 0., 0., 0., 0., 0., 0., 0., 0., 0., 0., 0., 0.,\n",
       "        1., 1., 0., 0., 0., 0., 0., 1., 0., 0., 0., 0., 0., 0., 0., 0.,\n",
       "        0., 0.],\n",
       "       [1., 0., 0., 0., 0., 0., 0., 0., 0., 0., 0., 0., 0., 0., 0., 0.,\n",
       "        0., 0., 0., 0., 1., 0., 0., 0., 0., 0., 0., 0., 0., 0., 0., 0.,\n",
       "        0., 1., 0., 0., 0., 0., 0., 0., 0., 0., 0., 0., 0., 0., 0., 0.,\n",
       "        0., 0.]])"
      ]
     },
     "execution_count": 25,
     "metadata": {},
     "output_type": "execute_result"
    }
   ],
   "source": [
    "# Vectorise\n",
    "X_tr_count = vectorise(tr_ngram,vocab)\n",
    "X_dev_count = vectorise(dev_ngram,vocab)\n",
    "X_test_count = vectorise(test_ngram,vocab)\n",
    "\n",
    "#Show\n",
    "X_tr_count[:2,:50]"
   ]
  },
  {
   "cell_type": "markdown",
   "metadata": {},
   "source": [
    "Tf.idf Part"
   ]
  },
  {
   "cell_type": "code",
   "execution_count": 28,
   "metadata": {},
   "outputs": [],
   "source": [
    "X_tr_tfidf = tfidf_function(X_count=X_tr_count, ngram_list = tr_ngram, vocab = vocab)\n",
    "X_dev_tfidf = tfidf_function(X_count=X_dev_count, ngram_list = dev_ngram, vocab = vocab)\n",
    "X_test_tfidf = tfidf_function(X_count=X_test_count, ngram_list = test_ngram, vocab = vocab)"
   ]
  },
  {
   "cell_type": "markdown",
   "metadata": {},
   "source": [
    "Now you need to change `SGD` to support multiclass datasets. First you need to develop a `softmax` function. It takes as input:\n",
    "\n",
    "- `z`: array of real numbers \n",
    "\n",
    "and returns:\n",
    "\n",
    "- `smax`: the softmax of `z`"
   ]
  },
  {
   "cell_type": "code",
   "execution_count": 29,
   "metadata": {
    "ExecuteTime": {
     "end_time": "2020-02-15T14:18:07.440998Z",
     "start_time": "2020-02-15T14:18:07.437915Z"
    }
   },
   "outputs": [],
   "source": [
    "def softmax(z):\n",
    "\n",
    "    if len(z.shape) >1:\n",
    "        x_sum = np.sum(np.exp(z), axis = 1, keepdims = True)\n",
    "    else:\n",
    "        x_sum = np.sum(np.exp(z), axis = 0)\n",
    "\n",
    "    smax = np.exp(z) / x_sum    \n",
    "    return smax"
   ]
  },
  {
   "cell_type": "markdown",
   "metadata": {},
   "source": [
    "Then modify `predict_proba` and `predict_class` functions for the multiclass case:"
   ]
  },
  {
   "cell_type": "code",
   "execution_count": 31,
   "metadata": {
    "ExecuteTime": {
     "end_time": "2020-02-15T14:18:07.445451Z",
     "start_time": "2020-02-15T14:18:07.442851Z"
    }
   },
   "outputs": [],
   "source": [
    "def predict_proba(X, weights):\n",
    "    \n",
    "    P_value = np.dot(X,weights.T)\n",
    "    preds_proba = softmax(P_value)\n",
    "    \n",
    "    return preds_proba"
   ]
  },
  {
   "cell_type": "code",
   "execution_count": 36,
   "metadata": {
    "ExecuteTime": {
     "end_time": "2020-02-15T14:18:07.449814Z",
     "start_time": "2020-02-15T14:18:07.447145Z"
    }
   },
   "outputs": [],
   "source": [
    "def predict_class(X, weights):\n",
    "    \n",
    "    pro_value = predict_proba(X,weights)\n",
    "    if len(pro_value.shape)>1:\n",
    "        feature_list = list()\n",
    "        for value in pro_value:\n",
    "            value[value ==  max(value)] = 1\n",
    "            for i,row in enumerate(value):\n",
    "                if row == 1:\n",
    "                    feature_list.append(i+1)\n",
    "                    break;\n",
    "        feature_list = np.asarray(feature_list)\n",
    "        \n",
    "    else:\n",
    "        pro_value[pro_value==max(pro_value)] = 1\n",
    "        for i,value in enumerate(pro_value):\n",
    "            if value == 1:\n",
    "                feature_list = i+1\n",
    "                break;\n",
    "    \n",
    "    return feature_list"
   ]
  },
  {
   "cell_type": "markdown",
   "metadata": {},
   "source": [
    "Toy example and expected functionality of the functions above:"
   ]
  },
  {
   "cell_type": "code",
   "execution_count": 32,
   "metadata": {
    "ExecuteTime": {
     "end_time": "2020-02-15T14:18:08.059902Z",
     "start_time": "2020-02-15T14:18:08.056774Z"
    }
   },
   "outputs": [],
   "source": [
    "X = np.array([[0.1,0.2],[0.2,0.1],[0.1,-0.2]])\n",
    "w = np.array([[2,-5],[-5,2]])"
   ]
  },
  {
   "cell_type": "code",
   "execution_count": 34,
   "metadata": {
    "ExecuteTime": {
     "end_time": "2020-02-15T14:18:08.495464Z",
     "start_time": "2020-02-15T14:18:08.491074Z"
    }
   },
   "outputs": [
    {
     "data": {
      "text/plain": [
       "array([[0.33181223, 0.66818777],\n",
       "       [0.66818777, 0.33181223],\n",
       "       [0.89090318, 0.10909682]])"
      ]
     },
     "execution_count": 34,
     "metadata": {},
     "output_type": "execute_result"
    }
   ],
   "source": [
    "predict_proba(X, w)"
   ]
  },
  {
   "cell_type": "code",
   "execution_count": 37,
   "metadata": {
    "ExecuteTime": {
     "end_time": "2020-02-15T14:18:08.714215Z",
     "start_time": "2020-02-15T14:18:08.710098Z"
    }
   },
   "outputs": [
    {
     "data": {
      "text/plain": [
       "array([2, 1, 1])"
      ]
     },
     "execution_count": 37,
     "metadata": {},
     "output_type": "execute_result"
    }
   ],
   "source": [
    "predict_class(X, w)"
   ]
  },
  {
   "cell_type": "markdown",
   "metadata": {},
   "source": [
    "Now you need to compute the categorical cross entropy loss (extending the binary loss to support multiple classes)."
   ]
  },
  {
   "cell_type": "code",
   "execution_count": 54,
   "metadata": {
    "ExecuteTime": {
     "end_time": "2020-02-15T14:30:48.047338Z",
     "start_time": "2020-02-15T14:30:48.044395Z"
    }
   },
   "outputs": [],
   "source": [
    "def categorical_loss(X, Y, weights, num_classes=5, alpha=0.00001):\n",
    "    \n",
    "    y_proba = predict_proba(X,weights)\n",
    "    # Use the np.clip to restrict the value range\n",
    "    y_proba = np.clip(y_proba,alpha,1-alpha)\n",
    "    \n",
    "    if len(X.shape)>1:\n",
    "        loss_value = -np.log(y_proba[range(len(Y)),Y-1])\n",
    "        L2_reg_value = (1/len(X))*(alpha/2)*(np.sum(np.square(weights)))\n",
    "    else:\n",
    "        loss_value = -np.log(y_proba[Y-1])\n",
    "        L2_reg_value = (alpha/2)*(np.sum(np.square(weights)))\n",
    "    \n",
    "    l = loss_value + L2_reg_value\n",
    "    return l\n",
    "    "
   ]
  },
  {
   "cell_type": "code",
   "execution_count": 40,
   "metadata": {},
   "outputs": [],
   "source": [
    "def one_regularize(X,class_nums):\n",
    "    \n",
    "    return np.delete(np.eye(class_nums+1)[X],0,axis=1)"
   ]
  },
  {
   "cell_type": "markdown",
   "metadata": {
    "ExecuteTime": {
     "end_time": "2020-02-15T14:08:59.937442Z",
     "start_time": "2020-02-15T14:08:59.932221Z"
    }
   },
   "source": [
    "Finally you need to modify SGD to support the categorical cross entropy loss:"
   ]
  },
  {
   "cell_type": "code",
   "execution_count": 66,
   "metadata": {
    "ExecuteTime": {
     "end_time": "2020-02-15T14:18:10.176885Z",
     "start_time": "2020-02-15T14:18:10.165021Z"
    }
   },
   "outputs": [],
   "source": [
    "def SGD(X_tr, Y_tr, vocab, X_dev=[], Y_dev=[], num_classes=5, lr=0.01, alpha=0.00001, epochs=5, tolerance=0.001, print_progress=True):\n",
    "        \n",
    "    cur_loss_dev = 2.\n",
    "    training_loss_history = []\n",
    "    validation_loss_history = []\n",
    "\n",
    "    # Obtain the weights\n",
    "    weights = np.zeros((3, len(vocab)))\n",
    "    Y_tr_onehot = one_regularize(Y_tr,num_classes)\n",
    "    \n",
    "    for i in range(epochs):\n",
    "        loss_list = list()\n",
    "        seed_number = random.randint(50,100)\n",
    "        np.random.seed(seed_number)\n",
    "        # Shuffle the X_tr and Y_tr  \n",
    "        per_X_tr = np.random.permutation(X_tr)\n",
    "        np.random.seed(seed_number)\n",
    "        per_Y_tr = np.random.permutation(Y_tr)\n",
    "        np.random.seed(seed_number)\n",
    "        per_Y_tr_onehot = np.random.permutation(Y_tr_onehot)\n",
    "\n",
    "        for j,row in enumerate(per_X_tr):\n",
    "            # Caculate the categorical_loss and store the loss into loss_list\n",
    "            loss_tr = categorical_loss(row, per_Y_tr[j], weights, alpha)\n",
    "            loss_list.append(loss_tr)\n",
    "            y_pred = predict_proba(row,weights) \n",
    "            error = y_pred - per_Y_tr_onehot[j]\n",
    "            # update weights\n",
    "            weights_list = [weights[i]-lr*row*error[i] for i in range(num_classes)]\n",
    "            weights = np.asarray(weights_list)\n",
    "        \n",
    "        # Obtain the mean\n",
    "        tr_loss_mean = np.mean(loss_list)\n",
    "        training_loss_history.append(tr_loss_mean)\n",
    "        \n",
    "        dev_loss = categorical_loss(X_dev, Y_dev, weights, alpha)\n",
    "        dev_loss = sum(dev_loss)/len(dev_loss)\n",
    "        validation_loss_history.append(dev_loss)\n",
    "        print('Epoch: %d' % i, '| Training loss: %f' %tr_loss_mean, '| Validation loss: %f' %dev_loss)\n",
    "        \n",
    "        if (cur_loss_dev-dev_loss)<tolerance:\n",
    "            break       \n",
    "        cur_loss_dev = dev_loss\n",
    "\n",
    "\n",
    "    return weights, training_loss_history, validation_loss_history"
   ]
  },
  {
   "cell_type": "markdown",
   "metadata": {
    "ExecuteTime": {
     "end_time": "2020-02-15T14:10:15.772383Z",
     "start_time": "2020-02-15T14:10:15.767855Z"
    }
   },
   "source": [
    "Now you are ready to train and evaluate you MLR following the same steps as in Task 1 for both Count and tfidf features:"
   ]
  },
  {
   "cell_type": "code",
   "execution_count": 67,
   "metadata": {
    "ExecuteTime": {
     "end_time": "2020-02-15T14:18:55.324956Z",
     "start_time": "2020-02-15T14:18:11.720952Z"
    }
   },
   "outputs": [
    {
     "name": "stdout",
     "output_type": "stream",
     "text": [
      "Epoch: 0 | Training loss: 1.084252 | Validation loss: 1.083295\n",
      "Epoch: 1 | Training loss: 1.056071 | Validation loss: 1.069055\n",
      "Epoch: 2 | Training loss: 1.030947 | Validation loss: 1.055699\n",
      "Epoch: 3 | Training loss: 1.008273 | Validation loss: 1.043106\n",
      "Epoch: 4 | Training loss: 0.987559 | Validation loss: 1.031141\n",
      "Epoch: 5 | Training loss: 0.968416 | Validation loss: 1.019715\n",
      "Epoch: 6 | Training loss: 0.950584 | Validation loss: 1.008773\n",
      "Epoch: 7 | Training loss: 0.933881 | Validation loss: 0.998256\n",
      "Epoch: 8 | Training loss: 0.918161 | Validation loss: 0.988135\n",
      "Epoch: 9 | Training loss: 0.903311 | Validation loss: 0.978373\n",
      "Epoch: 10 | Training loss: 0.889244 | Validation loss: 0.968945\n",
      "Epoch: 11 | Training loss: 0.875883 | Validation loss: 0.959830\n",
      "Epoch: 12 | Training loss: 0.863165 | Validation loss: 0.951007\n",
      "Epoch: 13 | Training loss: 0.851040 | Validation loss: 0.942462\n",
      "Epoch: 14 | Training loss: 0.839457 | Validation loss: 0.934177\n",
      "Epoch: 15 | Training loss: 0.828376 | Validation loss: 0.926142\n",
      "Epoch: 16 | Training loss: 0.817762 | Validation loss: 0.918343\n",
      "Epoch: 17 | Training loss: 0.807582 | Validation loss: 0.910772\n",
      "Epoch: 18 | Training loss: 0.797810 | Validation loss: 0.903413\n",
      "Epoch: 19 | Training loss: 0.788414 | Validation loss: 0.896260\n",
      "Epoch: 20 | Training loss: 0.779372 | Validation loss: 0.889303\n",
      "Epoch: 21 | Training loss: 0.770662 | Validation loss: 0.882534\n",
      "Epoch: 22 | Training loss: 0.762265 | Validation loss: 0.875944\n",
      "Epoch: 23 | Training loss: 0.754164 | Validation loss: 0.869528\n",
      "Epoch: 24 | Training loss: 0.746339 | Validation loss: 0.863277\n",
      "Epoch: 25 | Training loss: 0.738776 | Validation loss: 0.857186\n",
      "Epoch: 26 | Training loss: 0.731461 | Validation loss: 0.851249\n",
      "Epoch: 27 | Training loss: 0.724380 | Validation loss: 0.845458\n",
      "Epoch: 28 | Training loss: 0.717522 | Validation loss: 0.839807\n",
      "Epoch: 29 | Training loss: 0.710873 | Validation loss: 0.834293\n",
      "Epoch: 30 | Training loss: 0.704423 | Validation loss: 0.828909\n",
      "Epoch: 31 | Training loss: 0.698164 | Validation loss: 0.823651\n",
      "Epoch: 32 | Training loss: 0.692084 | Validation loss: 0.818515\n",
      "Epoch: 33 | Training loss: 0.686176 | Validation loss: 0.813497\n",
      "Epoch: 34 | Training loss: 0.680434 | Validation loss: 0.808590\n",
      "Epoch: 35 | Training loss: 0.674847 | Validation loss: 0.803794\n",
      "Epoch: 36 | Training loss: 0.669409 | Validation loss: 0.799102\n",
      "Epoch: 37 | Training loss: 0.664114 | Validation loss: 0.794511\n",
      "Epoch: 38 | Training loss: 0.658955 | Validation loss: 0.790020\n",
      "Epoch: 39 | Training loss: 0.653926 | Validation loss: 0.785621\n",
      "Epoch: 40 | Training loss: 0.649021 | Validation loss: 0.781316\n",
      "Epoch: 41 | Training loss: 0.644237 | Validation loss: 0.777099\n",
      "Epoch: 42 | Training loss: 0.639567 | Validation loss: 0.772968\n",
      "Epoch: 43 | Training loss: 0.635007 | Validation loss: 0.768918\n",
      "Epoch: 44 | Training loss: 0.630552 | Validation loss: 0.764951\n",
      "Epoch: 45 | Training loss: 0.626199 | Validation loss: 0.761061\n",
      "Epoch: 46 | Training loss: 0.621944 | Validation loss: 0.757247\n",
      "Epoch: 47 | Training loss: 0.617783 | Validation loss: 0.753506\n",
      "Epoch: 48 | Training loss: 0.613712 | Validation loss: 0.749835\n",
      "Epoch: 49 | Training loss: 0.609729 | Validation loss: 0.746234\n",
      "Epoch: 50 | Training loss: 0.605829 | Validation loss: 0.742700\n",
      "Epoch: 51 | Training loss: 0.602010 | Validation loss: 0.739230\n",
      "Epoch: 52 | Training loss: 0.598270 | Validation loss: 0.735824\n",
      "Epoch: 53 | Training loss: 0.594604 | Validation loss: 0.732478\n",
      "Epoch: 54 | Training loss: 0.591012 | Validation loss: 0.729191\n",
      "Epoch: 55 | Training loss: 0.587489 | Validation loss: 0.725961\n",
      "Epoch: 56 | Training loss: 0.584034 | Validation loss: 0.722788\n",
      "Epoch: 57 | Training loss: 0.580645 | Validation loss: 0.719669\n",
      "Epoch: 58 | Training loss: 0.577319 | Validation loss: 0.716603\n",
      "Epoch: 59 | Training loss: 0.574055 | Validation loss: 0.713588\n",
      "Epoch: 60 | Training loss: 0.570850 | Validation loss: 0.710625\n",
      "Epoch: 61 | Training loss: 0.567703 | Validation loss: 0.707709\n",
      "Epoch: 62 | Training loss: 0.564612 | Validation loss: 0.704842\n",
      "Epoch: 63 | Training loss: 0.561576 | Validation loss: 0.702020\n",
      "Epoch: 64 | Training loss: 0.558591 | Validation loss: 0.699244\n",
      "Epoch: 65 | Training loss: 0.555657 | Validation loss: 0.696510\n",
      "Epoch: 66 | Training loss: 0.552774 | Validation loss: 0.693820\n",
      "Epoch: 67 | Training loss: 0.549938 | Validation loss: 0.691171\n",
      "Epoch: 68 | Training loss: 0.547148 | Validation loss: 0.688564\n",
      "Epoch: 69 | Training loss: 0.544404 | Validation loss: 0.685995\n",
      "Epoch: 70 | Training loss: 0.541704 | Validation loss: 0.683466\n",
      "Epoch: 71 | Training loss: 0.539047 | Validation loss: 0.680974\n",
      "Epoch: 72 | Training loss: 0.536431 | Validation loss: 0.678518\n",
      "Epoch: 73 | Training loss: 0.533856 | Validation loss: 0.676099\n",
      "Epoch: 74 | Training loss: 0.531321 | Validation loss: 0.673715\n",
      "Epoch: 75 | Training loss: 0.528823 | Validation loss: 0.671365\n",
      "Epoch: 76 | Training loss: 0.526363 | Validation loss: 0.669048\n",
      "Epoch: 77 | Training loss: 0.523940 | Validation loss: 0.666764\n",
      "Epoch: 78 | Training loss: 0.521552 | Validation loss: 0.664512\n",
      "Epoch: 79 | Training loss: 0.519198 | Validation loss: 0.662291\n",
      "Epoch: 80 | Training loss: 0.516878 | Validation loss: 0.660100\n",
      "Epoch: 81 | Training loss: 0.514591 | Validation loss: 0.657939\n",
      "Epoch: 82 | Training loss: 0.512336 | Validation loss: 0.655809\n",
      "Epoch: 83 | Training loss: 0.510112 | Validation loss: 0.653705\n",
      "Epoch: 84 | Training loss: 0.507919 | Validation loss: 0.651630\n",
      "Epoch: 85 | Training loss: 0.505755 | Validation loss: 0.649582\n",
      "Epoch: 86 | Training loss: 0.503620 | Validation loss: 0.647561\n",
      "Epoch: 87 | Training loss: 0.501514 | Validation loss: 0.645567\n",
      "Epoch: 88 | Training loss: 0.499436 | Validation loss: 0.643597\n",
      "Epoch: 89 | Training loss: 0.497385 | Validation loss: 0.641652\n",
      "Epoch: 90 | Training loss: 0.495360 | Validation loss: 0.639733\n",
      "Epoch: 91 | Training loss: 0.493361 | Validation loss: 0.637837\n",
      "Epoch: 92 | Training loss: 0.491387 | Validation loss: 0.635965\n",
      "Epoch: 93 | Training loss: 0.489438 | Validation loss: 0.634116\n",
      "Epoch: 94 | Training loss: 0.487513 | Validation loss: 0.632289\n",
      "Epoch: 95 | Training loss: 0.485612 | Validation loss: 0.630485\n",
      "Epoch: 96 | Training loss: 0.483734 | Validation loss: 0.628702\n",
      "Epoch: 97 | Training loss: 0.481879 | Validation loss: 0.626941\n",
      "Epoch: 98 | Training loss: 0.480046 | Validation loss: 0.625201\n",
      "Epoch: 99 | Training loss: 0.478234 | Validation loss: 0.623481\n",
      "Epoch: 100 | Training loss: 0.476444 | Validation loss: 0.621781\n",
      "Epoch: 101 | Training loss: 0.474675 | Validation loss: 0.620101\n",
      "Epoch: 102 | Training loss: 0.472926 | Validation loss: 0.618440\n",
      "Epoch: 103 | Training loss: 0.471197 | Validation loss: 0.616798\n",
      "Epoch: 104 | Training loss: 0.469488 | Validation loss: 0.615175\n",
      "Epoch: 105 | Training loss: 0.467798 | Validation loss: 0.613570\n",
      "Epoch: 106 | Training loss: 0.466127 | Validation loss: 0.611983\n",
      "Epoch: 107 | Training loss: 0.464474 | Validation loss: 0.610412\n",
      "Epoch: 108 | Training loss: 0.462839 | Validation loss: 0.608859\n",
      "Epoch: 109 | Training loss: 0.461222 | Validation loss: 0.607324\n",
      "Epoch: 110 | Training loss: 0.459623 | Validation loss: 0.605806\n",
      "Epoch: 111 | Training loss: 0.458040 | Validation loss: 0.604303\n",
      "Epoch: 112 | Training loss: 0.456475 | Validation loss: 0.602817\n",
      "Epoch: 113 | Training loss: 0.454926 | Validation loss: 0.601347\n",
      "Epoch: 114 | Training loss: 0.453392 | Validation loss: 0.599892\n",
      "Epoch: 115 | Training loss: 0.451875 | Validation loss: 0.598452\n",
      "Epoch: 116 | Training loss: 0.450374 | Validation loss: 0.597028\n",
      "Epoch: 117 | Training loss: 0.448887 | Validation loss: 0.595618\n",
      "Epoch: 118 | Training loss: 0.447416 | Validation loss: 0.594223\n",
      "Epoch: 119 | Training loss: 0.445960 | Validation loss: 0.592842\n",
      "Epoch: 120 | Training loss: 0.444518 | Validation loss: 0.591475\n",
      "Epoch: 121 | Training loss: 0.443090 | Validation loss: 0.590122\n",
      "Epoch: 122 | Training loss: 0.441676 | Validation loss: 0.588782\n",
      "Epoch: 123 | Training loss: 0.440276 | Validation loss: 0.587455\n",
      "Epoch: 124 | Training loss: 0.438890 | Validation loss: 0.586143\n",
      "Epoch: 125 | Training loss: 0.437517 | Validation loss: 0.584842\n",
      "Epoch: 126 | Training loss: 0.436157 | Validation loss: 0.583554\n",
      "Epoch: 127 | Training loss: 0.434809 | Validation loss: 0.582279\n"
     ]
    },
    {
     "name": "stdout",
     "output_type": "stream",
     "text": [
      "Epoch: 128 | Training loss: 0.433475 | Validation loss: 0.581016\n",
      "Epoch: 129 | Training loss: 0.432152 | Validation loss: 0.579765\n",
      "Epoch: 130 | Training loss: 0.430842 | Validation loss: 0.578526\n",
      "Epoch: 131 | Training loss: 0.429545 | Validation loss: 0.577298\n",
      "Epoch: 132 | Training loss: 0.428258 | Validation loss: 0.576082\n",
      "Epoch: 133 | Training loss: 0.426984 | Validation loss: 0.574878\n",
      "Epoch: 134 | Training loss: 0.425721 | Validation loss: 0.573685\n",
      "Epoch: 135 | Training loss: 0.424469 | Validation loss: 0.572503\n",
      "Epoch: 136 | Training loss: 0.423229 | Validation loss: 0.571332\n",
      "Epoch: 137 | Training loss: 0.421999 | Validation loss: 0.570171\n",
      "Epoch: 138 | Training loss: 0.420780 | Validation loss: 0.569021\n",
      "Epoch: 139 | Training loss: 0.419572 | Validation loss: 0.567881\n",
      "Epoch: 140 | Training loss: 0.418374 | Validation loss: 0.566752\n",
      "Epoch: 141 | Training loss: 0.417187 | Validation loss: 0.565632\n",
      "Epoch: 142 | Training loss: 0.416009 | Validation loss: 0.564523\n",
      "Epoch: 143 | Training loss: 0.414842 | Validation loss: 0.563423\n",
      "Epoch: 144 | Training loss: 0.413684 | Validation loss: 0.562334\n",
      "Epoch: 145 | Training loss: 0.412537 | Validation loss: 0.561253\n",
      "Epoch: 146 | Training loss: 0.411398 | Validation loss: 0.560182\n",
      "Epoch: 147 | Training loss: 0.410269 | Validation loss: 0.559121\n",
      "Epoch: 148 | Training loss: 0.409150 | Validation loss: 0.558068\n",
      "Epoch: 149 | Training loss: 0.408039 | Validation loss: 0.557025\n",
      "Epoch: 150 | Training loss: 0.406937 | Validation loss: 0.555990\n",
      "Epoch: 151 | Training loss: 0.405845 | Validation loss: 0.554964\n",
      "Epoch: 152 | Training loss: 0.404761 | Validation loss: 0.553946\n",
      "Epoch: 153 | Training loss: 0.403686 | Validation loss: 0.552937\n",
      "Epoch: 154 | Training loss: 0.402619 | Validation loss: 0.551936\n",
      "Epoch: 155 | Training loss: 0.401561 | Validation loss: 0.550944\n"
     ]
    }
   ],
   "source": [
    "w_count, loss_tr_count, dev_loss_count = SGD(X_tr_count, data_tr_label,vocab,\n",
    "                                             X_dev=X_dev_count, \n",
    "                                             Y_dev=data_dev_label,\n",
    "                                             num_classes=3,\n",
    "                                             lr=0.0001, \n",
    "                                             alpha=0.001, \n",
    "                                             epochs=200)"
   ]
  },
  {
   "cell_type": "markdown",
   "metadata": {},
   "source": [
    "Plot training and validation process and explain if your model overfit, underfit or is about right:"
   ]
  },
  {
   "cell_type": "code",
   "execution_count": 68,
   "metadata": {},
   "outputs": [
    {
     "data": {
      "image/png": "[encoded data removed]",
      "text/plain": [
       "<Figure size 432x288 with 1 Axes>"
      ]
     },
     "metadata": {
      "needs_background": "light"
     },
     "output_type": "display_data"
    }
   ],
   "source": [
    "x = np.linspace(0,len(loss_tr_count),len(loss_tr_count))\n",
    "y1, y2 = loss_tr_count, dev_loss_count\n",
    " \n",
    "plt.plot(x, y1,label='Training loss')\n",
    "plt.plot(x, y2, label='Validation loss')\n",
    " \n",
    "plt.title('Training Monitoring')\n",
    "plt.xlabel('Epochs')\n",
    "plt.ylabel('Loss')\n",
    "plt.legend() \n",
    "plt.show()"
   ]
  },
  {
   "cell_type": "markdown",
   "metadata": {},
   "source": [
    "The model is overfit"
   ]
  },
  {
   "cell_type": "markdown",
   "metadata": {},
   "source": [
    "Compute accuracy, precision, recall and F1-scores:"
   ]
  },
  {
   "cell_type": "code",
   "execution_count": 72,
   "metadata": {
    "ExecuteTime": {
     "end_time": "2020-02-15T14:32:12.606498Z",
     "start_time": "2020-02-15T14:32:12.604164Z"
    }
   },
   "outputs": [
    {
     "name": "stdout",
     "output_type": "stream",
     "text": [
      "Accuracy: 0.8533333333333334\n",
      "Precision: 0.8233333333333334\n",
      "Recall: 0.8233333333333334\n",
      "F1-Score: 0.8233333333333334\n"
     ]
    }
   ],
   "source": [
    "# fill in your code...\n",
    "preds_te_count = predict_class(X = X_test_count, weights = w_count)\n",
    "Y_te = data_test_label\n",
    "\n",
    "print('Accuracy:', accuracy_score(Y_te,preds_te_count))\n",
    "print('Precision:', precision_score(Y_te,preds_te_count))\n",
    "print('Recall:', recall_score(Y_te,preds_te_count))\n",
    "print('F1-Score:', f1_score(Y_te,preds_te_count))"
   ]
  },
  {
   "cell_type": "markdown",
   "metadata": {},
   "source": [
    "Print the top-10 words for each class respectively."
   ]
  },
  {
   "cell_type": "code",
   "execution_count": 74,
   "metadata": {
    "ExecuteTime": {
     "end_time": "2020-02-15T14:32:26.224693Z",
     "start_time": "2020-02-15T14:32:26.221886Z"
    }
   },
   "outputs": [
    {
     "name": "stdout",
     "output_type": "stream",
     "text": [
      "The top 10 words for class 1 are ['afp', 'said', 'president', 'minister', 'najaf', 'people', 'monday', 'iraq', 'troops', 'al'] respectively.\n",
      "The top 10 words for class 2 are ['athens', 'olympic', 'ap', 'team', ('athens', 'reuters'), 'win', 'games', 'olympics', 'game', 'when'] respectively.\n",
      "The top 10 words for class 3 are ['company', 'inc', 'oil', 'corp', 'billion', 'prices', 'business', 'sales', 'million', 'market'] respectively.\n"
     ]
    }
   ],
   "source": [
    "for i in range(len(w_count)):\n",
    "    \n",
    "    dict_store = {vocab[sid]:weight for sid,weight in enumerate(w_count[i])}\n",
    "    # Order By\n",
    "    dict_store = dict(sorted(dict_store.items(), key=lambda col:col[1],reverse=True)[:10])\n",
    "\n",
    "    print(\"The top 10 words for class %d are %s respectively.\"%(i+1,list(dict_store.keys())))"
   ]
  },
  {
   "cell_type": "markdown",
   "metadata": {},
   "source": [
    "### Discuss how did you choose model hyperparameters (e.g. learning rate and regularisation strength)? What is the relation between training epochs and learning rate? How the regularisation strength affects performance?"
   ]
  },
  {
   "cell_type": "markdown",
   "metadata": {
    "ExecuteTime": {
     "end_time": "2020-02-15T14:16:19.856538Z",
     "start_time": "2020-02-15T14:16:19.852547Z"
    }
   },
   "source": [
    "Explain here..."
   ]
  },
  {
   "cell_type": "markdown",
   "metadata": {},
   "source": [
    "### Now evaluate BOW-tfidf..."
   ]
  },
  {
   "cell_type": "code",
   "execution_count": 75,
   "metadata": {},
   "outputs": [
    {
     "name": "stdout",
     "output_type": "stream",
     "text": [
      "Epoch: 0 | Training loss: 0.960496 | Validation loss: 0.957617\n",
      "Epoch: 1 | Training loss: 0.764036 | Validation loss: 0.867961\n",
      "Epoch: 2 | Training loss: 0.650805 | Validation loss: 0.803989\n",
      "Epoch: 3 | Training loss: 0.575153 | Validation loss: 0.755299\n",
      "Epoch: 4 | Training loss: 0.520316 | Validation loss: 0.716849\n",
      "Epoch: 5 | Training loss: 0.478292 | Validation loss: 0.685505\n",
      "Epoch: 6 | Training loss: 0.444701 | Validation loss: 0.659300\n",
      "Epoch: 7 | Training loss: 0.417020 | Validation loss: 0.636979\n",
      "Epoch: 8 | Training loss: 0.393679 | Validation loss: 0.617671\n",
      "Epoch: 9 | Training loss: 0.373616 | Validation loss: 0.600717\n",
      "Epoch: 10 | Training loss: 0.356135 | Validation loss: 0.585647\n",
      "Epoch: 11 | Training loss: 0.340735 | Validation loss: 0.572236\n",
      "Epoch: 12 | Training loss: 0.326970 | Validation loss: 0.560185\n",
      "Epoch: 13 | Training loss: 0.314613 | Validation loss: 0.549178\n",
      "Epoch: 14 | Training loss: 0.303408 | Validation loss: 0.539129\n",
      "Epoch: 15 | Training loss: 0.293189 | Validation loss: 0.529922\n",
      "Epoch: 16 | Training loss: 0.283807 | Validation loss: 0.521423\n",
      "Epoch: 17 | Training loss: 0.275165 | Validation loss: 0.513599\n",
      "Epoch: 18 | Training loss: 0.267140 | Validation loss: 0.506316\n",
      "Epoch: 19 | Training loss: 0.259694 | Validation loss: 0.499433\n",
      "Epoch: 20 | Training loss: 0.252741 | Validation loss: 0.493003\n",
      "Epoch: 21 | Training loss: 0.246239 | Validation loss: 0.486981\n",
      "Epoch: 22 | Training loss: 0.240149 | Validation loss: 0.481388\n",
      "Epoch: 23 | Training loss: 0.234383 | Validation loss: 0.476109\n",
      "Epoch: 24 | Training loss: 0.228965 | Validation loss: 0.471093\n",
      "Epoch: 25 | Training loss: 0.223840 | Validation loss: 0.466299\n",
      "Epoch: 26 | Training loss: 0.218980 | Validation loss: 0.461786\n",
      "Epoch: 27 | Training loss: 0.214365 | Validation loss: 0.457482\n",
      "Epoch: 28 | Training loss: 0.209971 | Validation loss: 0.453387\n",
      "Epoch: 29 | Training loss: 0.205796 | Validation loss: 0.449479\n",
      "Epoch: 30 | Training loss: 0.201805 | Validation loss: 0.445753\n",
      "Epoch: 31 | Training loss: 0.197985 | Validation loss: 0.442167\n",
      "Epoch: 32 | Training loss: 0.194343 | Validation loss: 0.438764\n",
      "Epoch: 33 | Training loss: 0.190849 | Validation loss: 0.435500\n",
      "Epoch: 34 | Training loss: 0.187496 | Validation loss: 0.432370\n",
      "Epoch: 35 | Training loss: 0.184268 | Validation loss: 0.429336\n",
      "Epoch: 36 | Training loss: 0.181180 | Validation loss: 0.426397\n",
      "Epoch: 37 | Training loss: 0.178210 | Validation loss: 0.423585\n",
      "Epoch: 38 | Training loss: 0.175342 | Validation loss: 0.420902\n",
      "Epoch: 39 | Training loss: 0.172580 | Validation loss: 0.418304\n",
      "Epoch: 40 | Training loss: 0.169911 | Validation loss: 0.415795\n",
      "Epoch: 41 | Training loss: 0.167340 | Validation loss: 0.413380\n",
      "Epoch: 42 | Training loss: 0.164854 | Validation loss: 0.411043\n",
      "Epoch: 43 | Training loss: 0.162447 | Validation loss: 0.408763\n",
      "Epoch: 44 | Training loss: 0.160121 | Validation loss: 0.406559\n",
      "Epoch: 45 | Training loss: 0.157866 | Validation loss: 0.404404\n",
      "Epoch: 46 | Training loss: 0.155679 | Validation loss: 0.402361\n",
      "Epoch: 47 | Training loss: 0.153569 | Validation loss: 0.400349\n",
      "Epoch: 48 | Training loss: 0.151513 | Validation loss: 0.398405\n",
      "Epoch: 49 | Training loss: 0.149514 | Validation loss: 0.396522\n",
      "Epoch: 50 | Training loss: 0.147582 | Validation loss: 0.394672\n",
      "Epoch: 51 | Training loss: 0.145705 | Validation loss: 0.392899\n",
      "Epoch: 52 | Training loss: 0.143871 | Validation loss: 0.391181\n",
      "Epoch: 53 | Training loss: 0.142086 | Validation loss: 0.389519\n",
      "Epoch: 54 | Training loss: 0.140358 | Validation loss: 0.387852\n",
      "Epoch: 55 | Training loss: 0.138670 | Validation loss: 0.386280\n",
      "Epoch: 56 | Training loss: 0.137037 | Validation loss: 0.384726\n",
      "Epoch: 57 | Training loss: 0.135429 | Validation loss: 0.383192\n",
      "Epoch: 58 | Training loss: 0.133876 | Validation loss: 0.381723\n",
      "Epoch: 59 | Training loss: 0.132355 | Validation loss: 0.380290\n",
      "Epoch: 60 | Training loss: 0.130867 | Validation loss: 0.378913\n",
      "Epoch: 61 | Training loss: 0.129423 | Validation loss: 0.377549\n",
      "Epoch: 62 | Training loss: 0.128010 | Validation loss: 0.376207\n",
      "Epoch: 63 | Training loss: 0.126632 | Validation loss: 0.374920\n",
      "Epoch: 64 | Training loss: 0.125281 | Validation loss: 0.373644\n",
      "Epoch: 65 | Training loss: 0.123965 | Validation loss: 0.372404\n",
      "Epoch: 66 | Training loss: 0.122676 | Validation loss: 0.371181\n",
      "Epoch: 67 | Training loss: 0.121416 | Validation loss: 0.370003\n",
      "Epoch: 68 | Training loss: 0.120182 | Validation loss: 0.368850\n",
      "Epoch: 69 | Training loss: 0.118980 | Validation loss: 0.367710\n",
      "Epoch: 70 | Training loss: 0.117795 | Validation loss: 0.366580\n",
      "Epoch: 71 | Training loss: 0.116647 | Validation loss: 0.365487\n",
      "Epoch: 72 | Training loss: 0.115517 | Validation loss: 0.364416\n",
      "Epoch: 73 | Training loss: 0.114406 | Validation loss: 0.363372\n",
      "Epoch: 74 | Training loss: 0.113319 | Validation loss: 0.362364\n",
      "Epoch: 75 | Training loss: 0.112258 | Validation loss: 0.361354\n",
      "Epoch: 76 | Training loss: 0.111214 | Validation loss: 0.360367\n"
     ]
    }
   ],
   "source": [
    "w_count, loss_tr_count, dev_loss_count = SGD(X_tr_tfidf, data_tr_label,vocab,\n",
    "                                             X_dev=X_dev_tfidf, \n",
    "                                             Y_dev=data_dev_label,\n",
    "                                             num_classes=3,\n",
    "                                             lr=0.0001, \n",
    "                                             alpha=0.001, \n",
    "                                             epochs=200)"
   ]
  },
  {
   "cell_type": "code",
   "execution_count": 76,
   "metadata": {},
   "outputs": [
    {
     "data": {
      "image/png": "[encoded data removed]",
      "text/plain": [
       "<Figure size 432x288 with 1 Axes>"
      ]
     },
     "metadata": {
      "needs_background": "light"
     },
     "output_type": "display_data"
    }
   ],
   "source": [
    "x = np.linspace(0,len(loss_tr_count),len(loss_tr_count))\n",
    "y1, y2 = loss_tr_count, dev_loss_count\n",
    " \n",
    "plt.plot(x, y1,label='Training loss')\n",
    "plt.plot(x, y2, label='Validation loss')\n",
    " \n",
    "plt.title('Training Monitoring')\n",
    "plt.xlabel('Epochs')\n",
    "plt.ylabel('Loss')\n",
    "plt.legend() \n",
    "plt.show()"
   ]
  },
  {
   "cell_type": "markdown",
   "metadata": {},
   "source": [
    "The model is overfit"
   ]
  },
  {
   "cell_type": "code",
   "execution_count": 77,
   "metadata": {},
   "outputs": [
    {
     "name": "stdout",
     "output_type": "stream",
     "text": [
      "Accuracy: 0.8755555555555555\n",
      "Precision: 0.8417508417508418\n",
      "Recall: 0.8333333333333334\n",
      "F1-Score: 0.8375209380234506\n"
     ]
    }
   ],
   "source": [
    "preds_te_count = predict_class(X = X_test_count, weights = w_count)\n",
    "Y_te = data_test_label\n",
    "\n",
    "print('Accuracy:', accuracy_score(Y_te,preds_te_count))\n",
    "print('Precision:', precision_score(Y_te,preds_te_count))\n",
    "print('Recall:', recall_score(Y_te,preds_te_count))\n",
    "print('F1-Score:', f1_score(Y_te,preds_te_count))"
   ]
  },
  {
   "cell_type": "markdown",
   "metadata": {
    "ExecuteTime": {
     "end_time": "2020-02-15T14:16:42.567569Z",
     "start_time": "2020-02-15T14:16:42.562560Z"
    }
   },
   "source": [
    "## Full Results\n",
    "\n",
    "Add here your results:\n",
    "\n",
    "| LR | Precision  | Recall  | F1-Score  |\n",
    "|:-:|:-:|:-:|:-:|\n",
    "| BOW-count  |  0.8233 |  0.8233 | 0.8233 |\n",
    "| BOW-tfidf  | 0.8417  |  0.8333 | 0.8375  |\n"
   ]
  },
  {
   "cell_type": "code",
   "execution_count": null,
   "metadata": {},
   "outputs": [],
   "source": []
  }
 ],
 "metadata": {
  "kernelspec": {
   "display_name": "Python 3",
   "language": "python",
   "name": "python3"
  },
  "language_info": {
   "codemirror_mode": {
    "name": "ipython",
    "version": 3
   },
   "file_extension": ".py",
   "mimetype": "text/x-python",
   "name": "python",
   "nbconvert_exporter": "python",
   "pygments_lexer": "ipython3",
   "version": "3.7.4"
  }
 },
 "nbformat": 4,
 "nbformat_minor": 2
}
