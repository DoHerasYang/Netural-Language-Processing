{
 "cells": [
  {
   "cell_type": "markdown",
   "metadata": {},
   "source": [
    "# [COM4513-6513] Assignment 1: Text Classification with Logistic Regression\n",
    "\n",
    "### Instructor: Nikos Aletras\n",
    "\n",
    "\n",
    "The goal of this assignment is to develop and test two text classification systems: \n",
    "\n",
    "- **Task 1:** sentiment analysis, in particular to predict the sentiment of movie review, i.e. positive or negative (binary classification).\n",
    "- **Task 2:** topic classification, to predict whether a news article is about International issues, Sports or Business (multiclass classification).\n",
    "\n",
    "\n",
    "For that purpose, you will implement:\n",
    "\n",
    "- Text processing methods for extracting Bag-Of-Word features, using (1) unigrams, bigrams and trigrams to obtain vector representations of documents. Two vector weighting schemes should be tested: (1) raw frequencies (**3 marks; 1 for each ngram type**); (2) tf.idf (**1 marks**). \n",
    "- Binary Logistic Regression classifiers that will be able to accurately classify movie reviews trained with (1) BOW-count (raw frequencies); and (2) BOW-tfidf (tf.idf weighted) for Task 1. \n",
    "- Multiclass Logistic Regression classifiers that will be able to accurately classify news articles trained with (1) BOW-count (raw frequencies); and (2) BOW-tfidf (tf.idf weighted) for Task 2. \n",
    "- The Stochastic Gradient Descent (SGD) algorithm to estimate the parameters of your Logistic Regression models. Your SGD algorithm should:\n",
    "    - Minimise the Binary Cross-entropy loss function for Task 1 (**3 marks**)\n",
    "    - Minimise the Categorical Cross-entropy loss function for Task 2 (**3 marks**)\n",
    "    - Use L2 regularisation (both tasks) (**1 mark**)\n",
    "    - Perform multiple passes (epochs) over the training data (**1 mark**)\n",
    "    - Randomise the order of training data after each pass (**1 mark**)\n",
    "    - Stop training if the difference between the current and previous validation loss is smaller than a threshold (**1 mark**)\n",
    "    - After each epoch print the training and development loss (**1 mark**)\n",
    "- Discuss how did you choose hyperparameters (e.g. learning rate and regularisation strength)?  (**2 marks; 0.5 for each model in each task**).\n",
    "- After training the LR models, plot the learning process (i.e. training and validation loss in each epoch) using a line plot (**1 mark; 0.5 for both BOW-count and BOW-tfidf LR models in each task**) and discuss if your model overfits/underfits/is about right.\n",
    "- Model interpretability by showing the most important features for each class (i.e. most positive/negative weights). Give the top 10 for each class and comment on whether they make sense (if they don't you might have a bug!).  If we were to apply the classifier we've learned into a different domain such laptop reviews or restaurant reviews, do you think these features would generalise well? Can you propose what features the classifier could pick up as important in the new domain? (**2 marks; 0.5 for BOW-count and BOW-tfidf LR models respectively in each task**)\n",
    "\n",
    "\n",
    "### Data - Task 1 \n",
    "\n",
    "The data you will use for Task 1 are taken from here: [http://www.cs.cornell.edu/people/pabo/movie-review-data/](http://www.cs.cornell.edu/people/pabo/movie-review-data/) and you can find it in the `./data_sentiment` folder in CSV format:\n",
    "\n",
    "- `data_sentiment/train.csv`: contains 1,400 reviews, 700 positive (label: 1) and 700 negative (label: 0) to be used for training.\n",
    "- `data_sentiment/dev.csv`: contains 200 reviews, 100 positive and 100 negative to be used for hyperparameter selection and monitoring the training process.\n",
    "- `data_sentiment/test.csv`: contains 400 reviews, 200 positive and 200 negative to be used for testing.\n",
    "\n",
    "### Data - Task 2\n",
    "\n",
    "The data you will use for Task 2 is a subset of the [AG News Corpus](http://groups.di.unipi.it/~gulli/AG_corpus_of_news_articles.html) and you can find it in the `./data_topic` folder in CSV format:\n",
    "\n",
    "- `data_topic/train.csv`: contains 2,400 news articles, 800 for each class to be used for training.\n",
    "- `data_topic/dev.csv`: contains 150 news articles, 50 for each class to be used for hyperparameter selection and monitoring the training process.\n",
    "- `data_topic/test.csv`: contains 900 news articles, 300 for each class to be used for testing.\n",
    "\n",
    "\n",
    "### Submission Instructions\n",
    "\n",
    "You should submit a Jupyter Notebook file (assignment1.ipynb) and an exported PDF version (you can do it from Jupyter: `File->Download as->PDF via Latex`).\n",
    "\n",
    "You are advised to follow the code structure given in this notebook by completing all given funtions. You can also write any auxilliary/helper functions (and arguments for the functions) that you might need but note that you can provide a full solution without any such functions. Similarly, you can just use only the packages imported below but you are free to use any functionality from the [Python Standard Library](https://docs.python.org/2/library/index.html), NumPy, SciPy and Pandas. You are not allowed to use any third-party library such as Scikit-learn (apart from metric functions already provided), NLTK, Spacy, Keras etc..\n",
    "\n",
    "Please make sure to comment your code. You should also mention if you've used Windows (not recommended) to write and test your code. There is no single correct answer on what your accuracy should be, but correct implementations usually achieve F1-scores around 80\\% or higher. The quality of the analysis of the results is as important as the accuracy itself. \n",
    "\n",
    "This assignment will be marked out of 20. It is worth 20\\% of your final grade in the module.\n",
    "\n",
    "The deadline for this assignment is **23:59 on Fri, 20 Mar 2020** and it needs to be submitted via MOLE. Standard departmental penalties for lateness will be applied. We use a range of strategies to detect [unfair means](https://www.sheffield.ac.uk/ssid/unfair-means/index), including Turnitin which helps detect plagiarism, so make sure you do not plagiarise.\n",
    "\n"
   ]
  },
  {
   "cell_type": "code",
   "execution_count": 1,
   "metadata": {
    "ExecuteTime": {
     "end_time": "2020-02-15T14:31:36.292691Z",
     "start_time": "2020-02-15T14:31:35.549108Z"
    }
   },
   "outputs": [],
   "source": [
    "import pandas as pd\n",
    "import numpy as np\n",
    "from collections import Counter\n",
    "import re\n",
    "import matplotlib.pyplot as plt\n",
    "from sklearn.metrics import accuracy_score, precision_score, recall_score, f1_score\n",
    "import random\n",
    "import math\n",
    "\n",
    "# fixing random seed for reproducibility\n",
    "random.seed(123)\n",
    "np.random.seed(123)"
   ]
  },
  {
   "cell_type": "markdown",
   "metadata": {},
   "source": [
    "## Load Raw texts and labels into arrays\n",
    "\n",
    "First, you need to load the training, development and test sets from their corresponding CSV files (tip: you can use Pandas dataframes)."
   ]
  },
  {
   "cell_type": "code",
   "execution_count": 2,
   "metadata": {
    "ExecuteTime": {
     "end_time": "2020-02-15T14:17:28.145788Z",
     "start_time": "2020-02-15T14:17:28.066100Z"
    }
   },
   "outputs": [],
   "source": [
    "# fill in your code...\n",
    "data_dev = pd.read_csv(\"./data_sentiment/dev.csv\",header=None, names=['text','label'])\n",
    "data_test = pd.read_csv(\"./data_sentiment/test.csv\",header=None, names=['text','label'])\n",
    "data_tr = pd.read_csv(\"./data_sentiment/train.csv\",header=None, names=['text','label'])"
   ]
  },
  {
   "cell_type": "code",
   "execution_count": 3,
   "metadata": {},
   "outputs": [
    {
     "data": {
      "text/plain": [
       "pandas.core.frame.DataFrame"
      ]
     },
     "execution_count": 3,
     "metadata": {},
     "output_type": "execute_result"
    }
   ],
   "source": [
    "type(data_tr)"
   ]
  },
  {
   "cell_type": "markdown",
   "metadata": {},
   "source": [
    "If you use Pandas you can see a sample of the data."
   ]
  },
  {
   "cell_type": "code",
   "execution_count": 4,
   "metadata": {
    "ExecuteTime": {
     "end_time": "2020-02-15T14:17:28.900892Z",
     "start_time": "2020-02-15T14:17:28.891221Z"
    }
   },
   "outputs": [
    {
     "data": {
      "text/html": [
       "<div>\n",
       "<style scoped>\n",
       "    .dataframe tbody tr th:only-of-type {\n",
       "        vertical-align: middle;\n",
       "    }\n",
       "\n",
       "    .dataframe tbody tr th {\n",
       "        vertical-align: top;\n",
       "    }\n",
       "\n",
       "    .dataframe thead th {\n",
       "        text-align: right;\n",
       "    }\n",
       "</style>\n",
       "<table border=\"1\" class=\"dataframe\">\n",
       "  <thead>\n",
       "    <tr style=\"text-align: right;\">\n",
       "      <th></th>\n",
       "      <th>text</th>\n",
       "      <th>label</th>\n",
       "    </tr>\n",
       "  </thead>\n",
       "  <tbody>\n",
       "    <tr>\n",
       "      <th>0</th>\n",
       "      <td>note : some may consider portions of the follo...</td>\n",
       "      <td>1</td>\n",
       "    </tr>\n",
       "    <tr>\n",
       "      <th>1</th>\n",
       "      <td>note : some may consider portions of the follo...</td>\n",
       "      <td>1</td>\n",
       "    </tr>\n",
       "    <tr>\n",
       "      <th>2</th>\n",
       "      <td>every once in a while you see a film that is s...</td>\n",
       "      <td>1</td>\n",
       "    </tr>\n",
       "    <tr>\n",
       "      <th>3</th>\n",
       "      <td>when i was growing up in 1970s , boys in my sc...</td>\n",
       "      <td>1</td>\n",
       "    </tr>\n",
       "    <tr>\n",
       "      <th>4</th>\n",
       "      <td>the muppet movie is the first , and the best m...</td>\n",
       "      <td>1</td>\n",
       "    </tr>\n",
       "  </tbody>\n",
       "</table>\n",
       "</div>"
      ],
      "text/plain": [
       "                                                text  label\n",
       "0  note : some may consider portions of the follo...      1\n",
       "1  note : some may consider portions of the follo...      1\n",
       "2  every once in a while you see a film that is s...      1\n",
       "3  when i was growing up in 1970s , boys in my sc...      1\n",
       "4  the muppet movie is the first , and the best m...      1"
      ]
     },
     "execution_count": 4,
     "metadata": {},
     "output_type": "execute_result"
    }
   ],
   "source": [
    "data_tr.head()"
   ]
  },
  {
   "cell_type": "markdown",
   "metadata": {},
   "source": [
    "The next step is to put the raw texts into Python lists and their corresponding labels into NumPy arrays:\n"
   ]
  },
  {
   "cell_type": "code",
   "execution_count": 5,
   "metadata": {
    "ExecuteTime": {
     "end_time": "2020-02-15T14:17:31.115577Z",
     "start_time": "2020-02-15T14:17:31.108038Z"
    }
   },
   "outputs": [],
   "source": [
    "# Put the raw texts into list\n",
    "# training dataset\n",
    "data_tr_list = data_tr['text'].tolist()\n",
    "data_tr_label = np.array(data_tr['label'])\n",
    "# development dataset\n",
    "data_dev_list = data_dev['text'].tolist()\n",
    "data_dev_label = np.array(data_dev['label'])\n",
    "# test dataset\n",
    "data_test_list = data_test['text'].tolist()\n",
    "data_test_label = np.array(data_test['label'])"
   ]
  },
  {
   "cell_type": "markdown",
   "metadata": {},
   "source": [
    "# Bag-of-Words Representation \n",
    "\n",
    "\n",
    "To train and test Logisitc Regression models, you first need to obtain vector representations for all documents given a vocabulary of features (unigrams, bigrams, trigrams).\n",
    "\n",
    "\n",
    "## Text Pre-Processing Pipeline\n",
    "\n",
    "To obtain a vocabulary of features, you should: \n",
    "- tokenise all texts into a list of unigrams (tip: using a regular expression) \n",
    "- remove stop words (using the one provided or one of your preference) \n",
    "- compute bigrams, trigrams given the remaining unigrams\n",
    "- remove ngrams appearing in less than K documents\n",
    "- use the remaining to create a vocabulary of unigrams, bigrams and trigrams (you can keep top N if you encounter memory issues).\n"
   ]
  },
  {
   "cell_type": "code",
   "execution_count": 6,
   "metadata": {
    "ExecuteTime": {
     "end_time": "2020-02-15T14:17:31.860420Z",
     "start_time": "2020-02-15T14:17:31.855439Z"
    }
   },
   "outputs": [],
   "source": [
    "stop_words = ['a','in','on','at','and','or', \n",
    "              'to', 'the', 'of', 'an', 'by', \n",
    "              'as', 'is', 'was', 'were', 'been', 'be', \n",
    "              'are','for', 'this', 'that', 'these', 'those', 'you', 'i',\n",
    "             'it', 'he', 'she', 'we', 'they' 'will', 'have', 'has',\n",
    "              'do', 'did', 'can', 'could', 'who', 'which', 'what', \n",
    "             'his', 'her', 'they', 'them', 'from', 'with', 'its']"
   ]
  },
  {
   "cell_type": "markdown",
   "metadata": {},
   "source": [
    "### N-gram extraction from a document\n",
    "\n",
    "You first need to implement the `extract_ngrams` function. It takes as input:\n",
    "- `x_raw`: a string corresponding to the raw text of a document\n",
    "- `ngram_range`: a tuple of two integers denoting the type of ngrams you want to extract, e.g. (1,2) denotes extracting unigrams and bigrams.\n",
    "- `token_pattern`: a string to be used within a regular expression to extract all tokens. Note that data is already tokenised so you could opt for a simple white space tokenisation.\n",
    "- `stop_words`: a list of stop words\n",
    "- `vocab`: a given vocabulary. It should be used to extract specific features.\n",
    "\n",
    "and returns:\n",
    "\n",
    "- a list of all extracted features.\n",
    "\n",
    "See the examples below to see how this function should work."
   ]
  },
  {
   "cell_type": "code",
   "execution_count": 7,
   "metadata": {
    "ExecuteTime": {
     "end_time": "2020-02-15T14:17:33.169090Z",
     "start_time": "2020-02-15T14:17:33.161268Z"
    }
   },
   "outputs": [],
   "source": [
    "def extract_ngrams(x_raw, ngram_range=(1,3), token_pattern=r'\\b[A-Za-z][A-Za-z]+\\b', stop_words=[], vocab=set()):\n",
    "    # Next it is my part to finish the this part\n",
    "    # Create a new blank list\n",
    "    x = list()\n",
    "    ngram_list = list()\n",
    "    # judge the variable type\n",
    "    if type(x_raw) == type(\"string\"):\n",
    "        x_raw = list([x_raw])\n",
    "    \n",
    "    for x_each in x_raw:\n",
    "        x_findword = re.findall(token_pattern,x_each)\n",
    "        # Now we have obtained the new word list without the stop_word \n",
    "        x_rawall = [word for word in x_findword if word not in stop_words]\n",
    "        store_ngram = list()\n",
    "        for n_g in range(min(ngram_range),max(ngram_range)+1):\n",
    "            for i in range(len(x_rawall)-n_g+1):\n",
    "                if n_g == 1:\n",
    "                    ngramTemp = x_rawall[i]\n",
    "                    x.append(ngramTemp)\n",
    "                    store_ngram.append(ngramTemp)\n",
    "                elif n_g == 2 or n_g == 3:\n",
    "                    ngramTemp = tuple(x_rawall[i:i+n_g])\n",
    "                    x.append(ngramTemp)\n",
    "                    store_ngram.append(ngramTemp)\n",
    "        ngram_list.append(store_ngram)      \n",
    "    # Now we should make the x into a set and \n",
    "    if vocab: \n",
    "        x = set(x) & vocab   \n",
    "        return x\n",
    "    else:\n",
    "        return ngram_list"
   ]
  },
  {
   "cell_type": "code",
   "execution_count": 8,
   "metadata": {
    "ExecuteTime": {
     "end_time": "2020-02-15T14:17:33.680114Z",
     "start_time": "2020-02-15T14:17:33.675339Z"
    }
   },
   "outputs": [
    {
     "data": {
      "text/plain": [
       "[['great',\n",
       "  'movie',\n",
       "  'watch',\n",
       "  ('great', 'movie'),\n",
       "  ('movie', 'watch'),\n",
       "  ('great', 'movie', 'watch')]]"
      ]
     },
     "execution_count": 8,
     "metadata": {},
     "output_type": "execute_result"
    }
   ],
   "source": [
    "extract_ngrams(\"this is a great movie to watch\", \n",
    "               ngram_range=(1,3), \n",
    "               stop_words=stop_words)"
   ]
  },
  {
   "cell_type": "code",
   "execution_count": 9,
   "metadata": {
    "ExecuteTime": {
     "end_time": "2020-02-15T14:17:34.278189Z",
     "start_time": "2020-02-15T14:17:34.273722Z"
    }
   },
   "outputs": [
    {
     "data": {
      "text/plain": [
       "{('great', 'movie'), 'great'}"
      ]
     },
     "execution_count": 9,
     "metadata": {},
     "output_type": "execute_result"
    }
   ],
   "source": [
    "extract_ngrams(\"this is a great movie to watch\", \n",
    "               ngram_range=(1,2), \n",
    "               stop_words=stop_words, \n",
    "               vocab=set(['great',  ('great','movie')]))"
   ]
  },
  {
   "cell_type": "markdown",
   "metadata": {},
   "source": [
    "Note that it is OK to represent n-grams using lists instead of tuples: e.g. `['great', ['great', 'movie']]`"
   ]
  },
  {
   "cell_type": "markdown",
   "metadata": {},
   "source": [
    "### Create a vocabulary of n-grams\n",
    "\n",
    "Then the `get_vocab` function will be used to (1) create a vocabulary of ngrams; (2) count the document frequencies of ngrams; (3) their raw frequency. It takes as input:\n",
    "- `X_raw`: a list of strings each corresponding to the raw text of a document\n",
    "- `ngram_range`: a tuple of two integers denoting the type of ngrams you want to extract, e.g. (1,2) denotes extracting unigrams and bigrams.\n",
    "- `token_pattern`: a string to be used within a regular expression to extract all tokens. Note that data is already tokenised so you could opt for a simple white space tokenisation.\n",
    "- `stop_words`: a list of stop words\n",
    "- `vocab`: a given vocabulary. It should be used to extract specific features.\n",
    "- `min_df`: keep ngrams with a minimum document frequency.\n",
    "- `keep_topN`: keep top-N more frequent ngrams.\n",
    "\n",
    "and returns:\n",
    "\n",
    "- `vocab`: a set of the n-grams that will be used as features.\n",
    "- `df`: a Counter (or dict) that contains ngrams as keys and their corresponding document frequency as values.\n",
    "- `ngram_counts`: counts of each ngram in vocab\n",
    "\n",
    "Hint: it should make use of the `extract_ngrams` function."
   ]
  },
  {
   "cell_type": "code",
   "execution_count": 10,
   "metadata": {
    "ExecuteTime": {
     "end_time": "2020-02-15T14:17:35.821240Z",
     "start_time": "2020-02-15T14:17:35.814722Z"
    }
   },
   "outputs": [],
   "source": [
    "def get_vocab(X_raw, ngram_range=(1,3), token_pattern=r'\\b[A-Za-z][A-Za-z]+\\b', min_df=0, keep_topN=0, stop_words=[]):\n",
    "    \n",
    "    # Firstly we should obtain the all the ngram list \n",
    "    # From the previous function this function will choose the putput type due to the input variables\n",
    "    vocab = extract_ngrams(x_raw=X_raw, stop_words=stop_words)\n",
    "    \n",
    "    df = dict() #dict that contains ngrams as keys and their corresponding document frequency as values.\n",
    "    ngram_counts= list() # type is the list and stores the number of words which occur at the text\n",
    "    \n",
    "    for each_ngram in vocab:\n",
    "        for ngram in set(each_ngram):\n",
    "            if ngram not in df.keys():\n",
    "                df[ngram] = 1\n",
    "            else:\n",
    "                df[ngram] +=1\n",
    "\n",
    "    df = dict(sorted(df.items(), key=lambda count:count[1], reverse=True)[:keep_topN])\n",
    "    vocab = [name for name in df.keys()]\n",
    "    \n",
    "    for item in df.keys():\n",
    "        ngram_counts.append(item)\n",
    "    \n",
    "    return vocab, df, ngram_counts"
   ]
  },
  {
   "cell_type": "markdown",
   "metadata": {},
   "source": [
    "Now you should use `get_vocab` to create your vocabulary and get document and raw frequencies of n-grams:"
   ]
  },
  {
   "cell_type": "code",
   "execution_count": 11,
   "metadata": {
    "ExecuteTime": {
     "end_time": "2020-02-15T14:17:39.319793Z",
     "start_time": "2020-02-15T14:17:36.836545Z"
    }
   },
   "outputs": [
    {
     "name": "stdout",
     "output_type": "stream",
     "text": [
      "5000\n",
      "\n",
      "['but', 'one', 'film', 'not', 'all', 'movie', 'out', 'so', 'there', 'like', 'more', 'up', 'about', 'when', 'some', 'if', 'just', 'only', 'into', 'than', 'even', 'their', 'time', 'most', 'no', 'good', 'much', 'him', 'would', 'other', 'get', 'story', 'well', 'will', 'also', 'two', 'after', 'first', 'character', 'make', 'way', 'characters', 'off', 'see', 'very', 'while', 'does', 'any', 'where', 'too', 'little', 'plot', 'because', 'over', 'director', 'had', 'how', 'then', 'best', 'being', 'people', 'doesn', 'really', 'man', 'never', 'life', 'through', 'films', 'here', 'don', 'many', 'another', 'such', 'scene', 'me', 'bad', 'know', 'made', 'scenes', 'my', 'end', 'new', 'go', 'before', 'back', 'makes', 'something', 'great', 'work', 'movies', 'still', 'better', 'now', 'few', 'down', 'seems', 'around', 'every', 're', 'enough']\n",
      "\n",
      "[('but', 1334), ('one', 1247), ('film', 1231), ('not', 1170), ('all', 1117), ('movie', 1095), ('out', 1080), ('so', 1047), ('there', 1046), ('like', 1043)]\n"
     ]
    }
   ],
   "source": [
    "X_tr_raw = data_tr_list\n",
    "vocab, df, ngram_counts = get_vocab(X_tr_raw, ngram_range=(1,3), keep_topN=5000, stop_words=stop_words)\n",
    "print(len(vocab))\n",
    "print()\n",
    "print(list(vocab)[:100])\n",
    "print()\n",
    "print(list(df.items())[:10])\n",
    "# print(df.most_common()[:10])"
   ]
  },
  {
   "cell_type": "markdown",
   "metadata": {},
   "source": [
    "Then, you need to create vocabulary id -> word and id -> word dictionaries for reference:"
   ]
  },
  {
   "cell_type": "code",
   "execution_count": 12,
   "metadata": {
    "ExecuteTime": {
     "end_time": "2020-02-15T14:17:39.326811Z",
     "start_time": "2020-02-15T14:17:39.322256Z"
    }
   },
   "outputs": [
    {
     "name": "stdout",
     "output_type": "stream",
     "text": [
      "[(0, 'but'), (1, 'one'), (2, 'film'), (3, 'not'), (4, 'all')]\n"
     ]
    }
   ],
   "source": [
    "# fill in your code...\n",
    "# We need to number the each words and store them in a dictionary \n",
    "voca_dict = dict()\n",
    "for i in range(len(vocab)):\n",
    "    voca_dict[i] = vocab[i]\n",
    "\n",
    "print(list(voca_dict.items())[:5])"
   ]
  },
  {
   "cell_type": "markdown",
   "metadata": {},
   "source": [
    "Now you should be able to extract n-grams for each text in the training, development and test sets:"
   ]
  },
  {
   "cell_type": "code",
   "execution_count": 13,
   "metadata": {
    "ExecuteTime": {
     "end_time": "2020-02-15T14:17:40.213253Z",
     "start_time": "2020-02-15T14:17:39.329147Z"
    }
   },
   "outputs": [],
   "source": [
    "# Finish the process of extracting the n-grams for feature\n",
    "tr_feature, tr_df, tr_ngramcount = get_vocab(data_tr_list,ngram_range=(1,3), keep_topN=5000, stop_words=stop_words)\n",
    "dev_feature, dev_df, dev_ngramcount = get_vocab(data_dev_list,ngram_range=(1,3), keep_topN=5000, stop_words=stop_words)\n",
    "test_feature, test_df, test_ngramcount = get_vocab(data_test_list,ngram_range=(1,3), keep_topN=5000, stop_words=stop_words)\n",
    "\n",
    "# The part of extracting the ngram from the extract_ngrams\n",
    "tr_ngram = extract_ngrams(data_tr_list, ngram_range=(1,3), stop_words=stop_words)\n",
    "dev_ngram = extract_ngrams(data_dev_list, ngram_range=(1,3), stop_words=stop_words)\n",
    "test_ngram = extract_ngrams(data_test_list, ngram_range=(1,3), stop_words=stop_words)"
   ]
  },
  {
   "cell_type": "markdown",
   "metadata": {},
   "source": [
    "## Vectorise documents "
   ]
  },
  {
   "cell_type": "markdown",
   "metadata": {},
   "source": [
    "Next, write a function `vectoriser` to obtain Bag-of-ngram representations for a list of documents. The function should take as input:\n",
    "- `X_ngram`: a list of texts (documents), where each text is represented as list of n-grams in the `vocab`\n",
    "- `vocab`: a set of n-grams to be used for representing the documents\n",
    "\n",
    "and return:\n",
    "- `X_vec`: an array with dimensionality Nx|vocab| where N is the number of documents and |vocab| is the size of the vocabulary. Each element of the array should represent the frequency of a given n-gram in a document.\n"
   ]
  },
  {
   "cell_type": "code",
   "execution_count": 14,
   "metadata": {
    "ExecuteTime": {
     "end_time": "2020-02-15T14:17:40.219201Z",
     "start_time": "2020-02-15T14:17:40.215129Z"
    }
   },
   "outputs": [],
   "source": [
    "def vectorise(X_ngram, vocab):\n",
    "    # Now we have obtain all the ngram and the type is list \n",
    "    # Use the nparray to establish a new matrix\n",
    "    X_matrix = np.zeros((len(X_ngram),len(vocab)))\n",
    "    for sid,ngram in enumerate(X_ngram):\n",
    "        for sid_v,ngram_top in enumerate(vocab):\n",
    "            X_matrix[sid][sid_v] = ngram.count(ngram_top)  \n",
    "    return X_matrix"
   ]
  },
  {
   "cell_type": "markdown",
   "metadata": {},
   "source": [
    "Finally, use `vectorise` to obtain document vectors for each document in the train, development and test set. You should extract both count and tf.idf vectors respectively:"
   ]
  },
  {
   "cell_type": "markdown",
   "metadata": {},
   "source": [
    "#### Count vectors"
   ]
  },
  {
   "cell_type": "code",
   "execution_count": 15,
   "metadata": {
    "ExecuteTime": {
     "end_time": "2020-02-15T14:17:41.999574Z",
     "start_time": "2020-02-15T14:17:40.376534Z"
    }
   },
   "outputs": [],
   "source": [
    "# fill in your code...\n",
    "X_tr_count = vectorise(tr_ngram,tr_feature)\n",
    "X_dev_count = vectorise(dev_ngram,tr_feature)\n",
    "X_test_count = vectorise(test_ngram,tr_feature)"
   ]
  },
  {
   "cell_type": "code",
   "execution_count": 16,
   "metadata": {},
   "outputs": [
    {
     "data": {
      "text/plain": [
       "array([[ 6.,  8., 20.,  4.,  1.,  0.,  1.,  3.,  1.,  0.,  1.,  0.,  1.,\n",
       "         0.,  1.,  1.,  2.,  4.,  2.,  1.,  3.,  6.,  0.,  4.,  1.,  1.,\n",
       "         1.,  0.,  3.,  0.,  0.,  2.,  0.,  1.,  0.,  1.,  0.,  2.,  3.,\n",
       "         0.,  0.,  4.,  1.,  1.,  0.,  3.,  0.,  1.,  1.,  0.],\n",
       "       [ 2.,  5.,  6.,  2.,  4.,  0.,  2.,  3.,  2.,  3.,  3.,  4.,  2.,\n",
       "         0.,  2.,  2.,  0.,  0.,  2.,  3.,  0.,  0.,  2.,  2.,  1.,  1.,\n",
       "         1.,  5.,  1.,  1.,  1.,  2.,  0.,  4.,  1.,  1.,  0.,  0.,  5.,\n",
       "         1.,  2.,  0.,  0.,  1.,  0.,  3.,  1.,  1.,  2.,  0.]])"
      ]
     },
     "execution_count": 16,
     "metadata": {},
     "output_type": "execute_result"
    }
   ],
   "source": [
    "X_tr_count[:2,:50]"
   ]
  },
  {
   "cell_type": "code",
   "execution_count": 17,
   "metadata": {
    "ExecuteTime": {
     "end_time": "2020-02-15T14:17:42.004808Z",
     "start_time": "2020-02-15T14:17:42.001555Z"
    }
   },
   "outputs": [
    {
     "data": {
      "text/plain": [
       "(1400, 5000)"
      ]
     },
     "execution_count": 17,
     "metadata": {},
     "output_type": "execute_result"
    }
   ],
   "source": [
    "X_tr_count.shape"
   ]
  },
  {
   "cell_type": "markdown",
   "metadata": {},
   "source": [
    "#### TF.IDF vectors\n",
    "\n",
    "First compute `idfs` an array containing inverted document frequencies (Note: its elements should correspond to your `vocab`)"
   ]
  },
  {
   "cell_type": "code",
   "execution_count": 18,
   "metadata": {
    "ExecuteTime": {
     "end_time": "2020-02-15T14:17:42.022692Z",
     "start_time": "2020-02-15T14:17:42.012315Z"
    }
   },
   "outputs": [],
   "source": [
    "def idf_function(ngram_list,vocab):\n",
    "\n",
    "    # establish a new dictionary datastructure to store the idf value\n",
    "    idf_dict = dict()\n",
    "    num_N = len(ngram_list)\n",
    "    for sid,voc in enumerate(vocab):\n",
    "        occur_sum = 0\n",
    "        for ngram in ngram_list:\n",
    "            if voc in ngram:\n",
    "                occur_sum +=1\n",
    "        idf_dict[voc]= np.log((num_N+1)/(occur_sum+1))\n",
    "    return idf_dict               "
   ]
  },
  {
   "cell_type": "markdown",
   "metadata": {},
   "source": [
    "Then transform your count vectors to tf.idf vectors:"
   ]
  },
  {
   "cell_type": "code",
   "execution_count": 19,
   "metadata": {
    "ExecuteTime": {
     "end_time": "2020-02-15T14:17:42.802265Z",
     "start_time": "2020-02-15T14:17:42.752448Z"
    }
   },
   "outputs": [],
   "source": [
    "# Now we have obtained the dictionary about the idf value\n",
    "# X_tr_count - the original vector matrix\n",
    "# x_raw - the raw data\n",
    "def tfidf_function(X_count,ngram_list,vocab):\n",
    "    tfidf = list()\n",
    "    # obtain the new idf_dict\n",
    "    idf_dict = idf_function(ngram_list,vocab)\n",
    "    for sid,word in enumerate(idf_dict.keys()):\n",
    "        result = X_count[:,sid] * idf_dict[word]\n",
    "        tfidf.append(result)\n",
    "\n",
    "    X_tfidf = np.transpose(np.asarray(tfidf))\n",
    "    \n",
    "    return X_tfidf\n"
   ]
  },
  {
   "cell_type": "code",
   "execution_count": 20,
   "metadata": {},
   "outputs": [],
   "source": [
    "X_tr_tfidf = tfidf_function(X_count=X_tr_count, ngram_list = tr_ngram, vocab = tr_feature)\n",
    "X_dev_tfidf = tfidf_function(X_count=X_dev_count, ngram_list = dev_ngram, vocab = tr_feature)\n",
    "X_test_tfidf = tfidf_function(X_count=X_test_count, ngram_list = test_ngram, vocab = tr_feature)"
   ]
  },
  {
   "cell_type": "code",
   "execution_count": 21,
   "metadata": {},
   "outputs": [
    {
     "data": {
      "text/plain": [
       "array([0.09650995, 0.57821999, 0.77128441, 0.35865637, 0.90257957,\n",
       "       0.        , 0.51859946, 0.87090804, 0.58251467, 0.88238033,\n",
       "       0.89101343, 1.26561491, 0.65249265, 0.        , 0.74355542,\n",
       "       0.79812334, 0.        , 0.        , 0.83896302, 1.284617  ,\n",
       "       0.        , 0.        , 0.94143532, 0.99471004, 0.50442219,\n",
       "       0.52834677, 0.55658683, 2.864543  , 0.5895012 , 0.59336967,\n",
       "       0.59985058, 1.20230363, 0.        , 2.45175908, 0.61690017,\n",
       "       0.62087632, 0.        , 0.        , 3.16450256, 0.68108602,\n",
       "       1.36499491, 0.        , 0.        , 0.70535559, 0.        ,\n",
       "       2.17296126, 0.74365188, 0.74515451, 1.50843602, 0.        ])"
      ]
     },
     "execution_count": 21,
     "metadata": {},
     "output_type": "execute_result"
    }
   ],
   "source": [
    "X_tr_tfidf[1,:50]"
   ]
  },
  {
   "cell_type": "markdown",
   "metadata": {},
   "source": [
    "# Binary Logistic Regression\n",
    "\n",
    "After obtaining vector representations of the data, now you are ready to implement Binary Logistic Regression for classifying sentiment."
   ]
  },
  {
   "cell_type": "markdown",
   "metadata": {},
   "source": [
    "First, you need to implement the `sigmoid` function. It takes as input:\n",
    "\n",
    "- `z`: a real number or an array of real numbers \n",
    "\n",
    "and returns:\n",
    "\n",
    "- `sig`: the sigmoid of `z`"
   ]
  },
  {
   "cell_type": "code",
   "execution_count": 22,
   "metadata": {
    "ExecuteTime": {
     "end_time": "2020-02-15T14:17:44.160661Z",
     "start_time": "2020-02-15T14:17:44.157902Z"
    }
   },
   "outputs": [],
   "source": [
    "def sigmoid(z):\n",
    "    z = 1.0 / (1 + np.exp(-z))\n",
    "    return z"
   ]
  },
  {
   "cell_type": "code",
   "execution_count": 23,
   "metadata": {
    "ExecuteTime": {
     "end_time": "2020-02-15T14:17:44.351292Z",
     "start_time": "2020-02-15T14:17:44.346822Z"
    }
   },
   "outputs": [
    {
     "name": "stdout",
     "output_type": "stream",
     "text": [
      "0.5\n",
      "[0.00669285 0.76852478]\n"
     ]
    }
   ],
   "source": [
    "print(sigmoid(0)) \n",
    "print(sigmoid(np.array([-5., 1.2])))"
   ]
  },
  {
   "cell_type": "markdown",
   "metadata": {},
   "source": [
    "Then, implement the `predict_proba` function to obtain prediction probabilities. It takes as input:\n",
    "\n",
    "- `X`: an array of inputs, i.e. documents represented by bag-of-ngram vectors ($N \\times |vocab|$)\n",
    "- `weights`: a 1-D array of the model's weights $(1, |vocab|)$\n",
    "\n",
    "and returns:\n",
    "\n",
    "- `preds_proba`: the prediction probabilities of X given the weights"
   ]
  },
  {
   "cell_type": "code",
   "execution_count": 24,
   "metadata": {
    "ExecuteTime": {
     "end_time": "2020-02-15T14:17:44.718566Z",
     "start_time": "2020-02-15T14:17:44.715017Z"
    }
   },
   "outputs": [],
   "source": [
    "def predict_proba(X, weights):\n",
    "    \n",
    "    # Calculate inner product of the matrix \n",
    "    preds_proba = sigmoid(np.dot(X,weights))\n",
    "    \n",
    "    return preds_proba"
   ]
  },
  {
   "cell_type": "markdown",
   "metadata": {},
   "source": [
    "Then, implement the `predict_class` function to obtain the most probable class for each vector in an array of input vectors. It takes as input:\n",
    "\n",
    "- `X`: an array of documents represented by bag-of-ngram vectors ($N \\times |vocab|$)\n",
    "- `weights`: a 1-D array of the model's weights $(1, |vocab|)$\n",
    "\n",
    "and returns:\n",
    "\n",
    "- `preds_class`: the predicted class for each x in X given the weights"
   ]
  },
  {
   "cell_type": "code",
   "execution_count": 25,
   "metadata": {
    "ExecuteTime": {
     "end_time": "2020-02-15T14:17:45.002125Z",
     "start_time": "2020-02-15T14:17:44.998668Z"
    }
   },
   "outputs": [],
   "source": [
    "def predict_class(X, weights):\n",
    "    \n",
    "    # Calculate the prediction probabilities of X given the weights\n",
    "    proba_value = predict_proba(X,weights)\n",
    "    # Change the value into 1 or 0\n",
    "    proba_value = np.where(proba_value<0.5, 0, 1)\n",
    "    preds_class = proba_value.astype(np.int64)\n",
    "    \n",
    "    return preds_class"
   ]
  },
  {
   "cell_type": "markdown",
   "metadata": {},
   "source": [
    "To learn the weights from data, we need to minimise the binary cross-entropy loss. Implement `binary_loss` that takes as input:\n",
    "\n",
    "- `X`: input vectors\n",
    "- `Y`: labels\n",
    "- `weights`: model weights\n",
    "- `alpha`: regularisation strength\n",
    "\n",
    "and return:\n",
    "\n",
    "- `l`: the loss score"
   ]
  },
  {
   "cell_type": "code",
   "execution_count": 26,
   "metadata": {
    "ExecuteTime": {
     "end_time": "2020-02-15T14:17:45.455533Z",
     "start_time": "2020-02-15T14:17:45.451475Z"
    }
   },
   "outputs": [],
   "source": [
    "def binary_loss(X, Y, weights, alpha=0.00001):\n",
    "    \n",
    "    # Firstly we should calculate the prediction probabilities of X used with weight\n",
    "    y_proba = predict_proba(X,weights)\n",
    "    \n",
    "    # Restrict the value range from the alpha  to  1-alpha\n",
    "    y_proba  = np.clip(y_proba,alpha,1-alpha)\n",
    "    loss = - Y * np.log(y_proba) - (1 - Y) * np.log(1-y_proba)\n",
    "    \n",
    "    # Look the X scope\n",
    "    if len(X.shape)>1:\n",
    "        L2_regularization = (1/len(X))*(alpha/2)*(np.sum(np.square(weights)))\n",
    "    else:\n",
    "        L2_regularization = (alpha/2)*(np.sum(np.square(weights)))\n",
    "    \n",
    "    l = loss + L2_regularization\n",
    "    return l\n",
    "    "
   ]
  },
  {
   "cell_type": "markdown",
   "metadata": {},
   "source": [
    "Now, you can implement Stochastic Gradient Descent to learn the weights of your sentiment classifier. The `SGD` function takes as input:\n",
    "\n",
    "- `X_tr`: array of training data (vectors)\n",
    "- `Y_tr`: labels of `X_tr`\n",
    "- `X_dev`: array of development (i.e. validation) data (vectors)\n",
    "- `Y_dev`: labels of `X_dev`\n",
    "- `lr`: learning rate\n",
    "- `alpha`: regularisation strength\n",
    "- `epochs`: number of full passes over the training data\n",
    "- `tolerance`: stop training if the difference between the current and previous validation loss is smaller than a threshold\n",
    "- `print_progress`: flag for printing the training progress (train/validation loss)\n",
    "\n",
    "\n",
    "and returns:\n",
    "\n",
    "- `weights`: the weights learned\n",
    "- `training_loss_history`: an array with the average losses of the whole training set after each epoch\n",
    "- `validation_loss_history`: an array with the average losses of the whole development set after each epoch"
   ]
  },
  {
   "cell_type": "code",
   "execution_count": 27,
   "metadata": {
    "ExecuteTime": {
     "end_time": "2020-02-15T14:17:45.968510Z",
     "start_time": "2020-02-15T14:17:45.958185Z"
    }
   },
   "outputs": [],
   "source": [
    "def SGD(X_tr, Y_tr, X_dev=[], Y_dev=[], loss=\"binary\", lr=0.1, alpha=0.00001, epochs=5, tolerance=0.0001, print_progress=True):\n",
    "    \n",
    "    cur_loss_dev = 1.\n",
    "    training_loss_history = []\n",
    "    validation_loss_history = []\n",
    "    \n",
    "    # Obtain the weights\n",
    "    weights = np.zeros(X_tr.shape[1])\n",
    "    \n",
    "    for i in range(epochs):\n",
    "        loss_list = list()\n",
    "        seed_number = random.randint(0,100)\n",
    "        np.random.seed(seed_number)\n",
    "        # Shuffle the X_tr and Y_tr  \n",
    "        per_X_tr = np.random.permutation(X_tr)\n",
    "        np.random.seed(seed_number)\n",
    "        per_Y_tr = np.random.permutation(Y_tr)\n",
    "        for j,row in enumerate(per_X_tr):\n",
    "            # Caculate the Binary Loss and store the loss into loss_list\n",
    "            loss_tr = binary_loss(row, per_Y_tr[j],weights, alpha)\n",
    "            loss_list.append(loss_tr)\n",
    "            y_pred = predict_proba(row,weights) \n",
    "            error = y_pred - per_Y_tr[j]\n",
    "            # update weights\n",
    "            weights = weights - lr*error*row\n",
    "        # Obtain the mean\n",
    "        tr_loss_mean = np.mean(loss_list)\n",
    "        training_loss_history.append(tr_loss_mean)\n",
    "        \n",
    "        dev_loss = binary_loss(X_dev, Y_dev, weights, alpha)\n",
    "        dev_loss = sum(dev_loss)/len(dev_loss)\n",
    "        validation_loss_history.append(dev_loss)\n",
    "        print('Epoch: %d' % i, '| Training loss: %f' %tr_loss_mean, '| Validation loss: %f' %dev_loss)\n",
    "        \n",
    "        if (cur_loss_dev-dev_loss)<tolerance:\n",
    "            break\n",
    "            \n",
    "        cur_loss_dev = dev_loss\n",
    "\n",
    "    return weights, training_loss_history, validation_loss_history"
   ]
  },
  {
   "cell_type": "markdown",
   "metadata": {},
   "source": [
    "## Train and Evaluate Logistic Regression with Count vectors\n",
    "\n",
    "First train the model using SGD:"
   ]
  },
  {
   "cell_type": "code",
   "execution_count": 28,
   "metadata": {},
   "outputs": [
    {
     "name": "stdout",
     "output_type": "stream",
     "text": [
      "Epoch: 0 | Training loss: 0.667690 | Validation loss: 0.647094\n",
      "Epoch: 1 | Training loss: 0.613934 | Validation loss: 0.615373\n",
      "Epoch: 2 | Training loss: 0.575116 | Validation loss: 0.595635\n",
      "Epoch: 3 | Training loss: 0.545252 | Validation loss: 0.575331\n",
      "Epoch: 4 | Training loss: 0.520551 | Validation loss: 0.562030\n",
      "Epoch: 5 | Training loss: 0.499586 | Validation loss: 0.548129\n",
      "Epoch: 6 | Training loss: 0.481713 | Validation loss: 0.538025\n",
      "Epoch: 7 | Training loss: 0.465533 | Validation loss: 0.530481\n",
      "Epoch: 8 | Training loss: 0.451564 | Validation loss: 0.519784\n",
      "Epoch: 9 | Training loss: 0.439090 | Validation loss: 0.512905\n",
      "Epoch: 10 | Training loss: 0.427257 | Validation loss: 0.506482\n",
      "Epoch: 11 | Training loss: 0.416128 | Validation loss: 0.501852\n",
      "Epoch: 12 | Training loss: 0.406814 | Validation loss: 0.494111\n",
      "Epoch: 13 | Training loss: 0.397518 | Validation loss: 0.488875\n",
      "Epoch: 14 | Training loss: 0.388979 | Validation loss: 0.484013\n",
      "Epoch: 15 | Training loss: 0.380997 | Validation loss: 0.480896\n",
      "Epoch: 16 | Training loss: 0.373599 | Validation loss: 0.475360\n",
      "Epoch: 17 | Training loss: 0.366493 | Validation loss: 0.471957\n",
      "Epoch: 18 | Training loss: 0.359441 | Validation loss: 0.469523\n",
      "Epoch: 19 | Training loss: 0.353198 | Validation loss: 0.465293\n",
      "Epoch: 20 | Training loss: 0.347355 | Validation loss: 0.462088\n",
      "Epoch: 21 | Training loss: 0.341564 | Validation loss: 0.457970\n",
      "Epoch: 22 | Training loss: 0.336115 | Validation loss: 0.455706\n",
      "Epoch: 23 | Training loss: 0.330757 | Validation loss: 0.453449\n",
      "Epoch: 24 | Training loss: 0.325950 | Validation loss: 0.450681\n",
      "Epoch: 25 | Training loss: 0.320996 | Validation loss: 0.448717\n",
      "Epoch: 26 | Training loss: 0.316457 | Validation loss: 0.445406\n",
      "Epoch: 27 | Training loss: 0.311947 | Validation loss: 0.442609\n",
      "Epoch: 28 | Training loss: 0.307677 | Validation loss: 0.441136\n",
      "Epoch: 29 | Training loss: 0.303613 | Validation loss: 0.439073\n",
      "Epoch: 30 | Training loss: 0.299752 | Validation loss: 0.436814\n",
      "Epoch: 31 | Training loss: 0.295824 | Validation loss: 0.434723\n",
      "Epoch: 32 | Training loss: 0.291876 | Validation loss: 0.433425\n",
      "Epoch: 33 | Training loss: 0.288540 | Validation loss: 0.431482\n",
      "Epoch: 34 | Training loss: 0.285090 | Validation loss: 0.429750\n",
      "Epoch: 35 | Training loss: 0.281504 | Validation loss: 0.429179\n",
      "Epoch: 36 | Training loss: 0.278308 | Validation loss: 0.426556\n",
      "Epoch: 37 | Training loss: 0.275335 | Validation loss: 0.425370\n",
      "Epoch: 38 | Training loss: 0.272124 | Validation loss: 0.424008\n",
      "Epoch: 39 | Training loss: 0.269183 | Validation loss: 0.423003\n",
      "Epoch: 40 | Training loss: 0.266316 | Validation loss: 0.421179\n",
      "Epoch: 41 | Training loss: 0.263219 | Validation loss: 0.420743\n",
      "Epoch: 42 | Training loss: 0.260617 | Validation loss: 0.418752\n",
      "Epoch: 43 | Training loss: 0.257886 | Validation loss: 0.417834\n",
      "Epoch: 44 | Training loss: 0.255196 | Validation loss: 0.416404\n",
      "Epoch: 45 | Training loss: 0.252851 | Validation loss: 0.415398\n",
      "Epoch: 46 | Training loss: 0.250213 | Validation loss: 0.415025\n",
      "Epoch: 47 | Training loss: 0.247883 | Validation loss: 0.413822\n",
      "Epoch: 48 | Training loss: 0.245570 | Validation loss: 0.412777\n",
      "Epoch: 49 | Training loss: 0.243239 | Validation loss: 0.411473\n",
      "Epoch: 50 | Training loss: 0.240952 | Validation loss: 0.410816\n",
      "Epoch: 51 | Training loss: 0.238663 | Validation loss: 0.409894\n",
      "Epoch: 52 | Training loss: 0.236534 | Validation loss: 0.408841\n",
      "Epoch: 53 | Training loss: 0.234449 | Validation loss: 0.408064\n",
      "Epoch: 54 | Training loss: 0.232368 | Validation loss: 0.407237\n",
      "Epoch: 55 | Training loss: 0.230297 | Validation loss: 0.406769\n",
      "Epoch: 56 | Training loss: 0.228253 | Validation loss: 0.406385\n",
      "Epoch: 57 | Training loss: 0.226466 | Validation loss: 0.405153\n",
      "Epoch: 58 | Training loss: 0.224542 | Validation loss: 0.404563\n",
      "Epoch: 59 | Training loss: 0.222540 | Validation loss: 0.403616\n",
      "Epoch: 60 | Training loss: 0.220682 | Validation loss: 0.403421\n",
      "Epoch: 61 | Training loss: 0.218944 | Validation loss: 0.403166\n",
      "Epoch: 62 | Training loss: 0.217157 | Validation loss: 0.401730\n",
      "Epoch: 63 | Training loss: 0.215344 | Validation loss: 0.401756\n"
     ]
    }
   ],
   "source": [
    "w_count, loss_tr_count, dev_loss_count = SGD(X_tr_count, data_tr_label, \n",
    "                                             X_dev=X_dev_count, \n",
    "                                             Y_dev=data_dev_label, \n",
    "                                             lr=0.0001, \n",
    "                                             alpha=0.001, \n",
    "                                             epochs=100)"
   ]
  },
  {
   "cell_type": "markdown",
   "metadata": {},
   "source": [
    "Now plot the training and validation history per epoch. Does your model underfit, overfit or is it about right? Explain why."
   ]
  },
  {
   "cell_type": "code",
   "execution_count": 29,
   "metadata": {},
   "outputs": [
    {
     "data": {
      "image/png": "[encoded data removed]",
      "text/plain": [
       "<Figure size 432x288 with 1 Axes>"
      ]
     },
     "metadata": {
      "needs_background": "light"
     },
     "output_type": "display_data"
    }
   ],
   "source": [
    "x = np.linspace(0,len(loss_tr_count),len(loss_tr_count))\n",
    "\n",
    "plt.plot(x, loss_tr_count,label='Training loss')\n",
    "plt.plot(x, dev_loss_count, label='Validation loss')\n",
    "\n",
    "plt.title('Training Monitoring')\n",
    "plt.xlabel('Epochs')\n",
    "plt.ylabel('Loss')\n",
    "plt.legend() \n",
    "plt.show()"
   ]
  },
  {
   "cell_type": "markdown",
   "metadata": {
    "ExecuteTime": {
     "end_time": "2020-01-21T16:52:26.583150Z",
     "start_time": "2020-01-21T16:52:26.578754Z"
    }
   },
   "source": [
    "Explain here...\n",
    "\n",
    "**Answer**:\n",
    "\n",
    "The model have reached at the overfit situation,because the gap between the Training loss and Validation loss is very large. The over-training data result in optimization. In addition, the model's generalization ability performs not well. These conditions cause the error rate of verification set is higher than the traininng set."
   ]
  },
  {
   "cell_type": "markdown",
   "metadata": {},
   "source": [
    "Compute accuracy, precision, recall and F1-scores:"
   ]
  },
  {
   "cell_type": "code",
   "execution_count": 30,
   "metadata": {},
   "outputs": [],
   "source": [
    "# fill in your code...\n",
    "def accuracy_score(Y_trainerror,pre_te):  \n",
    "    result = 0\n",
    "    for i,label in enumerate(Y_trainerror):\n",
    "        if pre_te[i] == label:\n",
    "            result = result+1\n",
    "    score = result/len(Y_trainerror)\n",
    "    return score\n",
    "\n",
    "def precision_score(Y_trainerror,pre_te):\n",
    "    Y_cor = (Y_trainerror==1)\n",
    "    pre_te_cor = (pre_te==1)\n",
    "    cor_count = (Y_cor * pre_te_cor).sum()\n",
    "    all_count = (pre_te==1).sum()\n",
    "    \n",
    "    return cor_count/all_count\n",
    "\n",
    "def recall_score(Y_trainerror,pre_te):\n",
    "    Y_cor = (Y_trainerror==1)\n",
    "    pre_te_cor = (pre_te==1)\n",
    "    cor_count = (Y_cor * pre_te_cor).sum()\n",
    "    all_count = (Y_cor==1).sum()\n",
    "    \n",
    "    return cor_count/all_count\n",
    "\n",
    "def f1_score(Y_trainerror,pre_te):\n",
    "    cor_count = 2 * precision_score(Y_trainerror, pre_te) * recall_score(Y_trainerror, pre_te)\n",
    "    all_count = precision_score(Y_trainerror, pre_te) + recall_score(Y_trainerror, pre_te)\n",
    "    \n",
    "    return cor_count/all_count\n"
   ]
  },
  {
   "cell_type": "code",
   "execution_count": 31,
   "metadata": {
    "ExecuteTime": {
     "end_time": "2020-02-15T14:37:40.569499Z",
     "start_time": "2020-02-15T14:37:40.566796Z"
    }
   },
   "outputs": [
    {
     "name": "stdout",
     "output_type": "stream",
     "text": [
      "Accuracy: 0.8325\n",
      "Precision: 0.824390243902439\n",
      "Recall: 0.845\n",
      "F1-Score: 0.8345679012345678\n"
     ]
    }
   ],
   "source": [
    "preds_te_count = predict_class(X_test_count, w_count)\n",
    "Y_te = data_test_label\n",
    "\n",
    "print('Accuracy:', accuracy_score(Y_te,preds_te_count))\n",
    "print('Precision:', precision_score(Y_te,preds_te_count))\n",
    "print('Recall:', recall_score(Y_te,preds_te_count))\n",
    "print('F1-Score:', f1_score(Y_te,preds_te_count))"
   ]
  },
  {
   "cell_type": "markdown",
   "metadata": {},
   "source": [
    "Finally, print the top-10 words for the negative and positive class respectively."
   ]
  },
  {
   "cell_type": "code",
   "execution_count": 32,
   "metadata": {
    "ExecuteTime": {
     "end_time": "2020-02-15T14:37:07.638179Z",
     "start_time": "2020-02-15T14:37:07.635838Z"
    }
   },
   "outputs": [
    {
     "name": "stdout",
     "output_type": "stream",
     "text": [
      "The top 10 positive words are ['great', 'well', 'also', 'seen', 'life', 'fun', 'world', 'many', 'movies', 'see'] respectively.\n",
      "The top 10 negative words are ['bad', 'only', 'worst', 'unfortunately', 'script', 'why', 'plot', 'boring', 'any', 'nothing'] respectively.\n"
     ]
    }
   ],
   "source": [
    "# fill in your code...\n",
    "# Obtain a new dictionary to store the weight\n",
    "dic_weight = dict()\n",
    "for i,weight in enumerate(w_count):\n",
    "    dic_weight[vocab[i]] = weight\n",
    "    \n",
    "# Obtain the positive words\n",
    "dic_resultP = dict()\n",
    "dic_resultN = dict()\n",
    "\n",
    "for word,weight in dic_weight.items():\n",
    "    if weight >= 0:\n",
    "        dic_resultP[word] = weight\n",
    "    else:\n",
    "        dic_resultN[word] = weight\n",
    "\n",
    "dic_resultP = dict(sorted(dic_resultP.items(),key=lambda weight:weight[1], reverse=True)[:10])\n",
    "dic_resultN = dict(sorted(dic_resultN.items(),key=lambda weight:weight[1], reverse=False)[:10])\n",
    "\n",
    "print(\"The top 10 positive words are %s respectively.\"% list(dic_resultP.keys()))\n",
    "print(\"The top 10 negative words are %s respectively.\"% list(dic_resultN.keys()))"
   ]
  },
  {
   "cell_type": "markdown",
   "metadata": {},
   "source": [
    "If we were to apply the classifier we've learned into a different domain such laptop reviews or restaurant reviews, do you think these features would generalise well? Can you propose what features the classifier could pick up as important in the new domain?"
   ]
  },
  {
   "cell_type": "markdown",
   "metadata": {},
   "source": [
    "Provide your answer here...\n",
    "\n",
    "**Answer**:\n",
    "\n",
    "We could use this trained features into the different domain such as the shopping reviews or restaurant reviews.\n",
    "\n",
    "The features like positive category such as 'well' 'good' and negative category such as 'nothing' 'worst' 'unfortunately'.\n",
    "\n",
    "But we should remove some irrelevant words from the data set.\n"
   ]
  },
  {
   "cell_type": "markdown",
   "metadata": {},
   "source": [
    "## Train and Evaluate Logistic Regression with TF.IDF vectors\n",
    "\n",
    "Follow the same steps as above (i.e. evaluating count n-gram representations).\n"
   ]
  },
  {
   "cell_type": "code",
   "execution_count": 33,
   "metadata": {
    "ExecuteTime": {
     "end_time": "2020-02-15T14:17:54.414637Z",
     "start_time": "2020-02-15T14:17:51.625934Z"
    },
    "scrolled": true
   },
   "outputs": [
    {
     "name": "stdout",
     "output_type": "stream",
     "text": [
      "Epoch: 0 | Training loss: 0.630729 | Validation loss: 0.597229\n",
      "Epoch: 1 | Training loss: 0.493460 | Validation loss: 0.549631\n",
      "Epoch: 2 | Training loss: 0.416168 | Validation loss: 0.518829\n",
      "Epoch: 3 | Training loss: 0.364288 | Validation loss: 0.496018\n",
      "Epoch: 4 | Training loss: 0.326064 | Validation loss: 0.478729\n",
      "Epoch: 5 | Training loss: 0.295907 | Validation loss: 0.464445\n",
      "Epoch: 6 | Training loss: 0.271674 | Validation loss: 0.453058\n",
      "Epoch: 7 | Training loss: 0.251322 | Validation loss: 0.443290\n",
      "Epoch: 8 | Training loss: 0.234251 | Validation loss: 0.434850\n",
      "Epoch: 9 | Training loss: 0.219420 | Validation loss: 0.427794\n",
      "Epoch: 10 | Training loss: 0.206445 | Validation loss: 0.421439\n",
      "Epoch: 11 | Training loss: 0.195075 | Validation loss: 0.415901\n",
      "Epoch: 12 | Training loss: 0.184735 | Validation loss: 0.411163\n",
      "Epoch: 13 | Training loss: 0.175831 | Validation loss: 0.406658\n",
      "Epoch: 14 | Training loss: 0.167590 | Validation loss: 0.402873\n",
      "Epoch: 15 | Training loss: 0.160046 | Validation loss: 0.399387\n",
      "Epoch: 16 | Training loss: 0.153221 | Validation loss: 0.396397\n",
      "Epoch: 17 | Training loss: 0.147066 | Validation loss: 0.393370\n",
      "Epoch: 18 | Training loss: 0.141323 | Validation loss: 0.390855\n",
      "Epoch: 19 | Training loss: 0.136002 | Validation loss: 0.388535\n",
      "Epoch: 20 | Training loss: 0.131096 | Validation loss: 0.386326\n",
      "Epoch: 21 | Training loss: 0.126505 | Validation loss: 0.384335\n",
      "Epoch: 22 | Training loss: 0.122269 | Validation loss: 0.382568\n",
      "Epoch: 23 | Training loss: 0.118276 | Validation loss: 0.380904\n",
      "Epoch: 24 | Training loss: 0.114532 | Validation loss: 0.379329\n",
      "Epoch: 25 | Training loss: 0.111039 | Validation loss: 0.377924\n",
      "Epoch: 26 | Training loss: 0.107706 | Validation loss: 0.376605\n",
      "Epoch: 27 | Training loss: 0.104634 | Validation loss: 0.375432\n",
      "Epoch: 28 | Training loss: 0.101692 | Validation loss: 0.374373\n",
      "Epoch: 29 | Training loss: 0.098921 | Validation loss: 0.373359\n",
      "Epoch: 30 | Training loss: 0.096292 | Validation loss: 0.372366\n",
      "Epoch: 31 | Training loss: 0.093803 | Validation loss: 0.371521\n",
      "Epoch: 32 | Training loss: 0.091426 | Validation loss: 0.370673\n",
      "Epoch: 33 | Training loss: 0.089156 | Validation loss: 0.369987\n",
      "Epoch: 34 | Training loss: 0.087034 | Validation loss: 0.369267\n",
      "Epoch: 35 | Training loss: 0.084975 | Validation loss: 0.368527\n",
      "Epoch: 36 | Training loss: 0.083033 | Validation loss: 0.367945\n",
      "Epoch: 37 | Training loss: 0.081161 | Validation loss: 0.367391\n",
      "Epoch: 38 | Training loss: 0.079381 | Validation loss: 0.366891\n",
      "Epoch: 39 | Training loss: 0.077667 | Validation loss: 0.366370\n",
      "Epoch: 40 | Training loss: 0.076026 | Validation loss: 0.365968\n",
      "Epoch: 41 | Training loss: 0.074460 | Validation loss: 0.365520\n",
      "Epoch: 42 | Training loss: 0.072951 | Validation loss: 0.365144\n",
      "Epoch: 43 | Training loss: 0.071504 | Validation loss: 0.364762\n",
      "Epoch: 44 | Training loss: 0.070098 | Validation loss: 0.364381\n",
      "Epoch: 45 | Training loss: 0.068767 | Validation loss: 0.364058\n",
      "Epoch: 46 | Training loss: 0.067476 | Validation loss: 0.363774\n",
      "Epoch: 47 | Training loss: 0.066228 | Validation loss: 0.363475\n",
      "Epoch: 48 | Training loss: 0.065026 | Validation loss: 0.363235\n",
      "Epoch: 49 | Training loss: 0.063871 | Validation loss: 0.362977\n"
     ]
    }
   ],
   "source": [
    "w_tfidf, trl, devl = SGD(X_tr_tfidf, data_tr_label, \n",
    "                         X_dev=X_dev_tfidf, \n",
    "                         Y_dev=data_dev_label, \n",
    "                         lr=0.0001, \n",
    "                         alpha=0.00001, \n",
    "                         epochs=50)"
   ]
  },
  {
   "cell_type": "markdown",
   "metadata": {},
   "source": [
    "Now plot the training and validation history per epoch. Does your model underfit, overfit or is it about right? Explain why."
   ]
  },
  {
   "cell_type": "code",
   "execution_count": 34,
   "metadata": {
    "ExecuteTime": {
     "end_time": "2020-02-15T14:17:54.517668Z",
     "start_time": "2020-02-15T14:17:54.417118Z"
    }
   },
   "outputs": [
    {
     "data": {
      "image/png": "[encoded data removed]",
      "text/plain": [
       "<Figure size 432x288 with 1 Axes>"
      ]
     },
     "metadata": {
      "needs_background": "light"
     },
     "output_type": "display_data"
    }
   ],
   "source": [
    "x = np.linspace(0,len(trl),len(trl))\n",
    "\n",
    "plt.plot(x, trl,label='Training loss')\n",
    "plt.plot(x, devl, label='Validation loss')\n",
    "\n",
    "plt.title('Training Monitoring')\n",
    "plt.xlabel('Epochs')\n",
    "plt.ylabel('Loss')\n",
    "plt.legend() \n",
    "plt.show()"
   ]
  },
  {
   "cell_type": "markdown",
   "metadata": {},
   "source": [
    "The model have reached at the overfit situation,because the gap between the Training loss and Validation loss is very large."
   ]
  },
  {
   "cell_type": "markdown",
   "metadata": {},
   "source": [
    "Compute accuracy, precision, recall and F1-scores:"
   ]
  },
  {
   "cell_type": "code",
   "execution_count": 35,
   "metadata": {
    "ExecuteTime": {
     "end_time": "2020-02-15T14:37:56.489814Z",
     "start_time": "2020-02-15T14:37:56.487014Z"
    }
   },
   "outputs": [
    {
     "name": "stdout",
     "output_type": "stream",
     "text": [
      "Accuracy: 0.8675\n",
      "Precision: 0.8516746411483254\n",
      "Recall: 0.89\n",
      "F1-Score: 0.8704156479217604\n"
     ]
    }
   ],
   "source": [
    "# fill in your code...\n",
    "preds_te = predict_class(X_test_tfidf, w_tfidf)\n",
    "Y_te = data_test_label\n",
    "\n",
    "print('Accuracy:', accuracy_score(Y_te,preds_te))\n",
    "print('Precision:', precision_score(Y_te,preds_te))\n",
    "print('Recall:', recall_score(Y_te,preds_te))\n",
    "print('F1-Score:', f1_score(Y_te,preds_te))"
   ]
  },
  {
   "cell_type": "markdown",
   "metadata": {},
   "source": [
    "Print top-10 most positive and negative words:"
   ]
  },
  {
   "cell_type": "code",
   "execution_count": 36,
   "metadata": {
    "ExecuteTime": {
     "end_time": "2020-02-15T14:38:17.845485Z",
     "start_time": "2020-02-15T14:38:17.842557Z"
    }
   },
   "outputs": [
    {
     "name": "stdout",
     "output_type": "stream",
     "text": [
      "The top 10 positive words are ['great', 'hilarious', 'fun', 'terrific', 'overall', 'perfectly', 'definitely', 'memorable', 'life', 'simple'] respectively.\n",
      "The top 10 negative words are ['bad', 'worst', 'boring', 'supposed', 'unfortunately', 'waste', 'awful', 'poor', 'script', 'nothing'] respectively.\n"
     ]
    }
   ],
   "source": [
    "# fill in your code...\n",
    "# Obtain a new dictionary to store the weight\n",
    "dic_weight = dict()\n",
    "for i,weight in enumerate(w_tfidf):\n",
    "    dic_weight[vocab[i]] = weight\n",
    "    \n",
    "# Obtain the positive words\n",
    "dic_resultP = dict()\n",
    "dic_resultN = dict()\n",
    "\n",
    "for word,weight in dic_weight.items():\n",
    "    if weight >= 0:\n",
    "        dic_resultP[word] = weight\n",
    "    else:\n",
    "        dic_resultN[word] = weight\n",
    "\n",
    "dic_resultP = dict(sorted(dic_resultP.items(),key=lambda weight:weight[1], reverse=True)[:10])\n",
    "dic_resultN = dict(sorted(dic_resultN.items(),key=lambda weight:weight[1], reverse=False)[:10])\n",
    "\n",
    "print(\"The top 10 positive words are %s respectively.\"% list(dic_resultP.keys()))\n",
    "print(\"The top 10 negative words are %s respectively.\"% list(dic_resultN.keys()))\n"
   ]
  },
  {
   "cell_type": "markdown",
   "metadata": {},
   "source": [
    "### Discuss how did you choose model hyperparameters (e.g. learning rate and regularisation strength)? What is the relation between training epochs and learning rate? How the regularisation strength affects performance?"
   ]
  },
  {
   "cell_type": "markdown",
   "metadata": {},
   "source": [
    "Enter your answer here..."
   ]
  },
  {
   "cell_type": "code",
   "execution_count": 38,
   "metadata": {},
   "outputs": [
    {
     "name": "stdout",
     "output_type": "stream",
     "text": [
      "Epoch: 0 | Training loss: 0.490848 | Validation loss: 0.422014\n",
      "Epoch: 1 | Training loss: 0.179338 | Validation loss: 0.378674\n",
      "Epoch: 2 | Training loss: 0.109270 | Validation loss: 0.371132\n",
      "Epoch: 3 | Training loss: 0.081879 | Validation loss: 0.365232\n",
      "Epoch: 4 | Training loss: 0.066032 | Validation loss: 0.363066\n",
      "Epoch: 5 | Training loss: 0.055511 | Validation loss: 0.363308\n",
      "lr = 0.001000, alpha= 0.001000; Predict_Class:0.861314\n",
      "Epoch: 0 | Training loss: 0.492331 | Validation loss: 0.425297\n",
      "Epoch: 1 | Training loss: 0.176187 | Validation loss: 0.387362\n",
      "Epoch: 2 | Training loss: 0.109291 | Validation loss: 0.383238\n",
      "Epoch: 3 | Training loss: 0.081937 | Validation loss: 0.368167\n",
      "Epoch: 4 | Training loss: 0.065579 | Validation loss: 0.364402\n",
      "Epoch: 5 | Training loss: 0.055040 | Validation loss: 0.363961\n",
      "Epoch: 6 | Training loss: 0.047454 | Validation loss: 0.364355\n",
      "lr = 0.001000, alpha= 0.000500; Predict_Class:0.866337\n",
      "Epoch: 0 | Training loss: 0.494068 | Validation loss: 0.426704\n",
      "Epoch: 1 | Training loss: 0.173315 | Validation loss: 0.390385\n",
      "Epoch: 2 | Training loss: 0.109115 | Validation loss: 0.378187\n",
      "Epoch: 3 | Training loss: 0.081341 | Validation loss: 0.369791\n",
      "Epoch: 4 | Training loss: 0.065311 | Validation loss: 0.367865\n",
      "Epoch: 5 | Training loss: 0.054376 | Validation loss: 0.365924\n",
      "Epoch: 6 | Training loss: 0.046644 | Validation loss: 0.369589\n",
      "lr = 0.001000, alpha= 0.000100; Predict_Class:0.864078\n",
      "Epoch: 0 | Training loss: 0.530480 | Validation loss: 0.473739\n",
      "Epoch: 1 | Training loss: 0.268423 | Validation loss: 0.423822\n",
      "Epoch: 2 | Training loss: 0.189719 | Validation loss: 0.400644\n",
      "Epoch: 3 | Training loss: 0.148375 | Validation loss: 0.391764\n",
      "Epoch: 4 | Training loss: 0.122753 | Validation loss: 0.379869\n",
      "Epoch: 5 | Training loss: 0.104440 | Validation loss: 0.374024\n",
      "Epoch: 6 | Training loss: 0.091104 | Validation loss: 0.370380\n",
      "Epoch: 7 | Training loss: 0.080774 | Validation loss: 0.367905\n",
      "Epoch: 8 | Training loss: 0.072655 | Validation loss: 0.365872\n",
      "Epoch: 9 | Training loss: 0.066095 | Validation loss: 0.364131\n",
      "Epoch: 10 | Training loss: 0.060632 | Validation loss: 0.363386\n",
      "Epoch: 11 | Training loss: 0.056028 | Validation loss: 0.363041\n",
      "Epoch: 12 | Training loss: 0.052141 | Validation loss: 0.362894\n",
      "Epoch: 13 | Training loss: 0.048758 | Validation loss: 0.362838\n",
      "lr = 0.000500, alpha= 0.001000; Predict_Class:0.864198\n",
      "Epoch: 0 | Training loss: 0.525952 | Validation loss: 0.475222\n",
      "Epoch: 1 | Training loss: 0.270389 | Validation loss: 0.421016\n",
      "Epoch: 2 | Training loss: 0.189989 | Validation loss: 0.397285\n",
      "Epoch: 3 | Training loss: 0.148396 | Validation loss: 0.385271\n",
      "Epoch: 4 | Training loss: 0.121986 | Validation loss: 0.377747\n",
      "Epoch: 5 | Training loss: 0.104137 | Validation loss: 0.371402\n",
      "Epoch: 6 | Training loss: 0.090657 | Validation loss: 0.367627\n",
      "Epoch: 7 | Training loss: 0.080333 | Validation loss: 0.365394\n",
      "Epoch: 8 | Training loss: 0.072127 | Validation loss: 0.363618\n",
      "Epoch: 9 | Training loss: 0.065504 | Validation loss: 0.362583\n",
      "Epoch: 10 | Training loss: 0.059988 | Validation loss: 0.361900\n",
      "Epoch: 11 | Training loss: 0.055323 | Validation loss: 0.361397\n",
      "Epoch: 12 | Training loss: 0.051402 | Validation loss: 0.361224\n",
      "Epoch: 13 | Training loss: 0.047974 | Validation loss: 0.361317\n",
      "lr = 0.000500, alpha= 0.000500; Predict_Class:0.866995\n",
      "Epoch: 0 | Training loss: 0.530445 | Validation loss: 0.464269\n",
      "Epoch: 1 | Training loss: 0.268302 | Validation loss: 0.416873\n",
      "Epoch: 2 | Training loss: 0.189291 | Validation loss: 0.401766\n",
      "Epoch: 3 | Training loss: 0.148315 | Validation loss: 0.383875\n",
      "Epoch: 4 | Training loss: 0.121990 | Validation loss: 0.376471\n",
      "Epoch: 5 | Training loss: 0.103667 | Validation loss: 0.370455\n",
      "Epoch: 6 | Training loss: 0.090249 | Validation loss: 0.367373\n",
      "Epoch: 7 | Training loss: 0.079840 | Validation loss: 0.365303\n",
      "Epoch: 8 | Training loss: 0.071625 | Validation loss: 0.363942\n",
      "Epoch: 9 | Training loss: 0.064853 | Validation loss: 0.364041\n",
      "lr = 0.000500, alpha= 0.000100; Predict_Class:0.866180\n",
      "Epoch: 0 | Training loss: 0.630648 | Validation loss: 0.597692\n",
      "Epoch: 1 | Training loss: 0.492887 | Validation loss: 0.549601\n",
      "Epoch: 2 | Training loss: 0.416346 | Validation loss: 0.518746\n",
      "Epoch: 3 | Training loss: 0.364555 | Validation loss: 0.496064\n",
      "Epoch: 4 | Training loss: 0.326253 | Validation loss: 0.478117\n",
      "Epoch: 5 | Training loss: 0.296074 | Validation loss: 0.464310\n",
      "Epoch: 6 | Training loss: 0.271874 | Validation loss: 0.452527\n",
      "Epoch: 7 | Training loss: 0.251645 | Validation loss: 0.442786\n",
      "Epoch: 8 | Training loss: 0.234474 | Validation loss: 0.434592\n",
      "Epoch: 9 | Training loss: 0.219702 | Validation loss: 0.427568\n",
      "Epoch: 10 | Training loss: 0.206752 | Validation loss: 0.421386\n",
      "Epoch: 11 | Training loss: 0.195317 | Validation loss: 0.415953\n",
      "Epoch: 12 | Training loss: 0.185297 | Validation loss: 0.410943\n",
      "Epoch: 13 | Training loss: 0.176200 | Validation loss: 0.406562\n",
      "Epoch: 14 | Training loss: 0.167997 | Validation loss: 0.402688\n",
      "Epoch: 15 | Training loss: 0.160526 | Validation loss: 0.399364\n",
      "Epoch: 16 | Training loss: 0.153758 | Validation loss: 0.396149\n",
      "Epoch: 17 | Training loss: 0.147560 | Validation loss: 0.393273\n",
      "Epoch: 18 | Training loss: 0.141840 | Validation loss: 0.390690\n",
      "Epoch: 19 | Training loss: 0.136570 | Validation loss: 0.388328\n",
      "Epoch: 20 | Training loss: 0.131660 | Validation loss: 0.386190\n",
      "Epoch: 21 | Training loss: 0.127068 | Validation loss: 0.384394\n",
      "Epoch: 22 | Training loss: 0.122892 | Validation loss: 0.382542\n",
      "Epoch: 23 | Training loss: 0.118922 | Validation loss: 0.380867\n",
      "Epoch: 24 | Training loss: 0.115206 | Validation loss: 0.379253\n",
      "Epoch: 25 | Training loss: 0.111732 | Validation loss: 0.377842\n",
      "Epoch: 26 | Training loss: 0.108456 | Validation loss: 0.376516\n",
      "Epoch: 27 | Training loss: 0.105381 | Validation loss: 0.375320\n",
      "Epoch: 28 | Training loss: 0.102460 | Validation loss: 0.374212\n",
      "Epoch: 29 | Training loss: 0.099726 | Validation loss: 0.373198\n",
      "Epoch: 30 | Training loss: 0.097110 | Validation loss: 0.372263\n",
      "Epoch: 31 | Training loss: 0.094642 | Validation loss: 0.371367\n",
      "Epoch: 32 | Training loss: 0.092285 | Validation loss: 0.370559\n",
      "Epoch: 33 | Training loss: 0.090071 | Validation loss: 0.369790\n",
      "Epoch: 34 | Training loss: 0.087940 | Validation loss: 0.369093\n",
      "Epoch: 35 | Training loss: 0.085902 | Validation loss: 0.368481\n",
      "Epoch: 36 | Training loss: 0.083992 | Validation loss: 0.367818\n",
      "Epoch: 37 | Training loss: 0.082147 | Validation loss: 0.367236\n",
      "Epoch: 38 | Training loss: 0.080383 | Validation loss: 0.366715\n",
      "Epoch: 39 | Training loss: 0.078691 | Validation loss: 0.366188\n",
      "Epoch: 40 | Training loss: 0.077071 | Validation loss: 0.365700\n",
      "Epoch: 41 | Training loss: 0.075524 | Validation loss: 0.365278\n",
      "Epoch: 42 | Training loss: 0.074032 | Validation loss: 0.364920\n",
      "Epoch: 43 | Training loss: 0.072605 | Validation loss: 0.364529\n",
      "Epoch: 44 | Training loss: 0.071217 | Validation loss: 0.364192\n",
      "Epoch: 45 | Training loss: 0.069910 | Validation loss: 0.363865\n",
      "Epoch: 46 | Training loss: 0.068645 | Validation loss: 0.363564\n",
      "Epoch: 47 | Training loss: 0.067389 | Validation loss: 0.363356\n",
      "Epoch: 48 | Training loss: 0.066227 | Validation loss: 0.363043\n",
      "Epoch: 49 | Training loss: 0.065097 | Validation loss: 0.362808\n",
      "lr = 0.000100, alpha= 0.001000; Predict_Class:0.869779\n",
      "Epoch: 0 | Training loss: 0.629683 | Validation loss: 0.598444\n",
      "Epoch: 1 | Training loss: 0.492813 | Validation loss: 0.549464\n",
      "Epoch: 2 | Training loss: 0.416894 | Validation loss: 0.518050\n",
      "Epoch: 3 | Training loss: 0.364683 | Validation loss: 0.496071\n",
      "Epoch: 4 | Training loss: 0.325984 | Validation loss: 0.478819\n",
      "Epoch: 5 | Training loss: 0.296142 | Validation loss: 0.464652\n",
      "Epoch: 6 | Training loss: 0.271887 | Validation loss: 0.452846\n",
      "Epoch: 7 | Training loss: 0.251594 | Validation loss: 0.443159\n",
      "Epoch: 8 | Training loss: 0.234339 | Validation loss: 0.434699\n",
      "Epoch: 9 | Training loss: 0.219605 | Validation loss: 0.427679\n",
      "Epoch: 10 | Training loss: 0.206682 | Validation loss: 0.421415\n",
      "Epoch: 11 | Training loss: 0.195259 | Validation loss: 0.415930\n",
      "Epoch: 12 | Training loss: 0.185059 | Validation loss: 0.411120\n",
      "Epoch: 13 | Training loss: 0.176049 | Validation loss: 0.406791\n",
      "Epoch: 14 | Training loss: 0.167775 | Validation loss: 0.402894\n",
      "Epoch: 15 | Training loss: 0.160169 | Validation loss: 0.399585\n"
     ]
    },
    {
     "name": "stdout",
     "output_type": "stream",
     "text": [
      "Epoch: 16 | Training loss: 0.153589 | Validation loss: 0.396217\n",
      "Epoch: 17 | Training loss: 0.147341 | Validation loss: 0.393365\n",
      "Epoch: 18 | Training loss: 0.141567 | Validation loss: 0.390807\n",
      "Epoch: 19 | Training loss: 0.136311 | Validation loss: 0.388407\n",
      "Epoch: 20 | Training loss: 0.131382 | Validation loss: 0.386209\n",
      "Epoch: 21 | Training loss: 0.126832 | Validation loss: 0.384290\n",
      "Epoch: 22 | Training loss: 0.122541 | Validation loss: 0.382424\n",
      "Epoch: 23 | Training loss: 0.118607 | Validation loss: 0.380771\n",
      "Epoch: 24 | Training loss: 0.114888 | Validation loss: 0.379330\n",
      "Epoch: 25 | Training loss: 0.111400 | Validation loss: 0.377933\n",
      "Epoch: 26 | Training loss: 0.108108 | Validation loss: 0.376662\n",
      "Epoch: 27 | Training loss: 0.105007 | Validation loss: 0.375498\n",
      "Epoch: 28 | Training loss: 0.102087 | Validation loss: 0.374284\n",
      "Epoch: 29 | Training loss: 0.099319 | Validation loss: 0.373285\n",
      "Epoch: 30 | Training loss: 0.096713 | Validation loss: 0.372282\n",
      "Epoch: 31 | Training loss: 0.094228 | Validation loss: 0.371378\n",
      "Epoch: 32 | Training loss: 0.091871 | Validation loss: 0.370556\n",
      "Epoch: 33 | Training loss: 0.089624 | Validation loss: 0.369776\n",
      "Epoch: 34 | Training loss: 0.087486 | Validation loss: 0.369059\n",
      "Epoch: 35 | Training loss: 0.085456 | Validation loss: 0.368410\n",
      "Epoch: 36 | Training loss: 0.083508 | Validation loss: 0.367790\n",
      "Epoch: 37 | Training loss: 0.081658 | Validation loss: 0.367220\n",
      "Epoch: 38 | Training loss: 0.079853 | Validation loss: 0.366734\n",
      "Epoch: 39 | Training loss: 0.078182 | Validation loss: 0.366165\n",
      "Epoch: 40 | Training loss: 0.076554 | Validation loss: 0.365695\n",
      "Epoch: 41 | Training loss: 0.074992 | Validation loss: 0.365289\n",
      "Epoch: 42 | Training loss: 0.073493 | Validation loss: 0.364882\n",
      "Epoch: 43 | Training loss: 0.072051 | Validation loss: 0.364500\n",
      "Epoch: 44 | Training loss: 0.070670 | Validation loss: 0.364161\n",
      "Epoch: 45 | Training loss: 0.069328 | Validation loss: 0.363809\n",
      "Epoch: 46 | Training loss: 0.068054 | Validation loss: 0.363505\n",
      "Epoch: 47 | Training loss: 0.066814 | Validation loss: 0.363223\n",
      "Epoch: 48 | Training loss: 0.065618 | Validation loss: 0.363024\n",
      "Epoch: 49 | Training loss: 0.064479 | Validation loss: 0.362802\n",
      "lr = 0.000100, alpha= 0.000500; Predict_Class:0.868293\n",
      "Epoch: 0 | Training loss: 0.631021 | Validation loss: 0.598696\n",
      "Epoch: 1 | Training loss: 0.493515 | Validation loss: 0.549354\n",
      "Epoch: 2 | Training loss: 0.416807 | Validation loss: 0.517926\n",
      "Epoch: 3 | Training loss: 0.364625 | Validation loss: 0.495753\n",
      "Epoch: 4 | Training loss: 0.326144 | Validation loss: 0.478580\n",
      "Epoch: 5 | Training loss: 0.296179 | Validation loss: 0.464246\n",
      "Epoch: 6 | Training loss: 0.271745 | Validation loss: 0.452898\n",
      "Epoch: 7 | Training loss: 0.251291 | Validation loss: 0.443203\n",
      "Epoch: 8 | Training loss: 0.234339 | Validation loss: 0.434737\n",
      "Epoch: 9 | Training loss: 0.219472 | Validation loss: 0.427603\n",
      "Epoch: 10 | Training loss: 0.206497 | Validation loss: 0.421511\n",
      "Epoch: 11 | Training loss: 0.195106 | Validation loss: 0.416031\n",
      "Epoch: 12 | Training loss: 0.184951 | Validation loss: 0.411158\n",
      "Epoch: 13 | Training loss: 0.175868 | Validation loss: 0.406794\n",
      "Epoch: 14 | Training loss: 0.167600 | Validation loss: 0.402912\n",
      "Epoch: 15 | Training loss: 0.160141 | Validation loss: 0.399466\n",
      "Epoch: 16 | Training loss: 0.153337 | Validation loss: 0.396372\n",
      "Epoch: 17 | Training loss: 0.147122 | Validation loss: 0.393490\n",
      "Epoch: 18 | Training loss: 0.141353 | Validation loss: 0.390911\n",
      "Epoch: 19 | Training loss: 0.136057 | Validation loss: 0.388517\n",
      "Epoch: 20 | Training loss: 0.131130 | Validation loss: 0.386454\n",
      "Epoch: 21 | Training loss: 0.126575 | Validation loss: 0.384496\n",
      "Epoch: 22 | Training loss: 0.122295 | Validation loss: 0.382750\n",
      "Epoch: 23 | Training loss: 0.118314 | Validation loss: 0.381120\n",
      "Epoch: 24 | Training loss: 0.114600 | Validation loss: 0.379520\n",
      "Epoch: 25 | Training loss: 0.111085 | Validation loss: 0.378076\n",
      "Epoch: 26 | Training loss: 0.107765 | Validation loss: 0.376791\n",
      "Epoch: 27 | Training loss: 0.104701 | Validation loss: 0.375590\n",
      "Epoch: 28 | Training loss: 0.101762 | Validation loss: 0.374484\n",
      "Epoch: 29 | Training loss: 0.098995 | Validation loss: 0.373433\n",
      "Epoch: 30 | Training loss: 0.096369 | Validation loss: 0.372402\n",
      "Epoch: 31 | Training loss: 0.093876 | Validation loss: 0.371507\n",
      "Epoch: 32 | Training loss: 0.091479 | Validation loss: 0.370758\n",
      "Epoch: 33 | Training loss: 0.089257 | Validation loss: 0.369907\n",
      "Epoch: 34 | Training loss: 0.087105 | Validation loss: 0.369222\n",
      "Epoch: 35 | Training loss: 0.085068 | Validation loss: 0.368578\n",
      "Epoch: 36 | Training loss: 0.083113 | Validation loss: 0.367987\n",
      "Epoch: 37 | Training loss: 0.081254 | Validation loss: 0.367411\n",
      "Epoch: 38 | Training loss: 0.079468 | Validation loss: 0.366887\n",
      "Epoch: 39 | Training loss: 0.077760 | Validation loss: 0.366374\n",
      "Epoch: 40 | Training loss: 0.076124 | Validation loss: 0.365914\n",
      "Epoch: 41 | Training loss: 0.074544 | Validation loss: 0.365460\n",
      "Epoch: 42 | Training loss: 0.073049 | Validation loss: 0.365051\n",
      "Epoch: 43 | Training loss: 0.071593 | Validation loss: 0.364705\n",
      "Epoch: 44 | Training loss: 0.070206 | Validation loss: 0.364347\n",
      "Epoch: 45 | Training loss: 0.068860 | Validation loss: 0.364000\n",
      "Epoch: 46 | Training loss: 0.067574 | Validation loss: 0.363682\n",
      "Epoch: 47 | Training loss: 0.066335 | Validation loss: 0.363417\n",
      "Epoch: 48 | Training loss: 0.065132 | Validation loss: 0.363194\n",
      "Epoch: 49 | Training loss: 0.063978 | Validation loss: 0.362955\n",
      "lr = 0.000100, alpha= 0.000100; Predict_Class:0.870416\n"
     ]
    }
   ],
   "source": [
    "lr_set = [0.001,0.0005,0.0001]\n",
    "alpha_set = [0.001,0.0005,0.0001]\n",
    "\n",
    "for lr_sid in range(len(lr_set)):\n",
    "    for alpha_sid in range(len(alpha_set)):\n",
    "        w_tfidf, trl, devl = SGD(X_tr_tfidf, data_tr_label, \n",
    "                         X_dev=X_dev_tfidf, \n",
    "                         Y_dev=data_dev_label, \n",
    "                         lr=lr_set[lr_sid], \n",
    "                         alpha=alpha_set[alpha_sid], \n",
    "                         epochs=50)\n",
    "        preds_te = predict_class(X_test_tfidf, w_tfidf)\n",
    "        print(\"lr = %f, alpha= %f;\"%(lr_set[lr_sid],alpha_set[alpha_sid]),'Predict_Class:%f'%(f1_score(Y_te,preds_te)))"
   ]
  },
  {
   "cell_type": "markdown",
   "metadata": {},
   "source": [
    "From the previous result, we can find that whtn the lr=0.0001,alpha=0.0001, the value of the F1-Score has reached at the peak.\n",
    "\n",
    "So we conclude that the lr has more influence on the model training.\n",
    "\n",
    "If we want to avoid the overfitting, we should apply the regularization."
   ]
  },
  {
   "cell_type": "markdown",
   "metadata": {},
   "source": [
    "\n",
    "\n",
    "## Full Results\n",
    "\n",
    "Add here your results:\n",
    "\n",
    "| LR | Precision  | Recall  | F1-Score  |\n",
    "|:-:|:-:|:-:|:-:|\n",
    "| BOW-count  |  0.825 | 0.85  |  0.83744 |\n",
    "| BOW-tfidf  |   0.85167 |  0.89 | 0.8704156  |\n"
   ]
  },
  {
   "cell_type": "markdown",
   "metadata": {},
   "source": [
    "# Multi-class Logistic Regression \n",
    "\n",
    "Now you need to train a Multiclass Logistic Regression (MLR) Classifier by extending the Binary model you developed above. You will use the MLR model to perform topic classification on the AG news dataset consisting of three classes:"
   ]
  },
  {
   "cell_type": "markdown",
   "metadata": {},
   "source": [
    "- Class 1: World\n",
    "- Class 2: Sports\n",
    "- Class 3: Business"
   ]
  },
  {
   "cell_type": "markdown",
   "metadata": {},
   "source": [
    "You need to follow the same process as in Task 1 for data processing and feature extraction by reusing the functions you wrote."
   ]
  },
  {
   "cell_type": "code",
   "execution_count": 39,
   "metadata": {
    "ExecuteTime": {
     "end_time": "2020-02-15T14:18:03.212229Z",
     "start_time": "2020-02-15T14:18:03.185261Z"
    }
   },
   "outputs": [],
   "source": [
    "# fill in your code...\n",
    "data_tr = pd.read_csv(\"./data_topic/train.csv\",header=None, names=['label','text'])\n",
    "data_dev = pd.read_csv(\"./data_topic/dev.csv\",header=None, names=['label','text'])\n",
    "data_test = pd.read_csv(\"./data_topic/test.csv\",header=None, names=['label','text'])"
   ]
  },
  {
   "cell_type": "code",
   "execution_count": 40,
   "metadata": {
    "ExecuteTime": {
     "end_time": "2020-02-15T14:18:03.515585Z",
     "start_time": "2020-02-15T14:18:03.508299Z"
    }
   },
   "outputs": [
    {
     "data": {
      "text/html": [
       "<div>\n",
       "<style scoped>\n",
       "    .dataframe tbody tr th:only-of-type {\n",
       "        vertical-align: middle;\n",
       "    }\n",
       "\n",
       "    .dataframe tbody tr th {\n",
       "        vertical-align: top;\n",
       "    }\n",
       "\n",
       "    .dataframe thead th {\n",
       "        text-align: right;\n",
       "    }\n",
       "</style>\n",
       "<table border=\"1\" class=\"dataframe\">\n",
       "  <thead>\n",
       "    <tr style=\"text-align: right;\">\n",
       "      <th></th>\n",
       "      <th>label</th>\n",
       "      <th>text</th>\n",
       "    </tr>\n",
       "  </thead>\n",
       "  <tbody>\n",
       "    <tr>\n",
       "      <th>0</th>\n",
       "      <td>1</td>\n",
       "      <td>Reuters - Venezuelans turned out early\\and in ...</td>\n",
       "    </tr>\n",
       "    <tr>\n",
       "      <th>1</th>\n",
       "      <td>1</td>\n",
       "      <td>Reuters - South Korean police used water canno...</td>\n",
       "    </tr>\n",
       "    <tr>\n",
       "      <th>2</th>\n",
       "      <td>1</td>\n",
       "      <td>Reuters - Thousands of Palestinian\\prisoners i...</td>\n",
       "    </tr>\n",
       "    <tr>\n",
       "      <th>3</th>\n",
       "      <td>1</td>\n",
       "      <td>AFP - Sporadic gunfire and shelling took place...</td>\n",
       "    </tr>\n",
       "    <tr>\n",
       "      <th>4</th>\n",
       "      <td>1</td>\n",
       "      <td>AP - Dozens of Rwandan soldiers flew into Suda...</td>\n",
       "    </tr>\n",
       "  </tbody>\n",
       "</table>\n",
       "</div>"
      ],
      "text/plain": [
       "   label                                               text\n",
       "0      1  Reuters - Venezuelans turned out early\\and in ...\n",
       "1      1  Reuters - South Korean police used water canno...\n",
       "2      1  Reuters - Thousands of Palestinian\\prisoners i...\n",
       "3      1  AFP - Sporadic gunfire and shelling took place...\n",
       "4      1  AP - Dozens of Rwandan soldiers flew into Suda..."
      ]
     },
     "execution_count": 40,
     "metadata": {},
     "output_type": "execute_result"
    }
   ],
   "source": [
    "data_tr.head()"
   ]
  },
  {
   "cell_type": "code",
   "execution_count": 41,
   "metadata": {
    "ExecuteTime": {
     "end_time": "2020-02-15T14:18:03.806523Z",
     "start_time": "2020-02-15T14:18:03.798279Z"
    }
   },
   "outputs": [],
   "source": [
    "# We can obtain the all the file into \n",
    "data_tr_list = [word.lower() for word in data_tr['text'].tolist()]\n",
    "data_tr_label = np.array(data_tr['label'])\n",
    "# development dataset\n",
    "data_dev_list = [word.lower() for word in data_dev['text'].tolist()]\n",
    "data_dev_label = np.array(data_dev['label'])\n",
    "# test dataset\n",
    "data_test_list = [word.lower() for word in data_test['text'].tolist()]\n",
    "data_test_label = np.array(data_test['label'])"
   ]
  },
  {
   "cell_type": "code",
   "execution_count": 42,
   "metadata": {},
   "outputs": [],
   "source": [
    "stop_words = ['a','in','on','at','and','or', \n",
    "              'to', 'the', 'of', 'an', 'by', \n",
    "              'as', 'is', 'was', 'were', 'been', 'be', \n",
    "              'are','for', 'this', 'that', 'these', 'those', 'you', 'i',\n",
    "             'it', 'he', 'she', 'we', 'they' 'will', 'have', 'has',\n",
    "              'do', 'did', 'can', 'could', 'who', 'which', 'what', \n",
    "             'his', 'her', 'they', 'them', 'from', 'with', 'its']"
   ]
  },
  {
   "cell_type": "code",
   "execution_count": 43,
   "metadata": {},
   "outputs": [],
   "source": [
    "tr_ngram = extract_ngrams(data_tr_list, ngram_range=(1,3), stop_words=stop_words)\n",
    "dev_ngram = extract_ngrams(data_dev_list, ngram_range=(1,3), stop_words=stop_words)\n",
    "test_ngram = extract_ngrams(data_test_list, ngram_range=(1,3), stop_words=stop_words)"
   ]
  },
  {
   "cell_type": "code",
   "execution_count": 44,
   "metadata": {
    "ExecuteTime": {
     "end_time": "2020-02-15T14:18:04.508938Z",
     "start_time": "2020-02-15T14:18:04.171071Z"
    }
   },
   "outputs": [
    {
     "name": "stdout",
     "output_type": "stream",
     "text": [
      "5000\n",
      "\n",
      "['reuters', 'said', 'tuesday', 'wednesday', 'new', 'after', 'ap', 'athens', 'monday', 'first', 'two', 'york', 'over', ('new', 'york'), 'us', 'olympic', 'but', 'their', 'will', 'inc', 'more', 'year', 'oil', 'prices', 'company', 'world', 'than', 'aug', 'about', 'had', 'united', 'one', 'sunday', 'out', 'into', 'against', 'up', 'second', 'last', 'president', 'stocks', 'gold', 'team', ('york', 'reuters'), ('new', 'york', 'reuters'), 'when', 'three', 'night', 'time', 'no', 'yesterday', 'games', 'olympics', 'not', 'states', 'greece', 'off', 'iraq', 'washington', 'percent', ('united', 'states'), ('oil', 'prices'), 'home', 'day', 'google', 'public', ('athens', 'reuters'), 'record', 'week', 'men', 'government', 'win', ('said', 'tuesday'), 'american', 'won', 'years', 'all', 'billion', 'shares', 'city', 'offering', 'officials', 'would', 'today', 'final', 'afp', 'gt', 'people', 'lt', 'medal', 'corp', 'sales', 'country', 'back', 'four', 'high', 'investor', 'com', 'minister', 'reported']\n",
      "\n",
      "[('reuters', 631), ('said', 432), ('tuesday', 413), ('wednesday', 344), ('new', 325), ('after', 295), ('ap', 275), ('athens', 245), ('monday', 221), ('first', 210)]\n"
     ]
    }
   ],
   "source": [
    "vocab, df, ngram_counts = get_vocab(data_tr_list, ngram_range=(1,3), keep_topN=5000, stop_words=stop_words)\n",
    "print(len(vocab))\n",
    "print()\n",
    "print(list(vocab)[:100])\n",
    "print()\n",
    "print(list(df.items())[:10])\n",
    "# print(df.most_common()[:10])"
   ]
  },
  {
   "cell_type": "code",
   "execution_count": 45,
   "metadata": {
    "ExecuteTime": {
     "end_time": "2020-02-15T14:18:04.706802Z",
     "start_time": "2020-02-15T14:18:04.511061Z"
    }
   },
   "outputs": [
    {
     "data": {
      "text/plain": [
       "array([[1., 0., 0., 0., 1., 0., 0., 0., 0., 0., 1., 0., 0., 0., 0., 0.,\n",
       "        0., 0., 1., 0., 0., 0., 0., 0., 0., 0., 0., 0., 0., 0., 0., 0.,\n",
       "        1., 1., 0., 0., 0., 0., 0., 1., 0., 0., 0., 0., 0., 0., 0., 0.,\n",
       "        0., 0.],\n",
       "       [1., 0., 0., 0., 0., 0., 0., 0., 0., 0., 0., 0., 0., 0., 0., 0.,\n",
       "        0., 0., 0., 0., 1., 0., 0., 0., 0., 0., 0., 0., 0., 0., 0., 0.,\n",
       "        1., 0., 0., 0., 0., 0., 0., 0., 0., 0., 0., 0., 0., 0., 0., 0.,\n",
       "        0., 0.]])"
      ]
     },
     "execution_count": 45,
     "metadata": {},
     "output_type": "execute_result"
    }
   ],
   "source": [
    "# Vectorise\n",
    "X_tr_count = vectorise(tr_ngram,vocab)\n",
    "X_dev_count = vectorise(dev_ngram,vocab)\n",
    "X_test_count = vectorise(test_ngram,vocab)\n",
    "\n",
    "#Show\n",
    "X_tr_count[:2,:50]"
   ]
  },
  {
   "cell_type": "markdown",
   "metadata": {},
   "source": [
    "Tf.idf Part"
   ]
  },
  {
   "cell_type": "code",
   "execution_count": 46,
   "metadata": {},
   "outputs": [],
   "source": [
    "X_tr_tfidf = tfidf_function(X_count=X_tr_count, ngram_list = tr_ngram, vocab = vocab)\n",
    "X_dev_tfidf = tfidf_function(X_count=X_dev_count, ngram_list = dev_ngram, vocab = vocab)\n",
    "X_test_tfidf = tfidf_function(X_count=X_test_count, ngram_list = test_ngram, vocab = vocab)"
   ]
  },
  {
   "cell_type": "markdown",
   "metadata": {},
   "source": [
    "Now you need to change `SGD` to support multiclass datasets. First you need to develop a `softmax` function. It takes as input:\n",
    "\n",
    "- `z`: array of real numbers \n",
    "\n",
    "and returns:\n",
    "\n",
    "- `smax`: the softmax of `z`"
   ]
  },
  {
   "cell_type": "code",
   "execution_count": 47,
   "metadata": {
    "ExecuteTime": {
     "end_time": "2020-02-15T14:18:07.440998Z",
     "start_time": "2020-02-15T14:18:07.437915Z"
    }
   },
   "outputs": [],
   "source": [
    "def softmax(z):\n",
    "\n",
    "    if len(z.shape) >1:\n",
    "        x_sum = np.sum(np.exp(z), axis = 1, keepdims = True)\n",
    "    else:\n",
    "        x_sum = np.sum(np.exp(z), axis = 0)\n",
    "\n",
    "    smax = np.exp(z) / x_sum    \n",
    "    return smax"
   ]
  },
  {
   "cell_type": "markdown",
   "metadata": {},
   "source": [
    "Then modify `predict_proba` and `predict_class` functions for the multiclass case:"
   ]
  },
  {
   "cell_type": "code",
   "execution_count": 48,
   "metadata": {
    "ExecuteTime": {
     "end_time": "2020-02-15T14:18:07.445451Z",
     "start_time": "2020-02-15T14:18:07.442851Z"
    }
   },
   "outputs": [],
   "source": [
    "def predict_proba(X, weights):\n",
    "    \n",
    "    P_value = np.dot(X,weights.T)\n",
    "    preds_proba = softmax(P_value)\n",
    "    \n",
    "    return preds_proba"
   ]
  },
  {
   "cell_type": "code",
   "execution_count": 49,
   "metadata": {
    "ExecuteTime": {
     "end_time": "2020-02-15T14:18:07.449814Z",
     "start_time": "2020-02-15T14:18:07.447145Z"
    }
   },
   "outputs": [],
   "source": [
    "def predict_class(X, weights):\n",
    "    \n",
    "    pro_value = predict_proba(X,weights)\n",
    "    if len(pro_value.shape)>1:\n",
    "        feature_list = list()\n",
    "        for value in pro_value:\n",
    "            value[value ==  max(value)] = 1\n",
    "            for i,row in enumerate(value):\n",
    "                if row == 1:\n",
    "                    feature_list.append(i+1)\n",
    "                    break;\n",
    "        feature_list = np.asarray(feature_list)\n",
    "        \n",
    "    else:\n",
    "        pro_value[pro_value==max(pro_value)] = 1\n",
    "        for i,value in enumerate(pro_value):\n",
    "            if value == 1:\n",
    "                feature_list = i+1\n",
    "                break;\n",
    "    \n",
    "    return feature_list"
   ]
  },
  {
   "cell_type": "markdown",
   "metadata": {},
   "source": [
    "Toy example and expected functionality of the functions above:"
   ]
  },
  {
   "cell_type": "code",
   "execution_count": 50,
   "metadata": {
    "ExecuteTime": {
     "end_time": "2020-02-15T14:18:08.059902Z",
     "start_time": "2020-02-15T14:18:08.056774Z"
    }
   },
   "outputs": [],
   "source": [
    "X = np.array([[0.1,0.2],[0.2,0.1],[0.1,-0.2]])\n",
    "w = np.array([[2,-5],[-5,2]])"
   ]
  },
  {
   "cell_type": "code",
   "execution_count": 51,
   "metadata": {
    "ExecuteTime": {
     "end_time": "2020-02-15T14:18:08.495464Z",
     "start_time": "2020-02-15T14:18:08.491074Z"
    }
   },
   "outputs": [
    {
     "data": {
      "text/plain": [
       "array([[0.33181223, 0.66818777],\n",
       "       [0.66818777, 0.33181223],\n",
       "       [0.89090318, 0.10909682]])"
      ]
     },
     "execution_count": 51,
     "metadata": {},
     "output_type": "execute_result"
    }
   ],
   "source": [
    "predict_proba(X, w)"
   ]
  },
  {
   "cell_type": "code",
   "execution_count": 52,
   "metadata": {
    "ExecuteTime": {
     "end_time": "2020-02-15T14:18:08.714215Z",
     "start_time": "2020-02-15T14:18:08.710098Z"
    }
   },
   "outputs": [
    {
     "data": {
      "text/plain": [
       "array([2, 1, 1])"
      ]
     },
     "execution_count": 52,
     "metadata": {},
     "output_type": "execute_result"
    }
   ],
   "source": [
    "predict_class(X, w)"
   ]
  },
  {
   "cell_type": "markdown",
   "metadata": {},
   "source": [
    "Now you need to compute the categorical cross entropy loss (extending the binary loss to support multiple classes)."
   ]
  },
  {
   "cell_type": "code",
   "execution_count": 53,
   "metadata": {
    "ExecuteTime": {
     "end_time": "2020-02-15T14:30:48.047338Z",
     "start_time": "2020-02-15T14:30:48.044395Z"
    }
   },
   "outputs": [],
   "source": [
    "def categorical_loss(X, Y, weights, num_classes=5, alpha=0.00001):\n",
    "    \n",
    "    y_proba = predict_proba(X,weights)\n",
    "    # Use the np.clip to restrict the value range\n",
    "    y_proba = np.clip(y_proba,alpha,1-alpha)\n",
    "    \n",
    "    if len(X.shape)>1:\n",
    "        loss_value = -np.log(y_proba[range(len(Y)),Y-1])\n",
    "        L2_reg_value = (1/len(X))*(alpha/2)*(np.sum(np.square(weights)))\n",
    "    else:\n",
    "        loss_value = -np.log(y_proba[Y-1])\n",
    "        L2_reg_value = (alpha/2)*(np.sum(np.square(weights)))\n",
    "    \n",
    "    l = loss_value + L2_reg_value\n",
    "    return l\n",
    "    "
   ]
  },
  {
   "cell_type": "code",
   "execution_count": 54,
   "metadata": {},
   "outputs": [],
   "source": [
    "def one_regularize(X,class_nums):\n",
    "    \n",
    "    return np.delete(np.eye(class_nums+1)[X],0,axis=1)"
   ]
  },
  {
   "cell_type": "markdown",
   "metadata": {
    "ExecuteTime": {
     "end_time": "2020-02-15T14:08:59.937442Z",
     "start_time": "2020-02-15T14:08:59.932221Z"
    }
   },
   "source": [
    "Finally you need to modify SGD to support the categorical cross entropy loss:"
   ]
  },
  {
   "cell_type": "code",
   "execution_count": 55,
   "metadata": {
    "ExecuteTime": {
     "end_time": "2020-02-15T14:18:10.176885Z",
     "start_time": "2020-02-15T14:18:10.165021Z"
    }
   },
   "outputs": [],
   "source": [
    "def SGD(X_tr, Y_tr, vocab, X_dev=[], Y_dev=[], num_classes=5, lr=0.01, alpha=0.00001, epochs=5, tolerance=0.001, print_progress=True):\n",
    "        \n",
    "    cur_loss_dev = 2.\n",
    "    training_loss_history = []\n",
    "    validation_loss_history = []\n",
    "\n",
    "    # Obtain the weights\n",
    "    weights = np.zeros((3, len(vocab)))\n",
    "    Y_tr_onehot = one_regularize(Y_tr,num_classes)\n",
    "    \n",
    "    for i in range(epochs):\n",
    "        loss_list = list()\n",
    "        seed_number = random.randint(50,100)\n",
    "        np.random.seed(seed_number)\n",
    "        # Shuffle the X_tr and Y_tr  \n",
    "        per_X_tr = np.random.permutation(X_tr)\n",
    "        np.random.seed(seed_number)\n",
    "        per_Y_tr = np.random.permutation(Y_tr)\n",
    "        np.random.seed(seed_number)\n",
    "        per_Y_tr_onehot = np.random.permutation(Y_tr_onehot)\n",
    "\n",
    "        for j,row in enumerate(per_X_tr):\n",
    "            # Caculate the categorical_loss and store the loss into loss_list\n",
    "            loss_tr = categorical_loss(row, per_Y_tr[j], weights, alpha)\n",
    "            loss_list.append(loss_tr)\n",
    "            y_pred = predict_proba(row,weights) \n",
    "            error = y_pred - per_Y_tr_onehot[j]\n",
    "            # update weights\n",
    "            weights_list = [weights[i]-lr*row*error[i] for i in range(num_classes)]\n",
    "            weights = np.asarray(weights_list)\n",
    "        \n",
    "        # Obtain the mean\n",
    "        tr_loss_mean = np.mean(loss_list)\n",
    "        training_loss_history.append(tr_loss_mean)\n",
    "        \n",
    "        dev_loss = categorical_loss(X_dev, Y_dev, weights, alpha)\n",
    "        dev_loss = sum(dev_loss)/len(dev_loss)\n",
    "        validation_loss_history.append(dev_loss)\n",
    "        print('Epoch: %d' % i, '| Training loss: %f' %tr_loss_mean, '| Validation loss: %f' %dev_loss)\n",
    "        \n",
    "        if (cur_loss_dev-dev_loss)<tolerance:\n",
    "            break       \n",
    "        cur_loss_dev = dev_loss\n",
    "\n",
    "\n",
    "    return weights, training_loss_history, validation_loss_history"
   ]
  },
  {
   "cell_type": "markdown",
   "metadata": {
    "ExecuteTime": {
     "end_time": "2020-02-15T14:10:15.772383Z",
     "start_time": "2020-02-15T14:10:15.767855Z"
    }
   },
   "source": [
    "Now you are ready to train and evaluate you MLR following the same steps as in Task 1 for both Count and tfidf features:"
   ]
  },
  {
   "cell_type": "code",
   "execution_count": 56,
   "metadata": {
    "ExecuteTime": {
     "end_time": "2020-02-15T14:18:55.324956Z",
     "start_time": "2020-02-15T14:18:11.720952Z"
    }
   },
   "outputs": [
    {
     "name": "stdout",
     "output_type": "stream",
     "text": [
      "Epoch: 0 | Training loss: 1.084229 | Validation loss: 1.083282\n",
      "Epoch: 1 | Training loss: 1.056024 | Validation loss: 1.069042\n",
      "Epoch: 2 | Training loss: 1.030918 | Validation loss: 1.055699\n",
      "Epoch: 3 | Training loss: 1.008251 | Validation loss: 1.043099\n",
      "Epoch: 4 | Training loss: 0.987531 | Validation loss: 1.031134\n",
      "Epoch: 5 | Training loss: 0.968390 | Validation loss: 1.019712\n",
      "Epoch: 6 | Training loss: 0.950563 | Validation loss: 1.008770\n",
      "Epoch: 7 | Training loss: 0.933864 | Validation loss: 0.998258\n",
      "Epoch: 8 | Training loss: 0.918148 | Validation loss: 0.988138\n",
      "Epoch: 9 | Training loss: 0.903305 | Validation loss: 0.978378\n",
      "Epoch: 10 | Training loss: 0.889241 | Validation loss: 0.968950\n",
      "Epoch: 11 | Training loss: 0.875882 | Validation loss: 0.959835\n",
      "Epoch: 12 | Training loss: 0.863166 | Validation loss: 0.951012\n",
      "Epoch: 13 | Training loss: 0.851038 | Validation loss: 0.942466\n",
      "Epoch: 14 | Training loss: 0.839455 | Validation loss: 0.934182\n",
      "Epoch: 15 | Training loss: 0.828375 | Validation loss: 0.926146\n",
      "Epoch: 16 | Training loss: 0.817762 | Validation loss: 0.918347\n",
      "Epoch: 17 | Training loss: 0.807583 | Validation loss: 0.910774\n",
      "Epoch: 18 | Training loss: 0.797808 | Validation loss: 0.903415\n",
      "Epoch: 19 | Training loss: 0.788410 | Validation loss: 0.896262\n",
      "Epoch: 20 | Training loss: 0.779368 | Validation loss: 0.889305\n",
      "Epoch: 21 | Training loss: 0.770658 | Validation loss: 0.882538\n",
      "Epoch: 22 | Training loss: 0.762262 | Validation loss: 0.875949\n",
      "Epoch: 23 | Training loss: 0.754161 | Validation loss: 0.869534\n",
      "Epoch: 24 | Training loss: 0.746338 | Validation loss: 0.863282\n",
      "Epoch: 25 | Training loss: 0.738776 | Validation loss: 0.857191\n",
      "Epoch: 26 | Training loss: 0.731461 | Validation loss: 0.851252\n",
      "Epoch: 27 | Training loss: 0.724379 | Validation loss: 0.845460\n",
      "Epoch: 28 | Training loss: 0.717520 | Validation loss: 0.839810\n",
      "Epoch: 29 | Training loss: 0.710871 | Validation loss: 0.834295\n",
      "Epoch: 30 | Training loss: 0.704422 | Validation loss: 0.828912\n",
      "Epoch: 31 | Training loss: 0.698162 | Validation loss: 0.823653\n",
      "Epoch: 32 | Training loss: 0.692083 | Validation loss: 0.818516\n",
      "Epoch: 33 | Training loss: 0.686175 | Validation loss: 0.813497\n",
      "Epoch: 34 | Training loss: 0.680432 | Validation loss: 0.808592\n",
      "Epoch: 35 | Training loss: 0.674846 | Validation loss: 0.803794\n",
      "Epoch: 36 | Training loss: 0.669408 | Validation loss: 0.799102\n",
      "Epoch: 37 | Training loss: 0.664112 | Validation loss: 0.794512\n",
      "Epoch: 38 | Training loss: 0.658952 | Validation loss: 0.790020\n",
      "Epoch: 39 | Training loss: 0.653923 | Validation loss: 0.785622\n",
      "Epoch: 40 | Training loss: 0.649019 | Validation loss: 0.781318\n",
      "Epoch: 41 | Training loss: 0.644235 | Validation loss: 0.777101\n",
      "Epoch: 42 | Training loss: 0.639565 | Validation loss: 0.772970\n",
      "Epoch: 43 | Training loss: 0.635005 | Validation loss: 0.768922\n",
      "Epoch: 44 | Training loss: 0.630551 | Validation loss: 0.764955\n",
      "Epoch: 45 | Training loss: 0.626198 | Validation loss: 0.761065\n",
      "Epoch: 46 | Training loss: 0.621943 | Validation loss: 0.757252\n",
      "Epoch: 47 | Training loss: 0.617783 | Validation loss: 0.753511\n",
      "Epoch: 48 | Training loss: 0.613712 | Validation loss: 0.749842\n",
      "Epoch: 49 | Training loss: 0.609729 | Validation loss: 0.746240\n",
      "Epoch: 50 | Training loss: 0.605829 | Validation loss: 0.742705\n",
      "Epoch: 51 | Training loss: 0.602010 | Validation loss: 0.739235\n",
      "Epoch: 52 | Training loss: 0.598270 | Validation loss: 0.735828\n",
      "Epoch: 53 | Training loss: 0.594605 | Validation loss: 0.732482\n",
      "Epoch: 54 | Training loss: 0.591012 | Validation loss: 0.729195\n",
      "Epoch: 55 | Training loss: 0.587489 | Validation loss: 0.725966\n",
      "Epoch: 56 | Training loss: 0.584035 | Validation loss: 0.722793\n",
      "Epoch: 57 | Training loss: 0.580646 | Validation loss: 0.719675\n",
      "Epoch: 58 | Training loss: 0.577320 | Validation loss: 0.716608\n",
      "Epoch: 59 | Training loss: 0.574056 | Validation loss: 0.713594\n",
      "Epoch: 60 | Training loss: 0.570851 | Validation loss: 0.710630\n",
      "Epoch: 61 | Training loss: 0.567705 | Validation loss: 0.707714\n",
      "Epoch: 62 | Training loss: 0.564613 | Validation loss: 0.704846\n",
      "Epoch: 63 | Training loss: 0.561577 | Validation loss: 0.702024\n",
      "Epoch: 64 | Training loss: 0.558592 | Validation loss: 0.699248\n",
      "Epoch: 65 | Training loss: 0.555659 | Validation loss: 0.696515\n",
      "Epoch: 66 | Training loss: 0.552775 | Validation loss: 0.693825\n",
      "Epoch: 67 | Training loss: 0.549939 | Validation loss: 0.691177\n",
      "Epoch: 68 | Training loss: 0.547150 | Validation loss: 0.688569\n",
      "Epoch: 69 | Training loss: 0.544405 | Validation loss: 0.686001\n",
      "Epoch: 70 | Training loss: 0.541706 | Validation loss: 0.683472\n",
      "Epoch: 71 | Training loss: 0.539049 | Validation loss: 0.680980\n",
      "Epoch: 72 | Training loss: 0.536433 | Validation loss: 0.678524\n",
      "Epoch: 73 | Training loss: 0.533858 | Validation loss: 0.676105\n",
      "Epoch: 74 | Training loss: 0.531322 | Validation loss: 0.673721\n",
      "Epoch: 75 | Training loss: 0.528825 | Validation loss: 0.671372\n",
      "Epoch: 76 | Training loss: 0.526365 | Validation loss: 0.669054\n",
      "Epoch: 77 | Training loss: 0.523941 | Validation loss: 0.666770\n",
      "Epoch: 78 | Training loss: 0.521553 | Validation loss: 0.664518\n",
      "Epoch: 79 | Training loss: 0.519199 | Validation loss: 0.662297\n",
      "Epoch: 80 | Training loss: 0.516879 | Validation loss: 0.660107\n",
      "Epoch: 81 | Training loss: 0.514592 | Validation loss: 0.657946\n",
      "Epoch: 82 | Training loss: 0.512337 | Validation loss: 0.655814\n",
      "Epoch: 83 | Training loss: 0.510113 | Validation loss: 0.653712\n",
      "Epoch: 84 | Training loss: 0.507920 | Validation loss: 0.651636\n",
      "Epoch: 85 | Training loss: 0.505756 | Validation loss: 0.649589\n",
      "Epoch: 86 | Training loss: 0.503622 | Validation loss: 0.647569\n",
      "Epoch: 87 | Training loss: 0.501516 | Validation loss: 0.645573\n",
      "Epoch: 88 | Training loss: 0.499437 | Validation loss: 0.643603\n",
      "Epoch: 89 | Training loss: 0.497386 | Validation loss: 0.641658\n",
      "Epoch: 90 | Training loss: 0.495361 | Validation loss: 0.639739\n",
      "Epoch: 91 | Training loss: 0.493362 | Validation loss: 0.637843\n",
      "Epoch: 92 | Training loss: 0.491388 | Validation loss: 0.635971\n",
      "Epoch: 93 | Training loss: 0.489439 | Validation loss: 0.634122\n",
      "Epoch: 94 | Training loss: 0.487514 | Validation loss: 0.632296\n",
      "Epoch: 95 | Training loss: 0.485613 | Validation loss: 0.630491\n",
      "Epoch: 96 | Training loss: 0.483735 | Validation loss: 0.628708\n",
      "Epoch: 97 | Training loss: 0.481880 | Validation loss: 0.626946\n",
      "Epoch: 98 | Training loss: 0.480047 | Validation loss: 0.625206\n",
      "Epoch: 99 | Training loss: 0.478235 | Validation loss: 0.623486\n",
      "Epoch: 100 | Training loss: 0.476445 | Validation loss: 0.621786\n",
      "Epoch: 101 | Training loss: 0.474676 | Validation loss: 0.620106\n",
      "Epoch: 102 | Training loss: 0.472927 | Validation loss: 0.618445\n",
      "Epoch: 103 | Training loss: 0.471198 | Validation loss: 0.616803\n",
      "Epoch: 104 | Training loss: 0.469489 | Validation loss: 0.615180\n",
      "Epoch: 105 | Training loss: 0.467799 | Validation loss: 0.613575\n",
      "Epoch: 106 | Training loss: 0.466128 | Validation loss: 0.611987\n",
      "Epoch: 107 | Training loss: 0.464475 | Validation loss: 0.610417\n",
      "Epoch: 108 | Training loss: 0.462840 | Validation loss: 0.608866\n",
      "Epoch: 109 | Training loss: 0.461223 | Validation loss: 0.607330\n",
      "Epoch: 110 | Training loss: 0.459624 | Validation loss: 0.605810\n",
      "Epoch: 111 | Training loss: 0.458041 | Validation loss: 0.604308\n",
      "Epoch: 112 | Training loss: 0.456476 | Validation loss: 0.602821\n",
      "Epoch: 113 | Training loss: 0.454927 | Validation loss: 0.601352\n",
      "Epoch: 114 | Training loss: 0.453394 | Validation loss: 0.599897\n",
      "Epoch: 115 | Training loss: 0.451877 | Validation loss: 0.598457\n",
      "Epoch: 116 | Training loss: 0.450375 | Validation loss: 0.597033\n",
      "Epoch: 117 | Training loss: 0.448889 | Validation loss: 0.595623\n",
      "Epoch: 118 | Training loss: 0.447417 | Validation loss: 0.594228\n",
      "Epoch: 119 | Training loss: 0.445961 | Validation loss: 0.592847\n",
      "Epoch: 120 | Training loss: 0.444519 | Validation loss: 0.591480\n",
      "Epoch: 121 | Training loss: 0.443091 | Validation loss: 0.590127\n",
      "Epoch: 122 | Training loss: 0.441677 | Validation loss: 0.588787\n",
      "Epoch: 123 | Training loss: 0.440277 | Validation loss: 0.587460\n",
      "Epoch: 124 | Training loss: 0.438891 | Validation loss: 0.586147\n",
      "Epoch: 125 | Training loss: 0.437518 | Validation loss: 0.584847\n",
      "Epoch: 126 | Training loss: 0.436158 | Validation loss: 0.583559\n",
      "Epoch: 127 | Training loss: 0.434810 | Validation loss: 0.582284\n"
     ]
    },
    {
     "name": "stdout",
     "output_type": "stream",
     "text": [
      "Epoch: 128 | Training loss: 0.433476 | Validation loss: 0.581021\n",
      "Epoch: 129 | Training loss: 0.432154 | Validation loss: 0.579771\n",
      "Epoch: 130 | Training loss: 0.430844 | Validation loss: 0.578532\n",
      "Epoch: 131 | Training loss: 0.429546 | Validation loss: 0.577305\n",
      "Epoch: 132 | Training loss: 0.428260 | Validation loss: 0.576089\n",
      "Epoch: 133 | Training loss: 0.426985 | Validation loss: 0.574884\n",
      "Epoch: 134 | Training loss: 0.425722 | Validation loss: 0.573691\n",
      "Epoch: 135 | Training loss: 0.424471 | Validation loss: 0.572509\n",
      "Epoch: 136 | Training loss: 0.423230 | Validation loss: 0.571338\n",
      "Epoch: 137 | Training loss: 0.422000 | Validation loss: 0.570178\n",
      "Epoch: 138 | Training loss: 0.420782 | Validation loss: 0.569028\n",
      "Epoch: 139 | Training loss: 0.419573 | Validation loss: 0.567889\n",
      "Epoch: 140 | Training loss: 0.418376 | Validation loss: 0.566760\n",
      "Epoch: 141 | Training loss: 0.417188 | Validation loss: 0.565641\n",
      "Epoch: 142 | Training loss: 0.416011 | Validation loss: 0.564532\n",
      "Epoch: 143 | Training loss: 0.414843 | Validation loss: 0.563431\n",
      "Epoch: 144 | Training loss: 0.413686 | Validation loss: 0.562342\n",
      "Epoch: 145 | Training loss: 0.412538 | Validation loss: 0.561261\n",
      "Epoch: 146 | Training loss: 0.411399 | Validation loss: 0.560190\n",
      "Epoch: 147 | Training loss: 0.410270 | Validation loss: 0.559128\n",
      "Epoch: 148 | Training loss: 0.409151 | Validation loss: 0.558075\n",
      "Epoch: 149 | Training loss: 0.408040 | Validation loss: 0.557031\n",
      "Epoch: 150 | Training loss: 0.406939 | Validation loss: 0.555996\n",
      "Epoch: 151 | Training loss: 0.405846 | Validation loss: 0.554970\n",
      "Epoch: 152 | Training loss: 0.404762 | Validation loss: 0.553953\n",
      "Epoch: 153 | Training loss: 0.403687 | Validation loss: 0.552944\n",
      "Epoch: 154 | Training loss: 0.402620 | Validation loss: 0.551943\n",
      "Epoch: 155 | Training loss: 0.401562 | Validation loss: 0.550951\n"
     ]
    }
   ],
   "source": [
    "w_count, loss_tr_count, dev_loss_count = SGD(X_tr_count, data_tr_label,vocab,\n",
    "                                             X_dev=X_dev_count, \n",
    "                                             Y_dev=data_dev_label,\n",
    "                                             num_classes=3,\n",
    "                                             lr=0.0001, \n",
    "                                             alpha=0.001, \n",
    "                                             epochs=200)"
   ]
  },
  {
   "cell_type": "markdown",
   "metadata": {},
   "source": [
    "Plot training and validation process and explain if your model overfit, underfit or is about right:"
   ]
  },
  {
   "cell_type": "code",
   "execution_count": 57,
   "metadata": {},
   "outputs": [
    {
     "data": {
      "image/png": "[encoded data removed]",
      "text/plain": [
       "<Figure size 432x288 with 1 Axes>"
      ]
     },
     "metadata": {
      "needs_background": "light"
     },
     "output_type": "display_data"
    }
   ],
   "source": [
    "x = np.linspace(0,len(loss_tr_count),len(loss_tr_count))\n",
    "y1, y2 = loss_tr_count, dev_loss_count\n",
    " \n",
    "plt.plot(x, y1,label='Training loss')\n",
    "plt.plot(x, y2, label='Validation loss')\n",
    " \n",
    "plt.title('Training Monitoring')\n",
    "plt.xlabel('Epochs')\n",
    "plt.ylabel('Loss')\n",
    "plt.legend() \n",
    "plt.show()"
   ]
  },
  {
   "cell_type": "markdown",
   "metadata": {},
   "source": [
    "The model is overfit"
   ]
  },
  {
   "cell_type": "markdown",
   "metadata": {},
   "source": [
    "Compute accuracy, precision, recall and F1-scores:"
   ]
  },
  {
   "cell_type": "code",
   "execution_count": 58,
   "metadata": {
    "ExecuteTime": {
     "end_time": "2020-02-15T14:32:12.606498Z",
     "start_time": "2020-02-15T14:32:12.604164Z"
    }
   },
   "outputs": [
    {
     "name": "stdout",
     "output_type": "stream",
     "text": [
      "Accuracy: 0.8533333333333334\n",
      "Precision: 0.8233333333333334\n",
      "Recall: 0.8233333333333334\n",
      "F1-Score: 0.8233333333333334\n"
     ]
    }
   ],
   "source": [
    "# fill in your code...\n",
    "preds_te_count = predict_class(X = X_test_count, weights = w_count)\n",
    "Y_te = data_test_label\n",
    "\n",
    "print('Accuracy:', accuracy_score(Y_te,preds_te_count))\n",
    "print('Precision:', precision_score(Y_te,preds_te_count))\n",
    "print('Recall:', recall_score(Y_te,preds_te_count))\n",
    "print('F1-Score:', f1_score(Y_te,preds_te_count))"
   ]
  },
  {
   "cell_type": "markdown",
   "metadata": {},
   "source": [
    "Print the top-10 words for each class respectively."
   ]
  },
  {
   "cell_type": "code",
   "execution_count": 59,
   "metadata": {
    "ExecuteTime": {
     "end_time": "2020-02-15T14:32:26.224693Z",
     "start_time": "2020-02-15T14:32:26.221886Z"
    }
   },
   "outputs": [
    {
     "name": "stdout",
     "output_type": "stream",
     "text": [
      "The top 10 words for class 1 are ['afp', 'said', 'president', 'minister', 'najaf', 'people', 'monday', 'iraq', 'troops', 'al'] respectively.\n",
      "The top 10 words for class 2 are ['athens', 'olympic', 'ap', 'team', ('athens', 'reuters'), 'win', 'games', 'olympics', 'game', 'when'] respectively.\n",
      "The top 10 words for class 3 are ['company', 'inc', 'oil', 'corp', 'billion', 'prices', 'business', 'sales', 'million', 'market'] respectively.\n"
     ]
    }
   ],
   "source": [
    "for i in range(len(w_count)):\n",
    "    \n",
    "    dict_store = {vocab[sid]:weight for sid,weight in enumerate(w_count[i])}\n",
    "    # Order By\n",
    "    dict_store = dict(sorted(dict_store.items(), key=lambda col:col[1],reverse=True)[:10])\n",
    "\n",
    "    print(\"The top 10 words for class %d are %s respectively.\"%(i+1,list(dict_store.keys())))"
   ]
  },
  {
   "cell_type": "markdown",
   "metadata": {},
   "source": [
    "### Discuss how did you choose model hyperparameters (e.g. learning rate and regularisation strength)? What is the relation between training epochs and learning rate? How the regularisation strength affects performance?"
   ]
  },
  {
   "cell_type": "markdown",
   "metadata": {
    "ExecuteTime": {
     "end_time": "2020-02-15T14:16:19.856538Z",
     "start_time": "2020-02-15T14:16:19.852547Z"
    }
   },
   "source": [
    "Explain here..."
   ]
  },
  {
   "cell_type": "code",
   "execution_count": 62,
   "metadata": {},
   "outputs": [
    {
     "name": "stdout",
     "output_type": "stream",
     "text": [
      "Epoch: 0 | Training loss: 0.990362 | Validation loss: 0.977769\n",
      "Epoch: 1 | Training loss: 0.840230 | Validation loss: 0.895535\n",
      "Epoch: 2 | Training loss: 0.747093 | Validation loss: 0.833415\n",
      "Epoch: 3 | Training loss: 0.681181 | Validation loss: 0.784788\n",
      "Epoch: 4 | Training loss: 0.631315 | Validation loss: 0.745370\n",
      "Epoch: 5 | Training loss: 0.591804 | Validation loss: 0.712715\n",
      "Epoch: 6 | Training loss: 0.559436 | Validation loss: 0.685196\n",
      "Epoch: 7 | Training loss: 0.532167 | Validation loss: 0.661514\n",
      "Epoch: 8 | Training loss: 0.508784 | Validation loss: 0.640886\n",
      "Epoch: 9 | Training loss: 0.488371 | Validation loss: 0.622766\n",
      "Epoch: 10 | Training loss: 0.470339 | Validation loss: 0.606647\n",
      "Epoch: 11 | Training loss: 0.454241 | Validation loss: 0.592179\n",
      "Epoch: 12 | Training loss: 0.439729 | Validation loss: 0.579122\n",
      "Epoch: 13 | Training loss: 0.426550 | Validation loss: 0.567233\n",
      "Epoch: 14 | Training loss: 0.414496 | Validation loss: 0.556338\n",
      "Epoch: 15 | Training loss: 0.403425 | Validation loss: 0.546391\n",
      "Epoch: 16 | Training loss: 0.393194 | Validation loss: 0.537241\n",
      "Epoch: 17 | Training loss: 0.383698 | Validation loss: 0.528788\n",
      "Epoch: 18 | Training loss: 0.374844 | Validation loss: 0.520894\n",
      "Epoch: 19 | Training loss: 0.366565 | Validation loss: 0.513538\n",
      "Epoch: 20 | Training loss: 0.358788 | Validation loss: 0.506665\n",
      "Epoch: 21 | Training loss: 0.351492 | Validation loss: 0.500204\n",
      "Epoch: 22 | Training loss: 0.344595 | Validation loss: 0.494105\n",
      "Epoch: 23 | Training loss: 0.338077 | Validation loss: 0.488391\n",
      "Epoch: 24 | Training loss: 0.331905 | Validation loss: 0.482995\n",
      "Epoch: 25 | Training loss: 0.326036 | Validation loss: 0.477865\n",
      "Epoch: 26 | Training loss: 0.320453 | Validation loss: 0.473042\n",
      "Epoch: 27 | Training loss: 0.315135 | Validation loss: 0.468453\n",
      "Epoch: 28 | Training loss: 0.310057 | Validation loss: 0.464070\n",
      "Epoch: 29 | Training loss: 0.305203 | Validation loss: 0.459905\n",
      "Epoch: 30 | Training loss: 0.300554 | Validation loss: 0.455920\n",
      "Epoch: 31 | Training loss: 0.296096 | Validation loss: 0.452127\n",
      "Epoch: 32 | Training loss: 0.291808 | Validation loss: 0.448500\n",
      "Epoch: 33 | Training loss: 0.287703 | Validation loss: 0.445029\n",
      "Epoch: 34 | Training loss: 0.283741 | Validation loss: 0.441705\n",
      "Epoch: 35 | Training loss: 0.279931 | Validation loss: 0.438493\n",
      "Epoch: 36 | Training loss: 0.276256 | Validation loss: 0.435415\n",
      "Epoch: 37 | Training loss: 0.272708 | Validation loss: 0.432458\n",
      "Epoch: 38 | Training loss: 0.269280 | Validation loss: 0.429607\n",
      "Epoch: 39 | Training loss: 0.265966 | Validation loss: 0.426877\n",
      "Epoch: 40 | Training loss: 0.262757 | Validation loss: 0.424220\n",
      "Epoch: 41 | Training loss: 0.259653 | Validation loss: 0.421674\n",
      "Epoch: 42 | Training loss: 0.256642 | Validation loss: 0.419198\n",
      "Epoch: 43 | Training loss: 0.253725 | Validation loss: 0.416828\n",
      "Epoch: 44 | Training loss: 0.250892 | Validation loss: 0.414537\n",
      "Epoch: 45 | Training loss: 0.248141 | Validation loss: 0.412309\n",
      "Epoch: 46 | Training loss: 0.245468 | Validation loss: 0.410146\n",
      "Epoch: 47 | Training loss: 0.242869 | Validation loss: 0.408079\n",
      "Epoch: 48 | Training loss: 0.240341 | Validation loss: 0.406046\n",
      "Epoch: 49 | Training loss: 0.237881 | Validation loss: 0.404072\n",
      "Epoch: 50 | Training loss: 0.235484 | Validation loss: 0.402146\n",
      "Epoch: 51 | Training loss: 0.233150 | Validation loss: 0.400296\n",
      "Epoch: 52 | Training loss: 0.230874 | Validation loss: 0.398483\n",
      "Epoch: 53 | Training loss: 0.228655 | Validation loss: 0.396735\n",
      "Epoch: 54 | Training loss: 0.226488 | Validation loss: 0.395040\n",
      "Epoch: 55 | Training loss: 0.224372 | Validation loss: 0.393373\n",
      "Epoch: 56 | Training loss: 0.222308 | Validation loss: 0.391747\n",
      "Epoch: 57 | Training loss: 0.220290 | Validation loss: 0.390183\n",
      "Epoch: 58 | Training loss: 0.218317 | Validation loss: 0.388678\n",
      "Epoch: 59 | Training loss: 0.216391 | Validation loss: 0.387191\n",
      "Epoch: 60 | Training loss: 0.214506 | Validation loss: 0.385733\n",
      "Epoch: 61 | Training loss: 0.212661 | Validation loss: 0.384317\n",
      "Epoch: 62 | Training loss: 0.210855 | Validation loss: 0.382937\n",
      "Epoch: 63 | Training loss: 0.209088 | Validation loss: 0.381568\n",
      "Epoch: 64 | Training loss: 0.207354 | Validation loss: 0.380251\n",
      "Epoch: 65 | Training loss: 0.205660 | Validation loss: 0.378945\n",
      "Epoch: 66 | Training loss: 0.203994 | Validation loss: 0.377652\n",
      "Epoch: 67 | Training loss: 0.202371 | Validation loss: 0.376424\n",
      "Epoch: 68 | Training loss: 0.200771 | Validation loss: 0.375198\n",
      "Epoch: 69 | Training loss: 0.199209 | Validation loss: 0.374035\n",
      "Epoch: 70 | Training loss: 0.197672 | Validation loss: 0.372909\n",
      "Epoch: 71 | Training loss: 0.196163 | Validation loss: 0.371799\n",
      "Epoch: 72 | Training loss: 0.194681 | Validation loss: 0.370720\n",
      "Epoch: 73 | Training loss: 0.193228 | Validation loss: 0.369628\n",
      "Epoch: 74 | Training loss: 0.191803 | Validation loss: 0.368586\n",
      "Epoch: 75 | Training loss: 0.190398 | Validation loss: 0.367553\n",
      "Epoch: 76 | Training loss: 0.189024 | Validation loss: 0.366531\n",
      "Epoch: 77 | Training loss: 0.187672 | Validation loss: 0.365546\n",
      "lr = 0.001000, alpha= 0.001000; Predict_Class:0.827243\n",
      "Epoch: 0 | Training loss: 0.990602 | Validation loss: 0.977745\n",
      "Epoch: 1 | Training loss: 0.840381 | Validation loss: 0.895537\n",
      "Epoch: 2 | Training loss: 0.747175 | Validation loss: 0.833714\n",
      "Epoch: 3 | Training loss: 0.681331 | Validation loss: 0.785051\n",
      "Epoch: 4 | Training loss: 0.631415 | Validation loss: 0.745609\n",
      "Epoch: 5 | Training loss: 0.591891 | Validation loss: 0.713017\n",
      "Epoch: 6 | Training loss: 0.559500 | Validation loss: 0.685475\n",
      "Epoch: 7 | Training loss: 0.532220 | Validation loss: 0.661820\n",
      "Epoch: 8 | Training loss: 0.508801 | Validation loss: 0.641125\n",
      "Epoch: 9 | Training loss: 0.488391 | Validation loss: 0.622933\n",
      "Epoch: 10 | Training loss: 0.470366 | Validation loss: 0.606820\n",
      "Epoch: 11 | Training loss: 0.454259 | Validation loss: 0.592334\n",
      "Epoch: 12 | Training loss: 0.439742 | Validation loss: 0.579290\n",
      "Epoch: 13 | Training loss: 0.426555 | Validation loss: 0.567436\n",
      "Epoch: 14 | Training loss: 0.414507 | Validation loss: 0.556571\n",
      "Epoch: 15 | Training loss: 0.403429 | Validation loss: 0.546640\n",
      "Epoch: 16 | Training loss: 0.393187 | Validation loss: 0.537505\n",
      "Epoch: 17 | Training loss: 0.383688 | Validation loss: 0.528986\n",
      "Epoch: 18 | Training loss: 0.374835 | Validation loss: 0.521064\n",
      "Epoch: 19 | Training loss: 0.366554 | Validation loss: 0.513686\n",
      "Epoch: 20 | Training loss: 0.358786 | Validation loss: 0.506807\n",
      "Epoch: 21 | Training loss: 0.351480 | Validation loss: 0.500334\n",
      "Epoch: 22 | Training loss: 0.344582 | Validation loss: 0.494234\n",
      "Epoch: 23 | Training loss: 0.338066 | Validation loss: 0.488493\n",
      "Epoch: 24 | Training loss: 0.331892 | Validation loss: 0.483100\n",
      "Epoch: 25 | Training loss: 0.326026 | Validation loss: 0.477988\n",
      "Epoch: 26 | Training loss: 0.320446 | Validation loss: 0.473141\n",
      "Epoch: 27 | Training loss: 0.315127 | Validation loss: 0.468554\n",
      "Epoch: 28 | Training loss: 0.310047 | Validation loss: 0.464165\n",
      "Epoch: 29 | Training loss: 0.305193 | Validation loss: 0.459977\n",
      "Epoch: 30 | Training loss: 0.300541 | Validation loss: 0.455997\n",
      "Epoch: 31 | Training loss: 0.296083 | Validation loss: 0.452214\n",
      "Epoch: 32 | Training loss: 0.291801 | Validation loss: 0.448618\n",
      "Epoch: 33 | Training loss: 0.287690 | Validation loss: 0.445115\n",
      "Epoch: 34 | Training loss: 0.283731 | Validation loss: 0.441778\n",
      "Epoch: 35 | Training loss: 0.279917 | Validation loss: 0.438607\n",
      "Epoch: 36 | Training loss: 0.276242 | Validation loss: 0.435522\n",
      "Epoch: 37 | Training loss: 0.272686 | Validation loss: 0.432503\n",
      "Epoch: 38 | Training loss: 0.269267 | Validation loss: 0.429671\n",
      "Epoch: 39 | Training loss: 0.265954 | Validation loss: 0.426931\n",
      "Epoch: 40 | Training loss: 0.262749 | Validation loss: 0.424274\n",
      "Epoch: 41 | Training loss: 0.259644 | Validation loss: 0.421728\n",
      "Epoch: 42 | Training loss: 0.256632 | Validation loss: 0.419247\n",
      "Epoch: 43 | Training loss: 0.253716 | Validation loss: 0.416879\n",
      "Epoch: 44 | Training loss: 0.250875 | Validation loss: 0.414529\n",
      "Epoch: 45 | Training loss: 0.248134 | Validation loss: 0.412316\n",
      "Epoch: 46 | Training loss: 0.245460 | Validation loss: 0.410173\n",
      "Epoch: 47 | Training loss: 0.242860 | Validation loss: 0.408112\n",
      "Epoch: 48 | Training loss: 0.240329 | Validation loss: 0.406081\n",
      "Epoch: 49 | Training loss: 0.237871 | Validation loss: 0.404099\n"
     ]
    },
    {
     "name": "stdout",
     "output_type": "stream",
     "text": [
      "Epoch: 50 | Training loss: 0.235477 | Validation loss: 0.402190\n",
      "Epoch: 51 | Training loss: 0.233141 | Validation loss: 0.400315\n",
      "Epoch: 52 | Training loss: 0.230861 | Validation loss: 0.398472\n",
      "Epoch: 53 | Training loss: 0.228646 | Validation loss: 0.396730\n",
      "Epoch: 54 | Training loss: 0.226478 | Validation loss: 0.395014\n",
      "Epoch: 55 | Training loss: 0.224364 | Validation loss: 0.393375\n",
      "Epoch: 56 | Training loss: 0.222299 | Validation loss: 0.391754\n",
      "Epoch: 57 | Training loss: 0.220282 | Validation loss: 0.390183\n",
      "Epoch: 58 | Training loss: 0.218312 | Validation loss: 0.388654\n",
      "Epoch: 59 | Training loss: 0.216383 | Validation loss: 0.387165\n",
      "Epoch: 60 | Training loss: 0.214498 | Validation loss: 0.385720\n",
      "Epoch: 61 | Training loss: 0.212653 | Validation loss: 0.384299\n",
      "Epoch: 62 | Training loss: 0.210850 | Validation loss: 0.382920\n",
      "Epoch: 63 | Training loss: 0.209081 | Validation loss: 0.381562\n",
      "Epoch: 64 | Training loss: 0.207351 | Validation loss: 0.380262\n",
      "Epoch: 65 | Training loss: 0.205654 | Validation loss: 0.378977\n",
      "Epoch: 66 | Training loss: 0.203992 | Validation loss: 0.377725\n",
      "Epoch: 67 | Training loss: 0.202363 | Validation loss: 0.376486\n",
      "Epoch: 68 | Training loss: 0.200763 | Validation loss: 0.375290\n",
      "Epoch: 69 | Training loss: 0.199198 | Validation loss: 0.374098\n",
      "Epoch: 70 | Training loss: 0.197663 | Validation loss: 0.372941\n",
      "Epoch: 71 | Training loss: 0.196156 | Validation loss: 0.371809\n",
      "Epoch: 72 | Training loss: 0.194675 | Validation loss: 0.370703\n",
      "Epoch: 73 | Training loss: 0.193223 | Validation loss: 0.369627\n",
      "Epoch: 74 | Training loss: 0.191797 | Validation loss: 0.368581\n",
      "Epoch: 75 | Training loss: 0.190396 | Validation loss: 0.367554\n",
      "Epoch: 76 | Training loss: 0.189018 | Validation loss: 0.366540\n",
      "Epoch: 77 | Training loss: 0.187664 | Validation loss: 0.365540\n",
      "Epoch: 78 | Training loss: 0.186336 | Validation loss: 0.364574\n",
      "lr = 0.001000, alpha= 0.000500; Predict_Class:0.825871\n",
      "Epoch: 0 | Training loss: 0.990624 | Validation loss: 0.978114\n",
      "Epoch: 1 | Training loss: 0.840351 | Validation loss: 0.895639\n",
      "Epoch: 2 | Training loss: 0.747046 | Validation loss: 0.833517\n",
      "Epoch: 3 | Training loss: 0.681165 | Validation loss: 0.784850\n",
      "Epoch: 4 | Training loss: 0.631286 | Validation loss: 0.745488\n",
      "Epoch: 5 | Training loss: 0.591803 | Validation loss: 0.712826\n",
      "Epoch: 6 | Training loss: 0.559423 | Validation loss: 0.685282\n",
      "Epoch: 7 | Training loss: 0.532150 | Validation loss: 0.661541\n",
      "Epoch: 8 | Training loss: 0.508776 | Validation loss: 0.640966\n",
      "Epoch: 9 | Training loss: 0.488375 | Validation loss: 0.622821\n",
      "Epoch: 10 | Training loss: 0.470354 | Validation loss: 0.606717\n",
      "Epoch: 11 | Training loss: 0.454250 | Validation loss: 0.592227\n",
      "Epoch: 12 | Training loss: 0.439731 | Validation loss: 0.579159\n",
      "Epoch: 13 | Training loss: 0.426543 | Validation loss: 0.567244\n",
      "Epoch: 14 | Training loss: 0.414509 | Validation loss: 0.556433\n",
      "Epoch: 15 | Training loss: 0.403433 | Validation loss: 0.546507\n",
      "Epoch: 16 | Training loss: 0.393199 | Validation loss: 0.537325\n",
      "Epoch: 17 | Training loss: 0.383697 | Validation loss: 0.528842\n",
      "Epoch: 18 | Training loss: 0.374851 | Validation loss: 0.520943\n",
      "Epoch: 19 | Training loss: 0.366564 | Validation loss: 0.513530\n",
      "Epoch: 20 | Training loss: 0.358802 | Validation loss: 0.506639\n",
      "Epoch: 21 | Training loss: 0.351496 | Validation loss: 0.500190\n",
      "Epoch: 22 | Training loss: 0.344606 | Validation loss: 0.494132\n",
      "Epoch: 23 | Training loss: 0.338074 | Validation loss: 0.488374\n",
      "Epoch: 24 | Training loss: 0.331905 | Validation loss: 0.482999\n",
      "Epoch: 25 | Training loss: 0.326041 | Validation loss: 0.477916\n",
      "Epoch: 26 | Training loss: 0.320458 | Validation loss: 0.473087\n",
      "Epoch: 27 | Training loss: 0.315139 | Validation loss: 0.468505\n",
      "Epoch: 28 | Training loss: 0.310059 | Validation loss: 0.464118\n",
      "Epoch: 29 | Training loss: 0.305206 | Validation loss: 0.459956\n",
      "Epoch: 30 | Training loss: 0.300554 | Validation loss: 0.455970\n",
      "Epoch: 31 | Training loss: 0.296095 | Validation loss: 0.452166\n",
      "Epoch: 32 | Training loss: 0.291814 | Validation loss: 0.448550\n",
      "Epoch: 33 | Training loss: 0.287701 | Validation loss: 0.445067\n",
      "Epoch: 34 | Training loss: 0.283743 | Validation loss: 0.441729\n",
      "Epoch: 35 | Training loss: 0.279931 | Validation loss: 0.438541\n",
      "Epoch: 36 | Training loss: 0.276255 | Validation loss: 0.435483\n",
      "Epoch: 37 | Training loss: 0.272703 | Validation loss: 0.432507\n",
      "Epoch: 38 | Training loss: 0.269279 | Validation loss: 0.429660\n",
      "Epoch: 39 | Training loss: 0.265962 | Validation loss: 0.426897\n",
      "Epoch: 40 | Training loss: 0.262756 | Validation loss: 0.424255\n",
      "Epoch: 41 | Training loss: 0.259651 | Validation loss: 0.421696\n",
      "Epoch: 42 | Training loss: 0.256642 | Validation loss: 0.419235\n",
      "Epoch: 43 | Training loss: 0.253724 | Validation loss: 0.416840\n",
      "Epoch: 44 | Training loss: 0.250891 | Validation loss: 0.414531\n",
      "Epoch: 45 | Training loss: 0.248137 | Validation loss: 0.412267\n",
      "Epoch: 46 | Training loss: 0.245468 | Validation loss: 0.410108\n",
      "Epoch: 47 | Training loss: 0.242871 | Validation loss: 0.408030\n",
      "Epoch: 48 | Training loss: 0.240343 | Validation loss: 0.406017\n",
      "Epoch: 49 | Training loss: 0.237879 | Validation loss: 0.404054\n",
      "Epoch: 50 | Training loss: 0.235485 | Validation loss: 0.402156\n",
      "Epoch: 51 | Training loss: 0.233149 | Validation loss: 0.400306\n",
      "Epoch: 52 | Training loss: 0.230872 | Validation loss: 0.398512\n",
      "Epoch: 53 | Training loss: 0.228652 | Validation loss: 0.396762\n",
      "Epoch: 54 | Training loss: 0.226486 | Validation loss: 0.395064\n",
      "Epoch: 55 | Training loss: 0.224372 | Validation loss: 0.393414\n",
      "Epoch: 56 | Training loss: 0.222303 | Validation loss: 0.391805\n",
      "Epoch: 57 | Training loss: 0.220290 | Validation loss: 0.390232\n",
      "Epoch: 58 | Training loss: 0.218316 | Validation loss: 0.388716\n",
      "Epoch: 59 | Training loss: 0.216390 | Validation loss: 0.387208\n",
      "Epoch: 60 | Training loss: 0.214501 | Validation loss: 0.385718\n",
      "Epoch: 61 | Training loss: 0.212660 | Validation loss: 0.384310\n",
      "Epoch: 62 | Training loss: 0.210848 | Validation loss: 0.382895\n",
      "Epoch: 63 | Training loss: 0.209088 | Validation loss: 0.381551\n",
      "Epoch: 64 | Training loss: 0.207357 | Validation loss: 0.380252\n",
      "Epoch: 65 | Training loss: 0.205657 | Validation loss: 0.378976\n",
      "Epoch: 66 | Training loss: 0.203998 | Validation loss: 0.377726\n",
      "Epoch: 67 | Training loss: 0.202368 | Validation loss: 0.376496\n",
      "Epoch: 68 | Training loss: 0.200772 | Validation loss: 0.375307\n",
      "Epoch: 69 | Training loss: 0.199205 | Validation loss: 0.374157\n",
      "Epoch: 70 | Training loss: 0.197669 | Validation loss: 0.373007\n",
      "Epoch: 71 | Training loss: 0.196161 | Validation loss: 0.371868\n",
      "Epoch: 72 | Training loss: 0.194679 | Validation loss: 0.370757\n",
      "Epoch: 73 | Training loss: 0.193228 | Validation loss: 0.369690\n",
      "Epoch: 74 | Training loss: 0.191801 | Validation loss: 0.368638\n",
      "Epoch: 75 | Training loss: 0.190399 | Validation loss: 0.367612\n",
      "Epoch: 76 | Training loss: 0.189023 | Validation loss: 0.366593\n",
      "Epoch: 77 | Training loss: 0.187670 | Validation loss: 0.365601\n",
      "lr = 0.001000, alpha= 0.000100; Predict_Class:0.827243\n",
      "Epoch: 0 | Training loss: 1.036428 | Validation loss: 1.030935\n",
      "Epoch: 1 | Training loss: 0.937166 | Validation loss: 0.978131\n",
      "Epoch: 2 | Training loss: 0.865730 | Validation loss: 0.933858\n",
      "Epoch: 3 | Training loss: 0.809748 | Validation loss: 0.895964\n",
      "Epoch: 4 | Training loss: 0.764142 | Validation loss: 0.862914\n",
      "Epoch: 5 | Training loss: 0.726043 | Validation loss: 0.833930\n",
      "Epoch: 6 | Training loss: 0.693571 | Validation loss: 0.808239\n",
      "Epoch: 7 | Training loss: 0.665479 | Validation loss: 0.785257\n",
      "Epoch: 8 | Training loss: 0.640838 | Validation loss: 0.764574\n",
      "Epoch: 9 | Training loss: 0.618968 | Validation loss: 0.745874\n",
      "Epoch: 10 | Training loss: 0.599390 | Validation loss: 0.728837\n",
      "Epoch: 11 | Training loss: 0.581705 | Validation loss: 0.713242\n",
      "Epoch: 12 | Training loss: 0.565625 | Validation loss: 0.698921\n",
      "Epoch: 13 | Training loss: 0.550912 | Validation loss: 0.685682\n",
      "Epoch: 14 | Training loss: 0.537370 | Validation loss: 0.673415\n",
      "Epoch: 15 | Training loss: 0.524845 | Validation loss: 0.661996\n",
      "Epoch: 16 | Training loss: 0.513212 | Validation loss: 0.651357\n",
      "Epoch: 17 | Training loss: 0.502361 | Validation loss: 0.641390\n",
      "Epoch: 18 | Training loss: 0.492206 | Validation loss: 0.632025\n",
      "Epoch: 19 | Training loss: 0.482674 | Validation loss: 0.623212\n"
     ]
    },
    {
     "name": "stdout",
     "output_type": "stream",
     "text": [
      "Epoch: 20 | Training loss: 0.473697 | Validation loss: 0.614907\n",
      "Epoch: 21 | Training loss: 0.465223 | Validation loss: 0.607072\n",
      "Epoch: 22 | Training loss: 0.457203 | Validation loss: 0.599632\n",
      "Epoch: 23 | Training loss: 0.449596 | Validation loss: 0.592581\n",
      "Epoch: 24 | Training loss: 0.442369 | Validation loss: 0.585893\n",
      "Epoch: 25 | Training loss: 0.435484 | Validation loss: 0.579515\n",
      "Epoch: 26 | Training loss: 0.428920 | Validation loss: 0.573444\n",
      "Epoch: 27 | Training loss: 0.422646 | Validation loss: 0.567651\n",
      "Epoch: 28 | Training loss: 0.416641 | Validation loss: 0.562120\n",
      "Epoch: 29 | Training loss: 0.410890 | Validation loss: 0.556818\n",
      "Epoch: 30 | Training loss: 0.405368 | Validation loss: 0.551737\n",
      "Epoch: 31 | Training loss: 0.400064 | Validation loss: 0.546861\n",
      "Epoch: 32 | Training loss: 0.394961 | Validation loss: 0.542181\n",
      "Epoch: 33 | Training loss: 0.390050 | Validation loss: 0.537682\n",
      "Epoch: 34 | Training loss: 0.385314 | Validation loss: 0.533345\n",
      "Epoch: 35 | Training loss: 0.380743 | Validation loss: 0.529179\n",
      "Epoch: 36 | Training loss: 0.376331 | Validation loss: 0.525155\n",
      "Epoch: 37 | Training loss: 0.372064 | Validation loss: 0.521264\n",
      "Epoch: 38 | Training loss: 0.367936 | Validation loss: 0.517512\n",
      "Epoch: 39 | Training loss: 0.363938 | Validation loss: 0.513890\n",
      "Epoch: 40 | Training loss: 0.360065 | Validation loss: 0.510386\n",
      "Epoch: 41 | Training loss: 0.356312 | Validation loss: 0.506993\n",
      "Epoch: 42 | Training loss: 0.352668 | Validation loss: 0.503701\n",
      "Epoch: 43 | Training loss: 0.349129 | Validation loss: 0.500518\n",
      "Epoch: 44 | Training loss: 0.345694 | Validation loss: 0.497432\n",
      "Epoch: 45 | Training loss: 0.342351 | Validation loss: 0.494437\n",
      "Epoch: 46 | Training loss: 0.339101 | Validation loss: 0.491528\n",
      "Epoch: 47 | Training loss: 0.335938 | Validation loss: 0.488708\n",
      "Epoch: 48 | Training loss: 0.332858 | Validation loss: 0.485962\n",
      "Epoch: 49 | Training loss: 0.329856 | Validation loss: 0.483300\n",
      "Epoch: 50 | Training loss: 0.326931 | Validation loss: 0.480705\n",
      "Epoch: 51 | Training loss: 0.324077 | Validation loss: 0.478176\n",
      "Epoch: 52 | Training loss: 0.321293 | Validation loss: 0.475712\n",
      "Epoch: 53 | Training loss: 0.318577 | Validation loss: 0.473318\n",
      "Epoch: 54 | Training loss: 0.315924 | Validation loss: 0.470982\n",
      "Epoch: 55 | Training loss: 0.313333 | Validation loss: 0.468712\n",
      "Epoch: 56 | Training loss: 0.310800 | Validation loss: 0.466500\n",
      "Epoch: 57 | Training loss: 0.308323 | Validation loss: 0.464339\n",
      "Epoch: 58 | Training loss: 0.305900 | Validation loss: 0.462221\n",
      "Epoch: 59 | Training loss: 0.303532 | Validation loss: 0.460162\n",
      "Epoch: 60 | Training loss: 0.301212 | Validation loss: 0.458153\n",
      "Epoch: 61 | Training loss: 0.298942 | Validation loss: 0.456184\n",
      "Epoch: 62 | Training loss: 0.296718 | Validation loss: 0.454262\n",
      "Epoch: 63 | Training loss: 0.294541 | Validation loss: 0.452380\n",
      "Epoch: 64 | Training loss: 0.292406 | Validation loss: 0.450539\n",
      "Epoch: 65 | Training loss: 0.290312 | Validation loss: 0.448733\n",
      "Epoch: 66 | Training loss: 0.288261 | Validation loss: 0.446969\n",
      "Epoch: 67 | Training loss: 0.286249 | Validation loss: 0.445241\n",
      "Epoch: 68 | Training loss: 0.284275 | Validation loss: 0.443552\n",
      "Epoch: 69 | Training loss: 0.282338 | Validation loss: 0.441900\n",
      "Epoch: 70 | Training loss: 0.280436 | Validation loss: 0.440286\n",
      "Epoch: 71 | Training loss: 0.278568 | Validation loss: 0.438695\n",
      "Epoch: 72 | Training loss: 0.276735 | Validation loss: 0.437139\n",
      "Epoch: 73 | Training loss: 0.274934 | Validation loss: 0.435620\n",
      "Epoch: 74 | Training loss: 0.273164 | Validation loss: 0.434120\n",
      "Epoch: 75 | Training loss: 0.271424 | Validation loss: 0.432649\n",
      "Epoch: 76 | Training loss: 0.269715 | Validation loss: 0.431214\n",
      "Epoch: 77 | Training loss: 0.268032 | Validation loss: 0.429789\n",
      "Epoch: 78 | Training loss: 0.266381 | Validation loss: 0.428409\n",
      "Epoch: 79 | Training loss: 0.264754 | Validation loss: 0.427049\n",
      "Epoch: 80 | Training loss: 0.263155 | Validation loss: 0.425723\n",
      "Epoch: 81 | Training loss: 0.261580 | Validation loss: 0.424418\n",
      "Epoch: 82 | Training loss: 0.260031 | Validation loss: 0.423127\n",
      "Epoch: 83 | Training loss: 0.258506 | Validation loss: 0.421854\n",
      "Epoch: 84 | Training loss: 0.257004 | Validation loss: 0.420597\n",
      "Epoch: 85 | Training loss: 0.255527 | Validation loss: 0.419371\n",
      "Epoch: 86 | Training loss: 0.254071 | Validation loss: 0.418169\n",
      "Epoch: 87 | Training loss: 0.252637 | Validation loss: 0.416989\n",
      "Epoch: 88 | Training loss: 0.251224 | Validation loss: 0.415821\n",
      "Epoch: 89 | Training loss: 0.249831 | Validation loss: 0.414678\n",
      "Epoch: 90 | Training loss: 0.248459 | Validation loss: 0.413542\n",
      "Epoch: 91 | Training loss: 0.247107 | Validation loss: 0.412434\n",
      "Epoch: 92 | Training loss: 0.245774 | Validation loss: 0.411348\n",
      "Epoch: 93 | Training loss: 0.244460 | Validation loss: 0.410278\n",
      "Epoch: 94 | Training loss: 0.243163 | Validation loss: 0.409224\n",
      "Epoch: 95 | Training loss: 0.241884 | Validation loss: 0.408180\n",
      "Epoch: 96 | Training loss: 0.240623 | Validation loss: 0.407164\n",
      "Epoch: 97 | Training loss: 0.239379 | Validation loss: 0.406154\n",
      "Epoch: 98 | Training loss: 0.238150 | Validation loss: 0.405153\n",
      "Epoch: 99 | Training loss: 0.236940 | Validation loss: 0.404181\n",
      "lr = 0.000500, alpha= 0.001000; Predict_Class:0.831947\n",
      "Epoch: 0 | Training loss: 1.036607 | Validation loss: 1.031025\n",
      "Epoch: 1 | Training loss: 0.937346 | Validation loss: 0.978162\n",
      "Epoch: 2 | Training loss: 0.865740 | Validation loss: 0.933890\n",
      "Epoch: 3 | Training loss: 0.809700 | Validation loss: 0.895950\n",
      "Epoch: 4 | Training loss: 0.764098 | Validation loss: 0.862943\n",
      "Epoch: 5 | Training loss: 0.726014 | Validation loss: 0.833947\n",
      "Epoch: 6 | Training loss: 0.693564 | Validation loss: 0.808250\n",
      "Epoch: 7 | Training loss: 0.665469 | Validation loss: 0.785245\n",
      "Epoch: 8 | Training loss: 0.640832 | Validation loss: 0.764589\n",
      "Epoch: 9 | Training loss: 0.618970 | Validation loss: 0.745884\n",
      "Epoch: 10 | Training loss: 0.599379 | Validation loss: 0.728839\n",
      "Epoch: 11 | Training loss: 0.581700 | Validation loss: 0.713229\n",
      "Epoch: 12 | Training loss: 0.565614 | Validation loss: 0.698886\n",
      "Epoch: 13 | Training loss: 0.550894 | Validation loss: 0.685649\n",
      "Epoch: 14 | Training loss: 0.537349 | Validation loss: 0.673373\n",
      "Epoch: 15 | Training loss: 0.524820 | Validation loss: 0.661959\n",
      "Epoch: 16 | Training loss: 0.513190 | Validation loss: 0.651314\n",
      "Epoch: 17 | Training loss: 0.502345 | Validation loss: 0.641350\n",
      "Epoch: 18 | Training loss: 0.492196 | Validation loss: 0.631998\n",
      "Epoch: 19 | Training loss: 0.482665 | Validation loss: 0.623191\n",
      "Epoch: 20 | Training loss: 0.473688 | Validation loss: 0.614889\n",
      "Epoch: 21 | Training loss: 0.465215 | Validation loss: 0.607053\n",
      "Epoch: 22 | Training loss: 0.457197 | Validation loss: 0.599628\n",
      "Epoch: 23 | Training loss: 0.449594 | Validation loss: 0.592582\n",
      "Epoch: 24 | Training loss: 0.442365 | Validation loss: 0.585885\n",
      "Epoch: 25 | Training loss: 0.435479 | Validation loss: 0.579505\n",
      "Epoch: 26 | Training loss: 0.428915 | Validation loss: 0.573437\n",
      "Epoch: 27 | Training loss: 0.422642 | Validation loss: 0.567640\n",
      "Epoch: 28 | Training loss: 0.416638 | Validation loss: 0.562104\n",
      "Epoch: 29 | Training loss: 0.410887 | Validation loss: 0.556794\n",
      "Epoch: 30 | Training loss: 0.405368 | Validation loss: 0.551712\n",
      "Epoch: 31 | Training loss: 0.400063 | Validation loss: 0.546829\n",
      "Epoch: 32 | Training loss: 0.394959 | Validation loss: 0.542142\n",
      "Epoch: 33 | Training loss: 0.390046 | Validation loss: 0.537637\n",
      "Epoch: 34 | Training loss: 0.385312 | Validation loss: 0.533313\n",
      "Epoch: 35 | Training loss: 0.380741 | Validation loss: 0.529135\n",
      "Epoch: 36 | Training loss: 0.376329 | Validation loss: 0.525112\n",
      "Epoch: 37 | Training loss: 0.372062 | Validation loss: 0.521240\n",
      "Epoch: 38 | Training loss: 0.367934 | Validation loss: 0.517491\n",
      "Epoch: 39 | Training loss: 0.363937 | Validation loss: 0.513870\n",
      "Epoch: 40 | Training loss: 0.360065 | Validation loss: 0.510361\n",
      "Epoch: 41 | Training loss: 0.356310 | Validation loss: 0.506973\n",
      "Epoch: 42 | Training loss: 0.352667 | Validation loss: 0.503691\n",
      "Epoch: 43 | Training loss: 0.349130 | Validation loss: 0.500506\n",
      "Epoch: 44 | Training loss: 0.345693 | Validation loss: 0.497424\n",
      "Epoch: 45 | Training loss: 0.342352 | Validation loss: 0.494433\n",
      "Epoch: 46 | Training loss: 0.339102 | Validation loss: 0.491528\n",
      "Epoch: 47 | Training loss: 0.335938 | Validation loss: 0.488702\n"
     ]
    },
    {
     "name": "stdout",
     "output_type": "stream",
     "text": [
      "Epoch: 48 | Training loss: 0.332858 | Validation loss: 0.485956\n",
      "Epoch: 49 | Training loss: 0.329858 | Validation loss: 0.483297\n",
      "Epoch: 50 | Training loss: 0.326931 | Validation loss: 0.480699\n",
      "Epoch: 51 | Training loss: 0.324078 | Validation loss: 0.478177\n",
      "Epoch: 52 | Training loss: 0.321292 | Validation loss: 0.475705\n",
      "Epoch: 53 | Training loss: 0.318579 | Validation loss: 0.473316\n",
      "Epoch: 54 | Training loss: 0.315924 | Validation loss: 0.470977\n",
      "Epoch: 55 | Training loss: 0.313334 | Validation loss: 0.468708\n",
      "Epoch: 56 | Training loss: 0.310800 | Validation loss: 0.466493\n",
      "Epoch: 57 | Training loss: 0.308325 | Validation loss: 0.464332\n",
      "Epoch: 58 | Training loss: 0.305903 | Validation loss: 0.462223\n",
      "Epoch: 59 | Training loss: 0.303533 | Validation loss: 0.460165\n",
      "Epoch: 60 | Training loss: 0.301214 | Validation loss: 0.458150\n",
      "Epoch: 61 | Training loss: 0.298943 | Validation loss: 0.456184\n",
      "Epoch: 62 | Training loss: 0.296720 | Validation loss: 0.454257\n",
      "Epoch: 63 | Training loss: 0.294540 | Validation loss: 0.452369\n",
      "Epoch: 64 | Training loss: 0.292407 | Validation loss: 0.450526\n",
      "Epoch: 65 | Training loss: 0.290314 | Validation loss: 0.448725\n",
      "Epoch: 66 | Training loss: 0.288262 | Validation loss: 0.446961\n",
      "Epoch: 67 | Training loss: 0.286251 | Validation loss: 0.445241\n",
      "Epoch: 68 | Training loss: 0.284276 | Validation loss: 0.443550\n",
      "Epoch: 69 | Training loss: 0.282338 | Validation loss: 0.441905\n",
      "Epoch: 70 | Training loss: 0.280437 | Validation loss: 0.440292\n",
      "Epoch: 71 | Training loss: 0.278569 | Validation loss: 0.438712\n",
      "Epoch: 72 | Training loss: 0.276736 | Validation loss: 0.437157\n",
      "Epoch: 73 | Training loss: 0.274935 | Validation loss: 0.435635\n",
      "Epoch: 74 | Training loss: 0.273165 | Validation loss: 0.434137\n",
      "Epoch: 75 | Training loss: 0.271425 | Validation loss: 0.432678\n",
      "Epoch: 76 | Training loss: 0.269716 | Validation loss: 0.431237\n",
      "Epoch: 77 | Training loss: 0.268034 | Validation loss: 0.429823\n",
      "Epoch: 78 | Training loss: 0.266380 | Validation loss: 0.428440\n",
      "Epoch: 79 | Training loss: 0.264755 | Validation loss: 0.427073\n",
      "Epoch: 80 | Training loss: 0.263156 | Validation loss: 0.425735\n",
      "Epoch: 81 | Training loss: 0.261582 | Validation loss: 0.424422\n",
      "Epoch: 82 | Training loss: 0.260033 | Validation loss: 0.423132\n",
      "Epoch: 83 | Training loss: 0.258507 | Validation loss: 0.421858\n",
      "Epoch: 84 | Training loss: 0.257007 | Validation loss: 0.420613\n",
      "Epoch: 85 | Training loss: 0.255528 | Validation loss: 0.419391\n",
      "Epoch: 86 | Training loss: 0.254072 | Validation loss: 0.418183\n",
      "Epoch: 87 | Training loss: 0.252638 | Validation loss: 0.417001\n",
      "Epoch: 88 | Training loss: 0.251224 | Validation loss: 0.415832\n",
      "Epoch: 89 | Training loss: 0.249832 | Validation loss: 0.414685\n",
      "Epoch: 90 | Training loss: 0.248461 | Validation loss: 0.413561\n",
      "Epoch: 91 | Training loss: 0.247108 | Validation loss: 0.412458\n",
      "Epoch: 92 | Training loss: 0.245775 | Validation loss: 0.411364\n",
      "Epoch: 93 | Training loss: 0.244460 | Validation loss: 0.410293\n",
      "Epoch: 94 | Training loss: 0.243164 | Validation loss: 0.409241\n",
      "Epoch: 95 | Training loss: 0.241885 | Validation loss: 0.408204\n",
      "Epoch: 96 | Training loss: 0.240624 | Validation loss: 0.407183\n",
      "Epoch: 97 | Training loss: 0.239380 | Validation loss: 0.406177\n",
      "Epoch: 98 | Training loss: 0.238153 | Validation loss: 0.405182\n",
      "lr = 0.000500, alpha= 0.000500; Predict_Class:0.831947\n",
      "Epoch: 0 | Training loss: 1.036498 | Validation loss: 1.031044\n",
      "Epoch: 1 | Training loss: 0.937248 | Validation loss: 0.978159\n",
      "Epoch: 2 | Training loss: 0.865804 | Validation loss: 0.933931\n",
      "Epoch: 3 | Training loss: 0.809795 | Validation loss: 0.895972\n",
      "Epoch: 4 | Training loss: 0.764150 | Validation loss: 0.862927\n",
      "Epoch: 5 | Training loss: 0.726047 | Validation loss: 0.833944\n",
      "Epoch: 6 | Training loss: 0.693583 | Validation loss: 0.808211\n",
      "Epoch: 7 | Training loss: 0.665485 | Validation loss: 0.785238\n",
      "Epoch: 8 | Training loss: 0.640833 | Validation loss: 0.764583\n",
      "Epoch: 9 | Training loss: 0.618958 | Validation loss: 0.745870\n",
      "Epoch: 10 | Training loss: 0.599385 | Validation loss: 0.728836\n",
      "Epoch: 11 | Training loss: 0.581704 | Validation loss: 0.713238\n",
      "Epoch: 12 | Training loss: 0.565631 | Validation loss: 0.698915\n",
      "Epoch: 13 | Training loss: 0.550911 | Validation loss: 0.685677\n",
      "Epoch: 14 | Training loss: 0.537360 | Validation loss: 0.673395\n",
      "Epoch: 15 | Training loss: 0.524832 | Validation loss: 0.661974\n",
      "Epoch: 16 | Training loss: 0.513192 | Validation loss: 0.651311\n",
      "Epoch: 17 | Training loss: 0.502344 | Validation loss: 0.641344\n",
      "Epoch: 18 | Training loss: 0.492190 | Validation loss: 0.632003\n",
      "Epoch: 19 | Training loss: 0.482661 | Validation loss: 0.623207\n",
      "Epoch: 20 | Training loss: 0.473686 | Validation loss: 0.614913\n",
      "Epoch: 21 | Training loss: 0.465215 | Validation loss: 0.607076\n",
      "Epoch: 22 | Training loss: 0.457196 | Validation loss: 0.599640\n",
      "Epoch: 23 | Training loss: 0.449588 | Validation loss: 0.592583\n",
      "Epoch: 24 | Training loss: 0.442361 | Validation loss: 0.585888\n",
      "Epoch: 25 | Training loss: 0.435476 | Validation loss: 0.579511\n",
      "Epoch: 26 | Training loss: 0.428911 | Validation loss: 0.573434\n",
      "Epoch: 27 | Training loss: 0.422638 | Validation loss: 0.567633\n",
      "Epoch: 28 | Training loss: 0.416632 | Validation loss: 0.562091\n",
      "Epoch: 29 | Training loss: 0.410880 | Validation loss: 0.556786\n",
      "Epoch: 30 | Training loss: 0.405360 | Validation loss: 0.551696\n",
      "Epoch: 31 | Training loss: 0.400057 | Validation loss: 0.546828\n",
      "Epoch: 32 | Training loss: 0.394954 | Validation loss: 0.542136\n",
      "Epoch: 33 | Training loss: 0.390043 | Validation loss: 0.537635\n",
      "Epoch: 34 | Training loss: 0.385308 | Validation loss: 0.533303\n",
      "Epoch: 35 | Training loss: 0.380738 | Validation loss: 0.529142\n",
      "Epoch: 36 | Training loss: 0.376326 | Validation loss: 0.525120\n",
      "Epoch: 37 | Training loss: 0.372061 | Validation loss: 0.521237\n",
      "Epoch: 38 | Training loss: 0.367932 | Validation loss: 0.517484\n",
      "Epoch: 39 | Training loss: 0.363936 | Validation loss: 0.513856\n",
      "Epoch: 40 | Training loss: 0.360062 | Validation loss: 0.510358\n",
      "Epoch: 41 | Training loss: 0.356309 | Validation loss: 0.506968\n",
      "Epoch: 42 | Training loss: 0.352665 | Validation loss: 0.503681\n",
      "Epoch: 43 | Training loss: 0.349128 | Validation loss: 0.500499\n",
      "Epoch: 44 | Training loss: 0.345690 | Validation loss: 0.497410\n",
      "Epoch: 45 | Training loss: 0.342349 | Validation loss: 0.494420\n",
      "Epoch: 46 | Training loss: 0.339098 | Validation loss: 0.491517\n",
      "Epoch: 47 | Training loss: 0.335934 | Validation loss: 0.488701\n",
      "Epoch: 48 | Training loss: 0.332854 | Validation loss: 0.485968\n",
      "Epoch: 49 | Training loss: 0.329853 | Validation loss: 0.483293\n",
      "Epoch: 50 | Training loss: 0.326928 | Validation loss: 0.480701\n",
      "Epoch: 51 | Training loss: 0.324074 | Validation loss: 0.478169\n",
      "Epoch: 52 | Training loss: 0.321293 | Validation loss: 0.475715\n",
      "Epoch: 53 | Training loss: 0.318576 | Validation loss: 0.473318\n",
      "Epoch: 54 | Training loss: 0.315923 | Validation loss: 0.470984\n",
      "Epoch: 55 | Training loss: 0.313331 | Validation loss: 0.468714\n",
      "Epoch: 56 | Training loss: 0.310798 | Validation loss: 0.466500\n",
      "Epoch: 57 | Training loss: 0.308322 | Validation loss: 0.464336\n",
      "Epoch: 58 | Training loss: 0.305897 | Validation loss: 0.462209\n",
      "Epoch: 59 | Training loss: 0.303530 | Validation loss: 0.460148\n",
      "Epoch: 60 | Training loss: 0.301211 | Validation loss: 0.458135\n",
      "Epoch: 61 | Training loss: 0.298942 | Validation loss: 0.456168\n",
      "Epoch: 62 | Training loss: 0.296718 | Validation loss: 0.454242\n",
      "Epoch: 63 | Training loss: 0.294539 | Validation loss: 0.452358\n",
      "Epoch: 64 | Training loss: 0.292405 | Validation loss: 0.450519\n",
      "Epoch: 65 | Training loss: 0.290310 | Validation loss: 0.448707\n",
      "Epoch: 66 | Training loss: 0.288261 | Validation loss: 0.446949\n",
      "Epoch: 67 | Training loss: 0.286248 | Validation loss: 0.445221\n",
      "Epoch: 68 | Training loss: 0.284274 | Validation loss: 0.443537\n",
      "Epoch: 69 | Training loss: 0.282337 | Validation loss: 0.441883\n",
      "Epoch: 70 | Training loss: 0.280433 | Validation loss: 0.440252\n",
      "Epoch: 71 | Training loss: 0.278569 | Validation loss: 0.438670\n",
      "Epoch: 72 | Training loss: 0.276734 | Validation loss: 0.437121\n",
      "Epoch: 73 | Training loss: 0.274933 | Validation loss: 0.435594\n",
      "Epoch: 74 | Training loss: 0.273163 | Validation loss: 0.434101\n",
      "Epoch: 75 | Training loss: 0.271424 | Validation loss: 0.432635\n",
      "Epoch: 76 | Training loss: 0.269714 | Validation loss: 0.431194\n"
     ]
    },
    {
     "name": "stdout",
     "output_type": "stream",
     "text": [
      "Epoch: 77 | Training loss: 0.268033 | Validation loss: 0.429788\n",
      "Epoch: 78 | Training loss: 0.266380 | Validation loss: 0.428401\n",
      "Epoch: 79 | Training loss: 0.264754 | Validation loss: 0.427046\n",
      "Epoch: 80 | Training loss: 0.263154 | Validation loss: 0.425708\n",
      "Epoch: 81 | Training loss: 0.261581 | Validation loss: 0.424396\n",
      "Epoch: 82 | Training loss: 0.260031 | Validation loss: 0.423106\n",
      "Epoch: 83 | Training loss: 0.258506 | Validation loss: 0.421835\n",
      "Epoch: 84 | Training loss: 0.257005 | Validation loss: 0.420589\n",
      "Epoch: 85 | Training loss: 0.255526 | Validation loss: 0.419363\n",
      "Epoch: 86 | Training loss: 0.254071 | Validation loss: 0.418162\n",
      "Epoch: 87 | Training loss: 0.252637 | Validation loss: 0.416987\n",
      "Epoch: 88 | Training loss: 0.251224 | Validation loss: 0.415823\n",
      "Epoch: 89 | Training loss: 0.249832 | Validation loss: 0.414680\n",
      "Epoch: 90 | Training loss: 0.248459 | Validation loss: 0.413554\n",
      "Epoch: 91 | Training loss: 0.247107 | Validation loss: 0.412450\n",
      "Epoch: 92 | Training loss: 0.245774 | Validation loss: 0.411363\n",
      "Epoch: 93 | Training loss: 0.244459 | Validation loss: 0.410290\n",
      "Epoch: 94 | Training loss: 0.243163 | Validation loss: 0.409236\n",
      "Epoch: 95 | Training loss: 0.241884 | Validation loss: 0.408195\n",
      "Epoch: 96 | Training loss: 0.240623 | Validation loss: 0.407169\n",
      "Epoch: 97 | Training loss: 0.239379 | Validation loss: 0.406163\n",
      "Epoch: 98 | Training loss: 0.238151 | Validation loss: 0.405168\n",
      "lr = 0.000500, alpha= 0.000100; Predict_Class:0.831947\n",
      "Epoch: 0 | Training loss: 1.084223 | Validation loss: 1.083286\n",
      "Epoch: 1 | Training loss: 1.056015 | Validation loss: 1.069044\n",
      "Epoch: 2 | Training loss: 1.030895 | Validation loss: 1.055693\n",
      "Epoch: 3 | Training loss: 1.008225 | Validation loss: 1.043099\n",
      "Epoch: 4 | Training loss: 0.987513 | Validation loss: 1.031132\n",
      "Epoch: 5 | Training loss: 0.968375 | Validation loss: 1.019709\n",
      "Epoch: 6 | Training loss: 0.950555 | Validation loss: 1.008769\n",
      "Epoch: 7 | Training loss: 0.933864 | Validation loss: 0.998255\n",
      "Epoch: 8 | Training loss: 0.918150 | Validation loss: 0.988134\n",
      "Epoch: 9 | Training loss: 0.903300 | Validation loss: 0.978371\n",
      "Epoch: 10 | Training loss: 0.889233 | Validation loss: 0.968942\n",
      "Epoch: 11 | Training loss: 0.875874 | Validation loss: 0.959829\n",
      "Epoch: 12 | Training loss: 0.863159 | Validation loss: 0.951005\n",
      "Epoch: 13 | Training loss: 0.851034 | Validation loss: 0.942460\n",
      "Epoch: 14 | Training loss: 0.839452 | Validation loss: 0.934177\n",
      "Epoch: 15 | Training loss: 0.828372 | Validation loss: 0.926142\n",
      "Epoch: 16 | Training loss: 0.817758 | Validation loss: 0.918344\n",
      "Epoch: 17 | Training loss: 0.807578 | Validation loss: 0.910768\n",
      "Epoch: 18 | Training loss: 0.797804 | Validation loss: 0.903410\n",
      "Epoch: 19 | Training loss: 0.788408 | Validation loss: 0.896256\n",
      "Epoch: 20 | Training loss: 0.779368 | Validation loss: 0.889300\n",
      "Epoch: 21 | Training loss: 0.770660 | Validation loss: 0.882531\n",
      "Epoch: 22 | Training loss: 0.762265 | Validation loss: 0.875942\n",
      "Epoch: 23 | Training loss: 0.754161 | Validation loss: 0.869525\n",
      "Epoch: 24 | Training loss: 0.746337 | Validation loss: 0.863275\n",
      "Epoch: 25 | Training loss: 0.738775 | Validation loss: 0.857184\n",
      "Epoch: 26 | Training loss: 0.731461 | Validation loss: 0.851246\n",
      "Epoch: 27 | Training loss: 0.724381 | Validation loss: 0.845454\n",
      "Epoch: 28 | Training loss: 0.717522 | Validation loss: 0.839803\n",
      "Epoch: 29 | Training loss: 0.710873 | Validation loss: 0.834289\n",
      "Epoch: 30 | Training loss: 0.704425 | Validation loss: 0.828904\n",
      "Epoch: 31 | Training loss: 0.698165 | Validation loss: 0.823647\n",
      "Epoch: 32 | Training loss: 0.692086 | Validation loss: 0.818512\n",
      "Epoch: 33 | Training loss: 0.686179 | Validation loss: 0.813492\n",
      "Epoch: 34 | Training loss: 0.680435 | Validation loss: 0.808586\n",
      "Epoch: 35 | Training loss: 0.674848 | Validation loss: 0.803788\n",
      "Epoch: 36 | Training loss: 0.669410 | Validation loss: 0.799097\n",
      "Epoch: 37 | Training loss: 0.664114 | Validation loss: 0.794507\n",
      "Epoch: 38 | Training loss: 0.658955 | Validation loss: 0.790015\n",
      "Epoch: 39 | Training loss: 0.653926 | Validation loss: 0.785618\n",
      "Epoch: 40 | Training loss: 0.649023 | Validation loss: 0.781314\n",
      "Epoch: 41 | Training loss: 0.644238 | Validation loss: 0.777097\n",
      "Epoch: 42 | Training loss: 0.639568 | Validation loss: 0.772966\n",
      "Epoch: 43 | Training loss: 0.635009 | Validation loss: 0.768919\n",
      "Epoch: 44 | Training loss: 0.630555 | Validation loss: 0.764952\n",
      "Epoch: 45 | Training loss: 0.626203 | Validation loss: 0.761062\n",
      "Epoch: 46 | Training loss: 0.621947 | Validation loss: 0.757248\n",
      "Epoch: 47 | Training loss: 0.617786 | Validation loss: 0.753507\n",
      "Epoch: 48 | Training loss: 0.613715 | Validation loss: 0.749837\n",
      "Epoch: 49 | Training loss: 0.609732 | Validation loss: 0.746235\n",
      "Epoch: 50 | Training loss: 0.605832 | Validation loss: 0.742701\n",
      "Epoch: 51 | Training loss: 0.602013 | Validation loss: 0.739232\n",
      "Epoch: 52 | Training loss: 0.598272 | Validation loss: 0.735824\n",
      "Epoch: 53 | Training loss: 0.594606 | Validation loss: 0.732478\n",
      "Epoch: 54 | Training loss: 0.591014 | Validation loss: 0.729192\n",
      "Epoch: 55 | Training loss: 0.587492 | Validation loss: 0.725963\n",
      "Epoch: 56 | Training loss: 0.584037 | Validation loss: 0.722790\n",
      "Epoch: 57 | Training loss: 0.580648 | Validation loss: 0.719671\n",
      "Epoch: 58 | Training loss: 0.577322 | Validation loss: 0.716605\n",
      "Epoch: 59 | Training loss: 0.574057 | Validation loss: 0.713590\n",
      "Epoch: 60 | Training loss: 0.570853 | Validation loss: 0.710626\n",
      "Epoch: 61 | Training loss: 0.567705 | Validation loss: 0.707710\n",
      "Epoch: 62 | Training loss: 0.564615 | Validation loss: 0.704843\n",
      "Epoch: 63 | Training loss: 0.561578 | Validation loss: 0.702021\n",
      "Epoch: 64 | Training loss: 0.558593 | Validation loss: 0.699244\n",
      "Epoch: 65 | Training loss: 0.555660 | Validation loss: 0.696511\n",
      "Epoch: 66 | Training loss: 0.552776 | Validation loss: 0.693821\n",
      "Epoch: 67 | Training loss: 0.549940 | Validation loss: 0.691173\n",
      "Epoch: 68 | Training loss: 0.547151 | Validation loss: 0.688565\n",
      "Epoch: 69 | Training loss: 0.544407 | Validation loss: 0.685996\n",
      "Epoch: 70 | Training loss: 0.541707 | Validation loss: 0.683467\n",
      "Epoch: 71 | Training loss: 0.539050 | Validation loss: 0.680975\n",
      "Epoch: 72 | Training loss: 0.536434 | Validation loss: 0.678520\n",
      "Epoch: 73 | Training loss: 0.533859 | Validation loss: 0.676100\n",
      "Epoch: 74 | Training loss: 0.531323 | Validation loss: 0.673716\n",
      "Epoch: 75 | Training loss: 0.528825 | Validation loss: 0.671366\n",
      "Epoch: 76 | Training loss: 0.526365 | Validation loss: 0.669050\n",
      "Epoch: 77 | Training loss: 0.523942 | Validation loss: 0.666766\n",
      "Epoch: 78 | Training loss: 0.521553 | Validation loss: 0.664513\n",
      "Epoch: 79 | Training loss: 0.519200 | Validation loss: 0.662292\n",
      "Epoch: 80 | Training loss: 0.516880 | Validation loss: 0.660101\n",
      "Epoch: 81 | Training loss: 0.514593 | Validation loss: 0.657941\n",
      "Epoch: 82 | Training loss: 0.512338 | Validation loss: 0.655809\n",
      "Epoch: 83 | Training loss: 0.510114 | Validation loss: 0.653707\n",
      "Epoch: 84 | Training loss: 0.507921 | Validation loss: 0.651632\n",
      "Epoch: 85 | Training loss: 0.505757 | Validation loss: 0.649584\n",
      "Epoch: 86 | Training loss: 0.503623 | Validation loss: 0.647563\n",
      "Epoch: 87 | Training loss: 0.501516 | Validation loss: 0.645568\n",
      "Epoch: 88 | Training loss: 0.499438 | Validation loss: 0.643599\n",
      "Epoch: 89 | Training loss: 0.497386 | Validation loss: 0.641654\n",
      "Epoch: 90 | Training loss: 0.495361 | Validation loss: 0.639735\n",
      "Epoch: 91 | Training loss: 0.493362 | Validation loss: 0.637839\n",
      "Epoch: 92 | Training loss: 0.491389 | Validation loss: 0.635967\n",
      "Epoch: 93 | Training loss: 0.489440 | Validation loss: 0.634117\n",
      "Epoch: 94 | Training loss: 0.487515 | Validation loss: 0.632291\n",
      "Epoch: 95 | Training loss: 0.485614 | Validation loss: 0.630487\n",
      "Epoch: 96 | Training loss: 0.483736 | Validation loss: 0.628704\n",
      "Epoch: 97 | Training loss: 0.481881 | Validation loss: 0.626942\n",
      "Epoch: 98 | Training loss: 0.480047 | Validation loss: 0.625202\n",
      "Epoch: 99 | Training loss: 0.478236 | Validation loss: 0.623481\n",
      "Epoch: 100 | Training loss: 0.476446 | Validation loss: 0.621782\n",
      "Epoch: 101 | Training loss: 0.474677 | Validation loss: 0.620102\n",
      "Epoch: 102 | Training loss: 0.472928 | Validation loss: 0.618440\n",
      "Epoch: 103 | Training loss: 0.471199 | Validation loss: 0.616799\n",
      "Epoch: 104 | Training loss: 0.469490 | Validation loss: 0.615175\n",
      "Epoch: 105 | Training loss: 0.467799 | Validation loss: 0.613570\n"
     ]
    },
    {
     "name": "stdout",
     "output_type": "stream",
     "text": [
      "Epoch: 106 | Training loss: 0.466128 | Validation loss: 0.611982\n",
      "Epoch: 107 | Training loss: 0.464476 | Validation loss: 0.610413\n",
      "Epoch: 108 | Training loss: 0.462841 | Validation loss: 0.608860\n",
      "Epoch: 109 | Training loss: 0.461224 | Validation loss: 0.607325\n",
      "Epoch: 110 | Training loss: 0.459624 | Validation loss: 0.605806\n",
      "Epoch: 111 | Training loss: 0.458042 | Validation loss: 0.604303\n",
      "Epoch: 112 | Training loss: 0.456476 | Validation loss: 0.602817\n",
      "Epoch: 113 | Training loss: 0.454927 | Validation loss: 0.601347\n",
      "Epoch: 114 | Training loss: 0.453394 | Validation loss: 0.599892\n",
      "Epoch: 115 | Training loss: 0.451877 | Validation loss: 0.598452\n",
      "Epoch: 116 | Training loss: 0.450375 | Validation loss: 0.597028\n",
      "Epoch: 117 | Training loss: 0.448889 | Validation loss: 0.595618\n",
      "Epoch: 118 | Training loss: 0.447418 | Validation loss: 0.594222\n",
      "Epoch: 119 | Training loss: 0.445961 | Validation loss: 0.592840\n",
      "Epoch: 120 | Training loss: 0.444519 | Validation loss: 0.591473\n",
      "Epoch: 121 | Training loss: 0.443091 | Validation loss: 0.590120\n",
      "Epoch: 122 | Training loss: 0.441678 | Validation loss: 0.588780\n",
      "Epoch: 123 | Training loss: 0.440278 | Validation loss: 0.587454\n",
      "Epoch: 124 | Training loss: 0.438891 | Validation loss: 0.586140\n",
      "Epoch: 125 | Training loss: 0.437518 | Validation loss: 0.584840\n",
      "Epoch: 126 | Training loss: 0.436158 | Validation loss: 0.583553\n",
      "Epoch: 127 | Training loss: 0.434811 | Validation loss: 0.582277\n",
      "Epoch: 128 | Training loss: 0.433476 | Validation loss: 0.581014\n",
      "Epoch: 129 | Training loss: 0.432154 | Validation loss: 0.579764\n",
      "Epoch: 130 | Training loss: 0.430844 | Validation loss: 0.578525\n",
      "Epoch: 131 | Training loss: 0.429546 | Validation loss: 0.577298\n",
      "Epoch: 132 | Training loss: 0.428260 | Validation loss: 0.576082\n",
      "Epoch: 133 | Training loss: 0.426986 | Validation loss: 0.574877\n",
      "Epoch: 134 | Training loss: 0.425723 | Validation loss: 0.573684\n",
      "Epoch: 135 | Training loss: 0.424471 | Validation loss: 0.572502\n",
      "Epoch: 136 | Training loss: 0.423230 | Validation loss: 0.571331\n",
      "Epoch: 137 | Training loss: 0.422001 | Validation loss: 0.570171\n",
      "Epoch: 138 | Training loss: 0.420782 | Validation loss: 0.569021\n",
      "Epoch: 139 | Training loss: 0.419574 | Validation loss: 0.567881\n",
      "Epoch: 140 | Training loss: 0.418376 | Validation loss: 0.566752\n",
      "Epoch: 141 | Training loss: 0.417188 | Validation loss: 0.565632\n",
      "Epoch: 142 | Training loss: 0.416011 | Validation loss: 0.564523\n",
      "Epoch: 143 | Training loss: 0.414843 | Validation loss: 0.563423\n",
      "Epoch: 144 | Training loss: 0.413686 | Validation loss: 0.562333\n",
      "Epoch: 145 | Training loss: 0.412538 | Validation loss: 0.561254\n",
      "Epoch: 146 | Training loss: 0.411400 | Validation loss: 0.560182\n",
      "Epoch: 147 | Training loss: 0.410271 | Validation loss: 0.559120\n",
      "Epoch: 148 | Training loss: 0.409151 | Validation loss: 0.558067\n",
      "Epoch: 149 | Training loss: 0.408040 | Validation loss: 0.557023\n",
      "Epoch: 150 | Training loss: 0.406939 | Validation loss: 0.555988\n",
      "Epoch: 151 | Training loss: 0.405846 | Validation loss: 0.554962\n",
      "Epoch: 152 | Training loss: 0.404762 | Validation loss: 0.553944\n",
      "Epoch: 153 | Training loss: 0.403687 | Validation loss: 0.552935\n",
      "Epoch: 154 | Training loss: 0.402620 | Validation loss: 0.551934\n",
      "Epoch: 155 | Training loss: 0.401562 | Validation loss: 0.550942\n",
      "lr = 0.000100, alpha= 0.001000; Predict_Class:0.823333\n",
      "Epoch: 0 | Training loss: 1.084229 | Validation loss: 1.083282\n",
      "Epoch: 1 | Training loss: 1.056039 | Validation loss: 1.069048\n",
      "Epoch: 2 | Training loss: 1.030950 | Validation loss: 1.055704\n",
      "Epoch: 3 | Training loss: 1.008289 | Validation loss: 1.043107\n",
      "Epoch: 4 | Training loss: 0.987562 | Validation loss: 1.031138\n",
      "Epoch: 5 | Training loss: 0.968411 | Validation loss: 1.019712\n",
      "Epoch: 6 | Training loss: 0.950576 | Validation loss: 1.008768\n",
      "Epoch: 7 | Training loss: 0.933872 | Validation loss: 0.998257\n",
      "Epoch: 8 | Training loss: 0.918157 | Validation loss: 0.988137\n",
      "Epoch: 9 | Training loss: 0.903311 | Validation loss: 0.978375\n",
      "Epoch: 10 | Training loss: 0.889243 | Validation loss: 0.968946\n",
      "Epoch: 11 | Training loss: 0.875881 | Validation loss: 0.959830\n",
      "Epoch: 12 | Training loss: 0.863165 | Validation loss: 0.951006\n",
      "Epoch: 13 | Training loss: 0.851039 | Validation loss: 0.942461\n",
      "Epoch: 14 | Training loss: 0.839455 | Validation loss: 0.934177\n",
      "Epoch: 15 | Training loss: 0.828372 | Validation loss: 0.926142\n",
      "Epoch: 16 | Training loss: 0.817757 | Validation loss: 0.918344\n",
      "Epoch: 17 | Training loss: 0.807578 | Validation loss: 0.910770\n",
      "Epoch: 18 | Training loss: 0.797802 | Validation loss: 0.903412\n",
      "Epoch: 19 | Training loss: 0.788404 | Validation loss: 0.896258\n",
      "Epoch: 20 | Training loss: 0.779363 | Validation loss: 0.889301\n",
      "Epoch: 21 | Training loss: 0.770653 | Validation loss: 0.882531\n",
      "Epoch: 22 | Training loss: 0.762256 | Validation loss: 0.875942\n",
      "Epoch: 23 | Training loss: 0.754155 | Validation loss: 0.869526\n",
      "Epoch: 24 | Training loss: 0.746330 | Validation loss: 0.863274\n",
      "Epoch: 25 | Training loss: 0.738767 | Validation loss: 0.857183\n",
      "Epoch: 26 | Training loss: 0.731452 | Validation loss: 0.851245\n",
      "Epoch: 27 | Training loss: 0.724371 | Validation loss: 0.845452\n",
      "Epoch: 28 | Training loss: 0.717510 | Validation loss: 0.839800\n",
      "Epoch: 29 | Training loss: 0.710861 | Validation loss: 0.834286\n",
      "Epoch: 30 | Training loss: 0.704413 | Validation loss: 0.828903\n",
      "Epoch: 31 | Training loss: 0.698154 | Validation loss: 0.823643\n",
      "Epoch: 32 | Training loss: 0.692075 | Validation loss: 0.818507\n",
      "Epoch: 33 | Training loss: 0.686168 | Validation loss: 0.813488\n",
      "Epoch: 34 | Training loss: 0.680425 | Validation loss: 0.808583\n",
      "Epoch: 35 | Training loss: 0.674838 | Validation loss: 0.803786\n",
      "Epoch: 36 | Training loss: 0.669401 | Validation loss: 0.799093\n",
      "Epoch: 37 | Training loss: 0.664105 | Validation loss: 0.794503\n",
      "Epoch: 38 | Training loss: 0.658946 | Validation loss: 0.790010\n",
      "Epoch: 39 | Training loss: 0.653917 | Validation loss: 0.785613\n",
      "Epoch: 40 | Training loss: 0.649013 | Validation loss: 0.781307\n",
      "Epoch: 41 | Training loss: 0.644228 | Validation loss: 0.777091\n",
      "Epoch: 42 | Training loss: 0.639559 | Validation loss: 0.772960\n",
      "Epoch: 43 | Training loss: 0.634999 | Validation loss: 0.768912\n",
      "Epoch: 44 | Training loss: 0.630545 | Validation loss: 0.764945\n",
      "Epoch: 45 | Training loss: 0.626193 | Validation loss: 0.761056\n",
      "Epoch: 46 | Training loss: 0.621939 | Validation loss: 0.757242\n",
      "Epoch: 47 | Training loss: 0.617778 | Validation loss: 0.753501\n",
      "Epoch: 48 | Training loss: 0.613707 | Validation loss: 0.749831\n",
      "Epoch: 49 | Training loss: 0.609724 | Validation loss: 0.746230\n",
      "Epoch: 50 | Training loss: 0.605824 | Validation loss: 0.742696\n",
      "Epoch: 51 | Training loss: 0.602006 | Validation loss: 0.739226\n",
      "Epoch: 52 | Training loss: 0.598265 | Validation loss: 0.735820\n",
      "Epoch: 53 | Training loss: 0.594600 | Validation loss: 0.732474\n",
      "Epoch: 54 | Training loss: 0.591007 | Validation loss: 0.729187\n",
      "Epoch: 55 | Training loss: 0.587485 | Validation loss: 0.725958\n",
      "Epoch: 56 | Training loss: 0.584031 | Validation loss: 0.722785\n",
      "Epoch: 57 | Training loss: 0.580642 | Validation loss: 0.719667\n",
      "Epoch: 58 | Training loss: 0.577316 | Validation loss: 0.716601\n",
      "Epoch: 59 | Training loss: 0.574052 | Validation loss: 0.713587\n",
      "Epoch: 60 | Training loss: 0.570848 | Validation loss: 0.710623\n",
      "Epoch: 61 | Training loss: 0.567701 | Validation loss: 0.707708\n",
      "Epoch: 62 | Training loss: 0.564610 | Validation loss: 0.704840\n",
      "Epoch: 63 | Training loss: 0.561574 | Validation loss: 0.702018\n",
      "Epoch: 64 | Training loss: 0.558590 | Validation loss: 0.699242\n",
      "Epoch: 65 | Training loss: 0.555656 | Validation loss: 0.696509\n",
      "Epoch: 66 | Training loss: 0.552772 | Validation loss: 0.693819\n",
      "Epoch: 67 | Training loss: 0.549937 | Validation loss: 0.691171\n",
      "Epoch: 68 | Training loss: 0.547148 | Validation loss: 0.688563\n",
      "Epoch: 69 | Training loss: 0.544403 | Validation loss: 0.685995\n",
      "Epoch: 70 | Training loss: 0.541703 | Validation loss: 0.683465\n",
      "Epoch: 71 | Training loss: 0.539046 | Validation loss: 0.680972\n",
      "Epoch: 72 | Training loss: 0.536430 | Validation loss: 0.678517\n",
      "Epoch: 73 | Training loss: 0.533855 | Validation loss: 0.676097\n",
      "Epoch: 74 | Training loss: 0.531320 | Validation loss: 0.673713\n",
      "Epoch: 75 | Training loss: 0.528822 | Validation loss: 0.671363\n",
      "Epoch: 76 | Training loss: 0.526362 | Validation loss: 0.669047\n"
     ]
    },
    {
     "name": "stdout",
     "output_type": "stream",
     "text": [
      "Epoch: 77 | Training loss: 0.523939 | Validation loss: 0.666763\n",
      "Epoch: 78 | Training loss: 0.521551 | Validation loss: 0.664511\n",
      "Epoch: 79 | Training loss: 0.519197 | Validation loss: 0.662289\n",
      "Epoch: 80 | Training loss: 0.516877 | Validation loss: 0.660099\n",
      "Epoch: 81 | Training loss: 0.514590 | Validation loss: 0.657939\n",
      "Epoch: 82 | Training loss: 0.512335 | Validation loss: 0.655807\n",
      "Epoch: 83 | Training loss: 0.510111 | Validation loss: 0.653704\n",
      "Epoch: 84 | Training loss: 0.507918 | Validation loss: 0.651629\n",
      "Epoch: 85 | Training loss: 0.505755 | Validation loss: 0.649581\n",
      "Epoch: 86 | Training loss: 0.503620 | Validation loss: 0.647561\n",
      "Epoch: 87 | Training loss: 0.501514 | Validation loss: 0.645566\n",
      "Epoch: 88 | Training loss: 0.499435 | Validation loss: 0.643596\n",
      "Epoch: 89 | Training loss: 0.497384 | Validation loss: 0.641652\n",
      "Epoch: 90 | Training loss: 0.495359 | Validation loss: 0.639733\n",
      "Epoch: 91 | Training loss: 0.493361 | Validation loss: 0.637837\n",
      "Epoch: 92 | Training loss: 0.491387 | Validation loss: 0.635966\n",
      "Epoch: 93 | Training loss: 0.489438 | Validation loss: 0.634117\n",
      "Epoch: 94 | Training loss: 0.487513 | Validation loss: 0.632290\n",
      "Epoch: 95 | Training loss: 0.485612 | Validation loss: 0.630486\n",
      "Epoch: 96 | Training loss: 0.483734 | Validation loss: 0.628704\n",
      "Epoch: 97 | Training loss: 0.481879 | Validation loss: 0.626942\n",
      "Epoch: 98 | Training loss: 0.480046 | Validation loss: 0.625201\n",
      "Epoch: 99 | Training loss: 0.478235 | Validation loss: 0.623481\n",
      "Epoch: 100 | Training loss: 0.476444 | Validation loss: 0.621781\n",
      "Epoch: 101 | Training loss: 0.474675 | Validation loss: 0.620100\n",
      "Epoch: 102 | Training loss: 0.472926 | Validation loss: 0.618440\n",
      "Epoch: 103 | Training loss: 0.471197 | Validation loss: 0.616798\n",
      "Epoch: 104 | Training loss: 0.469488 | Validation loss: 0.615175\n",
      "Epoch: 105 | Training loss: 0.467798 | Validation loss: 0.613570\n",
      "Epoch: 106 | Training loss: 0.466127 | Validation loss: 0.611982\n",
      "Epoch: 107 | Training loss: 0.464474 | Validation loss: 0.610412\n",
      "Epoch: 108 | Training loss: 0.462840 | Validation loss: 0.608860\n",
      "Epoch: 109 | Training loss: 0.461223 | Validation loss: 0.607324\n",
      "Epoch: 110 | Training loss: 0.459623 | Validation loss: 0.605806\n",
      "Epoch: 111 | Training loss: 0.458041 | Validation loss: 0.604303\n",
      "Epoch: 112 | Training loss: 0.456475 | Validation loss: 0.602817\n",
      "Epoch: 113 | Training loss: 0.454926 | Validation loss: 0.601347\n",
      "Epoch: 114 | Training loss: 0.453393 | Validation loss: 0.599892\n",
      "Epoch: 115 | Training loss: 0.451876 | Validation loss: 0.598452\n",
      "Epoch: 116 | Training loss: 0.450374 | Validation loss: 0.597027\n",
      "Epoch: 117 | Training loss: 0.448888 | Validation loss: 0.595617\n",
      "Epoch: 118 | Training loss: 0.447417 | Validation loss: 0.594222\n",
      "Epoch: 119 | Training loss: 0.445960 | Validation loss: 0.592841\n",
      "Epoch: 120 | Training loss: 0.444518 | Validation loss: 0.591473\n",
      "Epoch: 121 | Training loss: 0.443091 | Validation loss: 0.590120\n",
      "Epoch: 122 | Training loss: 0.441677 | Validation loss: 0.588780\n",
      "Epoch: 123 | Training loss: 0.440277 | Validation loss: 0.587454\n",
      "Epoch: 124 | Training loss: 0.438890 | Validation loss: 0.586140\n",
      "Epoch: 125 | Training loss: 0.437517 | Validation loss: 0.584840\n",
      "Epoch: 126 | Training loss: 0.436157 | Validation loss: 0.583553\n",
      "Epoch: 127 | Training loss: 0.434810 | Validation loss: 0.582278\n",
      "Epoch: 128 | Training loss: 0.433475 | Validation loss: 0.581015\n",
      "Epoch: 129 | Training loss: 0.432153 | Validation loss: 0.579764\n",
      "Epoch: 130 | Training loss: 0.430843 | Validation loss: 0.578525\n",
      "Epoch: 131 | Training loss: 0.429545 | Validation loss: 0.577298\n",
      "Epoch: 132 | Training loss: 0.428259 | Validation loss: 0.576082\n",
      "Epoch: 133 | Training loss: 0.426985 | Validation loss: 0.574878\n",
      "Epoch: 134 | Training loss: 0.425722 | Validation loss: 0.573685\n",
      "Epoch: 135 | Training loss: 0.424470 | Validation loss: 0.572503\n",
      "Epoch: 136 | Training loss: 0.423230 | Validation loss: 0.571332\n",
      "Epoch: 137 | Training loss: 0.422000 | Validation loss: 0.570171\n",
      "Epoch: 138 | Training loss: 0.420781 | Validation loss: 0.569022\n",
      "Epoch: 139 | Training loss: 0.419573 | Validation loss: 0.567882\n",
      "Epoch: 140 | Training loss: 0.418375 | Validation loss: 0.566753\n",
      "Epoch: 141 | Training loss: 0.417188 | Validation loss: 0.565634\n",
      "Epoch: 142 | Training loss: 0.416010 | Validation loss: 0.564524\n",
      "Epoch: 143 | Training loss: 0.414843 | Validation loss: 0.563425\n",
      "Epoch: 144 | Training loss: 0.413686 | Validation loss: 0.562335\n",
      "Epoch: 145 | Training loss: 0.412538 | Validation loss: 0.561254\n",
      "Epoch: 146 | Training loss: 0.411399 | Validation loss: 0.560183\n",
      "Epoch: 147 | Training loss: 0.410270 | Validation loss: 0.559121\n",
      "Epoch: 148 | Training loss: 0.409151 | Validation loss: 0.558068\n",
      "Epoch: 149 | Training loss: 0.408040 | Validation loss: 0.557025\n",
      "Epoch: 150 | Training loss: 0.406939 | Validation loss: 0.555990\n",
      "Epoch: 151 | Training loss: 0.405846 | Validation loss: 0.554964\n",
      "Epoch: 152 | Training loss: 0.404762 | Validation loss: 0.553946\n",
      "Epoch: 153 | Training loss: 0.403687 | Validation loss: 0.552937\n",
      "Epoch: 154 | Training loss: 0.402620 | Validation loss: 0.551936\n",
      "Epoch: 155 | Training loss: 0.401562 | Validation loss: 0.550944\n",
      "lr = 0.000100, alpha= 0.000500; Predict_Class:0.823333\n",
      "Epoch: 0 | Training loss: 1.084245 | Validation loss: 1.083293\n",
      "Epoch: 1 | Training loss: 1.056046 | Validation loss: 1.069047\n",
      "Epoch: 2 | Training loss: 1.030937 | Validation loss: 1.055701\n",
      "Epoch: 3 | Training loss: 1.008274 | Validation loss: 1.043103\n",
      "Epoch: 4 | Training loss: 0.987548 | Validation loss: 1.031136\n",
      "Epoch: 5 | Training loss: 0.968402 | Validation loss: 1.019712\n",
      "Epoch: 6 | Training loss: 0.950574 | Validation loss: 1.008768\n",
      "Epoch: 7 | Training loss: 0.933872 | Validation loss: 0.998254\n",
      "Epoch: 8 | Training loss: 0.918150 | Validation loss: 0.988131\n",
      "Epoch: 9 | Training loss: 0.903303 | Validation loss: 0.978367\n",
      "Epoch: 10 | Training loss: 0.889236 | Validation loss: 0.968939\n",
      "Epoch: 11 | Training loss: 0.875876 | Validation loss: 0.959825\n",
      "Epoch: 12 | Training loss: 0.863162 | Validation loss: 0.951001\n",
      "Epoch: 13 | Training loss: 0.851036 | Validation loss: 0.942456\n",
      "Epoch: 14 | Training loss: 0.839454 | Validation loss: 0.934172\n",
      "Epoch: 15 | Training loss: 0.828374 | Validation loss: 0.926136\n",
      "Epoch: 16 | Training loss: 0.817759 | Validation loss: 0.918340\n",
      "Epoch: 17 | Training loss: 0.807580 | Validation loss: 0.910768\n",
      "Epoch: 18 | Training loss: 0.797805 | Validation loss: 0.903408\n",
      "Epoch: 19 | Training loss: 0.788408 | Validation loss: 0.896255\n",
      "Epoch: 20 | Training loss: 0.779367 | Validation loss: 0.889298\n",
      "Epoch: 21 | Training loss: 0.770659 | Validation loss: 0.882529\n",
      "Epoch: 22 | Training loss: 0.762264 | Validation loss: 0.875939\n",
      "Epoch: 23 | Training loss: 0.754162 | Validation loss: 0.869521\n",
      "Epoch: 24 | Training loss: 0.746337 | Validation loss: 0.863271\n",
      "Epoch: 25 | Training loss: 0.738775 | Validation loss: 0.857181\n",
      "Epoch: 26 | Training loss: 0.731460 | Validation loss: 0.851241\n",
      "Epoch: 27 | Training loss: 0.724379 | Validation loss: 0.845449\n",
      "Epoch: 28 | Training loss: 0.717519 | Validation loss: 0.839798\n",
      "Epoch: 29 | Training loss: 0.710871 | Validation loss: 0.834283\n",
      "Epoch: 30 | Training loss: 0.704422 | Validation loss: 0.828900\n",
      "Epoch: 31 | Training loss: 0.698161 | Validation loss: 0.823642\n",
      "Epoch: 32 | Training loss: 0.692082 | Validation loss: 0.818506\n",
      "Epoch: 33 | Training loss: 0.686176 | Validation loss: 0.813487\n",
      "Epoch: 34 | Training loss: 0.680432 | Validation loss: 0.808580\n",
      "Epoch: 35 | Training loss: 0.674845 | Validation loss: 0.803785\n",
      "Epoch: 36 | Training loss: 0.669407 | Validation loss: 0.799093\n",
      "Epoch: 37 | Training loss: 0.664112 | Validation loss: 0.794504\n",
      "Epoch: 38 | Training loss: 0.658953 | Validation loss: 0.790011\n",
      "Epoch: 39 | Training loss: 0.653924 | Validation loss: 0.785614\n",
      "Epoch: 40 | Training loss: 0.649020 | Validation loss: 0.781308\n",
      "Epoch: 41 | Training loss: 0.644235 | Validation loss: 0.777091\n",
      "Epoch: 42 | Training loss: 0.639565 | Validation loss: 0.772960\n",
      "Epoch: 43 | Training loss: 0.635005 | Validation loss: 0.768913\n",
      "Epoch: 44 | Training loss: 0.630551 | Validation loss: 0.764945\n",
      "Epoch: 45 | Training loss: 0.626198 | Validation loss: 0.761055\n",
      "Epoch: 46 | Training loss: 0.621943 | Validation loss: 0.757240\n",
      "Epoch: 47 | Training loss: 0.617781 | Validation loss: 0.753500\n"
     ]
    },
    {
     "name": "stdout",
     "output_type": "stream",
     "text": [
      "Epoch: 48 | Training loss: 0.613711 | Validation loss: 0.749830\n",
      "Epoch: 49 | Training loss: 0.609727 | Validation loss: 0.746229\n",
      "Epoch: 50 | Training loss: 0.605828 | Validation loss: 0.742695\n",
      "Epoch: 51 | Training loss: 0.602009 | Validation loss: 0.739225\n",
      "Epoch: 52 | Training loss: 0.598269 | Validation loss: 0.735819\n",
      "Epoch: 53 | Training loss: 0.594603 | Validation loss: 0.732473\n",
      "Epoch: 54 | Training loss: 0.591010 | Validation loss: 0.729187\n",
      "Epoch: 55 | Training loss: 0.587488 | Validation loss: 0.725959\n",
      "Epoch: 56 | Training loss: 0.584033 | Validation loss: 0.722786\n",
      "Epoch: 57 | Training loss: 0.580644 | Validation loss: 0.719667\n",
      "Epoch: 58 | Training loss: 0.577319 | Validation loss: 0.716602\n",
      "Epoch: 59 | Training loss: 0.574055 | Validation loss: 0.713587\n",
      "Epoch: 60 | Training loss: 0.570850 | Validation loss: 0.710623\n",
      "Epoch: 61 | Training loss: 0.567703 | Validation loss: 0.707707\n",
      "Epoch: 62 | Training loss: 0.564612 | Validation loss: 0.704839\n",
      "Epoch: 63 | Training loss: 0.561575 | Validation loss: 0.702018\n",
      "Epoch: 64 | Training loss: 0.558590 | Validation loss: 0.699241\n",
      "Epoch: 65 | Training loss: 0.555657 | Validation loss: 0.696508\n",
      "Epoch: 66 | Training loss: 0.552773 | Validation loss: 0.693818\n",
      "Epoch: 67 | Training loss: 0.549937 | Validation loss: 0.691170\n",
      "Epoch: 68 | Training loss: 0.547148 | Validation loss: 0.688562\n",
      "Epoch: 69 | Training loss: 0.544404 | Validation loss: 0.685994\n",
      "Epoch: 70 | Training loss: 0.541704 | Validation loss: 0.683463\n",
      "Epoch: 71 | Training loss: 0.539046 | Validation loss: 0.680971\n",
      "Epoch: 72 | Training loss: 0.536431 | Validation loss: 0.678516\n",
      "Epoch: 73 | Training loss: 0.533855 | Validation loss: 0.676096\n",
      "Epoch: 74 | Training loss: 0.531320 | Validation loss: 0.673712\n",
      "Epoch: 75 | Training loss: 0.528823 | Validation loss: 0.671362\n",
      "Epoch: 76 | Training loss: 0.526363 | Validation loss: 0.669045\n",
      "Epoch: 77 | Training loss: 0.523939 | Validation loss: 0.666761\n",
      "Epoch: 78 | Training loss: 0.521551 | Validation loss: 0.664510\n",
      "Epoch: 79 | Training loss: 0.519197 | Validation loss: 0.662289\n",
      "Epoch: 80 | Training loss: 0.516877 | Validation loss: 0.660099\n",
      "Epoch: 81 | Training loss: 0.514590 | Validation loss: 0.657938\n",
      "Epoch: 82 | Training loss: 0.512335 | Validation loss: 0.655807\n",
      "Epoch: 83 | Training loss: 0.510112 | Validation loss: 0.653703\n",
      "Epoch: 84 | Training loss: 0.507918 | Validation loss: 0.651628\n",
      "Epoch: 85 | Training loss: 0.505755 | Validation loss: 0.649581\n",
      "Epoch: 86 | Training loss: 0.503620 | Validation loss: 0.647560\n",
      "Epoch: 87 | Training loss: 0.501514 | Validation loss: 0.645565\n",
      "Epoch: 88 | Training loss: 0.499436 | Validation loss: 0.643596\n",
      "Epoch: 89 | Training loss: 0.497385 | Validation loss: 0.641651\n",
      "Epoch: 90 | Training loss: 0.495360 | Validation loss: 0.639732\n",
      "Epoch: 91 | Training loss: 0.493361 | Validation loss: 0.637837\n",
      "Epoch: 92 | Training loss: 0.491388 | Validation loss: 0.635965\n",
      "Epoch: 93 | Training loss: 0.489439 | Validation loss: 0.634116\n",
      "Epoch: 94 | Training loss: 0.487514 | Validation loss: 0.632290\n",
      "Epoch: 95 | Training loss: 0.485613 | Validation loss: 0.630485\n",
      "Epoch: 96 | Training loss: 0.483735 | Validation loss: 0.628702\n",
      "Epoch: 97 | Training loss: 0.481880 | Validation loss: 0.626941\n",
      "Epoch: 98 | Training loss: 0.480046 | Validation loss: 0.625200\n",
      "Epoch: 99 | Training loss: 0.478235 | Validation loss: 0.623480\n",
      "Epoch: 100 | Training loss: 0.476445 | Validation loss: 0.621780\n",
      "Epoch: 101 | Training loss: 0.474676 | Validation loss: 0.620100\n",
      "Epoch: 102 | Training loss: 0.472927 | Validation loss: 0.618439\n",
      "Epoch: 103 | Training loss: 0.471198 | Validation loss: 0.616797\n",
      "Epoch: 104 | Training loss: 0.469489 | Validation loss: 0.615174\n",
      "Epoch: 105 | Training loss: 0.467798 | Validation loss: 0.613568\n",
      "Epoch: 106 | Training loss: 0.466127 | Validation loss: 0.611981\n",
      "Epoch: 107 | Training loss: 0.464474 | Validation loss: 0.610411\n",
      "Epoch: 108 | Training loss: 0.462840 | Validation loss: 0.608859\n",
      "Epoch: 109 | Training loss: 0.461223 | Validation loss: 0.607324\n",
      "Epoch: 110 | Training loss: 0.459623 | Validation loss: 0.605805\n",
      "Epoch: 111 | Training loss: 0.458041 | Validation loss: 0.604303\n",
      "Epoch: 112 | Training loss: 0.456475 | Validation loss: 0.602818\n",
      "Epoch: 113 | Training loss: 0.454926 | Validation loss: 0.601347\n",
      "Epoch: 114 | Training loss: 0.453393 | Validation loss: 0.599892\n",
      "Epoch: 115 | Training loss: 0.451876 | Validation loss: 0.598452\n",
      "Epoch: 116 | Training loss: 0.450375 | Validation loss: 0.597028\n",
      "Epoch: 117 | Training loss: 0.448888 | Validation loss: 0.595617\n",
      "Epoch: 118 | Training loss: 0.447417 | Validation loss: 0.594222\n",
      "Epoch: 119 | Training loss: 0.445961 | Validation loss: 0.592841\n",
      "Epoch: 120 | Training loss: 0.444519 | Validation loss: 0.591474\n",
      "Epoch: 121 | Training loss: 0.443091 | Validation loss: 0.590120\n",
      "Epoch: 122 | Training loss: 0.441677 | Validation loss: 0.588781\n",
      "Epoch: 123 | Training loss: 0.440277 | Validation loss: 0.587454\n",
      "Epoch: 124 | Training loss: 0.438890 | Validation loss: 0.586141\n",
      "Epoch: 125 | Training loss: 0.437517 | Validation loss: 0.584841\n",
      "Epoch: 126 | Training loss: 0.436157 | Validation loss: 0.583553\n",
      "Epoch: 127 | Training loss: 0.434810 | Validation loss: 0.582278\n",
      "Epoch: 128 | Training loss: 0.433475 | Validation loss: 0.581015\n",
      "Epoch: 129 | Training loss: 0.432153 | Validation loss: 0.579764\n",
      "Epoch: 130 | Training loss: 0.430843 | Validation loss: 0.578525\n",
      "Epoch: 131 | Training loss: 0.429545 | Validation loss: 0.577297\n",
      "Epoch: 132 | Training loss: 0.428259 | Validation loss: 0.576082\n",
      "Epoch: 133 | Training loss: 0.426985 | Validation loss: 0.574878\n",
      "Epoch: 134 | Training loss: 0.425722 | Validation loss: 0.573685\n",
      "Epoch: 135 | Training loss: 0.424470 | Validation loss: 0.572503\n",
      "Epoch: 136 | Training loss: 0.423229 | Validation loss: 0.571332\n",
      "Epoch: 137 | Training loss: 0.422000 | Validation loss: 0.570171\n",
      "Epoch: 138 | Training loss: 0.420781 | Validation loss: 0.569021\n",
      "Epoch: 139 | Training loss: 0.419573 | Validation loss: 0.567881\n",
      "Epoch: 140 | Training loss: 0.418375 | Validation loss: 0.566752\n",
      "Epoch: 141 | Training loss: 0.417188 | Validation loss: 0.565632\n",
      "Epoch: 142 | Training loss: 0.416010 | Validation loss: 0.564523\n",
      "Epoch: 143 | Training loss: 0.414843 | Validation loss: 0.563424\n",
      "Epoch: 144 | Training loss: 0.413685 | Validation loss: 0.562334\n",
      "Epoch: 145 | Training loss: 0.412537 | Validation loss: 0.561253\n",
      "Epoch: 146 | Training loss: 0.411399 | Validation loss: 0.560183\n",
      "Epoch: 147 | Training loss: 0.410270 | Validation loss: 0.559120\n",
      "Epoch: 148 | Training loss: 0.409150 | Validation loss: 0.558067\n",
      "Epoch: 149 | Training loss: 0.408040 | Validation loss: 0.557024\n",
      "Epoch: 150 | Training loss: 0.406938 | Validation loss: 0.555989\n",
      "Epoch: 151 | Training loss: 0.405846 | Validation loss: 0.554963\n",
      "Epoch: 152 | Training loss: 0.404762 | Validation loss: 0.553946\n",
      "Epoch: 153 | Training loss: 0.403687 | Validation loss: 0.552937\n",
      "Epoch: 154 | Training loss: 0.402620 | Validation loss: 0.551936\n",
      "Epoch: 155 | Training loss: 0.401562 | Validation loss: 0.550943\n",
      "lr = 0.000100, alpha= 0.000100; Predict_Class:0.823333\n"
     ]
    }
   ],
   "source": [
    "lr_set = [0.001,0.0005,0.0001]\n",
    "alpha_set = [0.001,0.0005,0.0001]\n",
    "\n",
    "for lr_sid in range(len(lr_set)):\n",
    "    for alpha_sid in range(len(alpha_set)):\n",
    "        w_count, loss_tr_count, dev_loss_count = SGD(X_tr_count, data_tr_label,vocab,\n",
    "                                             X_dev=X_dev_count, \n",
    "                                             Y_dev=data_dev_label,\n",
    "                                             num_classes=3,\n",
    "                                             lr=lr_set[lr_sid], \n",
    "                                             alpha=alpha_set[alpha_sid], \n",
    "                                             epochs=200)\n",
    "        preds_te = predict_class(X = X_test_count, weights = w_count)\n",
    "        print(\"lr = %f, alpha= %f;\"%(lr_set[lr_sid],alpha_set[alpha_sid]),'Predict_Class:%f'%(f1_score(Y_te,preds_te)))"
   ]
  },
  {
   "cell_type": "markdown",
   "metadata": {},
   "source": [
    "From the previous result, we can see that as decreasing the value of lr and alpha, the F1-Score is increasing.\n",
    "\n",
    "In conclusion,the both lr and alpha has the great impact the training model."
   ]
  },
  {
   "cell_type": "markdown",
   "metadata": {},
   "source": [
    "### Now evaluate BOW-tfidf..."
   ]
  },
  {
   "cell_type": "code",
   "execution_count": 63,
   "metadata": {},
   "outputs": [
    {
     "name": "stdout",
     "output_type": "stream",
     "text": [
      "Epoch: 0 | Training loss: 0.959970 | Validation loss: 0.957439\n",
      "Epoch: 1 | Training loss: 0.763611 | Validation loss: 0.867650\n",
      "Epoch: 2 | Training loss: 0.650473 | Validation loss: 0.803574\n",
      "Epoch: 3 | Training loss: 0.574929 | Validation loss: 0.754995\n",
      "Epoch: 4 | Training loss: 0.520227 | Validation loss: 0.716595\n",
      "Epoch: 5 | Training loss: 0.478179 | Validation loss: 0.685185\n",
      "Epoch: 6 | Training loss: 0.444663 | Validation loss: 0.659090\n",
      "Epoch: 7 | Training loss: 0.417000 | Validation loss: 0.636840\n",
      "Epoch: 8 | Training loss: 0.393671 | Validation loss: 0.617503\n",
      "Epoch: 9 | Training loss: 0.373643 | Validation loss: 0.600592\n",
      "Epoch: 10 | Training loss: 0.356148 | Validation loss: 0.585546\n",
      "Epoch: 11 | Training loss: 0.340754 | Validation loss: 0.572148\n",
      "Epoch: 12 | Training loss: 0.327017 | Validation loss: 0.560089\n",
      "Epoch: 13 | Training loss: 0.314632 | Validation loss: 0.549119\n",
      "Epoch: 14 | Training loss: 0.303426 | Validation loss: 0.539062\n",
      "Epoch: 15 | Training loss: 0.293215 | Validation loss: 0.529844\n",
      "Epoch: 16 | Training loss: 0.283825 | Validation loss: 0.521364\n",
      "Epoch: 17 | Training loss: 0.275171 | Validation loss: 0.513474\n",
      "Epoch: 18 | Training loss: 0.267169 | Validation loss: 0.506176\n",
      "Epoch: 19 | Training loss: 0.259722 | Validation loss: 0.499357\n",
      "Epoch: 20 | Training loss: 0.252761 | Validation loss: 0.492999\n",
      "Epoch: 21 | Training loss: 0.246258 | Validation loss: 0.487005\n",
      "Epoch: 22 | Training loss: 0.240162 | Validation loss: 0.481363\n",
      "Epoch: 23 | Training loss: 0.234407 | Validation loss: 0.476022\n",
      "Epoch: 24 | Training loss: 0.228987 | Validation loss: 0.471008\n",
      "Epoch: 25 | Training loss: 0.223852 | Validation loss: 0.466253\n",
      "Epoch: 26 | Training loss: 0.218994 | Validation loss: 0.461734\n",
      "Epoch: 27 | Training loss: 0.214367 | Validation loss: 0.457388\n",
      "Epoch: 28 | Training loss: 0.209991 | Validation loss: 0.453303\n",
      "Epoch: 29 | Training loss: 0.205807 | Validation loss: 0.449379\n",
      "Epoch: 30 | Training loss: 0.201817 | Validation loss: 0.445660\n",
      "Epoch: 31 | Training loss: 0.198002 | Validation loss: 0.442101\n",
      "Epoch: 32 | Training loss: 0.194354 | Validation loss: 0.438700\n",
      "Epoch: 33 | Training loss: 0.190864 | Validation loss: 0.435394\n",
      "Epoch: 34 | Training loss: 0.187513 | Validation loss: 0.432245\n",
      "Epoch: 35 | Training loss: 0.184288 | Validation loss: 0.429241\n",
      "Epoch: 36 | Training loss: 0.181199 | Validation loss: 0.426325\n",
      "Epoch: 37 | Training loss: 0.178220 | Validation loss: 0.423520\n",
      "Epoch: 38 | Training loss: 0.175357 | Validation loss: 0.420853\n",
      "Epoch: 39 | Training loss: 0.172589 | Validation loss: 0.418254\n",
      "Epoch: 40 | Training loss: 0.169925 | Validation loss: 0.415731\n",
      "Epoch: 41 | Training loss: 0.167355 | Validation loss: 0.413295\n",
      "Epoch: 42 | Training loss: 0.164866 | Validation loss: 0.410973\n",
      "Epoch: 43 | Training loss: 0.162458 | Validation loss: 0.408677\n",
      "Epoch: 44 | Training loss: 0.160134 | Validation loss: 0.406480\n",
      "Epoch: 45 | Training loss: 0.157879 | Validation loss: 0.404358\n",
      "Epoch: 46 | Training loss: 0.155694 | Validation loss: 0.402284\n",
      "Epoch: 47 | Training loss: 0.153574 | Validation loss: 0.400257\n",
      "Epoch: 48 | Training loss: 0.151522 | Validation loss: 0.398323\n",
      "Epoch: 49 | Training loss: 0.149530 | Validation loss: 0.396438\n",
      "Epoch: 50 | Training loss: 0.147595 | Validation loss: 0.394620\n",
      "Epoch: 51 | Training loss: 0.145705 | Validation loss: 0.392820\n",
      "Epoch: 52 | Training loss: 0.143878 | Validation loss: 0.391112\n",
      "Epoch: 53 | Training loss: 0.142105 | Validation loss: 0.389427\n",
      "Epoch: 54 | Training loss: 0.140370 | Validation loss: 0.387795\n",
      "Epoch: 55 | Training loss: 0.138685 | Validation loss: 0.386205\n",
      "Epoch: 56 | Training loss: 0.137041 | Validation loss: 0.384659\n",
      "Epoch: 57 | Training loss: 0.135442 | Validation loss: 0.383138\n",
      "Epoch: 58 | Training loss: 0.133885 | Validation loss: 0.381675\n",
      "Epoch: 59 | Training loss: 0.132362 | Validation loss: 0.380233\n",
      "Epoch: 60 | Training loss: 0.130876 | Validation loss: 0.378855\n",
      "Epoch: 61 | Training loss: 0.129429 | Validation loss: 0.377465\n",
      "Epoch: 62 | Training loss: 0.128018 | Validation loss: 0.376132\n",
      "Epoch: 63 | Training loss: 0.126639 | Validation loss: 0.374839\n",
      "Epoch: 64 | Training loss: 0.125284 | Validation loss: 0.373554\n",
      "Epoch: 65 | Training loss: 0.123971 | Validation loss: 0.372315\n",
      "Epoch: 66 | Training loss: 0.122680 | Validation loss: 0.371096\n",
      "Epoch: 67 | Training loss: 0.121423 | Validation loss: 0.369901\n",
      "Epoch: 68 | Training loss: 0.120193 | Validation loss: 0.368746\n",
      "Epoch: 69 | Training loss: 0.118986 | Validation loss: 0.367622\n",
      "Epoch: 70 | Training loss: 0.117807 | Validation loss: 0.366534\n",
      "Epoch: 71 | Training loss: 0.116650 | Validation loss: 0.365446\n",
      "Epoch: 72 | Training loss: 0.115521 | Validation loss: 0.364399\n",
      "Epoch: 73 | Training loss: 0.114408 | Validation loss: 0.363356\n",
      "Epoch: 74 | Training loss: 0.113325 | Validation loss: 0.362338\n",
      "Epoch: 75 | Training loss: 0.112265 | Validation loss: 0.361331\n",
      "Epoch: 76 | Training loss: 0.111224 | Validation loss: 0.360346\n"
     ]
    }
   ],
   "source": [
    "w_count, loss_tr_count, dev_loss_count = SGD(X_tr_tfidf, data_tr_label,vocab,\n",
    "                                             X_dev=X_dev_tfidf, \n",
    "                                             Y_dev=data_dev_label,\n",
    "                                             num_classes=3,\n",
    "                                             lr=0.0001, \n",
    "                                             alpha=0.001, \n",
    "                                             epochs=200)"
   ]
  },
  {
   "cell_type": "code",
   "execution_count": 64,
   "metadata": {},
   "outputs": [
    {
     "data": {
      "image/png": "[encoded data removed]",
      "text/plain": [
       "<Figure size 432x288 with 1 Axes>"
      ]
     },
     "metadata": {
      "needs_background": "light"
     },
     "output_type": "display_data"
    }
   ],
   "source": [
    "x = np.linspace(0,len(loss_tr_count),len(loss_tr_count))\n",
    "y1, y2 = loss_tr_count, dev_loss_count\n",
    " \n",
    "plt.plot(x, y1,label='Training loss')\n",
    "plt.plot(x, y2, label='Validation loss')\n",
    " \n",
    "plt.title('Training Monitoring')\n",
    "plt.xlabel('Epochs')\n",
    "plt.ylabel('Loss')\n",
    "plt.legend() \n",
    "plt.show()"
   ]
  },
  {
   "cell_type": "markdown",
   "metadata": {},
   "source": [
    "The model is overfit"
   ]
  },
  {
   "cell_type": "code",
   "execution_count": 65,
   "metadata": {},
   "outputs": [
    {
     "name": "stdout",
     "output_type": "stream",
     "text": [
      "Accuracy: 0.8755555555555555\n",
      "Precision: 0.8417508417508418\n",
      "Recall: 0.8333333333333334\n",
      "F1-Score: 0.8375209380234506\n"
     ]
    }
   ],
   "source": [
    "preds_te_count = predict_class(X = X_test_count, weights = w_count)\n",
    "Y_te = data_test_label\n",
    "\n",
    "print('Accuracy:', accuracy_score(Y_te,preds_te_count))\n",
    "print('Precision:', precision_score(Y_te,preds_te_count))\n",
    "print('Recall:', recall_score(Y_te,preds_te_count))\n",
    "print('F1-Score:', f1_score(Y_te,preds_te_count))"
   ]
  },
  {
   "cell_type": "markdown",
   "metadata": {
    "ExecuteTime": {
     "end_time": "2020-02-15T14:16:42.567569Z",
     "start_time": "2020-02-15T14:16:42.562560Z"
    }
   },
   "source": [
    "## Full Results\n",
    "\n",
    "Add here your results:\n",
    "\n",
    "| LR | Precision  | Recall  | F1-Score  |\n",
    "|:-:|:-:|:-:|:-:|\n",
    "| BOW-count  |  0.8233 |  0.8233 | 0.8233 |\n",
    "| BOW-tfidf  | 0.8417  |  0.8333 | 0.8375  |\n"
   ]
  }
 ],
 "metadata": {
  "kernelspec": {
   "display_name": "Python 3",
   "language": "python",
   "name": "python3"
  },
  "language_info": {
   "codemirror_mode": {
    "name": "ipython",
    "version": 3
   },
   "file_extension": ".py",
   "mimetype": "text/x-python",
   "name": "python",
   "nbconvert_exporter": "python",
   "pygments_lexer": "ipython3",
   "version": "3.7.4"
  }
 },
 "nbformat": 4,
 "nbformat_minor": 2
}
