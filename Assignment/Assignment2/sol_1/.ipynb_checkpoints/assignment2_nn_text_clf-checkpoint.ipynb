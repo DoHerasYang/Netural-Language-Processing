{
 "cells": [
  {
   "cell_type": "markdown",
   "metadata": {},
   "source": [
    "# [COM4513-6513] Assignment 2: Text Classification with a Feedforward Network\n",
    "\n",
    "\n",
    "### Instructor: Nikos Aletras\n",
    "\n",
    "\n",
    "The goal of this assignment is to develop a Feedforward network for text classification. \n",
    "\n",
    "\n",
    "\n",
    "For that purpose, you will implement:\n",
    "\n",
    "- Text processing methods for transforming raw text data into input vectors for your network  (**1 mark**)\n",
    "- A Feedforward network consisting of:\n",
    "    - **One-hot** input layer mapping words into an **Embedding weight matrix** (**1 mark**)\n",
    "    - **One hidden layer** computing the mean embedding vector of all words in input followed by a **ReLU activation function** (**1 mark**)\n",
    "    - **Output layer** with a **softmax** activation. (**1 mark**)\n",
    "- The Stochastic Gradient Descent (SGD) algorithm with **back-propagation** to learn the weights of your Neural network. Your algorithm should:\n",
    "    - Use (and minimise) the **Categorical Cross-entropy loss** function (**1 mark**)\n",
    "    - Perform a **Forward pass** to compute intermediate outputs (**4 marks**)\n",
    "    - Perform a **Backward pass** to compute gradients and update all sets of weights (**4 marks**)\n",
    "    - Implement and use **Dropout** after each hidden layer for regularisation (**2 marks**)\n",
    "- Discuss how did you choose hyperparameters? You can tune the learning rate (hint: choose small values), embedding size {e.g. 50, 300, 500}, the dropout rate {e.g. 0.2, 0.5} and the learning rate. Please use tables or graphs to show training and validation performance for each hyperparam combination  (**2 marks**). \n",
    "- After training the model, plot the learning process (i.e. training and validation loss in each epoch) using a line plot and report accuracy.\n",
    "- Re-train your network by using pre-trained embeddings ([GloVe](https://nlp.stanford.edu/projects/glove/)) trained on large corpora. Instead of randomly initialising the embedding weights matrix, you should initialise it with the pre-trained weights. During training, you should not update them (i.e. weight freezing) and backprop should stop before computing gradients for updating embedding weights. Report results by performing hyperparameter tuning and plotting the learning process. Do you get better performance? (**3 marks**).\n",
    "\n",
    "- **BONUS:** Extend you Feedforward network by adding more hidden layers (e.g. one more). How does it affect the performance? Note: You need to repeat hyperparameter tuning, but the number of combinations grows exponentially. Therefore, you need to choose a subset of all possible combinations (**+2 extra marks**)\n",
    "\n",
    "\n",
    "\n",
    "### Data \n",
    "\n",
    "The data you will use for Task 2 is a subset of the [AG News Corpus](http://groups.di.unipi.it/~gulli/AG_corpus_of_news_articles.html) and you can find it in the `./data_topic` folder in CSV format:\n",
    "\n",
    "- `data_topic/train.csv`: contains 2,400 news articles, 800 for each class to be used for training.\n",
    "- `data_topic/dev.csv`: contains 150 news articles, 50 for each class to be used for hyperparameter selection and monitoring the training process.\n",
    "- `data_topic/test.csv`: contains 900 news articles, 300 for each class to be used for testing.\n",
    "\n",
    "### Pre-trained Embeddings\n",
    "\n",
    "You can download pre-trained GloVe embeddings trained on Common Crawl (840B tokens, 2.2M vocab, cased, 300d vectors, 2.03 GB download) from [here](http://nlp.stanford.edu/data/glove.840B.300d.zip). No need to unzip, the file is large.\n",
    "\n",
    "### Save Memory\n",
    "\n",
    "To save RAM, when you finish each experiment you can delete the weights of your network using `del W` followed by Python's garbage collector `gc.collect()`\n",
    "\n",
    "\n",
    "\n",
    "\n",
    "### Submission Instructions\n",
    "\n",
    "You should submit a Jupyter Notebook file (assignment2.ipynb) and an exported PDF version (you can do it from Jupyter: `File->Download as->PDF via Latex`).\n",
    "\n",
    "You are advised to follow the code structure given in this notebook by completing all given funtions. You can also write any auxilliary/helper functions (and arguments for the functions) that you might need but note that you can provide a full solution without any such functions. Similarly, you can just use only the packages imported below but you are free to use any functionality from the [Python Standard Library](https://docs.python.org/2/library/index.html), NumPy, SciPy and Pandas. You are not allowed to use any third-party library such as Scikit-learn (apart from metric functions already provided), NLTK, Spacy, Keras etc.. You are allowed to re-use your code from Assignment 1.\n",
    "\n",
    "Please make sure to comment your code. You should also mention if you've used Windows to write and test your code. There is no single correct answer on what your accuracy should be, but correct implementations usually achieve F1 of ~75-80% and ~85% without and with using pre-trained embeddings respectively. \n",
    "\n",
    "This assignment will be marked out of 20. It is worth 20\\% of your final grade in the module. If you implement the bonus question you can get up to 2 extra points but your final grade will be capped at 20.\n",
    "\n",
    "The deadline for this assignment is **23:59 on Mon, 18 May 2020** and it needs to be submitted via Blackboard (MOLE). Standard departmental penalties for lateness will be applied. We use a range of strategies to detect [unfair means](https://www.sheffield.ac.uk/ssid/unfair-means/index), including Turnitin which helps detect plagiarism, so make sure you do not plagiarise.\n",
    "\n"
   ]
  },
  {
   "cell_type": "code",
   "execution_count": 1,
   "metadata": {
    "ExecuteTime": {
     "end_time": "2020-04-02T15:00:18.625532Z",
     "start_time": "2020-04-02T15:00:17.377733Z"
    }
   },
   "outputs": [],
   "source": [
    "import pandas as pd\n",
    "import numpy as np\n",
    "from collections import Counter\n",
    "import re\n",
    "import matplotlib.pyplot as plt\n",
    "from sklearn.metrics import accuracy_score, precision_score, recall_score, f1_score\n",
    "import random\n",
    "from time import localtime, strftime\n",
    "from scipy.stats import spearmanr,pearsonr\n",
    "import zipfile\n",
    "import gc\n",
    "\n",
    "# fixing random seed for reproducibility\n",
    "random.seed(123)\n",
    "np.random.seed(123)"
   ]
  },
  {
   "cell_type": "markdown",
   "metadata": {},
   "source": [
    "## Transform Raw texts into training and development data\n",
    "\n",
    "First, you need to load the training, development and test sets from their corresponding CSV files (tip: you can use Pandas dataframes)."
   ]
  },
  {
   "cell_type": "code",
   "execution_count": 2,
   "metadata": {
    "ExecuteTime": {
     "end_time": "2020-04-02T14:26:39.748484Z",
     "start_time": "2020-04-02T14:26:39.727404Z"
    }
   },
   "outputs": [],
   "source": [
    "train_data = pd.read_csv(\"./data_topic/train.csv\",header=None,names=[\"label\",\"text\"])\n",
    "dev_data = pd.read_csv(\"./data_topic/dev.csv\",header=None,names=[\"label\",\"text\"])\n",
    "test_data = pd.read_csv(\"./data_topic/test.csv\",header=None,names=[\"label\",\"text\"])"
   ]
  },
  {
   "cell_type": "code",
   "execution_count": 3,
   "metadata": {
    "ExecuteTime": {
     "end_time": "2020-04-02T14:26:39.753874Z",
     "start_time": "2020-04-02T14:26:39.749647Z"
    }
   },
   "outputs": [
    {
     "data": {
      "text/html": [
       "<div>\n",
       "<style scoped>\n",
       "    .dataframe tbody tr th:only-of-type {\n",
       "        vertical-align: middle;\n",
       "    }\n",
       "\n",
       "    .dataframe tbody tr th {\n",
       "        vertical-align: top;\n",
       "    }\n",
       "\n",
       "    .dataframe thead th {\n",
       "        text-align: right;\n",
       "    }\n",
       "</style>\n",
       "<table border=\"1\" class=\"dataframe\">\n",
       "  <thead>\n",
       "    <tr style=\"text-align: right;\">\n",
       "      <th></th>\n",
       "      <th>label</th>\n",
       "      <th>text</th>\n",
       "    </tr>\n",
       "  </thead>\n",
       "  <tbody>\n",
       "    <tr>\n",
       "      <th>0</th>\n",
       "      <td>1</td>\n",
       "      <td>Reuters - Venezuelans turned out early\\and in ...</td>\n",
       "    </tr>\n",
       "    <tr>\n",
       "      <th>1</th>\n",
       "      <td>1</td>\n",
       "      <td>Reuters - South Korean police used water canno...</td>\n",
       "    </tr>\n",
       "    <tr>\n",
       "      <th>2</th>\n",
       "      <td>1</td>\n",
       "      <td>Reuters - Thousands of Palestinian\\prisoners i...</td>\n",
       "    </tr>\n",
       "    <tr>\n",
       "      <th>3</th>\n",
       "      <td>1</td>\n",
       "      <td>AFP - Sporadic gunfire and shelling took place...</td>\n",
       "    </tr>\n",
       "    <tr>\n",
       "      <th>4</th>\n",
       "      <td>1</td>\n",
       "      <td>AP - Dozens of Rwandan soldiers flew into Suda...</td>\n",
       "    </tr>\n",
       "    <tr>\n",
       "      <th>5</th>\n",
       "      <td>1</td>\n",
       "      <td>Reuters - Rwandan troops were airlifted on Sun...</td>\n",
       "    </tr>\n",
       "    <tr>\n",
       "      <th>6</th>\n",
       "      <td>1</td>\n",
       "      <td>AP - A bomb exploded during an Independence Da...</td>\n",
       "    </tr>\n",
       "    <tr>\n",
       "      <th>7</th>\n",
       "      <td>1</td>\n",
       "      <td>AFP - Australia's foreign minister will pay a ...</td>\n",
       "    </tr>\n",
       "    <tr>\n",
       "      <th>8</th>\n",
       "      <td>1</td>\n",
       "      <td>AP - Democratic presidential candidate John Ke...</td>\n",
       "    </tr>\n",
       "    <tr>\n",
       "      <th>9</th>\n",
       "      <td>1</td>\n",
       "      <td>AP - Democratic vice presidential candidate Jo...</td>\n",
       "    </tr>\n",
       "  </tbody>\n",
       "</table>\n",
       "</div>"
      ],
      "text/plain": [
       "   label                                               text\n",
       "0      1  Reuters - Venezuelans turned out early\\and in ...\n",
       "1      1  Reuters - South Korean police used water canno...\n",
       "2      1  Reuters - Thousands of Palestinian\\prisoners i...\n",
       "3      1  AFP - Sporadic gunfire and shelling took place...\n",
       "4      1  AP - Dozens of Rwandan soldiers flew into Suda...\n",
       "5      1  Reuters - Rwandan troops were airlifted on Sun...\n",
       "6      1  AP - A bomb exploded during an Independence Da...\n",
       "7      1  AFP - Australia's foreign minister will pay a ...\n",
       "8      1  AP - Democratic presidential candidate John Ke...\n",
       "9      1  AP - Democratic vice presidential candidate Jo..."
      ]
     },
     "execution_count": 3,
     "metadata": {},
     "output_type": "execute_result"
    }
   ],
   "source": [
    "# Output the demo of the text\n",
    "train_data[:10]"
   ]
  },
  {
   "cell_type": "code",
   "execution_count": 4,
   "metadata": {},
   "outputs": [],
   "source": [
    "# Divide the pdframe into label list and text list\n",
    "x_tr = train_data['text'].tolist()\n",
    "x_label_tr = np.array(train_data['label'])\n",
    "# development dataset\n",
    "x_dev = dev_data['text'].tolist()\n",
    "x_label_dev = np.array(dev_data['label'])\n",
    "# test dataset\n",
    "x_test = test_data['text'].tolist()\n",
    "x_label_test = np.array(test_data['label'])"
   ]
  },
  {
   "cell_type": "code",
   "execution_count": 5,
   "metadata": {},
   "outputs": [],
   "source": [
    "# Create a function to convert the uppercase to lowercase\n",
    "def upper_tolower(array):\n",
    "    lower_list = list()\n",
    "    for i in range(len(array)):\n",
    "        lower_list.append(array[i].lower())\n",
    "    return lower_list\n",
    "\n",
    "x_tr = upper_tolower(x_tr)\n",
    "x_dev = upper_tolower(x_dev)\n",
    "x_test = upper_tolower(x_test)"
   ]
  },
  {
   "cell_type": "markdown",
   "metadata": {},
   "source": [
    "# Create input representations\n",
    "\n",
    "\n",
    "To train your Feedforward network, you first need to obtain input representations given a vocabulary. One-hot encoding requires large memory capacity. Therefore, we will instead represent documents as lists of vocabulary indices (each word corresponds to a vocabulary index). \n",
    "\n",
    "\n",
    "## Text Pre-Processing Pipeline\n",
    "\n",
    "To obtain a vocabulary of words. You should: \n",
    "- tokenise all texts into a list of unigrams (tip: you can re-use the functions from Assignment 1) \n",
    "- remove stop words (using the one provided or one of your preference) \n",
    "- remove unigrams appearing in less than K documents\n",
    "- use the remaining to create a vocabulary of the top-N most frequent unigrams in the entire corpus.\n"
   ]
  },
  {
   "cell_type": "code",
   "execution_count": 6,
   "metadata": {
    "ExecuteTime": {
     "end_time": "2020-04-02T14:26:40.851926Z",
     "start_time": "2020-04-02T14:26:40.847500Z"
    }
   },
   "outputs": [],
   "source": [
    "stop_words = ['a','in','on','at','and','or', \n",
    "              'to', 'the', 'of', 'an', 'by', \n",
    "              'as', 'is', 'was', 'were', 'been', 'be', \n",
    "              'are','for', 'this', 'that', 'these', 'those', 'you', 'i', 'if',\n",
    "             'it', 'he', 'she', 'we', 'they', 'will', 'have', 'has',\n",
    "              'do', 'did', 'can', 'could', 'who', 'which', 'what',\n",
    "              'but', 'not', 'there', 'no', 'does', 'not', 'so', 've', 'their',\n",
    "             'his', 'her', 'they', 'them', 'from', 'with', 'its']\n"
   ]
  },
  {
   "cell_type": "markdown",
   "metadata": {},
   "source": [
    "### Unigram extraction from a document\n",
    "\n",
    "You first need to implement the `extract_ngrams` function. It takes as input:\n",
    "- `x_raw`: a string corresponding to the raw text of a document\n",
    "- `ngram_range`: a tuple of two integers denoting the type of ngrams you want to extract, e.g. (1,2) denotes extracting unigrams and bigrams.\n",
    "- `token_pattern`: a string to be used within a regular expression to extract all tokens. Note that data is already tokenised so you could opt for a simple white space tokenisation.\n",
    "- `stop_words`: a list of stop words\n",
    "- `vocab`: a given vocabulary. It should be used to extract specific features.\n",
    "\n",
    "and returns:\n",
    "\n",
    "- a list of all extracted features.\n"
   ]
  },
  {
   "cell_type": "code",
   "execution_count": 7,
   "metadata": {
    "ExecuteTime": {
     "end_time": "2020-04-02T14:26:41.505459Z",
     "start_time": "2020-04-02T14:26:41.498388Z"
    }
   },
   "outputs": [],
   "source": [
    "def extract_ngrams(x_raw, ngram_range=(1,3), token_pattern=r'\\b[A-Za-z][A-Za-z]+\\b', stop_words=[], vocab=set()):\n",
    "    # Next it is my part to finish the this part\n",
    "    # Create a new blank list\n",
    "    x = list()\n",
    "    ngram_list = list()\n",
    " \n",
    "    for x_each in x_raw:\n",
    "        x_findword = re.findall(token_pattern,x_each)\n",
    "        # Now we have obtained the new word list without the stop_word \n",
    "        x_rawall = [word for word in x_findword if word not in stop_words]\n",
    "        store_ngram = list()\n",
    "        for n_g in range(min(ngram_range),max(ngram_range)+1):\n",
    "            for i in range(len(x_rawall)-n_g+1):\n",
    "                if n_g == 1:\n",
    "                    ngramTemp = x_rawall[i]\n",
    "                    x.append(ngramTemp)\n",
    "                    store_ngram.append(ngramTemp)\n",
    "                elif n_g == 2 or n_g == 3:\n",
    "                    ngramTemp = tuple(x_rawall[i:i+n_g])\n",
    "                    x.append(ngramTemp)\n",
    "                    store_ngram.append(ngramTemp)\n",
    "        ngram_list.append(store_ngram)\n",
    "\n",
    "    return ngram_list"
   ]
  },
  {
   "cell_type": "markdown",
   "metadata": {},
   "source": [
    "### Create a vocabulary of n-grams\n",
    "\n",
    "Then the `get_vocab` function will be used to (1) create a vocabulary of ngrams; (2) count the document frequencies of ngrams; (3) their raw frequency. It takes as input:\n",
    "- `X_raw`: a list of strings each corresponding to the raw text of a document\n",
    "- `ngram_range`: a tuple of two integers denoting the type of ngrams you want to extract, e.g. (1,2) denotes extracting unigrams and bigrams.\n",
    "- `token_pattern`: a string to be used within a regular expression to extract all tokens. Note that data is already tokenised so you could opt for a simple white space tokenisation.\n",
    "- `stop_words`: a list of stop words\n",
    "- `min_df`: keep ngrams with a minimum document frequency.\n",
    "- `keep_topN`: keep top-N more frequent ngrams.\n",
    "\n",
    "and returns:\n",
    "\n",
    "- `vocab`: a set of the n-grams that will be used as features.\n",
    "- `df`: a Counter (or dict) that contains ngrams as keys and their corresponding document frequency as values.\n",
    "- `ngram_counts`: counts of each ngram in vocab\n"
   ]
  },
  {
   "cell_type": "code",
   "execution_count": 8,
   "metadata": {
    "ExecuteTime": {
     "end_time": "2020-04-02T14:26:42.563876Z",
     "start_time": "2020-04-02T14:26:42.557967Z"
    }
   },
   "outputs": [],
   "source": [
    "def get_vocab(X_raw, ngram_range=(1,3), token_pattern=r'\\b[A-Za-z][A-Za-z]+\\b',min_df=0, keep_topN=0, stop_words=[]):\n",
    "    \n",
    "    df = dict() #dict that contains ngrams as keys and their corresponding document frequency as values.\n",
    "    ngram_counts= list() # type is the list and stores the number of words which occur at the text\n",
    "    \n",
    "    # only obtain the unigram\n",
    "    vocab = extract_ngrams(X_raw, ngram_range = ngram_range, stop_words=stop_words)\n",
    "    \n",
    "    for each_ngram in vocab:\n",
    "        for ngram in set(each_ngram):\n",
    "            if ngram not in df.keys():\n",
    "                df[ngram] = 1\n",
    "            else:\n",
    "                df[ngram] +=1\n",
    "                \n",
    "    df = dict(sorted(df.items(), key=lambda count:count[1], reverse=True)[:keep_topN])\n",
    "    \n",
    "    vocab = [name for name in df.keys()]\n",
    "    \n",
    "    for item in df.values():\n",
    "        ngram_counts.append(item)\n",
    "    \n",
    "    return vocab, df, ngram_counts"
   ]
  },
  {
   "cell_type": "markdown",
   "metadata": {},
   "source": [
    "Now you should use `get_vocab` to create your vocabulary and get document and raw frequencies of unigrams:"
   ]
  },
  {
   "cell_type": "code",
   "execution_count": 9,
   "metadata": {
    "ExecuteTime": {
     "end_time": "2020-04-02T14:26:43.577997Z",
     "start_time": "2020-04-02T14:26:43.478950Z"
    }
   },
   "outputs": [],
   "source": [
    "vocab,df,ngram_counts = get_vocab(x_tr, ngram_range=(1,1), keep_topN=2000, stop_words=stop_words)\n",
    "vocab_dev, df_dev, ngram_counts_dev = get_vocab(x_dev, ngram_range=(1,1), keep_topN=2000, stop_words=stop_words)\n",
    "vocab_test, df_test, ngram_counts_test = get_vocab(x_test, ngram_range=(1,1), keep_topN=2000, stop_words=stop_words)"
   ]
  },
  {
   "cell_type": "code",
   "execution_count": 10,
   "metadata": {},
   "outputs": [
    {
     "name": "stdout",
     "output_type": "stream",
     "text": [
      "2000\n",
      "\n",
      "['reuters', 'said', 'tuesday', 'wednesday', 'new', 'after', 'ap', 'athens', 'monday', 'first', 'two', 'york', 'over', 'us', 'olympic', 'inc', 'more', 'year', 'oil', 'prices', 'company', 'world', 'than', 'aug', 'about', 'had', 'united', 'one', 'sunday', 'out', 'into', 'against', 'up', 'second', 'last', 'president', 'stocks', 'gold', 'team', 'when', 'three', 'night', 'time', 'yesterday', 'games', 'olympics', 'states', 'greece', 'off', 'iraq', 'washington', 'percent', 'home', 'day', 'google', 'public', 'record', 'week', 'men', 'government', 'win', 'american', 'won', 'years', 'all', 'billion', 'shares', 'city', 'offering', 'officials', 'would', 'today', 'final', 'afp', 'gt', 'people', 'lt', 'medal', 'corp', 'sales', 'country', 'back', 'four', 'high', 'investor', 'com', 'minister', 'reported', 'month', 'initial', 'profit', 'ticker', 'al', 'million', 'top', 'before', 'china', 'him', 'national', 'najaf']\n",
      "\n",
      "[('reuters', 631), ('said', 432), ('tuesday', 413), ('wednesday', 344), ('new', 325), ('after', 295), ('ap', 275), ('athens', 245), ('monday', 221), ('first', 210)]\n"
     ]
    }
   ],
   "source": [
    "print(len(vocab))\n",
    "print()\n",
    "print(list(vocab)[:100])\n",
    "print()\n",
    "print(list(df.items())[:10])"
   ]
  },
  {
   "cell_type": "markdown",
   "metadata": {},
   "source": [
    "Then, you need to create vocabulary id -> word and id -> word dictionaries for reference:"
   ]
  },
  {
   "cell_type": "code",
   "execution_count": 11,
   "metadata": {},
   "outputs": [],
   "source": [
    "def create_dict(vocab):\n",
    "    vocab_word_id = dict()\n",
    "    for i in range(len(vocab)):\n",
    "        vocab_word_id[vocab[i]] = i   \n",
    "    return vocab_word_id"
   ]
  },
  {
   "cell_type": "code",
   "execution_count": 12,
   "metadata": {
    "ExecuteTime": {
     "end_time": "2020-04-02T14:26:44.069661Z",
     "start_time": "2020-04-02T14:26:44.065058Z"
    }
   },
   "outputs": [],
   "source": [
    "vocab_word_id = create_dict(vocab)"
   ]
  },
  {
   "cell_type": "markdown",
   "metadata": {},
   "source": [
    "### Convert the list of unigrams  into a list of vocabulary indices"
   ]
  },
  {
   "cell_type": "markdown",
   "metadata": {},
   "source": [
    "Storing actual one-hot vectors into memory for all words in the entire data set is prohibitive. Instead, we will store word indices in the vocabulary and look-up the weight matrix. This is equivalent of doing a dot product between an one-hot vector and the weight matrix. \n",
    "\n",
    "First, represent documents in train, dev and test sets as lists of words in the vocabulary:"
   ]
  },
  {
   "cell_type": "code",
   "execution_count": 13,
   "metadata": {
    "ExecuteTime": {
     "end_time": "2020-04-02T14:26:45.047887Z",
     "start_time": "2020-04-02T14:26:44.920631Z"
    }
   },
   "outputs": [],
   "source": [
    "def convert_indices(vocab,vocab_word_id):\n",
    "    vocab_indices = list()\n",
    "    X_uni_tr = vocab\n",
    "    for sid in range(len(X_uni_tr)):\n",
    "        temp_list = list()\n",
    "        for word in X_uni_tr[sid]:\n",
    "            if word in vocab_word_id:\n",
    "                id_tag = vocab_word_id[word]\n",
    "                temp_list.append(id_tag)\n",
    "        vocab_indices.append(temp_list)\n",
    "    return X_uni_tr, vocab_indices"
   ]
  },
  {
   "cell_type": "code",
   "execution_count": 14,
   "metadata": {},
   "outputs": [],
   "source": [
    "vocab_tr = extract_ngrams(x_tr, ngram_range=(1,1),stop_words=stop_words)\n",
    "vocab_dev = extract_ngrams(x_dev, ngram_range=(1,1),stop_words=stop_words)\n",
    "vocab_test = extract_ngrams(x_test, ngram_range=(1,1),stop_words=stop_words)"
   ]
  },
  {
   "cell_type": "code",
   "execution_count": 15,
   "metadata": {},
   "outputs": [],
   "source": [
    "X_uni_tr,X_tr = convert_indices(vocab_tr,vocab_word_id)\n",
    "X_uni_dev,X_dev = convert_indices(vocab_dev,vocab_word_id)\n",
    "X_uni_test,X_test = convert_indices(vocab_test,vocab_word_id)"
   ]
  },
  {
   "cell_type": "code",
   "execution_count": 16,
   "metadata": {},
   "outputs": [],
   "source": [
    "# In the last section We should delete the test set which could obtain the null value for the articles\n",
    "def delete_null(data,label):\n",
    "    X_true = list()\n",
    "    Y_true = list()\n",
    "    for i in range(len(data)):\n",
    "        if len(data[i])==0:\n",
    "            continue\n",
    "        X_true.append(data[i])\n",
    "        Y_true.append(label[i])\n",
    "    Y_true = np.array(Y_true)\n",
    "    return X_true,Y_true"
   ]
  },
  {
   "cell_type": "code",
   "execution_count": 17,
   "metadata": {},
   "outputs": [],
   "source": [
    "X_tr,x_label_tr = delete_null(X_tr,x_label_tr)\n",
    "X_dev,x_label_dev = delete_null(X_dev,x_label_dev)\n",
    "X_test,x_label_test = delete_null(X_test,x_label_test)"
   ]
  },
  {
   "cell_type": "code",
   "execution_count": 18,
   "metadata": {
    "ExecuteTime": {
     "end_time": "2020-04-02T14:26:45.219580Z",
     "start_time": "2020-04-02T14:26:45.214630Z"
    }
   },
   "outputs": [
    {
     "data": {
      "text/plain": [
       "['reuters',\n",
       " 'venezuelans',\n",
       " 'turned',\n",
       " 'out',\n",
       " 'early',\n",
       " 'large',\n",
       " 'numbers',\n",
       " 'sunday',\n",
       " 'vote',\n",
       " 'historic',\n",
       " 'referendum',\n",
       " 'either',\n",
       " 'remove',\n",
       " 'left',\n",
       " 'wing',\n",
       " 'president',\n",
       " 'hugo',\n",
       " 'chavez',\n",
       " 'office',\n",
       " 'give',\n",
       " 'him',\n",
       " 'new',\n",
       " 'mandate',\n",
       " 'govern',\n",
       " 'next',\n",
       " 'two',\n",
       " 'years']"
      ]
     },
     "execution_count": 18,
     "metadata": {},
     "output_type": "execute_result"
    }
   ],
   "source": [
    "X_uni_tr[0]"
   ]
  },
  {
   "cell_type": "markdown",
   "metadata": {},
   "source": [
    "Then convert them into lists of indices in the vocabulary:"
   ]
  },
  {
   "cell_type": "code",
   "execution_count": 19,
   "metadata": {
    "ExecuteTime": {
     "end_time": "2020-04-02T14:26:46.203894Z",
     "start_time": "2020-04-02T14:26:46.199850Z"
    }
   },
   "outputs": [
    {
     "data": {
      "text/plain": [
       "[0,\n",
       " 1011,\n",
       " 758,\n",
       " 29,\n",
       " 208,\n",
       " 1103,\n",
       " 1367,\n",
       " 28,\n",
       " 308,\n",
       " 816,\n",
       " 262,\n",
       " 1586,\n",
       " 108,\n",
       " 759,\n",
       " 35,\n",
       " 172,\n",
       " 175,\n",
       " 493,\n",
       " 701,\n",
       " 97,\n",
       " 4,\n",
       " 1221,\n",
       " 173,\n",
       " 10,\n",
       " 63]"
      ]
     },
     "execution_count": 19,
     "metadata": {},
     "output_type": "execute_result"
    }
   ],
   "source": [
    "X_tr[0]"
   ]
  },
  {
   "cell_type": "markdown",
   "metadata": {},
   "source": [
    "# Network Architecture\n",
    "\n",
    "Your network should pass each word index into its corresponding embedding by looking-up on the embedding matrix and then compute the first hidden layer $\\mathbf{h}_1$:\n",
    "\n",
    "$$\\mathbf{h}_1 = \\frac{1}{|x|}\\sum_i W^e_i, i \\in x$$\n",
    "\n",
    "where $|x|$ is the number of words in the document and $W^e$ is an embedding matrix $|V|\\times d$, $|V|$ is the size of the vocabulary and $d$ the embedding size.\n",
    "\n",
    "Then $\\mathbf{h}_1$ should be passed through a ReLU activation function:\n",
    "\n",
    "$$\\mathbf{a}_1 = relu(\\mathbf{h}_1)$$\n",
    "\n",
    "Finally the hidden layer is passed to the output layer:\n",
    "\n",
    "\n",
    "$$\\mathbf{y} = \\text{softmax}(\\mathbf{a}_1W^T) $$ \n",
    "where $W$ is a matrix $d \\times |{\\cal Y}|$, $|{\\cal Y}|$ is the number of classes.\n",
    "\n",
    "During training, $\\mathbf{a}_1$ should be multiplied with a dropout mask vector (elementwise) for regularisation before it is passed to the output layer.\n",
    "\n",
    "You can extend to a deeper architecture by passing a hidden layer to another one:\n",
    "\n",
    "$$\\mathbf{h_i} = \\mathbf{a}_{i-1}W_i^T $$\n",
    "\n",
    "$$\\mathbf{a_i} = relu(\\mathbf{h_i}) $$\n",
    "\n",
    "\n",
    "\n",
    "# Network Training\n",
    "\n",
    "First we need to define the parameters of our network by initiliasing the weight matrices. For that purpose, you should implement the `network_weights` function that takes as input:\n",
    "\n",
    "- `vocab_size`: the size of the vocabulary\n",
    "- `embedding_dim`: the size of the word embeddings\n",
    "- `hidden_dim`: a list of the sizes of any subsequent hidden layers (for the Bonus). Empty if there are no hidden layers between the average embedding and the output layer \n",
    "- `num_clusses`: the number of the classes for the output layer\n",
    "\n",
    "and returns:\n",
    "\n",
    "- `W`: a dictionary mapping from layer index (e.g. 0 for the embedding matrix) to the corresponding weight matrix initialised with small random numbers (hint: use numpy.random.uniform with from -0.1 to 0.1)\n",
    "\n",
    "See the examples below for expected outputs. Make sure that the dimensionality of each weight matrix is compatible with the previous and next weight matrix, otherwise you won't be able to perform forward and backward passes. Consider also using np.float32 precision to save memory."
   ]
  },
  {
   "cell_type": "code",
   "execution_count": 20,
   "metadata": {
    "ExecuteTime": {
     "end_time": "2020-04-02T15:09:10.086665Z",
     "start_time": "2020-04-02T15:09:10.083429Z"
    }
   },
   "outputs": [],
   "source": [
    "def network_weights(vocab_size=1000, embedding_dim=300, \n",
    "                    hidden_dim=[], num_classes=3, init_val = 0.5):\n",
    "    \n",
    "    # Initialize the first layer for the input\n",
    "    # Firstly we should initilize the list\n",
    "    layer_num_list = list()\n",
    "    # Insert the hidden layer\n",
    "    layer_num_list.extend(hidden_dim)\n",
    "    # Insert vocab_size\n",
    "    layer_num_list.insert(0,vocab_size)\n",
    "    layer_num_list.insert(1,embedding_dim)\n",
    "    layer_num_list.append(num_classes)\n",
    "    W = dict()\n",
    "    for sid in range(len(layer_num_list)):\n",
    "        if sid == (len(layer_num_list)-1):\n",
    "            break\n",
    "        else:\n",
    "            W[sid] = np.random.uniform(-init_val,init_val,(layer_num_list[sid],layer_num_list[sid+1])).astype(\"float32\")\n",
    "    return W"
   ]
  },
  {
   "cell_type": "code",
   "execution_count": 21,
   "metadata": {
    "ExecuteTime": {
     "end_time": "2020-04-02T14:26:48.143236Z",
     "start_time": "2020-04-02T14:26:48.139381Z"
    }
   },
   "outputs": [
    {
     "name": "stdout",
     "output_type": "stream",
     "text": [
      "W_emb: (5, 10)\n",
      "W_out: (10, 2)\n"
     ]
    }
   ],
   "source": [
    "W = network_weights(vocab_size=5,embedding_dim=10,hidden_dim=[], num_classes=2)\n",
    "\n",
    "print('W_emb:', W[0].shape)\n",
    "print('W_out:', W[1].shape)"
   ]
  },
  {
   "cell_type": "code",
   "execution_count": 22,
   "metadata": {
    "ExecuteTime": {
     "end_time": "2020-04-02T14:26:48.636732Z",
     "start_time": "2020-04-02T14:26:48.634122Z"
    }
   },
   "outputs": [],
   "source": [
    "W = network_weights(vocab_size=3,embedding_dim=4,hidden_dim=[2], num_classes=2)"
   ]
  },
  {
   "cell_type": "code",
   "execution_count": 23,
   "metadata": {
    "ExecuteTime": {
     "end_time": "2020-04-02T14:26:49.086112Z",
     "start_time": "2020-04-02T14:26:49.082225Z"
    }
   },
   "outputs": [
    {
     "name": "stdout",
     "output_type": "stream",
     "text": [
      "W_emb: (3, 4)\n",
      "W_h1: (4, 2)\n",
      "W_out: (2, 2)\n"
     ]
    }
   ],
   "source": [
    "print('W_emb:', W[0].shape)\n",
    "print('W_h1:', W[1].shape)\n",
    "print('W_out:', W[2].shape)"
   ]
  },
  {
   "cell_type": "code",
   "execution_count": 24,
   "metadata": {
    "ExecuteTime": {
     "end_time": "2020-04-02T14:26:49.535954Z",
     "start_time": "2020-04-02T14:26:49.532018Z"
    }
   },
   "outputs": [
    {
     "data": {
      "text/plain": [
       "array([[-0.4042875 ,  0.38532683,  0.12724897,  0.22341636],\n",
       "       [-0.4838708 ,  0.09443188,  0.05678519, -0.34104034],\n",
       "       [-0.3469295 ,  0.19552954, -0.18123357,  0.19197029]],\n",
       "      dtype=float32)"
      ]
     },
     "execution_count": 24,
     "metadata": {},
     "output_type": "execute_result"
    }
   ],
   "source": [
    "W[0]"
   ]
  },
  {
   "cell_type": "markdown",
   "metadata": {
    "ExecuteTime": {
     "end_time": "2020-04-01T10:31:57.970152Z",
     "start_time": "2020-04-01T10:31:57.966123Z"
    }
   },
   "source": [
    "Then you need to develop a `softmax` function (same as in Assignment 1) to be used in the output layer. It takes as input:\n",
    "\n",
    "- `z`: array of real numbers \n",
    "\n",
    "and returns:\n",
    "\n",
    "- `sig`: the softmax of `z`"
   ]
  },
  {
   "cell_type": "code",
   "execution_count": 25,
   "metadata": {
    "ExecuteTime": {
     "end_time": "2020-04-02T14:26:50.504086Z",
     "start_time": "2020-04-02T14:26:50.500686Z"
    }
   },
   "outputs": [],
   "source": [
    "def softmax(z):\n",
    "    x_result = 0.0\n",
    "    if len(z.shape)>1:\n",
    "        x_result = np.sum(np.exp(z), axis = 1, keepdims = True)\n",
    "    else:\n",
    "        x_result = np.sum(np.exp(z), axis = 0)\n",
    "    result = np.exp(z) / x_result\n",
    "    return result"
   ]
  },
  {
   "cell_type": "markdown",
   "metadata": {},
   "source": [
    "Now you need to implement the categorical cross entropy loss by slightly modifying the function from Assignment 1 to depend only on the true label `y` and the class probabilities vector `y_preds`:"
   ]
  },
  {
   "cell_type": "code",
   "execution_count": 26,
   "metadata": {
    "ExecuteTime": {
     "end_time": "2020-04-02T14:26:51.360838Z",
     "start_time": "2020-04-02T14:26:51.356935Z"
    }
   },
   "outputs": [],
   "source": [
    "def categorical_loss(y, y_preds):\n",
    "    l = -np.log(y_preds[y])\n",
    "    return l"
   ]
  },
  {
   "cell_type": "code",
   "execution_count": 27,
   "metadata": {
    "ExecuteTime": {
     "end_time": "2020-04-02T14:26:51.762676Z",
     "start_time": "2020-04-02T14:26:51.758210Z"
    }
   },
   "outputs": [
    {
     "name": "stdout",
     "output_type": "stream",
     "text": [
      "y_preds:  [0.01217919 0.27035308 0.24462558 0.02710529 0.44573687]\n",
      "loss: 1.40802648485675\n"
     ]
    }
   ],
   "source": [
    "# example for 5 classes\n",
    "y = 2 #true label\n",
    "y_preds = softmax(np.array([[-2.1,1.,0.9,-1.3,1.5]]))[0]\n",
    "\n",
    "print('y_preds: ',y_preds)\n",
    "print('loss:', categorical_loss(y, y_preds))"
   ]
  },
  {
   "cell_type": "markdown",
   "metadata": {
    "ExecuteTime": {
     "end_time": "2020-03-31T15:02:56.149535Z",
     "start_time": "2020-03-31T15:02:56.145738Z"
    }
   },
   "source": [
    "Then, implement the `relu` function to introduce non-linearity after each hidden layer of your network (during the forward pass): \n",
    "\n",
    "$$relu(z_i)= max(z_i,0)$$\n",
    "\n",
    "and the `relu_derivative` function to compute its derivative (used in the backward pass):\n",
    "\n",
    "\\begin{equation}\n",
    "  \\text{relu_derivative}(z_i)=\\begin{cases}\n",
    "    0, & \\text{if $z_i<=0$}.\\\\\n",
    "    1, & \\text{otherwise}.\n",
    "  \\end{cases}\n",
    "\\end{equation}\n",
    "\n",
    "Note that both functions take as input a vector $z$ \n",
    "\n",
    "Hint use .copy() to avoid in place changes in array z"
   ]
  },
  {
   "cell_type": "code",
   "execution_count": 28,
   "metadata": {
    "ExecuteTime": {
     "end_time": "2020-04-02T14:26:52.665236Z",
     "start_time": "2020-04-02T14:26:52.661519Z"
    }
   },
   "outputs": [],
   "source": [
    "def relu(z):\n",
    "    # use the numpy maxium function to select the z value\n",
    "    result = np.maximum(z,0)\n",
    "    return result\n",
    "    \n",
    "def relu_derivative(z):\n",
    "    result = np.array(z)\n",
    "    result[result<=0]=0\n",
    "    result[result>0]=1\n",
    "    return result"
   ]
  },
  {
   "cell_type": "markdown",
   "metadata": {},
   "source": [
    "During training you should also apply a dropout mask element-wise after the activation function (i.e. vector of ones with a random percentage set to zero). The `dropout_mask` function takes as input:\n",
    "\n",
    "- `size`: the size of the vector that we want to apply dropout\n",
    "- `dropout_rate`: the percentage of elements that will be randomly set to zeros\n",
    "\n",
    "and returns:\n",
    "\n",
    "- `dropout_vec`: a vector with binary values (0 or 1)"
   ]
  },
  {
   "cell_type": "code",
   "execution_count": 29,
   "metadata": {},
   "outputs": [],
   "source": [
    "def dropout_mask(size, dropout_rate):\n",
    "    array = np.ones(size).astype(\"float_\")\n",
    "    array[:int(size*dropout_rate)] = 0.0\n",
    "    np.random.shuffle(array)\n",
    "    return array"
   ]
  },
  {
   "cell_type": "code",
   "execution_count": 30,
   "metadata": {
    "ExecuteTime": {
     "end_time": "2020-04-02T14:26:53.853632Z",
     "start_time": "2020-04-02T14:26:53.849944Z"
    }
   },
   "outputs": [
    {
     "name": "stdout",
     "output_type": "stream",
     "text": [
      "[1. 1. 1. 1. 0. 1. 0. 1. 1. 1.]\n",
      "[1. 1. 1. 1. 1. 0. 1. 0. 1. 1.]\n"
     ]
    }
   ],
   "source": [
    "print(dropout_mask(10, 0.2))\n",
    "print(dropout_mask(10, 0.2))"
   ]
  },
  {
   "cell_type": "markdown",
   "metadata": {},
   "source": [
    "Now you need to implement the `forward_pass` function that passes the input x through the network up to the output layer for computing the probability for each class using the weight matrices in `W`. The ReLU activation function should be applied on each hidden layer. \n",
    "\n",
    "- `x`: a list of vocabulary indices each corresponding to a word in the document (input)\n",
    "- `W`: a list of weight matrices connecting each part of the network, e.g. for a network with a hidden and an output layer: W[0] is the weight matrix that connects the input to the first hidden layer, W[1] is the weight matrix that connects the hidden layer to the output layer.\n",
    "- `dropout_rate`: the dropout rate that is used to generate a random dropout mask vector applied after each hidden layer for regularisation.\n",
    "\n",
    "and returns:\n",
    "\n",
    "- `out_vals`: a dictionary of output values from each layer: h (the vector before the activation function), a (the resulting vector after passing h from the activation function), its dropout mask vector; and the prediction vector (probability for each class) from the output layer."
   ]
  },
  {
   "cell_type": "code",
   "execution_count": 31,
   "metadata": {},
   "outputs": [],
   "source": [
    "# Now We could obtain the forward_pass function\n",
    "def forward_pass(x, W, dropout_rate=0.2):\n",
    "    \n",
    "    out_vals = {}\n",
    "    h_vecs = []\n",
    "    a_vecs = []\n",
    "    dropout_vecs = []\n",
    "    \n",
    "    W_length = len(W)-1\n",
    "    x_vector = list()\n",
    "    for i in x:\n",
    "        x_vector.append(W[0][i])\n",
    "    \n",
    "    # Initialize the function\n",
    "    h = np.sum(x_vector,axis=0)/len(x)\n",
    "    a = relu(h)\n",
    "    d = dropout_mask(len(a),dropout_rate)\n",
    "    output = a*d\n",
    "    h_vecs.append(h)\n",
    "    a_vecs.append(a)\n",
    "    dropout_vecs.append(d)  \n",
    "\n",
    "    for i in range(W_length):\n",
    "        if i == 0:\n",
    "            continue\n",
    "        else:\n",
    "            h = np.dot(output,W[i])\n",
    "        # Update the h value\n",
    "        a = relu(h)\n",
    "        d = dropout_mask(len(a) ,dropout_rate)\n",
    "        output = a*d\n",
    "        h_vecs.append(h)\n",
    "        a_vecs.append(a)\n",
    "        dropout_vecs.append(d)\n",
    "    \n",
    "    # USe the softmax to obtain the y value\n",
    "    y_array = softmax(np.dot(output,W[W_length]))\n",
    "    \n",
    "    out_vals['h'] = h_vecs\n",
    "    out_vals['a'] = a_vecs\n",
    "    out_vals['dropout_vecs'] = dropout_vecs\n",
    "    out_vals['y'] = y_array\n",
    "    \n",
    "    return out_vals "
   ]
  },
  {
   "cell_type": "code",
   "execution_count": 32,
   "metadata": {},
   "outputs": [
    {
     "name": "stdout",
     "output_type": "stream",
     "text": [
      "Shape W0 (3, 4)\n",
      "Shape W1 (4, 5)\n",
      "Shape W2 (5, 2)\n",
      "\n",
      "{'h': [array([-0.04668263, -0.12518334,  0.17532286, -0.32932055], dtype=float32), array([-0.01851934,  0.04051239, -0.05942235,  0.01765476,  0.0641444 ])], 'a': [array([0.        , 0.        , 0.17532286, 0.        ], dtype=float32), array([0.        , 0.04051239, 0.        , 0.01765476, 0.0641444 ])], 'dropout_vecs': [array([1., 0., 1., 0.]), array([0., 0., 1., 1., 1.])], 'y': array([0.48946731, 0.51053269])}\n"
     ]
    }
   ],
   "source": [
    "W = network_weights(vocab_size=3,embedding_dim=4,hidden_dim=[5], num_classes=2)\n",
    "\n",
    "for i in range(len(W)):\n",
    "    print('Shape W'+str(i), W[i].shape)\n",
    "\n",
    "print()\n",
    "print(forward_pass([2,1], W, dropout_rate=0.5))"
   ]
  },
  {
   "cell_type": "markdown",
   "metadata": {},
   "source": [
    "The `backward_pass` function computes the gradients and update the weights for each matrix in the network from the output to the input. It takes as input \n",
    "\n",
    "- `x`: a list of vocabulary indices each corresponding to a word in the document (input)\n",
    "- `y`: the true label\n",
    "- `W`: a list of weight matrices connecting each part of the network, e.g. for a network with a hidden and an output layer: W[0] is the weight matrix that connects the input to the first hidden layer, W[1] is the weight matrix that connects the hidden layer to the output layer.\n",
    "- `out_vals`: a dictionary of output values from a forward pass.\n",
    "- `learning_rate`: the learning rate for updating the weights.\n",
    "- `freeze_emb`: boolean value indicating whether the embedding weights will be updated.\n",
    "\n",
    "and returns:\n",
    "\n",
    "- `W`: the updated weights of the network.\n",
    "\n",
    "Hint: the gradients on the output layer are similar to the multiclass logistic regression."
   ]
  },
  {
   "cell_type": "code",
   "execution_count": 33,
   "metadata": {},
   "outputs": [],
   "source": [
    "# Now we should imply the function backware_pass function\n",
    "def backward_pass(x, y, W, out_vals, lr=0.001, freeze_emb=False): \n",
    "    W_length = len(W)-1\n",
    "    for i in range(W_length):\n",
    "        if i == 0:\n",
    "            y_layer = np.zeros(W[W_length].shape[1])\n",
    "            y_layer[y-1]=1\n",
    "            temp = out_vals['y'] - y_layer\n",
    "            output_v1 = out_vals['a'][-1]*out_vals['dropout_vecs'][-1]\n",
    "            output_value = output_v1.reshape(W[W_length].shape[0],1)\n",
    "            # Obtain the gradient value\n",
    "            gradient_value = np.dot(output_value,temp.reshape(1,W[W_length].shape[1]))\n",
    "            # Update the temp for layer\n",
    "            v1 = np.dot(W[W_length],temp).reshape(1,W[W_length].shape[0])\n",
    "            v2 = out_vals['dropout_vecs'][W_length-1]\n",
    "            temp = v1*v2\n",
    "            # Update the Weight Matrix\n",
    "            W[W_length] = W[W_length] - lr*gradient_value\n",
    "            \n",
    "        else:\n",
    "            # Obtain the value of function relu_derivative function to compute its derivative\n",
    "            der_v = relu_derivative(out_vals['h'][W_length-i])\n",
    "            # Update the temp value\n",
    "            temp = temp * der_v.reshape(1,W[W_length+1-i].shape[0])\n",
    "            # Next Calculate the output value\n",
    "            output_v1 = out_vals['a'][W_length-1-i]*out_vals['dropout_vecs'][W_length-1-i]\n",
    "            output_value = output_v1.reshape(W[W_length-i].shape[0],1)\n",
    "            # Obtain the gradient vaalue\n",
    "            gradient_value = np.dot(output_value,temp)\n",
    "            # Update the temp\n",
    "            temp_v1 = np.dot(W[W_length-i],temp.T).reshape(1,W[W_length-i].shape[0])\n",
    "            temp_v2 = out_vals['dropout_vecs'][W_length-1-i]\n",
    "            temp = temp_v1*temp_v2\n",
    "            # Calculate the new W\n",
    "            W[W_length-i] = W[W_length-i] - lr*gradient_value\n",
    "            \n",
    "        \n",
    "    # Update the W0 if freeze_emb==false\n",
    "    if not freeze_emb:\n",
    "        x_array = np.zeros([W[0].shape[0],1])\n",
    "        x_array[x] = 1.0\n",
    "        lv_1 = relu_derivative(out_vals['h'][0]).reshape(1,W[0].shape[1])\n",
    "        temp = temp*lv_1\n",
    "        w_gradient = np.dot(x_array,temp)\n",
    "        W[0] = W[0]-lr*w_gradient\n",
    "\n",
    "    return W"
   ]
  },
  {
   "cell_type": "markdown",
   "metadata": {
    "ExecuteTime": {
     "end_time": "2020-02-15T14:08:59.937442Z",
     "start_time": "2020-02-15T14:08:59.932221Z"
    }
   },
   "source": [
    "Finally you need to modify SGD to support back-propagation by using the `forward_pass` and `backward_pass` functions.\n",
    "\n",
    "The `SGD` function takes as input:\n",
    "\n",
    "- `X_tr`: array of training data (vectors)\n",
    "- `Y_tr`: labels of `X_tr`\n",
    "- `W`: the weights of the network (dictionary)\n",
    "- `X_dev`: array of development (i.e. validation) data (vectors)\n",
    "- `Y_dev`: labels of `X_dev`\n",
    "- `lr`: learning rate\n",
    "- `dropout`: regularisation strength\n",
    "- `epochs`: number of full passes over the training data\n",
    "- `tolerance`: stop training if the difference between the current and previous validation loss is smaller than a threshold\n",
    "- `freeze_emb`: boolean value indicating whether the embedding weights will be updated (to be used by the backward pass function).\n",
    "- `print_progress`: flag for printing the training progress (train/validation loss)\n",
    "\n",
    "\n",
    "and returns:\n",
    "\n",
    "- `weights`: the weights learned\n",
    "- `training_loss_history`: an array with the average losses of the whole training set after each epoch\n",
    "- `validation_loss_history`: an array with the average losses of the whole development set after each epoch"
   ]
  },
  {
   "cell_type": "code",
   "execution_count": 34,
   "metadata": {},
   "outputs": [],
   "source": [
    "# Obtain the average loss\n",
    "def loss_function(x, y, W, dropout_rate):\n",
    "    result = 0.0\n",
    "    for sid in range(len(x)):\n",
    "        out_vals = forward_pass(x[sid], W, dropout_rate)\n",
    "        y_label = out_vals['y']\n",
    "        loss_v = categorical_loss(y[sid]-1,y_label)\n",
    "        result += loss_v\n",
    "    return result/(len(x))"
   ]
  },
  {
   "cell_type": "code",
   "execution_count": 35,
   "metadata": {
    "ExecuteTime": {
     "end_time": "2020-04-02T15:09:19.021428Z",
     "start_time": "2020-04-02T15:09:19.017835Z"
    }
   },
   "outputs": [],
   "source": [
    "def SGD(X_tr, Y_tr, W, X_dev=[], Y_dev=[], lr=0.001, \n",
    "        dropout=0.2, epochs=5, tolerance=0.001, freeze_emb=False, print_progress=True):\n",
    "    \n",
    "    loss_dev = 10.0\n",
    "    loss_tr_history = list()\n",
    "    loss_vali_history = list()\n",
    "    \n",
    "    for sid in range(epochs):\n",
    "        seed_num = random.randint(1,50)\n",
    "        #Randomise the order of training data after each epoch\n",
    "        np.random.seed(seed_num)\n",
    "        random_X_tr = np.random.permutation(X_tr)\n",
    "        np.random.seed(seed_num)\n",
    "        random_Y_tr = np.random.permutation(Y_tr)\n",
    "        \n",
    "        # If the first is the first layer we should update the bw_result\n",
    "        for i,tr_row in enumerate(random_X_tr):\n",
    "            if i==0:\n",
    "                fw_result = forward_pass(tr_row, W, dropout_rate=dropout)\n",
    "                bw_result = backward_pass(tr_row, random_Y_tr[i], W, fw_result, lr=lr, freeze_emb=freeze_emb)\n",
    "            else:\n",
    "                fw_result = forward_pass(tr_row, W, dropout_rate=dropout)\n",
    "                bw_result = backward_pass(tr_row, random_Y_tr[i], bw_result, fw_result, lr=lr, freeze_emb=freeze_emb)\n",
    "            \n",
    "        # Compute the train loss\n",
    "        loss_train = loss_function(random_X_tr, random_Y_tr, bw_result, dropout_rate=dropout)\n",
    "        loss_tr_history.append(loss_train)\n",
    "        \n",
    "        #compute validation set loss\n",
    "        loss_valid = loss_function(X_dev, Y_dev, bw_result, dropout_rate=dropout)\n",
    "        loss_vali_history.append(loss_valid)\n",
    "            \n",
    "        if print_progress:\n",
    "            print('Epoch: %d' % sid, '| Training loss: %f' % loss_train, '| Validation loss: %f' % loss_valid)\n",
    "            \n",
    "        if (loss_dev - loss_valid) < tolerance:\n",
    "            break\n",
    "            \n",
    "        loss_dev = loss_valid\n",
    "        \n",
    "    return W, loss_tr_history, loss_vali_history"
   ]
  },
  {
   "cell_type": "markdown",
   "metadata": {
    "ExecuteTime": {
     "end_time": "2020-02-15T14:10:15.772383Z",
     "start_time": "2020-02-15T14:10:15.767855Z"
    }
   },
   "source": [
    "Now you are ready to train and evaluate you neural net. First, you need to define your network using the `network_weights` function followed by SGD with backprop:"
   ]
  },
  {
   "cell_type": "code",
   "execution_count": 36,
   "metadata": {
    "ExecuteTime": {
     "end_time": "2020-04-02T15:09:33.643515Z",
     "start_time": "2020-04-02T15:09:33.640943Z"
    }
   },
   "outputs": [
    {
     "name": "stdout",
     "output_type": "stream",
     "text": [
      "Shape W0 (2000, 300)\n",
      "Shape W1 (300, 3)\n",
      "Epoch: 0 | Training loss: 0.992532 | Validation loss: 1.028403\n",
      "Epoch: 1 | Training loss: 0.868502 | Validation loss: 0.944363\n",
      "Epoch: 2 | Training loss: 0.745471 | Validation loss: 0.855622\n",
      "Epoch: 3 | Training loss: 0.637465 | Validation loss: 0.765498\n",
      "Epoch: 4 | Training loss: 0.556079 | Validation loss: 0.649971\n",
      "Epoch: 5 | Training loss: 0.485607 | Validation loss: 0.623784\n",
      "Epoch: 6 | Training loss: 0.435832 | Validation loss: 0.552651\n",
      "Epoch: 7 | Training loss: 0.391671 | Validation loss: 0.532314\n",
      "Epoch: 8 | Training loss: 0.358932 | Validation loss: 0.514875\n",
      "Epoch: 9 | Training loss: 0.324324 | Validation loss: 0.456412\n",
      "Epoch: 10 | Training loss: 0.302069 | Validation loss: 0.428071\n",
      "Epoch: 11 | Training loss: 0.275911 | Validation loss: 0.417748\n",
      "Epoch: 12 | Training loss: 0.257846 | Validation loss: 0.404394\n",
      "Epoch: 13 | Training loss: 0.246372 | Validation loss: 0.416714\n"
     ]
    }
   ],
   "source": [
    "W = network_weights(vocab_size=len(vocab),embedding_dim=300,hidden_dim=[], num_classes=3)\n",
    "\n",
    "for i in range(len(W)):\n",
    "    print('Shape W'+str(i), W[i].shape)\n",
    "\n",
    "W, loss_tr, dev_loss = SGD(X_tr, Y_tr=x_label_tr,\n",
    "                            W=W,\n",
    "                            X_dev=X_dev, \n",
    "                            Y_dev=x_label_dev,\n",
    "                            lr=0.01, \n",
    "                            dropout=0.6,\n",
    "                            freeze_emb=False,\n",
    "                            tolerance=0.0001,\n",
    "                            epochs=30)"
   ]
  },
  {
   "cell_type": "markdown",
   "metadata": {},
   "source": [
    "Plot the learning process:"
   ]
  },
  {
   "cell_type": "code",
   "execution_count": 37,
   "metadata": {
    "ExecuteTime": {
     "end_time": "2020-04-02T14:27:15.716497Z",
     "start_time": "2020-04-02T14:27:15.612736Z"
    }
   },
   "outputs": [
    {
     "data": {
      "image/png": "[encoded data removed]",
      "text/plain": [
       "<Figure size 432x288 with 1 Axes>"
      ]
     },
     "metadata": {
      "needs_background": "light"
     },
     "output_type": "display_data"
    }
   ],
   "source": [
    "# Now we could plot result of the training \n",
    "x = np.linspace(0,len(loss_tr),len(loss_tr))\n",
    "y1, y2 = loss_tr, dev_loss\n",
    "\n",
    "plt.plot(x, y1,label='Training loss')\n",
    "plt.plot(x, y2, label='Validation loss')\n",
    " \n",
    "plt.title('Plot Result')\n",
    "plt.xlabel('Epochs')\n",
    "plt.ylabel('Loss')\n",
    "plt.legend() \n",
    "plt.show()"
   ]
  },
  {
   "cell_type": "markdown",
   "metadata": {},
   "source": [
    "Compute accuracy, precision, recall and F1-Score:"
   ]
  },
  {
   "cell_type": "code",
   "execution_count": 38,
   "metadata": {
    "ExecuteTime": {
     "end_time": "2020-04-02T15:10:11.037495Z",
     "start_time": "2020-04-02T15:10:11.034999Z"
    }
   },
   "outputs": [
    {
     "name": "stdout",
     "output_type": "stream",
     "text": [
      "Accuracy: 0.8509454949944383\n",
      "Precision: 0.8549264132513853\n",
      "Recall: 0.8509438870308434\n",
      "F1-Score: 0.8505701535931153\n"
     ]
    }
   ],
   "source": [
    "preds_te = [np.argmax(forward_pass(x, W, dropout_rate=0.0)['y'])+1 for x,y in zip(X_test,x_label_test)]\n",
    "print('Accuracy:', accuracy_score(x_label_test,preds_te))\n",
    "print('Precision:', precision_score(x_label_test,preds_te,average='macro'))\n",
    "print('Recall:', recall_score(x_label_test,preds_te,average='macro'))\n",
    "print('F1-Score:', f1_score(x_label_test,preds_te,average='macro'))"
   ]
  },
  {
   "cell_type": "markdown",
   "metadata": {},
   "source": [
    "### Discuss how did you choose model hyperparameters ? "
   ]
  },
  {
   "cell_type": "code",
   "execution_count": 39,
   "metadata": {},
   "outputs": [
    {
     "name": "stdout",
     "output_type": "stream",
     "text": [
      "emb_dim:200 lr:0.01 drop_rate:0.4 The F1_score of Train and Test[[0.9542535833495561, 0.8483772786701067]]\n",
      "\n",
      "emb_dim:200 lr:0.01 drop_rate:0.5 The F1_score of Train and Test[[0.948799412115832, 0.8527132175044295]]\n",
      "\n",
      "emb_dim:200 lr:0.001 drop_rate:0.4 The F1_score of Train and Test[[0.7853065896886702, 0.7345424272146301]]\n",
      "\n",
      "emb_dim:200 lr:0.001 drop_rate:0.5 The F1_score of Train and Test[[0.3392127567652488, 0.27585050519044374]]\n",
      "\n",
      "emb_dim:300 lr:0.01 drop_rate:0.4 The F1_score of Train and Test[[0.9635434622519151, 0.855111346392309]]\n",
      "\n",
      "emb_dim:300 lr:0.01 drop_rate:0.5 The F1_score of Train and Test[[0.9364602288498646, 0.853923996631182]]\n",
      "\n",
      "emb_dim:300 lr:0.001 drop_rate:0.4 The F1_score of Train and Test[[0.6852044077625864, 0.6216461622860118]]\n",
      "\n",
      "emb_dim:300 lr:0.001 drop_rate:0.5 The F1_score of Train and Test[[0.7911975739050883, 0.738463835556189]]\n",
      "\n"
     ]
    }
   ],
   "source": [
    "# Firstly We should establish the list to select the parameters\n",
    "dim_choice=[200,300]\n",
    "lr_rate = [0.01,0.001]\n",
    "dropout_rate = [0.4,0.5]\n",
    "hyper_result = 0.0\n",
    "test_result = 0.0\n",
    "result = list()\n",
    "\n",
    "for dim in range(len(dim_choice)):\n",
    "    for lr in range(len(lr_rate)):\n",
    "        for drop in range(len(dropout_rate)):\n",
    "            W = network_weights(vocab_size=len(vocab),embedding_dim=dim_choice[dim],hidden_dim=[], num_classes=3, init_val = 0.1)\n",
    "            W, loss_tr, dev_loss = SGD(X_tr, Y_tr=x_label_tr,\n",
    "                            W=W,\n",
    "                            X_dev=X_dev, \n",
    "                            Y_dev=x_label_dev,\n",
    "                            lr=lr_rate[lr], \n",
    "                            dropout=dropout_rate[drop],\n",
    "                            freeze_emb=False,\n",
    "                            tolerance=0.0001,\n",
    "                            print_progress = False,\n",
    "                            epochs=30)\n",
    "            \n",
    "            # Obtain the each result and store into different list\n",
    "            # Firstly we should eveluate the performance of train\n",
    "            preds_te = [np.argmax(forward_pass(x, W, dropout_rate=0.0)['y'])+1 for x,y in zip(X_tr,x_label_tr)]\n",
    "            tr_f1 = f1_score(x_label_tr,preds_te,average='macro')\n",
    "            hyper_result = tr_f1\n",
    "            \n",
    "            # Obtain the test set result\n",
    "            preds_te = [np.argmax(forward_pass(x, W, dropout_rate=0.0)['y'])+1 for x,y in zip(X_test,x_label_test)]\n",
    "            test_f1 = f1_score(x_label_test,preds_te,average='macro')\n",
    "            test_result = test_f1\n",
    "            \n",
    "            result.append([hyper_result,test_result])\n",
    "            print(\"emb_dim:\"+str(dim_choice[dim])+\" lr:\"+str(lr_rate[lr])+\" drop_rate:\"+str(dropout_rate[drop])+\" The F1_score of Train and Test\"+str(result)+\"\\n\")\n",
    "            result = list()\n"
   ]
  },
  {
   "cell_type": "markdown",
   "metadata": {},
   "source": [
    "# Use Pre-trained Embeddings\n",
    "\n",
    "Now re-train the network using GloVe pre-trained embeddings. You need to modify the `backward_pass` function above to stop computing gradients and updating weights of the embedding matrix.\n",
    "\n",
    "Use the function below to obtain the embedding martix for your vocabulary."
   ]
  },
  {
   "cell_type": "code",
   "execution_count": 40,
   "metadata": {
    "ExecuteTime": {
     "end_time": "2020-04-02T14:27:32.020697Z",
     "start_time": "2020-04-02T14:27:32.015733Z"
    }
   },
   "outputs": [],
   "source": [
    "def get_glove_embeddings(f_zip, f_txt, word2id, emb_size=300):\n",
    "    \n",
    "    w_emb = np.zeros((len(word2id), emb_size))\n",
    "    \n",
    "    with zipfile.ZipFile(f_zip) as z:\n",
    "        with z.open(f_txt) as f:\n",
    "            for line in f:\n",
    "                line = line.decode('utf-8')\n",
    "                word = line.split()[0]\n",
    "                     \n",
    "                if word in vocab:\n",
    "                    emb = np.array(line.strip('\\n').split()[1:]).astype(np.float32)\n",
    "                    w_emb[word2id[word]] +=emb\n",
    "    return w_emb"
   ]
  },
  {
   "cell_type": "code",
   "execution_count": 41,
   "metadata": {
    "ExecuteTime": {
     "end_time": "2020-04-02T14:28:54.548613Z",
     "start_time": "2020-04-02T14:27:32.780248Z"
    }
   },
   "outputs": [],
   "source": [
    "w_glove = get_glove_embeddings(\"glove.840B.300d.zip\",\"glove.840B.300d.txt\",vocab_word_id)"
   ]
  },
  {
   "cell_type": "markdown",
   "metadata": {},
   "source": [
    "First, initialise the weights of your network using the `network_weights` function. Second, replace the weigths of the embedding matrix with `w_glove`. Finally, train the network by freezing the embedding weights: "
   ]
  },
  {
   "cell_type": "code",
   "execution_count": 42,
   "metadata": {
    "ExecuteTime": {
     "end_time": "2020-04-02T14:30:11.121198Z",
     "start_time": "2020-04-02T14:29:24.946124Z"
    }
   },
   "outputs": [
    {
     "name": "stdout",
     "output_type": "stream",
     "text": [
      "Shape W0 (2000, 300)\n",
      "Shape W1 (300, 3)\n",
      "Epoch: 0 | Training loss: 0.943680 | Validation loss: 0.965378\n",
      "Epoch: 1 | Training loss: 0.845467 | Validation loss: 0.853076\n",
      "Epoch: 2 | Training loss: 0.771502 | Validation loss: 0.776291\n",
      "Epoch: 3 | Training loss: 0.720725 | Validation loss: 0.710855\n",
      "Epoch: 4 | Training loss: 0.682446 | Validation loss: 0.691950\n",
      "Epoch: 5 | Training loss: 0.650951 | Validation loss: 0.658283\n",
      "Epoch: 6 | Training loss: 0.620810 | Validation loss: 0.658909\n"
     ]
    }
   ],
   "source": [
    "W = network_weights(vocab_size=len(vocab),embedding_dim=300,hidden_dim=[], num_classes=3, init_val = 0.1)\n",
    "#Replace the weigths of the embedding matrix with w_glove\n",
    "W[0] = w_glove\n",
    "\n",
    "for i in range(len(W)):\n",
    "    print('Shape W'+str(i), W[i].shape)\n",
    "\n",
    "W, loss_tr, dev_loss = SGD(X_tr, Y_tr=x_label_tr,\n",
    "                            W=W,\n",
    "                            X_dev=X_dev, \n",
    "                            Y_dev=x_label_dev,\n",
    "                            lr=0.01, \n",
    "                            dropout=0.6,\n",
    "                            freeze_emb=True,\n",
    "                            tolerance=0.0001,\n",
    "                            epochs=30)"
   ]
  },
  {
   "cell_type": "code",
   "execution_count": 43,
   "metadata": {},
   "outputs": [
    {
     "data": {
      "image/png": "[encoded data removed]",
      "text/plain": [
       "<Figure size 432x288 with 1 Axes>"
      ]
     },
     "metadata": {
      "needs_background": "light"
     },
     "output_type": "display_data"
    }
   ],
   "source": [
    "# Now we could plot result of the training \n",
    "x = np.linspace(0,len(loss_tr),len(loss_tr))\n",
    "y1, y2 = loss_tr, dev_loss\n",
    "\n",
    "plt.plot(x, y1,label='Training loss')\n",
    "plt.plot(x, y2, label='Validation loss')\n",
    " \n",
    "plt.title('Plot Result')\n",
    "plt.xlabel('Epochs')\n",
    "plt.ylabel('Loss')\n",
    "plt.legend() \n",
    "plt.show()"
   ]
  },
  {
   "cell_type": "code",
   "execution_count": 44,
   "metadata": {
    "ExecuteTime": {
     "end_time": "2020-04-02T15:12:00.815184Z",
     "start_time": "2020-04-02T15:12:00.812563Z"
    }
   },
   "outputs": [
    {
     "name": "stdout",
     "output_type": "stream",
     "text": [
      "Accuracy: 0.8720800889877642\n",
      "Precision: 0.8720021421246024\n",
      "Recall: 0.8720401337792643\n",
      "F1-Score: 0.8719103410019038\n"
     ]
    }
   ],
   "source": [
    "preds_te = [np.argmax(forward_pass(x, W, dropout_rate=0.0)['y'])+1 for x,y in zip(X_test,x_label_test)]\n",
    "print('Accuracy:', accuracy_score(x_label_test,preds_te))\n",
    "print('Precision:', precision_score(x_label_test,preds_te,average='macro'))\n",
    "print('Recall:', recall_score(x_label_test,preds_te,average='macro'))\n",
    "print('F1-Score:', f1_score(x_label_test,preds_te,average='macro'))"
   ]
  },
  {
   "cell_type": "markdown",
   "metadata": {},
   "source": [
    "### Discuss how did you choose model hyperparameters ? "
   ]
  },
  {
   "cell_type": "code",
   "execution_count": 45,
   "metadata": {},
   "outputs": [
    {
     "name": "stdout",
     "output_type": "stream",
     "text": [
      " lr:0.01 drop_rate:0.4 The F1_score of Train and Test[[0.8880864670764357, 0.8739796829058872]]\n",
      "\n",
      " lr:0.01 drop_rate:0.5 The F1_score of Train and Test[[0.8861203440327549, 0.8713124210127242]]\n",
      "\n",
      " lr:0.001 drop_rate:0.4 The F1_score of Train and Test[[0.863552619940834, 0.8750607645131133]]\n",
      "\n",
      " lr:0.001 drop_rate:0.5 The F1_score of Train and Test[[0.8626586629339302, 0.8611114954862753]]\n",
      "\n"
     ]
    }
   ],
   "source": [
    "# Firstly We should establish the list to select the parameters\n",
    "lr_rate = [0.01,0.001]\n",
    "dropout_rate = [0.4,0.5]\n",
    "hyper_result = 0.0\n",
    "test_result = 0.0\n",
    "result = list()\n",
    "\n",
    "for lr in range(len(lr_rate)):\n",
    "    for drop in range(len(dropout_rate)):\n",
    "        W = network_weights(vocab_size=len(vocab),embedding_dim=300,hidden_dim=[], num_classes=3, init_val = 0.1)\n",
    "        W[0] = w_glove\n",
    "        W, loss_tr, dev_loss = SGD(X_tr, Y_tr=x_label_tr,\n",
    "                        W=W,\n",
    "                        X_dev=X_dev, \n",
    "                        Y_dev=x_label_dev,\n",
    "                        lr=lr_rate[lr], \n",
    "                        dropout=dropout_rate[drop],\n",
    "                        freeze_emb=True,\n",
    "                        tolerance=0.0001,\n",
    "                        print_progress = False,\n",
    "                        epochs=30)\n",
    "            \n",
    "        # Obtain the each result and store into different list\n",
    "        # Firstly we should eveluate the performance of train\n",
    "        preds_te = [np.argmax(forward_pass(x, W, dropout_rate=0.0)['y'])+1 for x,y in zip(X_tr,x_label_tr)]\n",
    "        tr_f1 = f1_score(x_label_tr,preds_te,average='macro')\n",
    "        hyper_result = tr_f1\n",
    "            \n",
    "        # Obtain the test set result\n",
    "        preds_te = [np.argmax(forward_pass(x, W, dropout_rate=0.0)['y'])+1 for x,y in zip(X_test,x_label_test)]\n",
    "        test_f1 = f1_score(x_label_test,preds_te,average='macro')\n",
    "        test_result = test_f1\n",
    "            \n",
    "        result.append([hyper_result,test_result])\n",
    "        print(\" lr:\"+str(lr_rate[lr])+\" drop_rate:\"+str(dropout_rate[drop])+\" The F1_score of Train and Test\"+str(result)+\"\\n\")\n",
    "        result = list()"
   ]
  },
  {
   "cell_type": "markdown",
   "metadata": {},
   "source": [
    "# Extend to support deeper architectures (Bonus)\n",
    "\n",
    "Extend the network to support back-propagation for more hidden layers. You need to modify the `backward_pass` function above to compute gradients and update the weights between intermediate hidden layers. Finally, train and evaluate a network with a deeper architecture. "
   ]
  },
  {
   "cell_type": "code",
   "execution_count": 46,
   "metadata": {
    "ExecuteTime": {
     "end_time": "2020-04-02T14:58:51.764619Z",
     "start_time": "2020-04-02T14:58:47.483690Z"
    }
   },
   "outputs": [
    {
     "name": "stdout",
     "output_type": "stream",
     "text": [
      "Shape W0 (2000, 300)\n",
      "Shape W1 (300, 200)\n",
      "Shape W2 (200, 100)\n",
      "Shape W3 (100, 3)\n",
      "Epoch: 0 | Training loss: 1.090651 | Validation loss: 1.089735\n",
      "Epoch: 1 | Training loss: 1.041836 | Validation loss: 1.043621\n",
      "Epoch: 2 | Training loss: 0.818768 | Validation loss: 0.826043\n",
      "Epoch: 3 | Training loss: 0.553393 | Validation loss: 0.557644\n",
      "Epoch: 4 | Training loss: 0.483729 | Validation loss: 0.454558\n",
      "Epoch: 5 | Training loss: 0.438276 | Validation loss: 0.413482\n",
      "Epoch: 6 | Training loss: 0.422741 | Validation loss: 0.426702\n"
     ]
    }
   ],
   "source": [
    "W = network_weights(vocab_size=len(vocab),embedding_dim=300,hidden_dim=[200,100], num_classes=3, init_val = 0.1)\n",
    "W[0] = w_glove\n",
    "\n",
    "for i in range(len(W)):\n",
    "    print('Shape W'+str(i), W[i].shape)\n",
    "\n",
    "W, loss_tr, dev_loss = SGD(X_tr, Y_tr=x_label_tr,\n",
    "                            W=W,\n",
    "                            X_dev=X_dev, \n",
    "                            Y_dev=x_label_dev,\n",
    "                            lr=0.01, \n",
    "                            dropout=0.4,\n",
    "                            freeze_emb=True,\n",
    "                            print_progress=True,\n",
    "                            tolerance=0.0001,\n",
    "                            epochs=30)"
   ]
  },
  {
   "cell_type": "code",
   "execution_count": 47,
   "metadata": {},
   "outputs": [
    {
     "data": {
      "image/png": "[encoded data removed]",
      "text/plain": [
       "<Figure size 432x288 with 1 Axes>"
      ]
     },
     "metadata": {
      "needs_background": "light"
     },
     "output_type": "display_data"
    }
   ],
   "source": [
    "# Now we could plot result of the training \n",
    "x = np.linspace(0,len(loss_tr),len(loss_tr))\n",
    "y1, y2 = loss_tr, dev_loss\n",
    "\n",
    "plt.plot(x, y1,label='Training loss')\n",
    "plt.plot(x, y2, label='Validation loss')\n",
    " \n",
    "plt.title('Plot Result')\n",
    "plt.xlabel('Epochs')\n",
    "plt.ylabel('Loss')\n",
    "plt.legend() \n",
    "plt.show()"
   ]
  },
  {
   "cell_type": "code",
   "execution_count": 48,
   "metadata": {
    "ExecuteTime": {
     "end_time": "2020-04-02T15:11:51.994986Z",
     "start_time": "2020-04-02T15:11:51.992563Z"
    }
   },
   "outputs": [
    {
     "name": "stdout",
     "output_type": "stream",
     "text": [
      "Accuracy: 0.8743047830923248\n",
      "Precision: 0.8757934673661216\n",
      "Recall: 0.8742066146413973\n",
      "F1-Score: 0.873296647575403\n"
     ]
    }
   ],
   "source": [
    "preds_te = [np.argmax(forward_pass(x, W, dropout_rate=0.0)['y'])+1 for x,y in zip(X_test,x_label_test)]\n",
    "print('Accuracy:', accuracy_score(x_label_test,preds_te))\n",
    "print('Precision:', precision_score(x_label_test,preds_te,average='macro'))\n",
    "print('Recall:', recall_score(x_label_test,preds_te,average='macro'))\n",
    "print('F1-Score:', f1_score(x_label_test,preds_te,average='macro'))"
   ]
  },
  {
   "cell_type": "markdown",
   "metadata": {},
   "source": [
    "## Full Results\n",
    "\n",
    "Add your final results here:\n",
    "\n",
    "| Model | Precision  | Recall  | F1-Score  | Accuracy\n",
    "|:-:|:-:|:-:|:-:|:-:|\n",
    "| Average Embedding  | 0.8549264132513853  |  0.8509438870308434 | 0.8505701535931153  |  0.8509454949944383 |\n",
    "| Average Embedding (Pre-trained)  | 0.8720021421246024  | 0.8720401337792643  |  0.8719103410019038 | 0.8720800889877642  |\n",
    "| Average Embedding (Pre-trained) + X hidden layers (BONUS)   |  0.8757934673661216 | 0.8742066146413973 |  0.873296647575403 | 0.8743047830923248  |\n"
   ]
  }
 ],
 "metadata": {
  "kernelspec": {
   "display_name": "textprocessing",
   "language": "python",
   "name": "textprocessing"
  },
  "language_info": {
   "codemirror_mode": {
    "name": "ipython",
    "version": 3
   },
   "file_extension": ".py",
   "mimetype": "text/x-python",
   "name": "python",
   "nbconvert_exporter": "python",
   "pygments_lexer": "ipython3",
   "version": "3.7.4"
  }
 },
 "nbformat": 4,
 "nbformat_minor": 2
}
